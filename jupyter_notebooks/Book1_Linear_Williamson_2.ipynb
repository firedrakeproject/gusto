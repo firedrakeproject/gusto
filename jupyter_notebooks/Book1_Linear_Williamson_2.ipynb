{
 "cells": [
  {
   "cell_type": "markdown",
   "id": "3ec4b5fe",
   "metadata": {},
   "source": [
    "# Notebook 1: Introduction"
   ]
  },
  {
   "cell_type": "markdown",
   "id": "5371527b",
   "metadata": {},
   "source": [
    "This document will provide an introduction to Gusto by going through an example script of the Williamson 2 test case. We will start with a linear version and then move to the non-linear version. "
   ]
  },
  {
   "cell_type": "markdown",
   "id": "29df76b1",
   "metadata": {},
   "source": [
    "We begin by importing the required libraries and functions from Firedrake and Gusto"
   ]
  },
  {
   "cell_type": "code",
   "execution_count": 53,
   "id": "7779c15b",
   "metadata": {},
   "outputs": [],
   "source": [
    "from gusto import *\n",
    "from firedrake import IcosahedralSphereMesh, SpatialCoordinate, as_vector\n",
    "from math import pi\n",
    "import sys"
   ]
  },
  {
   "cell_type": "markdown",
   "id": "33f71f3a",
   "metadata": {},
   "source": [
    "Set up the time parameters. The dumpfreq gives at how many time-steps we want to output results."
   ]
  },
  {
   "cell_type": "code",
   "execution_count": 54,
   "id": "f5147739",
   "metadata": {},
   "outputs": [],
   "source": [
    "dt = 3000.\n",
    "tmax = 30000.\n",
    "dumpfreq = 1 \n",
    "\n",
    "day = 24.*60.*60."
   ]
  },
  {
   "cell_type": "code",
   "execution_count": 55,
   "id": "844be5eb",
   "metadata": {},
   "outputs": [],
   "source": [
    "# setup shallow water parameters\n",
    "R = 6371220.\n",
    "H = 5960.\n",
    "\n",
    "# setup input that doesn't change with ref level or dt\n",
    "parameters = ShallowWaterParameters(H=H)"
   ]
  },
  {
   "cell_type": "code",
   "execution_count": 56,
   "id": "2e9c65ea",
   "metadata": {},
   "outputs": [],
   "source": [
    "#Set up the mesh and choose the refinement level\n",
    "refinements = 3  # number of horizontal cells = 20*(4^refinements)\n",
    "\n",
    "mesh = IcosahedralSphereMesh(radius=R,\n",
    "                             refinement_level=refinements, degree=3)\n",
    "x = SpatialCoordinate(mesh)\n",
    "mesh.init_cell_orientations(x)\n"
   ]
  },
  {
   "cell_type": "markdown",
   "id": "da3c27bd",
   "metadata": {},
   "source": [
    "We need to specify an output directory name before running the code. To prevent overwriting data, gusto will not enable overwriting an existing file - so a simulation needs to have different setup for it to run"
   ]
  },
  {
   "cell_type": "code",
   "execution_count": 68,
   "id": "754708dd",
   "metadata": {},
   "outputs": [],
   "source": [
    "output = OutputParameters(dirname='sw_linear_w2_dt%s' % dt,\n",
    "                          dumpfreq=dumpfreq,\n",
    "                          steady_state_error_fields=['u', 'D'],\n",
    "                          log_level='INFO')"
   ]
  },
  {
   "cell_type": "markdown",
   "id": "affeab35",
   "metadata": {},
   "source": [
    "Now, we can specify a State, which we will update at each time-step using the time-stepper routine."
   ]
  },
  {
   "cell_type": "code",
   "execution_count": 69,
   "id": "ad8819c1",
   "metadata": {},
   "outputs": [
    {
     "name": "stderr",
     "output_type": "stream",
     "text": [
      "gusto:INFO Physical parameters that take non-default values:\n",
      "gusto:INFO H: 5960.0\n"
     ]
    }
   ],
   "source": [
    "state = State(mesh,\n",
    "              dt=dt,\n",
    "              output=output,\n",
    "              parameters=parameters)"
   ]
  },
  {
   "cell_type": "code",
   "execution_count": 70,
   "id": "8ed9914e",
   "metadata": {},
   "outputs": [],
   "source": [
    "#Create a spatially varying function for the Coriolis force:\n",
    "Omega = parameters.Omega\n",
    "x = SpatialCoordinate(mesh)\n",
    "fexpr = 2*Omega*x[2]/R\n",
    "eqns = LinearShallowWaterEquations(state, \"BDM\", 1, fexpr=fexpr)"
   ]
  },
  {
   "cell_type": "markdown",
   "id": "9918a45e",
   "metadata": {},
   "source": [
    "Set up the initial conditions:\n",
    "Due to the choice of function spaces for the velocity and depth, the intialisations are performed using projection \n",
    "and interpolation proceedures respectively."
   ]
  },
  {
   "cell_type": "code",
   "execution_count": 71,
   "id": "e61d066d",
   "metadata": {},
   "outputs": [
    {
     "data": {
      "text/plain": [
       "Coefficient(WithGeometry(IndexedProxyFunctionSpace(<firedrake.mesh.MeshTopology object at 0x7fde141f2e50>, FiniteElement('Discontinuous Lagrange', triangle, 1, variant='equispaced'), name='DG1', index=1, component=None), Mesh(VectorElement(FiniteElement('Lagrange', Cell('triangle', 3), 3), dim=3), 257)), 983)"
      ]
     },
     "execution_count": 71,
     "metadata": {},
     "output_type": "execute_result"
    }
   ],
   "source": [
    "u0 = state.fields(\"u\")\n",
    "D0 = state.fields(\"D\")\n",
    "u_max = 2*pi*R/(12*day)  # Maximum amplitude of the zonal wind (m/s)\n",
    "uexpr = as_vector([-u_max*x[1]/R, u_max*x[0]/R, 0.0])\n",
    "g = parameters.g\n",
    "Dexpr = - ((R * Omega * u_max)*(x[2]*x[2]/(R*R)))/g\n",
    "u0.project(uexpr)\n",
    "D0.interpolate(Dexpr)"
   ]
  },
  {
   "cell_type": "code",
   "execution_count": 72,
   "id": "b1642c8b",
   "metadata": {},
   "outputs": [],
   "source": [
    "#Now, construct the time-stepper. We will firstly use a semi-implicit (?) approach.\n",
    "#We will neglect any transport schemes for now.\n",
    "transport_schemes = []\n",
    "stepper = CrankNicolson(state, eqns, transport_schemes)"
   ]
  },
  {
   "cell_type": "code",
   "execution_count": 73,
   "id": "46852826",
   "metadata": {},
   "outputs": [
    {
     "name": "stderr",
     "output_type": "stream",
     "text": [
      "/home/timandrews/firedrake/src/firedrake/firedrake/checkpointing.py:89: DeprecationWarning: DumbCheckpoint class will be deprecated after 01/01/2023; use CheckpointFile class instead.\n",
      "  warnings.warn(\"DumbCheckpoint class will be deprecated after 01/01/2023; use CheckpointFile class instead.\",\n",
      "gusto:INFO at start of timestep, t=0, dt=3000.0\n",
      "gusto:INFO at start of timestep, t=3000.0, dt=3000.0\n",
      "gusto:INFO at start of timestep, t=6000.0, dt=3000.0\n",
      "gusto:INFO at start of timestep, t=9000.0, dt=3000.0\n",
      "gusto:INFO at start of timestep, t=12000.0, dt=3000.0\n",
      "gusto:INFO at start of timestep, t=15000.0, dt=3000.0\n",
      "gusto:INFO at start of timestep, t=18000.0, dt=3000.0\n",
      "gusto:INFO at start of timestep, t=21000.0, dt=3000.0\n",
      "gusto:INFO at start of timestep, t=24000.0, dt=3000.0\n",
      "gusto:INFO at start of timestep, t=27000.0, dt=3000.0\n",
      "gusto:INFO TIMELOOP complete. t=30000.0, tmax=30000.0\n"
     ]
    }
   ],
   "source": [
    "#Run the time-stepper and generate the output\n",
    "stepper.run(t=0, tmax=tmax)"
   ]
  },
  {
   "cell_type": "markdown",
   "id": "2b518722",
   "metadata": {},
   "source": [
    "Now, let's check that we have successfully recorded the output. Get gusto to output the file names in the results \n",
    "directory to check that we have recorded the correct data."
   ]
  },
  {
   "cell_type": "code",
   "execution_count": null,
   "id": "7e16a3dc",
   "metadata": {},
   "outputs": [],
   "source": []
  },
  {
   "cell_type": "markdown",
   "id": "a33d7329",
   "metadata": {},
   "source": [
    "Let's plot the diagnostics to check that we used a suitable time step. As the diagnostics are outputted in a .nc file, we need to import a specific library to read the information."
   ]
  },
  {
   "cell_type": "code",
   "execution_count": 63,
   "id": "892d41ae",
   "metadata": {},
   "outputs": [],
   "source": [
    "from netCDF4 import Dataset\n",
    "import numpy as np\n",
    "from matplotlib import pyplot as plt\n",
    "\n",
    "nc = Dataset('results/sw_linear_w2/diagnostics.nc','r')"
   ]
  },
  {
   "cell_type": "code",
   "execution_count": 64,
   "id": "ca9414b2",
   "metadata": {},
   "outputs": [
    {
     "name": "stdout",
     "output_type": "stream",
     "text": [
      "{'u': <class 'netCDF4._netCDF4.Group'>\n",
      "group /u:\n",
      "    dimensions(sizes): \n",
      "    variables(dimensions): float64 min(time), float64 max(time), float64 rms(time), float64 l2(time), float64 total(time)\n",
      "    groups: , 'D': <class 'netCDF4._netCDF4.Group'>\n",
      "group /D:\n",
      "    dimensions(sizes): \n",
      "    variables(dimensions): float64 min(time), float64 max(time), float64 rms(time), float64 l2(time), float64 total(time)\n",
      "    groups: , 'D_error': <class 'netCDF4._netCDF4.Group'>\n",
      "group /D_error:\n",
      "    dimensions(sizes): \n",
      "    variables(dimensions): float64 min(time), float64 max(time), float64 rms(time), float64 l2(time), float64 total(time)\n",
      "    groups: , 'u_error': <class 'netCDF4._netCDF4.Group'>\n",
      "group /u_error:\n",
      "    dimensions(sizes): \n",
      "    variables(dimensions): float64 min(time), float64 max(time), float64 rms(time), float64 l2(time), float64 total(time)\n",
      "    groups: }\n"
     ]
    }
   ],
   "source": [
    "#Look at the recorded diagnostics:\n",
    "print(nc.groups)"
   ]
  },
  {
   "cell_type": "code",
   "execution_count": 76,
   "id": "d840952c",
   "metadata": {},
   "outputs": [
    {
     "data": {
      "text/plain": [
       "<matplotlib.legend.Legend at 0x7fde13ed4430>"
      ]
     },
     "execution_count": 76,
     "metadata": {},
     "output_type": "execute_result"
    },
    {
     "data": {
      "image/png": "[encoded data removed]",
      "text/plain": [
       "<Figure size 432x288 with 1 Axes>"
      ]
     },
     "metadata": {
      "needs_background": "light"
     },
     "output_type": "display_data"
    }
   ],
   "source": [
    "#Take the u error and D error and sum over the domain:\n",
    "u_err = nc.groups['u_error']\n",
    "D_err = nc.groups['D_error']\n",
    "\n",
    "u_err_max = np.asarray(u_err.variables['max'])\n",
    "D_err_max = np.asarray(D_err.variables['max'])\n",
    "\n",
    "times = np.asarray(nc.variables['time'])\n",
    "\n",
    "plt.figure()\n",
    "plt.plot(times,u_err_max,label='u max error')\n",
    "plt.plot(times,D_err_max,label='D max error')\n",
    "plt.xlabel('Time')\n",
    "plt.ylabel('Max variable error')\n",
    "plt.legend()"
   ]
  },
  {
   "cell_type": "markdown",
   "id": "2abb6f7d",
   "metadata": {},
   "source": [
    "Oh no, it looks like we used too large a time step for the velocity! Let's re-run the simulation with \n",
    "half the time step."
   ]
  },
  {
   "cell_type": "code",
   "execution_count": 80,
   "id": "72ce040e",
   "metadata": {},
   "outputs": [
    {
     "name": "stderr",
     "output_type": "stream",
     "text": [
      "gusto:INFO Physical parameters that take non-default values:\n",
      "gusto:INFO H: 5960.0\n"
     ]
    },
    {
     "data": {
      "text/plain": [
       "Coefficient(WithGeometry(IndexedProxyFunctionSpace(<firedrake.mesh.MeshTopology object at 0x7fde141f2e50>, FiniteElement('Discontinuous Lagrange', triangle, 1, variant='equispaced'), name='DG1', index=1, component=None), Mesh(VectorElement(FiniteElement('Lagrange', Cell('triangle', 3), 3), dim=3), 257)), 1425)"
      ]
     },
     "execution_count": 80,
     "metadata": {},
     "output_type": "execute_result"
    }
   ],
   "source": [
    "dt_new = dt/2\n",
    "\n",
    "output_new = OutputParameters(dirname='sw_linear_w2_dt%s' % dt_new,\n",
    "                          dumpfreq=dumpfreq,\n",
    "                          steady_state_error_fields=['u', 'D'],\n",
    "                          log_level='INFO')\n",
    "\n",
    "state = State(mesh,\n",
    "              dt=dt_new,\n",
    "              output=output_new,\n",
    "              parameters=parameters)\n",
    "\n",
    "Omega = parameters.Omega\n",
    "x = SpatialCoordinate(mesh)\n",
    "fexpr = 2*Omega*x[2]/R\n",
    "eqns = LinearShallowWaterEquations(state, \"BDM\", 1, fexpr=fexpr)\n",
    "\n",
    "u0 = state.fields(\"u\")\n",
    "D0 = state.fields(\"D\")\n",
    "u_max = 2*pi*R/(12*day)  # Maximum amplitude of the zonal wind (m/s)\n",
    "uexpr = as_vector([-u_max*x[1]/R, u_max*x[0]/R, 0.0])\n",
    "g = parameters.g\n",
    "Dexpr = - ((R * Omega * u_max)*(x[2]*x[2]/(R*R)))/g\n",
    "u0.project(uexpr)\n",
    "D0.interpolate(Dexpr)"
   ]
  },
  {
   "cell_type": "code",
   "execution_count": 81,
   "id": "1bf2c048",
   "metadata": {},
   "outputs": [
    {
     "name": "stderr",
     "output_type": "stream",
     "text": [
      "/home/timandrews/firedrake/src/firedrake/firedrake/checkpointing.py:89: DeprecationWarning: DumbCheckpoint class will be deprecated after 01/01/2023; use CheckpointFile class instead.\n",
      "  warnings.warn(\"DumbCheckpoint class will be deprecated after 01/01/2023; use CheckpointFile class instead.\",\n",
      "gusto:INFO at start of timestep, t=0, dt=1500.0\n",
      "gusto:INFO at start of timestep, t=1500.0, dt=1500.0\n",
      "gusto:INFO at start of timestep, t=3000.0, dt=1500.0\n",
      "gusto:INFO at start of timestep, t=4500.0, dt=1500.0\n",
      "gusto:INFO at start of timestep, t=6000.0, dt=1500.0\n",
      "gusto:INFO at start of timestep, t=7500.0, dt=1500.0\n",
      "gusto:INFO at start of timestep, t=9000.0, dt=1500.0\n",
      "gusto:INFO at start of timestep, t=10500.0, dt=1500.0\n",
      "gusto:INFO at start of timestep, t=12000.0, dt=1500.0\n",
      "gusto:INFO at start of timestep, t=13500.0, dt=1500.0\n",
      "gusto:INFO at start of timestep, t=15000.0, dt=1500.0\n",
      "gusto:INFO at start of timestep, t=16500.0, dt=1500.0\n",
      "gusto:INFO at start of timestep, t=18000.0, dt=1500.0\n",
      "gusto:INFO at start of timestep, t=19500.0, dt=1500.0\n",
      "gusto:INFO at start of timestep, t=21000.0, dt=1500.0\n",
      "gusto:INFO at start of timestep, t=22500.0, dt=1500.0\n",
      "gusto:INFO at start of timestep, t=24000.0, dt=1500.0\n",
      "gusto:INFO at start of timestep, t=25500.0, dt=1500.0\n",
      "gusto:INFO at start of timestep, t=27000.0, dt=1500.0\n",
      "gusto:INFO at start of timestep, t=28500.0, dt=1500.0\n",
      "gusto:INFO TIMELOOP complete. t=30000.0, tmax=30000.0\n"
     ]
    }
   ],
   "source": [
    "stepper = CrankNicolson(state, eqns, transport_schemes)\n",
    "stepper.run(t=0, tmax=tmax)"
   ]
  },
  {
   "cell_type": "markdown",
   "id": "0fff8289",
   "metadata": {},
   "source": [
    "Let's check the errors now:"
   ]
  },
  {
   "cell_type": "code",
   "execution_count": null,
   "id": "025774cf",
   "metadata": {},
   "outputs": [],
   "source": [
    "nc = Dataset('results/sw_linear_w2/diagnostics.nc','r')"
   ]
  },
  {
   "cell_type": "code",
   "execution_count": null,
   "id": "dd588aaa",
   "metadata": {},
   "outputs": [],
   "source": []
  },
  {
   "cell_type": "code",
   "execution_count": null,
   "id": "221a5b9e",
   "metadata": {},
   "outputs": [],
   "source": []
  }
 ],
 "metadata": {
  "kernelspec": {
   "display_name": "Python 3 (ipykernel)",
   "language": "python",
   "name": "python3"
  },
  "language_info": {
   "codemirror_mode": {
    "name": "ipython",
    "version": 3
   },
   "file_extension": ".py",
   "mimetype": "text/x-python",
   "name": "python",
   "nbconvert_exporter": "python",
   "pygments_lexer": "ipython3",
   "version": "3.8.5"
  }
 },
 "nbformat": 4,
 "nbformat_minor": 5
}
