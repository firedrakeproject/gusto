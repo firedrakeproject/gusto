{
 "cells": [
  {
   "cell_type": "markdown",
   "metadata": {},
   "source": [
    "# Sensitivities computation via automated adjoint for a 2D shallow water model\n",
    "\n",
    "This notebook demonstrates how to compute the sensitivities (gradient) of a cost function with respect to control parameters using automated adjoints, a tool provided by the Firedrake library. The model used in this notebook is a shallow water model on a sphere. \n",
    "\n",
    "## Cost function and model\n",
    "The cost function measures the summation of the kinetic and the potential energy of the fluid, which is modelled by the following expression:\n",
    "\\begin{equation}\n",
    "J = \\int_{\\Omega} \\left( \\frac{1}{2} \\textbf{u}(\\mathbf{x}, t_f) \\cdot \\textbf{u}(\\mathbf{x}, t_f) + \\frac{1}{2} g D^2(\\mathbf{x}, t_f) \\right) \\, dx,\n",
    "\\end{equation}\n",
    "where $\\textbf{u} (\\mathbf{x}, t_f)$ is the velocity of the fluid at the final step $t_f$, $D(\\mathbf{x}, t_f)$ is the fluid depth at the final step, and $g$ is the gravitational acceleration. The model is governed by the following set of equations:\n",
    "\n",
    "\\begin{align}\n",
    "    \\textbf{u}_t + (\\textbf{u} \\cdot \\nabla) \\textbf{u} + f \\textbf{u}^{\\perp} + g \\nabla (D + b)  &= 0, \\tag{2}\\\\\n",
    "    D_t + \\nabla \\cdot (D \\textbf{u}) &= 0, \\tag{3}\n",
    "\\end{align}\n",
    "where $f$ is the Coriolis parameter, the fluid depth is given by $D = H+h-b$, $H$ is the mean fluid depth, $h$ is the free surface height and $b$ is the topography. No boundary conditions are required as we are solving on a spherical domain, $\\Omega$."
   ]
  },
  {
   "cell_type": "markdown",
   "metadata": {},
   "source": [
    "## Solve the model with Gusto\n",
    "We first import the libraries required for the computations: ``gusto`` and ``firedrake``."
   ]
  },
  {
   "cell_type": "code",
   "execution_count": 80,
   "metadata": {},
   "outputs": [],
   "source": [
    "from firedrake import *\n",
    "from gusto import *"
   ]
  },
  {
   "cell_type": "markdown",
   "metadata": {},
   "source": [
    "We then define the shallow water parameter $H$ (The fluid depth)."
   ]
  },
  {
   "cell_type": "code",
   "execution_count": 81,
   "metadata": {},
   "outputs": [],
   "source": [
    "H = 5960.0\n",
    "parameters = ShallowWaterParameters(H=H)"
   ]
  },
  {
   "cell_type": "markdown",
   "metadata": {},
   "source": [
    "We will use one of the spherical meshes provided by Firedrake: the ``IcosahedralSphereMesh``. As the spherical domain we are solving over is the Earth we specify the radius as 6371220m. The refinement level, ``ref_level``, specifies the number of times the base icosahedron is refined. The argument ``degree`` specifies the polynomial degree of the function space used to represent the coordinates."
   ]
  },
  {
   "cell_type": "code",
   "execution_count": 82,
   "metadata": {},
   "outputs": [],
   "source": [
    "R = 6371220. # Earth radius in meters\n",
    "mesh = IcosahedralSphereMesh(radius=R, refinement_level=3, degree=2)"
   ]
  },
  {
   "cell_type": "markdown",
   "metadata": {},
   "source": [
    "A domain is created with the ``Domain`` Gusto object, which holds the mesh and the function spaces defined on it. It also holds the model’s time interval."
   ]
  },
  {
   "cell_type": "code",
   "execution_count": 83,
   "metadata": {},
   "outputs": [],
   "source": [
    "dt = 900.\n",
    "domain = Domain(mesh, dt, 'BDM', 1)"
   ]
  },
  {
   "cell_type": "markdown",
   "metadata": {},
   "source": [
    "We can now set up the finite element form of the shallow water equations by passing ``ShallowWaterEquations`` Gusto class the following arguments: ``domain``, ``parameters``,  the expressions ``fexpr`` for the Coriolis parameter and ``bexpr`` for the bottom surface of the fluid."
   ]
  },
  {
   "cell_type": "code",
   "execution_count": 84,
   "metadata": {},
   "outputs": [],
   "source": [
    "x = SpatialCoordinate(mesh)\n",
    "Omega = parameters.Omega  # Spatial domain\n",
    "fexpr = 2*Omega*x[2]/R  # Expression for the Coriolis parameter\n",
    "# ``lonlatr_from_xyz`` is returning the required spherical longitude ``lamda``, latitude ``theta``.\n",
    "lamda, theta, _ = lonlatr_from_xyz(x[0], x[1], x[2])\n",
    "R0 = pi/9. # radius of mountain (rad)\n",
    "R0sq = R0**2  \n",
    "lamda_c = -pi/2. # longitudinal centre of mountain (rad)\n",
    "lsq = (lamda - lamda_c)**2 \n",
    "theta_c = pi/6.  # latitudinal centre of mountain (rad)\n",
    "thsq = (theta - theta_c)**2\n",
    "rsq = min_value(R0sq, lsq+thsq)\n",
    "r = sqrt(rsq)\n",
    "bexpr = 2000 * (1 - r/R0)  # An expression for the bottom surface of the fluid.\n",
    "eqn = ShallowWaterEquations(domain, parameters, fexpr=fexpr, bexpr=bexpr)"
   ]
  },
  {
   "cell_type": "markdown",
   "metadata": {},
   "source": [
    "We specify instructions regarding the output using the ``OutputParameters`` class. The directory name, ``dirname``, must be specified. To prevent losing hard-earned simulation data, Gusto will not allow existing files to be overwritten. Hence, if one wishes to re-run a simulation with the same output filename, the existing results file needs to be moved or deleted first. This is also the place to specify the output frequency (in timesteps) of VTU files. The default is ``dumpfreq=1``, which outputs VTU files at every timestep (very useful when first setting up a problem!). Below we set ``dumpfreq=5``.\n",
    "\n",
    "We can specify which diagnostics to record over a simulation. The list of available diagnostics in the gusto source code: [diagnostics](https://github.com/firedrakeproject/gusto/blob/main/gusto/diagnostics/diagnostics.py). Since this flow should be in a steady state, it is also instructive to output the steady state error fields for both $\\textbf{u}$ and $D$ as this will tell us how close the simulation is to be correct. The errors should not grow in time. They should reduce as the mesh and timestep are refined. We pass these diagnostics into the ``IO`` class, which controls the input and output and stores the fields which will be updated at each timestep."
   ]
  },
  {
   "cell_type": "code",
   "execution_count": 85,
   "metadata": {},
   "outputs": [],
   "source": [
    "output = OutputParameters(dirname=\"adjoint_sw\", log_courant=False)\n",
    "io = IO(domain, output)"
   ]
  },
  {
   "cell_type": "markdown",
   "metadata": {},
   "source": [
    "We now start to build a setup for time discretisation. We use the ``SemiImplicitQuasiNewton`` approach, which splits the equation into `transport` terms and 'forcing' terms (i.e. everything that does not transport) and solves each separately. That allows for different time-steppers used to transport the velocity and depth fields. We are employing an Implicit Midpoint method for the velocity and an explicit strong stability preserving RK3 (SSPRK3) method for the depth. Since the Courant number for a stable SSPRK3 scheme is lower than that for the Implicit Midpoint method, we do two subcycles of the SSPRK3 scheme per timestep, allowing us to use a longer timestep overall. The full list of time-stepping methods is available at the [time discretisation](https://github.com/firedrakeproject/gusto/blob/main/gusto/time_discretisation.py) python file."
   ]
  },
  {
   "cell_type": "code",
   "execution_count": 86,
   "metadata": {},
   "outputs": [
    {
     "name": "stderr",
     "output_type": "stream",
     "text": [
      "INFO     Physical parameters that take non-default values:\n",
      "INFO:gusto:Physical parameters that take non-default values:\n",
      "INFO     H: 5960.0\n",
      "INFO:gusto:H: 5960.0\n"
     ]
    }
   ],
   "source": [
    "# Transport schemes\n",
    "transported_fields = [TrapeziumRule(domain, \"u\"), SSPRK3(domain, \"D\")]\n",
    "transport_methods = [DGUpwind(eqn, \"u\"), DGUpwind(eqn, \"D\")]\n",
    "\n",
    "# Time stepper\n",
    "stepper = SemiImplicitQuasiNewton(eqn, io, transported_fields, transport_methods)"
   ]
  },
  {
   "cell_type": "markdown",
   "metadata": {},
   "source": [
    "We are now ready to specify the initial conditions:\n",
    "\\begin{align}\n",
    "    \\textbf{u}_0 &= \\frac{u_{max}}{R} [-y,x,0], \\tag{4}\\\\\n",
    "    D_0 &= H - \\frac{\\Omega u_{max} z^2}{g R} \\tag{5}\n",
    "\\end{align}"
   ]
  },
  {
   "cell_type": "code",
   "execution_count": 87,
   "metadata": {},
   "outputs": [
    {
     "data": {
      "text/plain": [
       "Coefficient(WithGeometry(IndexedProxyFunctionSpace(<firedrake.mesh.MeshTopology object at 0x1682cee90>, FiniteElement('Discontinuous Lagrange', triangle, 1), name='L2', index=1, component=None), Mesh(VectorElement(FiniteElement('Lagrange', triangle, 2), dim=3), 175601)), 248029)"
      ]
     },
     "execution_count": 87,
     "metadata": {},
     "output_type": "execute_result"
    }
   ],
   "source": [
    "u0 = stepper.fields('u')\n",
    "D0 = stepper.fields('D')\n",
    "u_max = 20.   # Maximum amplitude of the zonal wind (m/s)\n",
    "uexpr = as_vector([-u_max*x[1]/R, u_max*x[0]/R, 0.0])\n",
    "g = parameters.g  # acceleration due to gravity (m/s^2)\n",
    "Rsq = R**2\n",
    "Dexpr = H - ((R * Omega * u_max + 0.5*u_max**2)*x[2]**2/Rsq)/g - bexpr\n",
    "\n",
    "u0.project(uexpr)\n",
    "D0.interpolate(Dexpr)"
   ]
  },
  {
   "cell_type": "markdown",
   "metadata": {},
   "source": [
    "When using the `SemiImplicitQuasiNewton` time ``stepper``, we also have to set up any non-zero reference profiles."
   ]
  },
  {
   "cell_type": "code",
   "execution_count": 88,
   "metadata": {},
   "outputs": [],
   "source": [
    "Dbar = Function(D0.function_space()).assign(H)\n",
    "stepper.set_reference_profiles([('D', Dbar)])"
   ]
  },
  {
   "cell_type": "markdown",
   "metadata": {},
   "source": [
    "We are almost ready to run the model. Before we do so, we have to tape the model to compute the sensitivities via automated adjoint. Hence, at this point, we import ``firedrake.adjoint`` and enable the tape of the forward solver (Shallow Water model) with ``continue_annotation()``."
   ]
  },
  {
   "cell_type": "code",
   "execution_count": 89,
   "metadata": {},
   "outputs": [
    {
     "data": {
      "text/plain": [
       "True"
      ]
     },
     "execution_count": 89,
     "metadata": {},
     "output_type": "execute_result"
    }
   ],
   "source": [
    "from firedrake.adjoint import *\n",
    "continue_annotation()"
   ]
  },
  {
   "cell_type": "markdown",
   "metadata": {},
   "source": [
    "We are finally ready to run the model!"
   ]
  },
  {
   "cell_type": "code",
   "execution_count": 90,
   "metadata": {},
   "outputs": [
    {
     "name": "stderr",
     "output_type": "stream",
     "text": [
      "DEBUG:gusto:Dumping output to disk\n",
      "INFO     \n",
      "INFO:gusto:\n",
      "INFO     ========================================\n",
      "INFO:gusto:========================================\n",
      "INFO     at start of timestep 1, t=0.0, dt=900.0\n",
      "INFO:gusto:at start of timestep 1, t=0.0, dt=900.0\n",
      "INFO     Semi-implicit Quasi Newton: Explicit forcing\n",
      "INFO:gusto:Semi-implicit Quasi Newton: Explicit forcing\n",
      "DEBUG:gusto:    Residual norms for ExplicitForcingSolver_ solve\n",
      "DEBUG:gusto:    0 KSP no resid norm 3.717272816438e+05 true resid norm 3.717272816438e+05 ||r(i)||/||b|| 1.000000000000e+00\n",
      "DEBUG:gusto:    1 KSP no resid norm 1.620107299083e-10 true resid norm 1.620107299083e-10 ||r(i)||/||b|| 4.358322294556e-16\n",
      "INFO     Semi-implicit Quasi Newton: Transport 0: u\n",
      "INFO:gusto:Semi-implicit Quasi Newton: Transport 0: u\n",
      "DEBUG:gusto:    Residual norms for uTrapeziumRule_ solve\n",
      "DEBUG:gusto:    0 KSP preconditioned resid norm 5.585397212708e+05 true resid norm 6.127594999762e+05 ||r(i)||/||b|| 1.000000000000e+00\n",
      "DEBUG:gusto:    1 KSP preconditioned resid norm 1.064757082310e+04 true resid norm 6.297866206201e+03 ||r(i)||/||b|| 1.027787607772e-02\n",
      "DEBUG:gusto:    2 KSP preconditioned resid norm 1.984167553564e+02 true resid norm 2.154172949430e+02 ||r(i)||/||b|| 3.515527624645e-04\n",
      "DEBUG:gusto:    3 KSP preconditioned resid norm 4.896138420464e+00 true resid norm 5.372370990865e+00 ||r(i)||/||b|| 8.767503386031e-06\n",
      "DEBUG:gusto:    Residual norms for uTrapeziumRule_ solve\n",
      "DEBUG:gusto:    0 KSP preconditioned resid norm 4.896138420921e+00 true resid norm 5.372370992372e+00 ||r(i)||/||b|| 1.000000000000e+00\n",
      "DEBUG:gusto:    1 KSP preconditioned resid norm 2.213180858366e-01 true resid norm 1.505771328497e-01 ||r(i)||/||b|| 2.802805931748e-02\n",
      "DEBUG:gusto:    2 KSP preconditioned resid norm 8.386110502201e-03 true resid norm 7.233829275614e-03 ||r(i)||/||b|| 1.346487293205e-03\n",
      "DEBUG:gusto:    3 KSP preconditioned resid norm 2.888081698314e-04 true resid norm 2.155980867138e-04 ||r(i)||/||b|| 4.013090068052e-05\n",
      "DEBUG:gusto:    4 KSP preconditioned resid norm 9.508958609457e-06 true resid norm 8.412262624625e-06 ||r(i)||/||b|| 1.565837995285e-06\n",
      "INFO     Semi-implicit Quasi Newton: Transport 0: D\n",
      "INFO:gusto:Semi-implicit Quasi Newton: Transport 0: D\n",
      "INFO     Semi-implicit Quasi Newton: Implicit forcing (0, 0)\n",
      "INFO:gusto:Semi-implicit Quasi Newton: Implicit forcing (0, 0)\n",
      "DEBUG:gusto:    Residual norms for ImplicitForcingSolver_ solve\n",
      "DEBUG:gusto:    0 KSP no resid norm 5.901594446440e-07 true resid norm 5.901594446440e-07 ||r(i)||/||b|| 1.000000000000e+00\n",
      "DEBUG:gusto:    1 KSP no resid norm 3.718314622419e-22 true resid norm 3.718314622419e-22 ||r(i)||/||b|| 6.300525487076e-16\n",
      "INFO     Semi-implicit Quasi Newton: Mixed solve (0, 0)\n",
      "INFO:gusto:Semi-implicit Quasi Newton: Mixed solve (0, 0)\n",
      "INFO     Semi-implicit Quasi Newton: Implicit forcing (0, 1)\n",
      "INFO:gusto:Semi-implicit Quasi Newton: Implicit forcing (0, 1)\n",
      "DEBUG:gusto:    Residual norms for ImplicitForcingSolver_ solve\n",
      "DEBUG:gusto:    0 KSP no resid norm 3.478820869067e+05 true resid norm 3.478820869067e+05 ||r(i)||/||b|| 1.000000000000e+00\n",
      "DEBUG:gusto:    1 KSP no resid norm 1.994472980877e-10 true resid norm 1.994472980877e-10 ||r(i)||/||b|| 5.733186777771e-16\n",
      "INFO     Semi-implicit Quasi Newton: Mixed solve (0, 1)\n",
      "INFO:gusto:Semi-implicit Quasi Newton: Mixed solve (0, 1)\n",
      "INFO     Semi-implicit Quasi Newton: Transport 1: u\n",
      "INFO:gusto:Semi-implicit Quasi Newton: Transport 1: u\n",
      "DEBUG:gusto:    Residual norms for uTrapeziumRule_ solve\n",
      "DEBUG:gusto:    0 KSP preconditioned resid norm 5.587569440754e+05 true resid norm 6.129105611037e+05 ||r(i)||/||b|| 1.000000000000e+00\n",
      "DEBUG:gusto:    1 KSP preconditioned resid norm 1.065740127148e+04 true resid norm 6.297890541694e+03 ||r(i)||/||b|| 1.027538264368e-02\n",
      "DEBUG:gusto:    2 KSP preconditioned resid norm 1.985356265347e+02 true resid norm 2.156115172251e+02 ||r(i)||/||b|| 3.517830021347e-04\n",
      "DEBUG:gusto:    3 KSP preconditioned resid norm 4.881602606427e+00 true resid norm 5.364127741803e+00 ||r(i)||/||b|| 8.751893150843e-06\n",
      "DEBUG:gusto:    Residual norms for uTrapeziumRule_ solve\n",
      "DEBUG:gusto:    0 KSP preconditioned resid norm 4.881602606361e+00 true resid norm 5.364127745118e+00 ||r(i)||/||b|| 1.000000000000e+00\n",
      "DEBUG:gusto:    1 KSP preconditioned resid norm 2.189409731723e-01 true resid norm 1.489319454693e-01 ||r(i)||/||b|| 2.776442928767e-02\n",
      "DEBUG:gusto:    2 KSP preconditioned resid norm 8.287887155869e-03 true resid norm 7.132861396961e-03 ||r(i)||/||b|| 1.329733693135e-03\n",
      "DEBUG:gusto:    3 KSP preconditioned resid norm 2.876689010863e-04 true resid norm 2.147829601784e-04 ||r(i)||/||b|| 4.004061245072e-05\n",
      "DEBUG:gusto:    4 KSP preconditioned resid norm 9.484304727953e-06 true resid norm 8.385391455195e-06 ||r(i)||/||b|| 1.563234854507e-06\n",
      "INFO     Semi-implicit Quasi Newton: Transport 1: D\n",
      "INFO:gusto:Semi-implicit Quasi Newton: Transport 1: D\n",
      "INFO     Semi-implicit Quasi Newton: Implicit forcing (1, 0)\n",
      "INFO:gusto:Semi-implicit Quasi Newton: Implicit forcing (1, 0)\n",
      "DEBUG:gusto:    Residual norms for ImplicitForcingSolver_ solve\n",
      "DEBUG:gusto:    0 KSP no resid norm 1.375704065564e+05 true resid norm 3.375200844565e+05 ||r(i)||/||b|| 2.453435247486e+00\n",
      "DEBUG:gusto:    1 KSP no resid norm 5.515968938792e-11 true resid norm 5.515968938792e-11 ||r(i)||/||b|| 4.009560687406e-16\n",
      "INFO     Semi-implicit Quasi Newton: Mixed solve (1, 0)\n",
      "INFO:gusto:Semi-implicit Quasi Newton: Mixed solve (1, 0)\n",
      "INFO     Semi-implicit Quasi Newton: Implicit forcing (1, 1)\n",
      "INFO:gusto:Semi-implicit Quasi Newton: Implicit forcing (1, 1)\n",
      "DEBUG:gusto:    Residual norms for ImplicitForcingSolver_ solve\n",
      "DEBUG:gusto:    0 KSP no resid norm 1.066019019371e+05 true resid norm 2.423054418141e+05 ||r(i)||/||b|| 2.272993609037e+00\n",
      "DEBUG:gusto:    1 KSP no resid norm 3.961061610235e-11 true resid norm 3.961061610235e-11 ||r(i)||/||b|| 3.715751349890e-16\n",
      "INFO     Semi-implicit Quasi Newton: Mixed solve (1, 1)\n",
      "INFO:gusto:Semi-implicit Quasi Newton: Mixed solve (1, 1)\n",
      "DEBUG:gusto:Leaving Semi-implicit Quasi-Newton timestep method\n",
      "INFO     \n",
      "INFO:gusto:\n",
      "INFO     ========================================\n",
      "INFO:gusto:========================================\n",
      "INFO     at start of timestep 2, t=900.0, dt=900.0\n",
      "INFO:gusto:at start of timestep 2, t=900.0, dt=900.0\n",
      "INFO     Semi-implicit Quasi Newton: Explicit forcing\n",
      "INFO:gusto:Semi-implicit Quasi Newton: Explicit forcing\n",
      "DEBUG:gusto:    Residual norms for ExplicitForcingSolver_ solve\n",
      "DEBUG:gusto:    0 KSP no resid norm 5.362120374912e+04 true resid norm 3.859973858259e+05 ||r(i)||/||b|| 7.198596055991e+00\n",
      "DEBUG:gusto:    1 KSP no resid norm 1.893877795969e-11 true resid norm 1.893877795969e-11 ||r(i)||/||b|| 3.531956881890e-16\n",
      "INFO     Semi-implicit Quasi Newton: Transport 0: u\n",
      "INFO:gusto:Semi-implicit Quasi Newton: Transport 0: u\n",
      "DEBUG:gusto:    Residual norms for uTrapeziumRule_ solve\n",
      "DEBUG:gusto:    0 KSP preconditioned resid norm 5.604766785161e+05 true resid norm 6.152090559168e+05 ||r(i)||/||b|| 1.000000000000e+00\n",
      "DEBUG:gusto:    1 KSP preconditioned resid norm 1.068399186592e+04 true resid norm 6.329441734408e+03 ||r(i)||/||b|| 1.028827790088e-02\n",
      "DEBUG:gusto:    2 KSP preconditioned resid norm 2.000708822109e+02 true resid norm 2.162420601441e+02 ||r(i)||/||b|| 3.514936232886e-04\n",
      "DEBUG:gusto:    3 KSP preconditioned resid norm 4.931342828052e+00 true resid norm 5.396506875620e+00 ||r(i)||/||b|| 8.771826135717e-06\n",
      "DEBUG:gusto:    Residual norms for uTrapeziumRule_ solve\n",
      "DEBUG:gusto:    0 KSP preconditioned resid norm 4.931342827824e+00 true resid norm 5.396506873935e+00 ||r(i)||/||b|| 1.000000000000e+00\n",
      "DEBUG:gusto:    1 KSP preconditioned resid norm 2.227791166505e-01 true resid norm 1.521523930563e-01 ||r(i)||/||b|| 2.819460747677e-02\n",
      "DEBUG:gusto:    2 KSP preconditioned resid norm 8.471748032847e-03 true resid norm 7.301465459939e-03 ||r(i)||/||b|| 1.352998454464e-03\n",
      "DEBUG:gusto:    3 KSP preconditioned resid norm 2.898529502076e-04 true resid norm 2.167792649846e-04 ||r(i)||/||b|| 4.017029349701e-05\n",
      "DEBUG:gusto:    4 KSP preconditioned resid norm 9.555933266040e-06 true resid norm 8.456006918931e-06 ||r(i)||/||b|| 1.566940822363e-06\n",
      "INFO     Semi-implicit Quasi Newton: Transport 0: D\n",
      "INFO:gusto:Semi-implicit Quasi Newton: Transport 0: D\n",
      "INFO     Semi-implicit Quasi Newton: Implicit forcing (0, 0)\n",
      "INFO:gusto:Semi-implicit Quasi Newton: Implicit forcing (0, 0)\n",
      "DEBUG:gusto:    Residual norms for ImplicitForcingSolver_ solve\n",
      "DEBUG:gusto:    0 KSP no resid norm 5.922290117006e-07 true resid norm 1.066019019371e+05 ||r(i)||/||b|| 1.800011479190e+11\n",
      "DEBUG:gusto:    1 KSP no resid norm 3.792661951956e-22 true resid norm 3.792661951956e-22 ||r(i)||/||b|| 6.404046200075e-16\n",
      "INFO     Semi-implicit Quasi Newton: Mixed solve (0, 0)\n",
      "INFO:gusto:Semi-implicit Quasi Newton: Mixed solve (0, 0)\n",
      "INFO     Semi-implicit Quasi Newton: Implicit forcing (0, 1)\n",
      "INFO:gusto:Semi-implicit Quasi Newton: Implicit forcing (0, 1)\n",
      "DEBUG:gusto:    Residual norms for ImplicitForcingSolver_ solve\n",
      "DEBUG:gusto:    0 KSP no resid norm 4.082629514187e+05 true resid norm 4.082629514187e+05 ||r(i)||/||b|| 1.000000000000e+00\n",
      "DEBUG:gusto:    1 KSP no resid norm 1.613042924564e-10 true resid norm 1.613042924564e-10 ||r(i)||/||b|| 3.950990210987e-16\n",
      "INFO     Semi-implicit Quasi Newton: Mixed solve (0, 1)\n",
      "INFO:gusto:Semi-implicit Quasi Newton: Mixed solve (0, 1)\n",
      "INFO     Semi-implicit Quasi Newton: Transport 1: u\n",
      "INFO:gusto:Semi-implicit Quasi Newton: Transport 1: u\n",
      "DEBUG:gusto:    Residual norms for uTrapeziumRule_ solve\n",
      "DEBUG:gusto:    0 KSP preconditioned resid norm 5.613736253633e+05 true resid norm 6.164185032864e+05 ||r(i)||/||b|| 1.000000000000e+00\n",
      "DEBUG:gusto:    1 KSP preconditioned resid norm 1.069411765753e+04 true resid norm 6.344717297526e+03 ||r(i)||/||b|| 1.029287288376e-02\n",
      "DEBUG:gusto:    2 KSP preconditioned resid norm 2.006967024553e+02 true resid norm 2.165291243542e+02 ||r(i)||/||b|| 3.512696701994e-04\n",
      "DEBUG:gusto:    3 KSP preconditioned resid norm 4.955181626652e+00 true resid norm 5.408670055491e+00 ||r(i)||/||b|| 8.774347341385e-06\n",
      "DEBUG:gusto:    Residual norms for uTrapeziumRule_ solve\n",
      "DEBUG:gusto:    0 KSP preconditioned resid norm 4.955181626602e+00 true resid norm 5.408670055861e+00 ||r(i)||/||b|| 1.000000000000e+00\n",
      "DEBUG:gusto:    1 KSP preconditioned resid norm 2.250540665393e-01 true resid norm 1.538410757549e-01 ||r(i)||/||b|| 2.844342031702e-02\n",
      "DEBUG:gusto:    2 KSP preconditioned resid norm 8.571771905522e-03 true resid norm 7.390528689363e-03 ||r(i)||/||b|| 1.366422542517e-03\n",
      "DEBUG:gusto:    3 KSP preconditioned resid norm 2.910313160878e-04 true resid norm 2.176203600240e-04 ||r(i)||/||b|| 4.023546597897e-05\n",
      "DEBUG:gusto:    4 KSP preconditioned resid norm 9.593703303884e-06 true resid norm 8.487476707684e-06 ||r(i)||/||b|| 1.569235434964e-06\n",
      "INFO     Semi-implicit Quasi Newton: Transport 1: D\n",
      "INFO:gusto:Semi-implicit Quasi Newton: Transport 1: D\n",
      "INFO     Semi-implicit Quasi Newton: Implicit forcing (1, 0)\n",
      "INFO:gusto:Semi-implicit Quasi Newton: Implicit forcing (1, 0)\n",
      "DEBUG:gusto:    Residual norms for ImplicitForcingSolver_ solve\n",
      "DEBUG:gusto:    0 KSP no resid norm 1.547025377642e+05 true resid norm 4.944980624256e+05 ||r(i)||/||b|| 3.196444412432e+00\n",
      "DEBUG:gusto:    1 KSP no resid norm 6.244438529493e-11 true resid norm 6.244438529493e-11 ||r(i)||/||b|| 4.036416350848e-16\n",
      "INFO     Semi-implicit Quasi Newton: Mixed solve (1, 0)\n",
      "INFO:gusto:Semi-implicit Quasi Newton: Mixed solve (1, 0)\n",
      "INFO     Semi-implicit Quasi Newton: Implicit forcing (1, 1)\n",
      "INFO:gusto:Semi-implicit Quasi Newton: Implicit forcing (1, 1)\n",
      "DEBUG:gusto:    Residual norms for ImplicitForcingSolver_ solve\n",
      "DEBUG:gusto:    0 KSP no resid norm 1.129613821142e+05 true resid norm 2.644949396295e+05 ||r(i)||/||b|| 2.341463380486e+00\n",
      "DEBUG:gusto:    1 KSP no resid norm 5.188974790380e-11 true resid norm 5.188974790380e-11 ||r(i)||/||b|| 4.593582951327e-16\n",
      "INFO     Semi-implicit Quasi Newton: Mixed solve (1, 1)\n",
      "INFO:gusto:Semi-implicit Quasi Newton: Mixed solve (1, 1)\n",
      "DEBUG:gusto:Leaving Semi-implicit Quasi-Newton timestep method\n",
      "INFO     \n",
      "INFO:gusto:\n",
      "INFO     ========================================\n",
      "INFO:gusto:========================================\n",
      "INFO     at start of timestep 3, t=1800.0, dt=900.0\n",
      "INFO:gusto:at start of timestep 3, t=1800.0, dt=900.0\n",
      "INFO     Semi-implicit Quasi Newton: Explicit forcing\n",
      "INFO:gusto:Semi-implicit Quasi Newton: Explicit forcing\n",
      "DEBUG:gusto:    Residual norms for ExplicitForcingSolver_ solve\n",
      "DEBUG:gusto:    0 KSP no resid norm 4.918470774046e+04 true resid norm 4.603785515452e+04 ||r(i)||/||b|| 9.360196953382e-01\n",
      "DEBUG:gusto:    1 KSP no resid norm 1.709363306585e-11 true resid norm 1.709363306585e-11 ||r(i)||/||b|| 3.475395880372e-16\n",
      "INFO     Semi-implicit Quasi Newton: Transport 0: u\n",
      "INFO:gusto:Semi-implicit Quasi Newton: Transport 0: u\n",
      "DEBUG:gusto:    Residual norms for uTrapeziumRule_ solve\n",
      "DEBUG:gusto:    0 KSP preconditioned resid norm 5.628475674062e+05 true resid norm 6.207601980794e+05 ||r(i)||/||b|| 1.000000000000e+00\n",
      "DEBUG:gusto:    1 KSP preconditioned resid norm 1.066580831543e+04 true resid norm 6.385116455001e+03 ||r(i)||/||b|| 1.028596304137e-02\n",
      "DEBUG:gusto:    2 KSP preconditioned resid norm 2.011618065183e+02 true resid norm 2.163257559986e+02 ||r(i)||/||b|| 3.484852229056e-04\n",
      "DEBUG:gusto:    3 KSP preconditioned resid norm 5.009107162475e+00 true resid norm 5.422766781313e+00 ||r(i)||/||b|| 8.735686982011e-06\n",
      "DEBUG:gusto:    Residual norms for uTrapeziumRule_ solve\n",
      "DEBUG:gusto:    0 KSP preconditioned resid norm 5.009107162336e+00 true resid norm 5.422766781943e+00 ||r(i)||/||b|| 1.000000000000e+00\n",
      "DEBUG:gusto:    1 KSP preconditioned resid norm 2.310238285189e-01 true resid norm 1.585661985134e-01 ||r(i)||/||b|| 2.924082943073e-02\n",
      "DEBUG:gusto:    2 KSP preconditioned resid norm 8.804915566986e-03 true resid norm 7.593813246366e-03 ||r(i)||/||b|| 1.400357705157e-03\n",
      "DEBUG:gusto:    3 KSP preconditioned resid norm 2.933081298615e-04 true resid norm 2.185050909137e-04 ||r(i)||/||b|| 4.029402327263e-05\n",
      "DEBUG:gusto:    4 KSP preconditioned resid norm 9.653093695177e-06 true resid norm 8.546658817820e-06 ||r(i)||/||b|| 1.576069774249e-06\n",
      "INFO     Semi-implicit Quasi Newton: Transport 0: D\n",
      "INFO:gusto:Semi-implicit Quasi Newton: Transport 0: D\n",
      "INFO     Semi-implicit Quasi Newton: Implicit forcing (0, 0)\n",
      "INFO:gusto:Semi-implicit Quasi Newton: Implicit forcing (0, 0)\n",
      "DEBUG:gusto:    Residual norms for ImplicitForcingSolver_ solve\n",
      "DEBUG:gusto:    0 KSP no resid norm 5.845374237257e-07 true resid norm 1.129613821142e+05 ||r(i)||/||b|| 1.932491873560e+11\n",
      "DEBUG:gusto:    1 KSP no resid norm 3.760932244576e-22 true resid norm 3.760932244576e-22 ||r(i)||/||b|| 6.434031581082e-16\n",
      "INFO     Semi-implicit Quasi Newton: Mixed solve (0, 0)\n",
      "INFO:gusto:Semi-implicit Quasi Newton: Mixed solve (0, 0)\n",
      "INFO     Semi-implicit Quasi Newton: Implicit forcing (0, 1)\n",
      "INFO:gusto:Semi-implicit Quasi Newton: Implicit forcing (0, 1)\n",
      "DEBUG:gusto:    Residual norms for ImplicitForcingSolver_ solve\n",
      "DEBUG:gusto:    0 KSP no resid norm 4.068447998955e+05 true resid norm 4.068447998955e+05 ||r(i)||/||b|| 1.000000000000e+00\n",
      "DEBUG:gusto:    1 KSP no resid norm 1.302395903596e-10 true resid norm 1.302395903596e-10 ||r(i)||/||b|| 3.201210643298e-16\n",
      "INFO     Semi-implicit Quasi Newton: Mixed solve (0, 1)\n",
      "INFO:gusto:Semi-implicit Quasi Newton: Mixed solve (0, 1)\n",
      "INFO     Semi-implicit Quasi Newton: Transport 1: u\n",
      "INFO:gusto:Semi-implicit Quasi Newton: Transport 1: u\n",
      "DEBUG:gusto:    Residual norms for uTrapeziumRule_ solve\n",
      "DEBUG:gusto:    0 KSP preconditioned resid norm 5.637275978130e+05 true resid norm 6.223345449248e+05 ||r(i)||/||b|| 1.000000000000e+00\n",
      "DEBUG:gusto:    1 KSP preconditioned resid norm 1.068196732817e+04 true resid norm 6.400945806866e+03 ||r(i)||/||b|| 1.028537763019e-02\n",
      "DEBUG:gusto:    2 KSP preconditioned resid norm 2.017322034986e+02 true resid norm 2.166513722980e+02 ||r(i)||/||b|| 3.481268620949e-04\n",
      "DEBUG:gusto:    3 KSP preconditioned resid norm 5.031640760550e+00 true resid norm 5.431779556009e+00 ||r(i)||/||b|| 8.728070135757e-06\n",
      "DEBUG:gusto:    Residual norms for uTrapeziumRule_ solve\n",
      "DEBUG:gusto:    0 KSP preconditioned resid norm 5.031640760269e+00 true resid norm 5.431779557485e+00 ||r(i)||/||b|| 1.000000000000e+00\n",
      "DEBUG:gusto:    1 KSP preconditioned resid norm 2.327606111123e-01 true resid norm 1.598490164410e-01 ||r(i)||/||b|| 2.942848006795e-02\n",
      "DEBUG:gusto:    2 KSP preconditioned resid norm 8.868316502526e-03 true resid norm 7.641905040180e-03 ||r(i)||/||b|| 1.406887919384e-03\n",
      "DEBUG:gusto:    3 KSP preconditioned resid norm 2.945661057793e-04 true resid norm 2.190233858132e-04 ||r(i)||/||b|| 4.032258369384e-05\n",
      "DEBUG:gusto:    4 KSP preconditioned resid norm 9.688507454708e-06 true resid norm 8.579874687314e-06 ||r(i)||/||b|| 1.579569751775e-06\n",
      "INFO     Semi-implicit Quasi Newton: Transport 1: D\n",
      "INFO:gusto:Semi-implicit Quasi Newton: Transport 1: D\n",
      "INFO     Semi-implicit Quasi Newton: Implicit forcing (1, 0)\n",
      "INFO:gusto:Semi-implicit Quasi Newton: Implicit forcing (1, 0)\n",
      "DEBUG:gusto:    Residual norms for ImplicitForcingSolver_ solve\n",
      "DEBUG:gusto:    0 KSP no resid norm 1.199022954527e+05 true resid norm 4.055284066275e+05 ||r(i)||/||b|| 3.382157156344e+00\n",
      "DEBUG:gusto:    1 KSP no resid norm 5.290535120365e-11 true resid norm 5.290535120365e-11 ||r(i)||/||b|| 4.412371840247e-16\n",
      "INFO     Semi-implicit Quasi Newton: Mixed solve (1, 0)\n",
      "INFO:gusto:Semi-implicit Quasi Newton: Mixed solve (1, 0)\n",
      "INFO     Semi-implicit Quasi Newton: Implicit forcing (1, 1)\n",
      "INFO:gusto:Semi-implicit Quasi Newton: Implicit forcing (1, 1)\n",
      "DEBUG:gusto:    Residual norms for ImplicitForcingSolver_ solve\n",
      "DEBUG:gusto:    0 KSP no resid norm 9.656092509913e+04 true resid norm 2.151199852505e+05 ||r(i)||/||b|| 2.227816117437e+00\n",
      "DEBUG:gusto:    1 KSP no resid norm 4.368178127942e-11 true resid norm 4.368178127942e-11 ||r(i)||/||b|| 4.523753395545e-16\n",
      "INFO     Semi-implicit Quasi Newton: Mixed solve (1, 1)\n",
      "INFO:gusto:Semi-implicit Quasi Newton: Mixed solve (1, 1)\n",
      "DEBUG:gusto:Leaving Semi-implicit Quasi-Newton timestep method\n",
      "INFO     \n",
      "INFO:gusto:\n",
      "INFO     ========================================\n",
      "INFO:gusto:========================================\n",
      "INFO     at start of timestep 4, t=2700.0, dt=900.0\n",
      "INFO:gusto:at start of timestep 4, t=2700.0, dt=900.0\n",
      "INFO     Semi-implicit Quasi Newton: Explicit forcing\n",
      "INFO:gusto:Semi-implicit Quasi Newton: Explicit forcing\n",
      "DEBUG:gusto:    Residual norms for ExplicitForcingSolver_ solve\n",
      "DEBUG:gusto:    0 KSP no resid norm 3.623731520079e+04 true resid norm 6.791995697676e+04 ||r(i)||/||b|| 1.874309854370e+00\n",
      "DEBUG:gusto:    1 KSP no resid norm 1.377006062130e-11 true resid norm 1.377006062130e-11 ||r(i)||/||b|| 3.799967118149e-16\n",
      "INFO     Semi-implicit Quasi Newton: Transport 0: u\n",
      "INFO:gusto:Semi-implicit Quasi Newton: Transport 0: u\n",
      "DEBUG:gusto:    Residual norms for uTrapeziumRule_ solve\n",
      "DEBUG:gusto:    0 KSP preconditioned resid norm 5.655756934086e+05 true resid norm 6.263209139889e+05 ||r(i)||/||b|| 1.000000000000e+00\n",
      "DEBUG:gusto:    1 KSP preconditioned resid norm 1.071506957247e+04 true resid norm 6.441284811339e+03 ||r(i)||/||b|| 1.028432017433e-02\n",
      "DEBUG:gusto:    2 KSP preconditioned resid norm 2.023667345222e+02 true resid norm 2.177420973958e+02 ||r(i)||/||b|| 3.476526051303e-04\n",
      "DEBUG:gusto:    3 KSP preconditioned resid norm 5.037205816478e+00 true resid norm 5.414858593667e+00 ||r(i)||/||b|| 8.645501807023e-06\n",
      "DEBUG:gusto:    Residual norms for uTrapeziumRule_ solve\n",
      "DEBUG:gusto:    0 KSP preconditioned resid norm 5.037205816945e+00 true resid norm 5.414858596158e+00 ||r(i)||/||b|| 1.000000000000e+00\n",
      "DEBUG:gusto:    1 KSP preconditioned resid norm 2.308305953126e-01 true resid norm 1.583788999825e-01 ||r(i)||/||b|| 2.924894476374e-02\n",
      "DEBUG:gusto:    2 KSP preconditioned resid norm 8.800830603278e-03 true resid norm 7.535497309851e-03 ||r(i)||/||b|| 1.391633258013e-03\n",
      "DEBUG:gusto:    3 KSP preconditioned resid norm 2.951814065919e-04 true resid norm 2.176322724719e-04 ||r(i)||/||b|| 4.019168157527e-05\n",
      "DEBUG:gusto:    4 KSP preconditioned resid norm 9.684913337251e-06 true resid norm 8.591881993703e-06 ||r(i)||/||b|| 1.586723243299e-06\n",
      "INFO     Semi-implicit Quasi Newton: Transport 0: D\n",
      "INFO:gusto:Semi-implicit Quasi Newton: Transport 0: D\n",
      "INFO     Semi-implicit Quasi Newton: Implicit forcing (0, 0)\n",
      "INFO:gusto:Semi-implicit Quasi Newton: Implicit forcing (0, 0)\n",
      "DEBUG:gusto:    Residual norms for ImplicitForcingSolver_ solve\n",
      "DEBUG:gusto:    0 KSP no resid norm 5.930426159714e-07 true resid norm 9.656092509912e+04 ||r(i)||/||b|| 1.628229110331e+11\n",
      "DEBUG:gusto:    1 KSP no resid norm 3.788205038540e-22 true resid norm 3.788205038540e-22 ||r(i)||/||b|| 6.387745056626e-16\n",
      "INFO     Semi-implicit Quasi Newton: Mixed solve (0, 0)\n",
      "INFO:gusto:Semi-implicit Quasi Newton: Mixed solve (0, 0)\n",
      "INFO     Semi-implicit Quasi Newton: Implicit forcing (0, 1)\n",
      "INFO:gusto:Semi-implicit Quasi Newton: Implicit forcing (0, 1)\n",
      "DEBUG:gusto:    Residual norms for ImplicitForcingSolver_ solve\n",
      "DEBUG:gusto:    0 KSP no resid norm 2.870374044092e+05 true resid norm 2.870374044092e+05 ||r(i)||/||b|| 1.000000000000e+00\n",
      "DEBUG:gusto:    1 KSP no resid norm 1.282656149014e-10 true resid norm 1.282656149014e-10 ||r(i)||/||b|| 4.468602799884e-16\n",
      "INFO     Semi-implicit Quasi Newton: Mixed solve (0, 1)\n",
      "INFO:gusto:Semi-implicit Quasi Newton: Mixed solve (0, 1)\n",
      "INFO     Semi-implicit Quasi Newton: Transport 1: u\n",
      "INFO:gusto:Semi-implicit Quasi Newton: Transport 1: u\n",
      "DEBUG:gusto:    Residual norms for uTrapeziumRule_ solve\n",
      "DEBUG:gusto:    0 KSP preconditioned resid norm 5.664936934029e+05 true resid norm 6.275513396511e+05 ||r(i)||/||b|| 1.000000000000e+00\n",
      "DEBUG:gusto:    1 KSP preconditioned resid norm 1.075136327118e+04 true resid norm 6.442870975745e+03 ||r(i)||/||b|| 1.026668348653e-02\n",
      "DEBUG:gusto:    2 KSP preconditioned resid norm 2.030257661540e+02 true resid norm 2.186361917364e+02 ||r(i)||/||b|| 3.483957055337e-04\n",
      "DEBUG:gusto:    3 KSP preconditioned resid norm 5.034072905720e+00 true resid norm 5.418192805198e+00 ||r(i)||/||b|| 8.633863817756e-06\n",
      "DEBUG:gusto:    Residual norms for uTrapeziumRule_ solve\n",
      "DEBUG:gusto:    0 KSP preconditioned resid norm 5.034072905562e+00 true resid norm 5.418192806697e+00 ||r(i)||/||b|| 1.000000000000e+00\n",
      "DEBUG:gusto:    1 KSP preconditioned resid norm 2.298184557140e-01 true resid norm 1.575351913962e-01 ||r(i)||/||b|| 2.907522803572e-02\n",
      "DEBUG:gusto:    2 KSP preconditioned resid norm 8.767180921667e-03 true resid norm 7.495866514393e-03 ||r(i)||/||b|| 1.383462490506e-03\n",
      "DEBUG:gusto:    3 KSP preconditioned resid norm 2.951345461690e-04 true resid norm 2.173722948979e-04 ||r(i)||/||b|| 4.011896635152e-05\n",
      "DEBUG:gusto:    4 KSP preconditioned resid norm 9.682088429556e-06 true resid norm 8.582316804832e-06 ||r(i)||/||b|| 1.583981432743e-06\n",
      "INFO     Semi-implicit Quasi Newton: Transport 1: D\n",
      "INFO:gusto:Semi-implicit Quasi Newton: Transport 1: D\n",
      "INFO     Semi-implicit Quasi Newton: Implicit forcing (1, 0)\n",
      "INFO:gusto:Semi-implicit Quasi Newton: Implicit forcing (1, 0)\n",
      "DEBUG:gusto:    Residual norms for ImplicitForcingSolver_ solve\n",
      "DEBUG:gusto:    0 KSP no resid norm 1.346881528775e+05 true resid norm 2.754043729863e+05 ||r(i)||/||b|| 2.044755734655e+00\n",
      "DEBUG:gusto:    1 KSP no resid norm 4.386840848005e-11 true resid norm 4.386840848005e-11 ||r(i)||/||b|| 3.257035421665e-16\n",
      "INFO     Semi-implicit Quasi Newton: Mixed solve (1, 0)\n",
      "INFO:gusto:Semi-implicit Quasi Newton: Mixed solve (1, 0)\n",
      "INFO     Semi-implicit Quasi Newton: Implicit forcing (1, 1)\n",
      "INFO:gusto:Semi-implicit Quasi Newton: Implicit forcing (1, 1)\n",
      "DEBUG:gusto:    Residual norms for ImplicitForcingSolver_ solve\n",
      "DEBUG:gusto:    0 KSP no resid norm 1.032755124426e+05 true resid norm 2.367036499603e+05 ||r(i)||/||b|| 2.291962967425e+00\n",
      "DEBUG:gusto:    1 KSP no resid norm 3.628393263694e-11 true resid norm 3.628393263694e-11 ||r(i)||/||b|| 3.513314219293e-16\n",
      "INFO     Semi-implicit Quasi Newton: Mixed solve (1, 1)\n",
      "INFO:gusto:Semi-implicit Quasi Newton: Mixed solve (1, 1)\n",
      "DEBUG:gusto:Leaving Semi-implicit Quasi-Newton timestep method\n",
      "INFO     \n",
      "INFO:gusto:\n",
      "INFO     ========================================\n",
      "INFO:gusto:========================================\n",
      "INFO     at start of timestep 5, t=3600.0, dt=900.0\n",
      "INFO:gusto:at start of timestep 5, t=3600.0, dt=900.0\n",
      "INFO     Semi-implicit Quasi Newton: Explicit forcing\n",
      "INFO:gusto:Semi-implicit Quasi Newton: Explicit forcing\n",
      "DEBUG:gusto:    Residual norms for ExplicitForcingSolver_ solve\n",
      "DEBUG:gusto:    0 KSP no resid norm 2.993856955300e+04 true resid norm 3.914845825554e+04 ||r(i)||/||b|| 1.307626210606e+00\n",
      "DEBUG:gusto:    1 KSP no resid norm 1.117982053676e-11 true resid norm 1.117982053676e-11 ||r(i)||/||b|| 3.734253407454e-16\n",
      "INFO     Semi-implicit Quasi Newton: Transport 0: u\n",
      "INFO:gusto:Semi-implicit Quasi Newton: Transport 0: u\n",
      "DEBUG:gusto:    Residual norms for uTrapeziumRule_ solve\n",
      "DEBUG:gusto:    0 KSP preconditioned resid norm 5.712284756826e+05 true resid norm 6.318020945328e+05 ||r(i)||/||b|| 1.000000000000e+00\n",
      "DEBUG:gusto:    1 KSP preconditioned resid norm 1.092236059309e+04 true resid norm 6.475907500247e+03 ||r(i)||/||b|| 1.024989875198e-02\n",
      "DEBUG:gusto:    2 KSP preconditioned resid norm 2.068099444904e+02 true resid norm 2.232405514586e+02 ||r(i)||/||b|| 3.533393659033e-04\n",
      "DEBUG:gusto:    3 KSP preconditioned resid norm 5.037550826001e+00 true resid norm 5.449947978305e+00 ||r(i)||/||b|| 8.626036579279e-06\n",
      "DEBUG:gusto:    Residual norms for uTrapeziumRule_ solve\n",
      "DEBUG:gusto:    0 KSP preconditioned resid norm 5.037550825972e+00 true resid norm 5.449947976511e+00 ||r(i)||/||b|| 1.000000000000e+00\n",
      "DEBUG:gusto:    1 KSP preconditioned resid norm 2.262184219078e-01 true resid norm 1.548699263179e-01 ||r(i)||/||b|| 2.841677149679e-02\n",
      "DEBUG:gusto:    2 KSP preconditioned resid norm 8.660094330537e-03 true resid norm 7.385726291473e-03 ||r(i)||/||b|| 1.355192072164e-03\n",
      "DEBUG:gusto:    3 KSP preconditioned resid norm 2.943513776045e-04 true resid norm 2.167003730878e-04 ||r(i)||/||b|| 3.976191589750e-05\n",
      "DEBUG:gusto:    4 KSP preconditioned resid norm 9.676621445170e-06 true resid norm 8.553356571439e-06 ||r(i)||/||b|| 1.569438205337e-06\n",
      "INFO     Semi-implicit Quasi Newton: Transport 0: D\n",
      "INFO:gusto:Semi-implicit Quasi Newton: Transport 0: D\n",
      "INFO     Semi-implicit Quasi Newton: Implicit forcing (0, 0)\n",
      "INFO:gusto:Semi-implicit Quasi Newton: Implicit forcing (0, 0)\n",
      "DEBUG:gusto:    Residual norms for ImplicitForcingSolver_ solve\n",
      "DEBUG:gusto:    0 KSP no resid norm 5.802708268023e-07 true resid norm 1.032755124426e+05 ||r(i)||/||b|| 1.779781227530e+11\n",
      "DEBUG:gusto:    1 KSP no resid norm 3.767179856699e-22 true resid norm 3.767179856699e-22 ||r(i)||/||b|| 6.492106241941e-16\n",
      "INFO     Semi-implicit Quasi Newton: Mixed solve (0, 0)\n",
      "INFO:gusto:Semi-implicit Quasi Newton: Mixed solve (0, 0)\n",
      "INFO     Semi-implicit Quasi Newton: Implicit forcing (0, 1)\n",
      "INFO:gusto:Semi-implicit Quasi Newton: Implicit forcing (0, 1)\n",
      "DEBUG:gusto:    Residual norms for ImplicitForcingSolver_ solve\n",
      "DEBUG:gusto:    0 KSP no resid norm 2.027107463164e+05 true resid norm 2.027107463164e+05 ||r(i)||/||b|| 1.000000000000e+00\n",
      "DEBUG:gusto:    1 KSP no resid norm 7.869384266651e-11 true resid norm 7.869384266651e-11 ||r(i)||/||b|| 3.882075523697e-16\n",
      "INFO     Semi-implicit Quasi Newton: Mixed solve (0, 1)\n",
      "INFO:gusto:Semi-implicit Quasi Newton: Mixed solve (0, 1)\n",
      "INFO     Semi-implicit Quasi Newton: Transport 1: u\n",
      "INFO:gusto:Semi-implicit Quasi Newton: Transport 1: u\n",
      "DEBUG:gusto:    Residual norms for uTrapeziumRule_ solve\n",
      "DEBUG:gusto:    0 KSP preconditioned resid norm 5.733314345061e+05 true resid norm 6.333470343240e+05 ||r(i)||/||b|| 1.000000000000e+00\n",
      "DEBUG:gusto:    1 KSP preconditioned resid norm 1.098965232923e+04 true resid norm 6.488475328056e+03 ||r(i)||/||b|| 1.024473941838e-02\n",
      "DEBUG:gusto:    2 KSP preconditioned resid norm 2.084150171367e+02 true resid norm 2.252619676010e+02 ||r(i)||/||b|| 3.556690967084e-04\n",
      "DEBUG:gusto:    3 KSP preconditioned resid norm 5.035195935951e+00 true resid norm 5.465094804057e+00 ||r(i)||/||b|| 8.628910388585e-06\n",
      "DEBUG:gusto:    Residual norms for uTrapeziumRule_ solve\n",
      "DEBUG:gusto:    0 KSP preconditioned resid norm 5.035195935774e+00 true resid norm 5.465094802197e+00 ||r(i)||/||b|| 1.000000000000e+00\n",
      "DEBUG:gusto:    1 KSP preconditioned resid norm 2.252681932078e-01 true resid norm 1.541017486928e-01 ||r(i)||/||b|| 2.819745206082e-02\n",
      "DEBUG:gusto:    2 KSP preconditioned resid norm 8.634772911632e-03 true resid norm 7.362233497288e-03 ||r(i)||/||b|| 1.347137380733e-03\n",
      "DEBUG:gusto:    3 KSP preconditioned resid norm 2.938027804860e-04 true resid norm 2.166120739369e-04 ||r(i)||/||b|| 3.963555652316e-05\n",
      "DEBUG:gusto:    4 KSP preconditioned resid norm 9.671700592498e-06 true resid norm 8.527053629568e-06 ||r(i)||/||b|| 1.560275519125e-06\n",
      "INFO     Semi-implicit Quasi Newton: Transport 1: D\n",
      "INFO:gusto:Semi-implicit Quasi Newton: Transport 1: D\n",
      "INFO     Semi-implicit Quasi Newton: Implicit forcing (1, 0)\n",
      "INFO:gusto:Semi-implicit Quasi Newton: Implicit forcing (1, 0)\n",
      "DEBUG:gusto:    Residual norms for ImplicitForcingSolver_ solve\n",
      "DEBUG:gusto:    0 KSP no resid norm 1.401792544219e+05 true resid norm 2.581791465204e+05 ||r(i)||/||b|| 1.841778568342e+00\n",
      "DEBUG:gusto:    1 KSP no resid norm 5.654885791223e-11 true resid norm 5.654885791223e-11 ||r(i)||/||b|| 4.034038998527e-16\n",
      "INFO     Semi-implicit Quasi Newton: Mixed solve (1, 0)\n",
      "INFO:gusto:Semi-implicit Quasi Newton: Mixed solve (1, 0)\n",
      "INFO     Semi-implicit Quasi Newton: Implicit forcing (1, 1)\n",
      "INFO:gusto:Semi-implicit Quasi Newton: Implicit forcing (1, 1)\n",
      "DEBUG:gusto:    Residual norms for ImplicitForcingSolver_ solve\n",
      "DEBUG:gusto:    0 KSP no resid norm 1.099362982095e+05 true resid norm 2.494150460533e+05 ||r(i)||/||b|| 2.268723343568e+00\n",
      "DEBUG:gusto:    1 KSP no resid norm 4.166161929637e-11 true resid norm 4.166161929637e-11 ||r(i)||/||b|| 3.789614529042e-16\n",
      "INFO     Semi-implicit Quasi Newton: Mixed solve (1, 1)\n",
      "INFO:gusto:Semi-implicit Quasi Newton: Mixed solve (1, 1)\n",
      "DEBUG:gusto:Leaving Semi-implicit Quasi-Newton timestep method\n",
      "INFO     TIMELOOP complete. t=4500.00000, tmax=4500.00000\n",
      "INFO:gusto:TIMELOOP complete. t=4500.00000, tmax=4500.00000\n"
     ]
    }
   ],
   "source": [
    "timesteps = 5 \n",
    "stepper.run(0., timesteps*dt)"
   ]
  },
  {
   "cell_type": "markdown",
   "metadata": {},
   "source": [
    "Next, the final solution of the shallow water solver is used to compute the cost functional (1) as shown in the following cell code."
   ]
  },
  {
   "cell_type": "code",
   "execution_count": 91,
   "metadata": {},
   "outputs": [],
   "source": [
    "u_tf = stepper.fields('u')  # Final velocity field\n",
    "D_tf = stepper.fields('D')  # Final depth field\n",
    "\n",
    "J = assemble(0.5*inner(u_tf, u_tf)*dx + 0.5*g*D_tf**2*dx)"
   ]
  },
  {
   "cell_type": "markdown",
   "metadata": {},
   "source": [
    "We define the control variable: initial fluid depth $D_0$ and the velocity $\\textbf{u}_0$. Finally, we run the sensitivity computation: gradient of the cost function with respect $D_0$ and $\\textbf{u}_0$. The gradient computation is achieved with the ``compute_gradient`` function from the `firedrake.adjoint` module."
   ]
  },
  {
   "cell_type": "code",
   "execution_count": 92,
   "metadata": {},
   "outputs": [],
   "source": [
    "control = [Control(D0), Control(u0)] # Control variables\n",
    "grad = compute_gradient(J, control)"
   ]
  },
  {
   "cell_type": "markdown",
   "metadata": {},
   "source": [
    "You can execute a gradient verification with second order [Taylor's test](https://www.dolfinadjoint.org/en/latest/documentation/verification.html). To do so, we define the reduced functional as follows:"
   ]
  },
  {
   "cell_type": "code",
   "execution_count": 93,
   "metadata": {},
   "outputs": [],
   "source": [
    "J_hat = ReducedFunctional(J, control)"
   ]
  },
  {
   "cell_type": "markdown",
   "metadata": {},
   "source": [
    "We then verify the gradient computation using the ``taylor_test``. We already taped the forward model. Any additional operation as below, for  Taylor's test, does not require the tape to be enabled. Thus, we can stop annotating."
   ]
  },
  {
   "cell_type": "code",
   "execution_count": 94,
   "metadata": {},
   "outputs": [
    {
     "name": "stdout",
     "output_type": "stream",
     "text": [
      "Running Taylor test\n",
      "Computed residuals: [151981167509504.0, 37995189125120.0, 9498745905152.0, 2374616748032.0]\n",
      "Computed convergence rates: [np.float64(2.0000039015457785), np.float64(2.0000078031232102), np.float64(2.0000423626811754)]\n"
     ]
    }
   ],
   "source": [
    "import numpy as np\n",
    "with stop_annotating():\n",
    "    # Stop annotation to perform the Taylor test\n",
    "    h0 = Function(D0.function_space())\n",
    "    h1 = Function(u0.function_space())\n",
    "    h0.assign(D0 * np.random.rand())\n",
    "    h1.assign(u0 * np.random.rand())\n",
    "    taylor_test(J_hat, [D0, u0], [h0, h1])"
   ]
  },
  {
   "cell_type": "markdown",
   "metadata": {},
   "source": [
    "That is great! We have a sensitivity computation via automated adjoint with Gusto! In addition, we have verified the gradient computation with a second-order Taylor's test, which is a good practice to ensure the correctness of the gradient computation. See the results above are close to the expected values, 2.0."
   ]
  },
  {
   "cell_type": "markdown",
   "metadata": {},
   "source": [
    "For a notebook demonstration of adjoints, it is good practice to clear the tape. This is because if we do not clear the tape, the tape will keep growing every time we run the model."
   ]
  },
  {
   "cell_type": "code",
   "execution_count": 95,
   "metadata": {},
   "outputs": [],
   "source": [
    "tape = get_working_tape()\n",
    "tape.clear_tape()"
   ]
  }
 ],
 "metadata": {
  "kernelspec": {
   "display_name": "firedrake",
   "language": "python",
   "name": "python3"
  },
  "language_info": {
   "codemirror_mode": {
    "name": "ipython",
    "version": 3
   },
   "file_extension": ".py",
   "mimetype": "text/x-python",
   "name": "python",
   "nbconvert_exporter": "python",
   "pygments_lexer": "ipython3",
   "version": "3.13.1"
  }
 },
 "nbformat": 4,
 "nbformat_minor": 2
}
