{
 "cells": [
  {
   "cell_type": "markdown",
   "id": "3ec4b5fe",
   "metadata": {},
   "source": [
    "# Notebook 1: Introduction with Shallow Water - Williamson 2 Test Case"
   ]
  },
  {
   "cell_type": "markdown",
   "id": "5371527b",
   "metadata": {},
   "source": [
    "This notebook provides an introduction to Gusto. We will go through the example of the Williamson 2 test case to demonstrate how to set up the problem and run it. This is the second test from the Williamson et al (1992) paper, which can be found at: \n",
    "https://doi.org/10.1016/S0021-9991(05)80016-6."
   ]
  },
  {
   "cell_type": "markdown",
   "id": "664c0cba",
   "metadata": {},
   "source": [
    "The Williamson 2 test case solves the shallow water equations. This corresponds to the following set of equations for a velocity, $\\textbf{u}$, and fluid depth, $D$:\n",
    "\\begin{align}\n",
    "\\textbf{u}_t + (\\textbf{u} \\cdot \\nabla) \\textbf{u} + f \\textbf{u}^{\\perp} + g \\nabla (D + b)  &= 0, \\\\\n",
    "D_t + \\nabla \\cdot (D \\textbf{u}) &= 0,\n",
    "\\end{align}\n",
    "\n",
    "where $f$ is the Coriolis parameter, $g$ is the gravitational acceleration, and $D = H+h-b$ is the total depth of the fluid where $H$ is the mean fluid depth, $h$ is the free surface height and $b$ is the topography. No boundary conditions are required as in this case we are solving on a spherical domain.\n",
    "\n",
    "The second Williamson test case models zonal geostrophic flow. This is a steady-state solution of the shallow-water equations, so the true solution does not change with time."
   ]
  },
  {
   "cell_type": "markdown",
   "id": "29df76b1",
   "metadata": {},
   "source": [
    "We begin by importing the required libraries and functions from Firedrake and Gusto. This step is required when starting any Gusto script."
   ]
  },
  {
   "cell_type": "code",
   "execution_count": null,
   "id": "7779c15b",
   "metadata": {},
   "outputs": [],
   "source": [
    "from gusto import *\n",
    "from firedrake import IcosahedralSphereMesh, SpatialCoordinate, as_vector, pi"
   ]
  },
  {
   "cell_type": "markdown",
   "id": "33f71f3a",
   "metadata": {},
   "source": [
    "We now define the time-step size, `dt`, and duration of the simulation, `tmax`."
   ]
  },
  {
   "cell_type": "code",
   "execution_count": null,
   "id": "f5147739",
   "metadata": {},
   "outputs": [],
   "source": [
    "dt = 4000.          # timestep (in seconds)\n",
    "tmax = 20*dt        # duration of the simulation (in seconds)"
   ]
  },
  {
   "cell_type": "markdown",
   "id": "48ee6e88",
   "metadata": {},
   "source": [
    "The shallow water equations contain three parameters that need to be specified: the Coriolis parameter $f=2\\Omega\\sin\\theta$ where $\\Omega$ is the rotation rate and $\\theta$ the latitude, the gravitational acceleration $g$ and the mean height of the fluid layer $H$. The `ShallowWaterParameters` class has Earth-sized values as default for both $\\Omega$ and $g$ (`Omega=7.292e-5`$rad/s$ and `g=9.80616`$m/s^2$) meaning that we only need to specify $H$."
   ]
  },
  {
   "cell_type": "code",
   "execution_count": null,
   "id": "844be5eb",
   "metadata": {},
   "outputs": [],
   "source": [
    "# setup shallow water parameters\n",
    "H = 5960.\n",
    "parameters = ShallowWaterParameters(H=H)"
   ]
  },
  {
   "cell_type": "markdown",
   "id": "2fb1fb2d",
   "metadata": {},
   "source": [
    "Next, we will construct a mesh of our domain. We will use one of the spherical meshes provided by Firedrake: the `IcosahedralSphereMesh`. As the spherical domain we are solving over is the Earth we specify the radius as 6371220m. The refinement level, `ref_level`, specifies the number of times the base icosahedron is refined, with each refinement dividing each triangular face in to 4 triangles. The argument `degree` specifies the polynomial degree of the function space used to represent the coordinates. Since this is a two dimensional mesh embedded in a three dimensional space, we have to specify the outward direction - this is what `mesh.init_cell_orientations` is doing."
   ]
  },
  {
   "cell_type": "code",
   "execution_count": null,
   "id": "2e9c65ea",
   "metadata": {},
   "outputs": [],
   "source": [
    "# Set up the mesh and choose the refinement level\n",
    "ref_level = 3  # number of horizontal cells = 20*(4^refinements)\n",
    "R = 6371220.\n",
    "mesh = IcosahedralSphereMesh(radius=R, refinement_level=ref_level, degree=3)\n",
    "x = SpatialCoordinate(mesh)\n",
    "mesh.init_cell_orientations(x)"
   ]
  },
  {
   "cell_type": "markdown",
   "id": "47f38446",
   "metadata": {},
   "source": [
    "Gusto will set up compatible finite element function spaces for the prognostic fields. These are uniquely defined by specifying the family (in this case `BDM`) of the HDiv space (used for the velocity $\\textbf{u}$) and the degree (in this case `1`) of the DG space (used for the fluid depth $D$). We pass these parameters, along with the mesh and the timestep, into the `Domain` object."
   ]
  },
  {
   "cell_type": "code",
   "execution_count": null,
   "id": "cd2835ea",
   "metadata": {},
   "outputs": [],
   "source": [
    "domain = Domain(mesh, dt, \"BDM\", 1)"
   ]
  },
  {
   "cell_type": "markdown",
   "id": "2c082cfc",
   "metadata": {},
   "source": [
    "We can now set up the finite element form of the shallow water equations by passing `domain`, `parameters` and the expression for the Coriolis parameter into the `ShallowWaterEquations` class."
   ]
  },
  {
   "cell_type": "code",
   "execution_count": null,
   "id": "8ed9914e",
   "metadata": {},
   "outputs": [],
   "source": [
    "# Create a spatially varying function for the Coriolis force:\n",
    "Omega = parameters.Omega\n",
    "x = SpatialCoordinate(mesh)\n",
    "fexpr = 2*Omega*x[2]/R\n",
    "eqns = ShallowWaterEquations(domain, parameters, fexpr=fexpr)"
   ]
  },
  {
   "cell_type": "markdown",
   "id": "da3c27bd",
   "metadata": {},
   "source": [
    "We specify instructions regarding the output using the `OutputParameters` class. The directory name, `dirname`, must be specified. To prevent losing hard-earned simulation data, Gusto will not allow existing files to be overwritten. Hence, if one wishes to re-run a simulation with the same output filename, the existing results file needs to be moved or deleted first. This is also the place to specify the output frequency (in timesteps) of vtu files. The default is `dumpfreq=1` which outputs vtu files at every timestep (very useful when first setting up a problem!). Below we set `dumpfreq=5`."
   ]
  },
  {
   "cell_type": "code",
   "execution_count": null,
   "id": "754708dd",
   "metadata": {},
   "outputs": [],
   "source": [
    "output = OutputParameters(dirname=\"williamson_2\", dumpfreq=5)"
   ]
  },
  {
   "cell_type": "markdown",
   "id": "1e1ae651",
   "metadata": {},
   "source": [
    "We can specify which diagnostics to record over a simulation. The list of avaliable diagnostics can be found in the gusto source code: https://github.com/firedrakeproject/gusto/blob/main/gusto/diagnostics.py. Since this flow should be in a steady state, it is also instructive to output the steady state error fields for both $\\textbf{u}$ and $D$ as this will tell us how close the simulation is to being correct. They will not be identically zero, due to numerical discretisation error, but the errors should not grow in time and they should reduce as the mesh and timestep are refined. We pass these diagnostics into the `IO` class, which controls the input and output and stores the fields which will be updated at each timestep."
   ]
  },
  {
   "cell_type": "code",
   "execution_count": null,
   "id": "db9d61a0",
   "metadata": {},
   "outputs": [],
   "source": [
    "diagnostic_fields = [SteadyStateError('u'), SteadyStateError('D'),\n",
    "                     RelativeVorticity(), PotentialVorticity(),\n",
    "                     ShallowWaterKineticEnergy(),\n",
    "                     ShallowWaterPotentialEnergy(parameters),\n",
    "                     ShallowWaterPotentialEnstrophy(),\n",
    "                     CourantNumber()]\n",
    "\n",
    "io = IO(domain, output=output, diagnostic_fields=diagnostic_fields)"
   ]
  },
  {
   "cell_type": "markdown",
   "id": "04687319",
   "metadata": {},
   "source": [
    "Now we will choose a timestepper. One option is to use the `SemiImplicitQuasiNewton` approach. This approach splits the equation into 'transport' terms and 'forcing' terms (i.e. everything that's not transport) and solves each separately. This allows for different time-steppers to be used for transporting the velocity and depth fields. We choose to use an Implicit Midpoint method for the velocity and an explicit strong stability preserving RK3 (SSPRK3) method for the depth. Since the Courant number for a stable SSPRK3 scheme is lower than that for the Implicit Midpoint method, we do 2 subcycles of the SSPRK3 scheme per timestep, allowing us to use a longer timestep overall. A full list of avaliable time stepping methods can be found at: https://github.com/firedrakeproject/gusto/blob/main/gusto/time_discretisation.py."
   ]
  },
  {
   "cell_type": "code",
   "execution_count": null,
   "id": "b1642c8b",
   "metadata": {},
   "outputs": [],
   "source": [
    "transport_schemes = [ImplicitMidpoint(domain, \"u\"),\n",
    "                     SSPRK3(domain, \"D\", subcycles=2)]\n",
    "stepper = SemiImplicitQuasiNewton(eqns, io, transport_schemes)"
   ]
  },
  {
   "cell_type": "markdown",
   "id": "9918a45e",
   "metadata": {},
   "source": [
    "We are now ready to specify the initial conditions:\n",
    "\\begin{align}\n",
    "\\textbf{u}_0 &= \\frac{u_{max}}{R} [-y,x,0], \\\\\n",
    "D_0 &= H - \\frac{\\Omega u_{max} z^2}{g R}.\n",
    "\\end{align}\n",
    "Due to our choice of function spaces for the velocity and depth, the initialisations of each variable use projection and interpolation operations respectively. "
   ]
  },
  {
   "cell_type": "code",
   "execution_count": null,
   "id": "e61d066d",
   "metadata": {},
   "outputs": [],
   "source": [
    "u0 = stepper.fields(\"u\")\n",
    "D0 = stepper.fields(\"D\")\n",
    "day = 24*60*60\n",
    "u_max = 2*pi*R/(12*day)  # Maximum amplitude of the zonal wind (m/s)\n",
    "uexpr = as_vector([-u_max*x[1]/R, u_max*x[0]/R, 0.0])\n",
    "g = parameters.g\n",
    "Dexpr = H - ((R * Omega * u_max)*(x[2]*x[2]/(R*R)))/g\n",
    "u0.project(uexpr)\n",
    "D0.interpolate(Dexpr)"
   ]
  },
  {
   "cell_type": "markdown",
   "id": "f926bfb8",
   "metadata": {},
   "source": [
    "When using the `SemiImplicitQuasiNewton` timestepper, we also have to set up any non-zero reference profiles."
   ]
  },
  {
   "cell_type": "code",
   "execution_count": null,
   "id": "65837e71",
   "metadata": {},
   "outputs": [],
   "source": [
    "Dbar = Function(D0.function_space()).assign(H)\n",
    "stepper.set_reference_profiles([('D', Dbar)])"
   ]
  },
  {
   "cell_type": "code",
   "execution_count": null,
   "id": "46852826",
   "metadata": {},
   "outputs": [],
   "source": [
    "# Run the timestepper and generate the output.\n",
    "stepper.run(t=0, tmax=tmax)"
   ]
  },
  {
   "cell_type": "markdown",
   "id": "d2471116",
   "metadata": {},
   "source": [
    "Another option is to use a single timestepping scheme to solve the full equation set. In this case, choosing to use RK4, the setup is:"
   ]
  },
  {
   "cell_type": "code",
   "execution_count": null,
   "id": "0190cce3",
   "metadata": {},
   "outputs": [],
   "source": [
    "RK_stepper = Timestepper(eqns, RK4(domain), io)"
   ]
  },
  {
   "cell_type": "code",
   "execution_count": null,
   "id": "ead33710",
   "metadata": {},
   "outputs": [],
   "source": [
    "import matplotlib.pyplot as plt\n",
    "from matplotlib import cm\n",
    "from firedrake import trisurf"
   ]
  },
  {
   "cell_type": "code",
   "execution_count": null,
   "id": "f1108d38",
   "metadata": {},
   "outputs": [],
   "source": [
    "fig, ax = plt.subplots(subplot_kw={\"projection\": \"3d\"})\n",
    "ts=trisurf(stepper.fields('D_error'), axes=ax, cmap=cm.coolwarm)\n",
    "fig.colorbar(ts, shrink=0.5, aspect=5)\n",
    "plt.show()"
   ]
  },
  {
   "cell_type": "markdown",
   "id": "fedcc51c",
   "metadata": {},
   "source": [
    "We are ready to run our simulation! We simply instruct the time-stepper to run for the specified duration."
   ]
  },
  {
   "cell_type": "markdown",
   "id": "2b518722",
   "metadata": {},
   "source": [
    "After the simulation is completed, you should see that there is now a 'results' directory, with a sub-directory containing the output of this simulation. The output at the specified times is saved in a .vtu format that can be viewed using Paraview. There are five files, corresponding to the specified dump times (field_output_1.vtu, field_output_2.vtu, .., field_output_5.vtu), as well as one for the initial conditions (field_output_0.vtu). Paraview can be downloaded from the following link: https://www.paraview.org/.\n",
    "\n",
    "This test case should generate a steady state solution. Plotting these results in Paraview should give velocity and height fields that don't appear to change at each output time. The desired output from Gusto is visualised below."
   ]
  },
  {
   "attachments": {
    "williamson2_velocity_magnitude.jpg": {
     "image/jpeg": "[encoded data removed]"
    }
   },
   "cell_type": "markdown",
   "id": "e34eb456",
   "metadata": {},
   "source": [
    "Velocity magnitude:\n",
    "![williamson2_velocity_magnitude.jpg](attachment:williamson2_velocity_magnitude.jpg)"
   ]
  },
  {
   "attachments": {
    "williamson2_depth.jpg": {
     "image/jpeg": "[encoded data removed]"
    }
   },
   "cell_type": "markdown",
   "id": "3e523a2a",
   "metadata": {},
   "source": [
    "Depth field:\n",
    "![williamson2_depth.jpg](attachment:williamson2_depth.jpg)"
   ]
  },
  {
   "cell_type": "markdown",
   "id": "810d8199",
   "metadata": {},
   "source": [
    "Congratulations, you have now successfully run a Gusto script!"
   ]
  }
 ],
 "metadata": {
  "kernelspec": {
   "display_name": "Python 3 (ipykernel)",
   "language": "python",
   "name": "python3"
  },
  "language_info": {
   "codemirror_mode": {
    "name": "ipython",
    "version": 3
   },
   "file_extension": ".py",
   "mimetype": "text/x-python",
   "name": "python",
   "nbconvert_exporter": "python",
   "pygments_lexer": "ipython3",
   "version": "3.9.13"
  }
 },
 "nbformat": 4,
 "nbformat_minor": 5
}
