{
 "cells": [
  {
   "cell_type": "markdown",
   "id": "3ec4b5fe",
   "metadata": {},
   "source": [
    "# Notebook 1: Introduction with Shallow Water - Williamson 2 Test Case"
   ]
  },
  {
   "cell_type": "markdown",
   "id": "5371527b",
   "metadata": {},
   "source": [
    "This notebook provides an introduction to Gusto. We will demonstrate how to set up and run a shallow water model using the geostrophic balance example (test case 2) from the Williamson et al (1992) paper, which can be found at: \n",
    "https://doi.org/10.1016/S0021-9991(05)80016-6."
   ]
  },
  {
   "cell_type": "markdown",
   "id": "664c0cba",
   "metadata": {},
   "source": [
    "The shallow water equations are written in terms of the velocity, $\\textbf{u}$, and fluid depth, $D$:\n",
    "\n",
    "\\begin{align}\n",
    "\\textbf{u}_t + (\\textbf{u} \\cdot \\nabla) \\textbf{u} + f \\textbf{u}^{\\perp} + g \\nabla (D + b)  &= 0, \\\\\n",
    "D_t + \\nabla \\cdot (D \\textbf{u}) &= 0,\n",
    "\\end{align}\n",
    "\n",
    "where $f$ is the Coriolis parameter, $g$ is the gravitational acceleration, and $D = H+h-b$ is the total depth of the fluid where $H$ is the mean fluid depth, $h$ is the free surface height and $b$ is the topography. No boundary conditions are required as in this case we are solving on a spherical domain.\n",
    "\n",
    "The problem we shall set up is a zonal geostrophic flow. This is a steady-state solution of the shallow-water equations, so the true solution does not change with time."
   ]
  },
  {
   "cell_type": "markdown",
   "id": "29df76b1",
   "metadata": {},
   "source": [
    "We begin by importing the required libraries and functions from Firedrake and Gusto. This step is required when starting any Gusto script."
   ]
  },
  {
   "cell_type": "code",
   "execution_count": 1,
   "id": "9e6e1cb1-30d8-4df8-b9ff-4880b2e7d0dd",
   "metadata": {},
   "outputs": [],
   "source": [
    "%matplotlib ipympl\n",
    "\n",
    "import matplotlib.pyplot as plt\n",
    "\n",
    "plt.rcParams['figure.figsize'] = (8, 6)\n",
    "plt.rcParams['figure.dpi'] = 120"
   ]
  },
  {
   "cell_type": "code",
   "execution_count": 2,
   "id": "7779c15b",
   "metadata": {},
   "outputs": [
    {
     "name": "stderr",
     "output_type": "stream",
     "text": [
      "INFO     Running /Users/JS1075/firedrake_dec24/lib/python3.12/site-packages/ipykernel_launcher.py -f /private/var/folders/f0/llvlmlb50qg6mmlxs8m6d6d00000gp/T/tmpktfivm59.json --HistoryManager.hist_file=:memory:\n"
     ]
    }
   ],
   "source": [
    "from gusto import *\n",
    "from firedrake import IcosahedralSphereMesh, SpatialCoordinate, as_vector, pi"
   ]
  },
  {
   "cell_type": "markdown",
   "id": "33f71f3a",
   "metadata": {},
   "source": [
    "First we define the time-step size, `dt`, and duration of the simulation, `tmax`."
   ]
  },
  {
   "cell_type": "code",
   "execution_count": 3,
   "id": "f5147739",
   "metadata": {},
   "outputs": [],
   "source": [
    "dt = 900.           # timestep (in seconds)\n",
    "tmax = 20*dt        # duration of the simulation (in seconds)"
   ]
  },
  {
   "cell_type": "markdown",
   "id": "2fb1fb2d",
   "metadata": {},
   "source": [
    "Next, we will construct a mesh of our domain. We will use one of the spherical meshes provided by Firedrake: the `IcosahedralSphereMesh`. As the spherical domain we are solving over is the Earth we specify the radius as 6371220m. The refinement level, `ref_level`, specifies the number of times the base icosahedron is refined, with each refinement dividing each triangular face in to 4 triangles. The argument `degree` specifies the polynomial degree of the function space used to represent the coordinates. We store the coordinates as `xyz` using the Firedrake `SpatialCoordinate` function - we will use these later whenever we set up spatially varying fields."
   ]
  },
  {
   "cell_type": "code",
   "execution_count": 4,
   "id": "2e9c65ea",
   "metadata": {},
   "outputs": [],
   "source": [
    "# Set up the mesh and choose the refinement level\n",
    "ref_level = 3  # number of horizontal cells = 20*(4^refinements)\n",
    "R = 6371220.\n",
    "mesh = IcosahedralSphereMesh(radius=R, refinement_level=ref_level, degree=2)\n",
    "xyz = SpatialCoordinate(mesh)"
   ]
  },
  {
   "cell_type": "markdown",
   "id": "47f38446",
   "metadata": {},
   "source": [
    "Gusto will set up compatible finite element function spaces for the prognostic fields. These are uniquely defined by specifying the family (in this case `BDM`) of the HDiv space (used for the velocity $\\textbf{u}$) and the degree (in this case `1`) of the DG space (used for the fluid depth $D$). We pass these parameters, along with the mesh and the timestep, into the `Domain` object."
   ]
  },
  {
   "cell_type": "code",
   "execution_count": 5,
   "id": "cd2835ea",
   "metadata": {},
   "outputs": [],
   "source": [
    "domain = Domain(mesh, dt, family=\"BDM\", degree=1)"
   ]
  },
  {
   "cell_type": "markdown",
   "id": "48ee6e88",
   "metadata": {},
   "source": [
    "The shallow water equations contain three parameters that need to be specified: the Coriolis parameter $f=2\\Omega\\sin\\theta$ where $\\Omega$ is the rotation rate and $\\theta$ the latitude, the gravitational acceleration $g$ and the mean height of the fluid layer $H$. The `ShallowWaterParameters` class has Earth-sized values as default for both $\\Omega$ and $g$ (`Omega=7.292e-5`$rad/s$ and `g=9.80616`$m/s^2$) meaning that for this example we only need to specify $H$."
   ]
  },
  {
   "cell_type": "code",
   "execution_count": 6,
   "id": "844be5eb",
   "metadata": {},
   "outputs": [],
   "source": [
    "# setup shallow water parameters\n",
    "H = 5960.\n",
    "parameters = ShallowWaterParameters(H=H)"
   ]
  },
  {
   "cell_type": "markdown",
   "id": "2c082cfc",
   "metadata": {},
   "source": [
    "We can now set up the finite element form of the shallow water equations by passing `domain`, `parameters` and the expression for the Coriolis parameter into the `ShallowWaterEquations` class."
   ]
  },
  {
   "cell_type": "code",
   "execution_count": 7,
   "id": "8ed9914e",
   "metadata": {},
   "outputs": [],
   "source": [
    "# Create a spatially varying function for the Coriolis force:\n",
    "Omega = parameters.Omega\n",
    "fexpr = 2*Omega*xyz[2]/R\n",
    "eqns = ShallowWaterEquations(domain, parameters, fexpr=fexpr)"
   ]
  },
  {
   "cell_type": "markdown",
   "id": "da3c27bd",
   "metadata": {},
   "source": [
    "We specify output options using the `OutputParameters` class. The directory name, `dirname`, must be specified. To prevent losing hard-earned simulation data, Gusto will not allow existing files to be overwritten. Hence, if one wishes to re-run a simulation with the same output filename, the existing results file needs to be moved or deleted first. This is also the place to specify the output frequency (in timesteps) of vtu files. The default is `dumpfreq=1` which outputs vtu files at every timestep (very useful when first setting up a problem!). Below we set `dumpfreq=5`."
   ]
  },
  {
   "cell_type": "code",
   "execution_count": 8,
   "id": "754708dd",
   "metadata": {},
   "outputs": [],
   "source": [
    "output = OutputParameters(dirname=\"williamson_2\", dumpfreq=5)"
   ]
  },
  {
   "cell_type": "markdown",
   "id": "1e1ae651",
   "metadata": {},
   "source": [
    "We can specify which diagnostics to record over a simulation. The list of avaliable diagnostics can be found in the [Gusto documentation](https://www.firedrakeproject.org/gusto-docs/gusto.diagnostics.html#module-gusto.diagnostics.diagnostics). Since this flow should be in a steady state, it is also instructive to output the steady state error fields for both $\\textbf{u}$ and $D$ as this will tell us how close the simulation is to being correct. They will not be identically zero, due to numerical discretisation error, but the errors should not grow in time and they should reduce as the mesh and timestep are refined. We pass these diagnostics into the `IO` class, which controls the input and output and stores the fields which will be updated at each timestep."
   ]
  },
  {
   "cell_type": "code",
   "execution_count": 9,
   "id": "db9d61a0",
   "metadata": {},
   "outputs": [],
   "source": [
    "diagnostic_fields = [SteadyStateError('u'), SteadyStateError('D'),\n",
    "                     RelativeVorticity(), PotentialVorticity(),\n",
    "                     ShallowWaterKineticEnergy(),\n",
    "                     ShallowWaterPotentialEnergy(parameters),\n",
    "                     ShallowWaterPotentialEnstrophy(),\n",
    "                     CourantNumber()]\n",
    "\n",
    "io = IO(domain, output=output, diagnostic_fields=diagnostic_fields)"
   ]
  },
  {
   "cell_type": "markdown",
   "id": "04687319",
   "metadata": {},
   "source": [
    "Now we will set up a `SemiImplicitQuasiNewton` timestepper. This method splits the equation into terms that are treated explicitly and those that are treated semi-implicitly. Transport and forcing (i.e. the coriolis and pressure gradient) terms are treated separately. This allows for different time-steppers to be used for transporting the velocity and depth fields. We choose to use the trapezium rule for the velocity and an explicit strong stability preserving RK3 (SSPRK3) method for the depth. Since the Courant number for a stable SSPRK3 scheme is lower than that for the trapezium rule, we do 2 subcycles of the SSPRK3 scheme per timestep, allowing us to use a longer timestep overall. We apply the `DGUpwind` method to the transport terms for both fields. A full list of avaliable time stepping methods can be found in the [Gusto documentation](https://www.firedrakeproject.org/gusto-docs/gusto.time_discretisation.html#module-gusto.time_discretisation.time_discretisation)."
   ]
  },
  {
   "cell_type": "code",
   "execution_count": 10,
   "id": "b1642c8b",
   "metadata": {},
   "outputs": [
    {
     "name": "stderr",
     "output_type": "stream",
     "text": [
      "INFO     Physical parameters that take non-default values:\n"
     ]
    },
    {
     "name": "stderr",
     "output_type": "stream",
     "text": [
      "INFO     H: 5960.0\n"
     ]
    }
   ],
   "source": [
    "subcycling_options = SubcyclingOptions(fixed_subcycles=2)\n",
    "transported_fields = [TrapeziumRule(domain, \"u\"),\n",
    "                      SSPRK3(domain, \"D\", subcycling_options=subcycling_options)]\n",
    "transport_methods = [DGUpwind(eqns, \"u\"), DGUpwind(eqns, \"D\")]\n",
    "stepper = SemiImplicitQuasiNewton(eqns, io, transported_fields,\n",
    "                                  transport_methods)"
   ]
  },
  {
   "cell_type": "markdown",
   "id": "f926bfb8",
   "metadata": {},
   "source": [
    "When using the `SemiImplicitQuasiNewton` timestepper, we also have to set up any non-zero reference profiles."
   ]
  },
  {
   "cell_type": "markdown",
   "id": "9918a45e",
   "metadata": {},
   "source": [
    "We are now ready to specify the initial conditions:\n",
    "\\begin{align}\n",
    "\\textbf{u}_0 &= \\frac{u_{max}}{R} [-y,x,0], \\\\\n",
    "D_0 &= H - \\frac{\\Omega u_{max} z^2}{g R}.\n",
    "\\end{align}\n",
    "For the $D$ field we can simply interpolate the expression above; for the $\\textbf{u}$ field we will need to project because interpolation is not implemented for functions on HDiv spaces. The `SemiImplicitQuasiNewton` stepper also requires us to set any reference profiles."
   ]
  },
  {
   "cell_type": "code",
   "execution_count": 11,
   "id": "e61d066d",
   "metadata": {},
   "outputs": [],
   "source": [
    "u0 = stepper.fields(\"u\")\n",
    "D0 = stepper.fields(\"D\")\n",
    "day = 24*60*60\n",
    "u_max = 2*pi*R/(12*day)  # Maximum amplitude of the zonal wind (m/s)\n",
    "uexpr = as_vector([-u_max*xyz[1]/R, u_max*xyz[0]/R, 0.0])\n",
    "g = parameters.g\n",
    "Dexpr = H - ((R * Omega * u_max + 0.5*u_max**2)*(xyz[2]/R)**2)/g\n",
    "u0.project(uexpr)\n",
    "D0.interpolate(Dexpr)\n",
    "Dbar = Function(D0.function_space()).assign(H)\n",
    "stepper.set_reference_profiles([('D', Dbar)])"
   ]
  },
  {
   "cell_type": "markdown",
   "id": "fedcc51c",
   "metadata": {},
   "source": [
    "We are ready to run our simulation! We simply instruct the time-stepper to run for the specified duration."
   ]
  },
  {
   "cell_type": "code",
   "execution_count": 12,
   "id": "46852826",
   "metadata": {},
   "outputs": [
    {
     "name": "stderr",
     "output_type": "stream",
     "text": [
      "INFO     \n"
     ]
    },
    {
     "name": "stderr",
     "output_type": "stream",
     "text": [
      "INFO     ========================================\n"
     ]
    },
    {
     "name": "stderr",
     "output_type": "stream",
     "text": [
      "INFO     at start of timestep 1, t=0.0, dt=900.0\n"
     ]
    },
    {
     "name": "stderr",
     "output_type": "stream",
     "text": [
      "INFO     Max Courant: 1.12e-01\n"
     ]
    },
    {
     "name": "stderr",
     "output_type": "stream",
     "text": [
      "INFO     Semi-implicit Quasi Newton: Explicit forcing\n"
     ]
    },
    {
     "name": "stderr",
     "output_type": "stream",
     "text": [
      "INFO     Max Courant transporting velocity, outer iteration 0: 1.12e-01\n"
     ]
    },
    {
     "name": "stderr",
     "output_type": "stream",
     "text": [
      "INFO     Semi-implicit Quasi Newton: Transport 0: u\n"
     ]
    },
    {
     "name": "stderr",
     "output_type": "stream",
     "text": [
      "INFO     Semi-implicit Quasi Newton: Transport 0: D\n"
     ]
    },
    {
     "name": "stderr",
     "output_type": "stream",
     "text": [
      "INFO     Semi-implicit Quasi Newton: Implicit forcing (0, 0)\n"
     ]
    },
    {
     "name": "stderr",
     "output_type": "stream",
     "text": [
      "INFO     Semi-implicit Quasi Newton: Mixed solve (0, 0)\n"
     ]
    },
    {
     "name": "stderr",
     "output_type": "stream",
     "text": [
      "INFO     Semi-implicit Quasi Newton: Implicit forcing (0, 1)\n"
     ]
    },
    {
     "name": "stderr",
     "output_type": "stream",
     "text": [
      "INFO     Semi-implicit Quasi Newton: Mixed solve (0, 1)\n"
     ]
    },
    {
     "name": "stderr",
     "output_type": "stream",
     "text": [
      "INFO     Max Courant transporting velocity, outer iteration 1: 1.12e-01\n"
     ]
    },
    {
     "name": "stderr",
     "output_type": "stream",
     "text": [
      "INFO     Semi-implicit Quasi Newton: Transport 1: u\n"
     ]
    },
    {
     "name": "stderr",
     "output_type": "stream",
     "text": [
      "INFO     Semi-implicit Quasi Newton: Transport 1: D\n"
     ]
    },
    {
     "name": "stderr",
     "output_type": "stream",
     "text": [
      "INFO     Semi-implicit Quasi Newton: Implicit forcing (1, 0)\n"
     ]
    },
    {
     "name": "stderr",
     "output_type": "stream",
     "text": [
      "INFO     Semi-implicit Quasi Newton: Mixed solve (1, 0)\n"
     ]
    },
    {
     "name": "stderr",
     "output_type": "stream",
     "text": [
      "INFO     Semi-implicit Quasi Newton: Implicit forcing (1, 1)\n"
     ]
    },
    {
     "name": "stderr",
     "output_type": "stream",
     "text": [
      "INFO     Semi-implicit Quasi Newton: Mixed solve (1, 1)\n"
     ]
    },
    {
     "name": "stderr",
     "output_type": "stream",
     "text": [
      "INFO     \n"
     ]
    },
    {
     "name": "stderr",
     "output_type": "stream",
     "text": [
      "INFO     ========================================\n"
     ]
    },
    {
     "name": "stderr",
     "output_type": "stream",
     "text": [
      "INFO     at start of timestep 2, t=900.0, dt=900.0\n"
     ]
    },
    {
     "name": "stderr",
     "output_type": "stream",
     "text": [
      "INFO     Max Courant: 1.12e-01\n"
     ]
    },
    {
     "name": "stderr",
     "output_type": "stream",
     "text": [
      "INFO     Semi-implicit Quasi Newton: Explicit forcing\n"
     ]
    },
    {
     "name": "stderr",
     "output_type": "stream",
     "text": [
      "INFO     Max Courant transporting velocity, outer iteration 0: 1.12e-01\n"
     ]
    },
    {
     "name": "stderr",
     "output_type": "stream",
     "text": [
      "INFO     Semi-implicit Quasi Newton: Transport 0: u\n"
     ]
    },
    {
     "name": "stderr",
     "output_type": "stream",
     "text": [
      "INFO     Semi-implicit Quasi Newton: Transport 0: D\n"
     ]
    },
    {
     "name": "stderr",
     "output_type": "stream",
     "text": [
      "INFO     Semi-implicit Quasi Newton: Implicit forcing (0, 0)\n"
     ]
    },
    {
     "name": "stderr",
     "output_type": "stream",
     "text": [
      "INFO     Semi-implicit Quasi Newton: Mixed solve (0, 0)\n"
     ]
    },
    {
     "name": "stderr",
     "output_type": "stream",
     "text": [
      "INFO     Semi-implicit Quasi Newton: Implicit forcing (0, 1)\n"
     ]
    },
    {
     "name": "stderr",
     "output_type": "stream",
     "text": [
      "INFO     Semi-implicit Quasi Newton: Mixed solve (0, 1)\n"
     ]
    },
    {
     "name": "stderr",
     "output_type": "stream",
     "text": [
      "INFO     Max Courant transporting velocity, outer iteration 1: 1.12e-01\n"
     ]
    },
    {
     "name": "stderr",
     "output_type": "stream",
     "text": [
      "INFO     Semi-implicit Quasi Newton: Transport 1: u\n"
     ]
    },
    {
     "name": "stderr",
     "output_type": "stream",
     "text": [
      "INFO     Semi-implicit Quasi Newton: Transport 1: D\n"
     ]
    },
    {
     "name": "stderr",
     "output_type": "stream",
     "text": [
      "INFO     Semi-implicit Quasi Newton: Implicit forcing (1, 0)\n"
     ]
    },
    {
     "name": "stderr",
     "output_type": "stream",
     "text": [
      "INFO     Semi-implicit Quasi Newton: Mixed solve (1, 0)\n"
     ]
    },
    {
     "name": "stderr",
     "output_type": "stream",
     "text": [
      "INFO     Semi-implicit Quasi Newton: Implicit forcing (1, 1)\n"
     ]
    },
    {
     "name": "stderr",
     "output_type": "stream",
     "text": [
      "INFO     Semi-implicit Quasi Newton: Mixed solve (1, 1)\n"
     ]
    },
    {
     "name": "stderr",
     "output_type": "stream",
     "text": [
      "INFO     \n"
     ]
    },
    {
     "name": "stderr",
     "output_type": "stream",
     "text": [
      "INFO     ========================================\n"
     ]
    },
    {
     "name": "stderr",
     "output_type": "stream",
     "text": [
      "INFO     at start of timestep 3, t=1800.0, dt=900.0\n"
     ]
    },
    {
     "name": "stderr",
     "output_type": "stream",
     "text": [
      "INFO     Max Courant: 1.12e-01\n"
     ]
    },
    {
     "name": "stderr",
     "output_type": "stream",
     "text": [
      "INFO     Semi-implicit Quasi Newton: Explicit forcing\n"
     ]
    },
    {
     "name": "stderr",
     "output_type": "stream",
     "text": [
      "INFO     Max Courant transporting velocity, outer iteration 0: 1.12e-01\n"
     ]
    },
    {
     "name": "stderr",
     "output_type": "stream",
     "text": [
      "INFO     Semi-implicit Quasi Newton: Transport 0: u\n"
     ]
    },
    {
     "name": "stderr",
     "output_type": "stream",
     "text": [
      "INFO     Semi-implicit Quasi Newton: Transport 0: D\n"
     ]
    },
    {
     "name": "stderr",
     "output_type": "stream",
     "text": [
      "INFO     Semi-implicit Quasi Newton: Implicit forcing (0, 0)\n"
     ]
    },
    {
     "name": "stderr",
     "output_type": "stream",
     "text": [
      "INFO     Semi-implicit Quasi Newton: Mixed solve (0, 0)\n"
     ]
    },
    {
     "name": "stderr",
     "output_type": "stream",
     "text": [
      "INFO     Semi-implicit Quasi Newton: Implicit forcing (0, 1)\n"
     ]
    },
    {
     "name": "stderr",
     "output_type": "stream",
     "text": [
      "INFO     Semi-implicit Quasi Newton: Mixed solve (0, 1)\n"
     ]
    },
    {
     "name": "stderr",
     "output_type": "stream",
     "text": [
      "INFO     Max Courant transporting velocity, outer iteration 1: 1.12e-01\n"
     ]
    },
    {
     "name": "stderr",
     "output_type": "stream",
     "text": [
      "INFO     Semi-implicit Quasi Newton: Transport 1: u\n"
     ]
    },
    {
     "name": "stderr",
     "output_type": "stream",
     "text": [
      "INFO     Semi-implicit Quasi Newton: Transport 1: D\n"
     ]
    },
    {
     "name": "stderr",
     "output_type": "stream",
     "text": [
      "INFO     Semi-implicit Quasi Newton: Implicit forcing (1, 0)\n"
     ]
    },
    {
     "name": "stderr",
     "output_type": "stream",
     "text": [
      "INFO     Semi-implicit Quasi Newton: Mixed solve (1, 0)\n"
     ]
    },
    {
     "name": "stderr",
     "output_type": "stream",
     "text": [
      "INFO     Semi-implicit Quasi Newton: Implicit forcing (1, 1)\n"
     ]
    },
    {
     "name": "stderr",
     "output_type": "stream",
     "text": [
      "INFO     Semi-implicit Quasi Newton: Mixed solve (1, 1)\n"
     ]
    },
    {
     "name": "stderr",
     "output_type": "stream",
     "text": [
      "INFO     \n"
     ]
    },
    {
     "name": "stderr",
     "output_type": "stream",
     "text": [
      "INFO     ========================================\n"
     ]
    },
    {
     "name": "stderr",
     "output_type": "stream",
     "text": [
      "INFO     at start of timestep 4, t=2700.0, dt=900.0\n"
     ]
    },
    {
     "name": "stderr",
     "output_type": "stream",
     "text": [
      "INFO     Max Courant: 1.12e-01\n"
     ]
    },
    {
     "name": "stderr",
     "output_type": "stream",
     "text": [
      "INFO     Semi-implicit Quasi Newton: Explicit forcing\n"
     ]
    },
    {
     "name": "stderr",
     "output_type": "stream",
     "text": [
      "INFO     Max Courant transporting velocity, outer iteration 0: 1.12e-01\n"
     ]
    },
    {
     "name": "stderr",
     "output_type": "stream",
     "text": [
      "INFO     Semi-implicit Quasi Newton: Transport 0: u\n"
     ]
    },
    {
     "name": "stderr",
     "output_type": "stream",
     "text": [
      "INFO     Semi-implicit Quasi Newton: Transport 0: D\n"
     ]
    },
    {
     "name": "stderr",
     "output_type": "stream",
     "text": [
      "INFO     Semi-implicit Quasi Newton: Implicit forcing (0, 0)\n"
     ]
    },
    {
     "name": "stderr",
     "output_type": "stream",
     "text": [
      "INFO     Semi-implicit Quasi Newton: Mixed solve (0, 0)\n"
     ]
    },
    {
     "name": "stderr",
     "output_type": "stream",
     "text": [
      "INFO     Semi-implicit Quasi Newton: Implicit forcing (0, 1)\n"
     ]
    },
    {
     "name": "stderr",
     "output_type": "stream",
     "text": [
      "INFO     Semi-implicit Quasi Newton: Mixed solve (0, 1)\n"
     ]
    },
    {
     "name": "stderr",
     "output_type": "stream",
     "text": [
      "INFO     Max Courant transporting velocity, outer iteration 1: 1.12e-01\n"
     ]
    },
    {
     "name": "stderr",
     "output_type": "stream",
     "text": [
      "INFO     Semi-implicit Quasi Newton: Transport 1: u\n"
     ]
    },
    {
     "name": "stderr",
     "output_type": "stream",
     "text": [
      "INFO     Semi-implicit Quasi Newton: Transport 1: D\n"
     ]
    },
    {
     "name": "stderr",
     "output_type": "stream",
     "text": [
      "INFO     Semi-implicit Quasi Newton: Implicit forcing (1, 0)\n"
     ]
    },
    {
     "name": "stderr",
     "output_type": "stream",
     "text": [
      "INFO     Semi-implicit Quasi Newton: Mixed solve (1, 0)\n"
     ]
    },
    {
     "name": "stderr",
     "output_type": "stream",
     "text": [
      "INFO     Semi-implicit Quasi Newton: Implicit forcing (1, 1)\n"
     ]
    },
    {
     "name": "stderr",
     "output_type": "stream",
     "text": [
      "INFO     Semi-implicit Quasi Newton: Mixed solve (1, 1)\n"
     ]
    },
    {
     "name": "stderr",
     "output_type": "stream",
     "text": [
      "INFO     \n"
     ]
    },
    {
     "name": "stderr",
     "output_type": "stream",
     "text": [
      "INFO     ========================================\n"
     ]
    },
    {
     "name": "stderr",
     "output_type": "stream",
     "text": [
      "INFO     at start of timestep 5, t=3600.0, dt=900.0\n"
     ]
    },
    {
     "name": "stderr",
     "output_type": "stream",
     "text": [
      "INFO     Max Courant: 1.12e-01\n"
     ]
    },
    {
     "name": "stderr",
     "output_type": "stream",
     "text": [
      "INFO     Semi-implicit Quasi Newton: Explicit forcing\n"
     ]
    },
    {
     "name": "stderr",
     "output_type": "stream",
     "text": [
      "INFO     Max Courant transporting velocity, outer iteration 0: 1.12e-01\n"
     ]
    },
    {
     "name": "stderr",
     "output_type": "stream",
     "text": [
      "INFO     Semi-implicit Quasi Newton: Transport 0: u\n"
     ]
    },
    {
     "name": "stderr",
     "output_type": "stream",
     "text": [
      "INFO     Semi-implicit Quasi Newton: Transport 0: D\n"
     ]
    },
    {
     "name": "stderr",
     "output_type": "stream",
     "text": [
      "INFO     Semi-implicit Quasi Newton: Implicit forcing (0, 0)\n"
     ]
    },
    {
     "name": "stderr",
     "output_type": "stream",
     "text": [
      "INFO     Semi-implicit Quasi Newton: Mixed solve (0, 0)\n"
     ]
    },
    {
     "name": "stderr",
     "output_type": "stream",
     "text": [
      "INFO     Semi-implicit Quasi Newton: Implicit forcing (0, 1)\n"
     ]
    },
    {
     "name": "stderr",
     "output_type": "stream",
     "text": [
      "INFO     Semi-implicit Quasi Newton: Mixed solve (0, 1)\n"
     ]
    },
    {
     "name": "stderr",
     "output_type": "stream",
     "text": [
      "INFO     Max Courant transporting velocity, outer iteration 1: 1.12e-01\n"
     ]
    },
    {
     "name": "stderr",
     "output_type": "stream",
     "text": [
      "INFO     Semi-implicit Quasi Newton: Transport 1: u\n"
     ]
    },
    {
     "name": "stderr",
     "output_type": "stream",
     "text": [
      "INFO     Semi-implicit Quasi Newton: Transport 1: D\n"
     ]
    },
    {
     "name": "stderr",
     "output_type": "stream",
     "text": [
      "INFO     Semi-implicit Quasi Newton: Implicit forcing (1, 0)\n"
     ]
    },
    {
     "name": "stderr",
     "output_type": "stream",
     "text": [
      "INFO     Semi-implicit Quasi Newton: Mixed solve (1, 0)\n"
     ]
    },
    {
     "name": "stderr",
     "output_type": "stream",
     "text": [
      "INFO     Semi-implicit Quasi Newton: Implicit forcing (1, 1)\n"
     ]
    },
    {
     "name": "stderr",
     "output_type": "stream",
     "text": [
      "INFO     Semi-implicit Quasi Newton: Mixed solve (1, 1)\n"
     ]
    },
    {
     "name": "stderr",
     "output_type": "stream",
     "text": [
      "INFO     \n"
     ]
    },
    {
     "name": "stderr",
     "output_type": "stream",
     "text": [
      "INFO     ========================================\n"
     ]
    },
    {
     "name": "stderr",
     "output_type": "stream",
     "text": [
      "INFO     at start of timestep 6, t=4500.0, dt=900.0\n"
     ]
    },
    {
     "name": "stderr",
     "output_type": "stream",
     "text": [
      "INFO     Max Courant: 1.12e-01\n"
     ]
    },
    {
     "name": "stderr",
     "output_type": "stream",
     "text": [
      "INFO     Semi-implicit Quasi Newton: Explicit forcing\n"
     ]
    },
    {
     "name": "stderr",
     "output_type": "stream",
     "text": [
      "INFO     Max Courant transporting velocity, outer iteration 0: 1.12e-01\n"
     ]
    },
    {
     "name": "stderr",
     "output_type": "stream",
     "text": [
      "INFO     Semi-implicit Quasi Newton: Transport 0: u\n"
     ]
    },
    {
     "name": "stderr",
     "output_type": "stream",
     "text": [
      "INFO     Semi-implicit Quasi Newton: Transport 0: D\n"
     ]
    },
    {
     "name": "stderr",
     "output_type": "stream",
     "text": [
      "INFO     Semi-implicit Quasi Newton: Implicit forcing (0, 0)\n"
     ]
    },
    {
     "name": "stderr",
     "output_type": "stream",
     "text": [
      "INFO     Semi-implicit Quasi Newton: Mixed solve (0, 0)\n"
     ]
    },
    {
     "name": "stderr",
     "output_type": "stream",
     "text": [
      "INFO     Semi-implicit Quasi Newton: Implicit forcing (0, 1)\n"
     ]
    },
    {
     "name": "stderr",
     "output_type": "stream",
     "text": [
      "INFO     Semi-implicit Quasi Newton: Mixed solve (0, 1)\n"
     ]
    },
    {
     "name": "stderr",
     "output_type": "stream",
     "text": [
      "INFO     Max Courant transporting velocity, outer iteration 1: 1.12e-01\n"
     ]
    },
    {
     "name": "stderr",
     "output_type": "stream",
     "text": [
      "INFO     Semi-implicit Quasi Newton: Transport 1: u\n"
     ]
    },
    {
     "name": "stderr",
     "output_type": "stream",
     "text": [
      "INFO     Semi-implicit Quasi Newton: Transport 1: D\n"
     ]
    },
    {
     "name": "stderr",
     "output_type": "stream",
     "text": [
      "INFO     Semi-implicit Quasi Newton: Implicit forcing (1, 0)\n"
     ]
    },
    {
     "name": "stderr",
     "output_type": "stream",
     "text": [
      "INFO     Semi-implicit Quasi Newton: Mixed solve (1, 0)\n"
     ]
    },
    {
     "name": "stderr",
     "output_type": "stream",
     "text": [
      "INFO     Semi-implicit Quasi Newton: Implicit forcing (1, 1)\n"
     ]
    },
    {
     "name": "stderr",
     "output_type": "stream",
     "text": [
      "INFO     Semi-implicit Quasi Newton: Mixed solve (1, 1)\n"
     ]
    },
    {
     "name": "stderr",
     "output_type": "stream",
     "text": [
      "INFO     \n"
     ]
    },
    {
     "name": "stderr",
     "output_type": "stream",
     "text": [
      "INFO     ========================================\n"
     ]
    },
    {
     "name": "stderr",
     "output_type": "stream",
     "text": [
      "INFO     at start of timestep 7, t=5400.0, dt=900.0\n"
     ]
    },
    {
     "name": "stderr",
     "output_type": "stream",
     "text": [
      "INFO     Max Courant: 1.12e-01\n"
     ]
    },
    {
     "name": "stderr",
     "output_type": "stream",
     "text": [
      "INFO     Semi-implicit Quasi Newton: Explicit forcing\n"
     ]
    },
    {
     "name": "stderr",
     "output_type": "stream",
     "text": [
      "INFO     Max Courant transporting velocity, outer iteration 0: 1.12e-01\n"
     ]
    },
    {
     "name": "stderr",
     "output_type": "stream",
     "text": [
      "INFO     Semi-implicit Quasi Newton: Transport 0: u\n"
     ]
    },
    {
     "name": "stderr",
     "output_type": "stream",
     "text": [
      "INFO     Semi-implicit Quasi Newton: Transport 0: D\n"
     ]
    },
    {
     "name": "stderr",
     "output_type": "stream",
     "text": [
      "INFO     Semi-implicit Quasi Newton: Implicit forcing (0, 0)\n"
     ]
    },
    {
     "name": "stderr",
     "output_type": "stream",
     "text": [
      "INFO     Semi-implicit Quasi Newton: Mixed solve (0, 0)\n"
     ]
    },
    {
     "name": "stderr",
     "output_type": "stream",
     "text": [
      "INFO     Semi-implicit Quasi Newton: Implicit forcing (0, 1)\n"
     ]
    },
    {
     "name": "stderr",
     "output_type": "stream",
     "text": [
      "INFO     Semi-implicit Quasi Newton: Mixed solve (0, 1)\n"
     ]
    },
    {
     "name": "stderr",
     "output_type": "stream",
     "text": [
      "INFO     Max Courant transporting velocity, outer iteration 1: 1.12e-01\n"
     ]
    },
    {
     "name": "stderr",
     "output_type": "stream",
     "text": [
      "INFO     Semi-implicit Quasi Newton: Transport 1: u\n"
     ]
    },
    {
     "name": "stderr",
     "output_type": "stream",
     "text": [
      "INFO     Semi-implicit Quasi Newton: Transport 1: D\n"
     ]
    },
    {
     "name": "stderr",
     "output_type": "stream",
     "text": [
      "INFO     Semi-implicit Quasi Newton: Implicit forcing (1, 0)\n"
     ]
    },
    {
     "name": "stderr",
     "output_type": "stream",
     "text": [
      "INFO     Semi-implicit Quasi Newton: Mixed solve (1, 0)\n"
     ]
    },
    {
     "name": "stderr",
     "output_type": "stream",
     "text": [
      "INFO     Semi-implicit Quasi Newton: Implicit forcing (1, 1)\n"
     ]
    },
    {
     "name": "stderr",
     "output_type": "stream",
     "text": [
      "INFO     Semi-implicit Quasi Newton: Mixed solve (1, 1)\n"
     ]
    },
    {
     "name": "stderr",
     "output_type": "stream",
     "text": [
      "INFO     \n"
     ]
    },
    {
     "name": "stderr",
     "output_type": "stream",
     "text": [
      "INFO     ========================================\n"
     ]
    },
    {
     "name": "stderr",
     "output_type": "stream",
     "text": [
      "INFO     at start of timestep 8, t=6300.0, dt=900.0\n"
     ]
    },
    {
     "name": "stderr",
     "output_type": "stream",
     "text": [
      "INFO     Max Courant: 1.12e-01\n"
     ]
    },
    {
     "name": "stderr",
     "output_type": "stream",
     "text": [
      "INFO     Semi-implicit Quasi Newton: Explicit forcing\n"
     ]
    },
    {
     "name": "stderr",
     "output_type": "stream",
     "text": [
      "INFO     Max Courant transporting velocity, outer iteration 0: 1.12e-01\n"
     ]
    },
    {
     "name": "stderr",
     "output_type": "stream",
     "text": [
      "INFO     Semi-implicit Quasi Newton: Transport 0: u\n"
     ]
    },
    {
     "name": "stderr",
     "output_type": "stream",
     "text": [
      "INFO     Semi-implicit Quasi Newton: Transport 0: D\n"
     ]
    },
    {
     "name": "stderr",
     "output_type": "stream",
     "text": [
      "INFO     Semi-implicit Quasi Newton: Implicit forcing (0, 0)\n"
     ]
    },
    {
     "name": "stderr",
     "output_type": "stream",
     "text": [
      "INFO     Semi-implicit Quasi Newton: Mixed solve (0, 0)\n"
     ]
    },
    {
     "name": "stderr",
     "output_type": "stream",
     "text": [
      "INFO     Semi-implicit Quasi Newton: Implicit forcing (0, 1)\n"
     ]
    },
    {
     "name": "stderr",
     "output_type": "stream",
     "text": [
      "INFO     Semi-implicit Quasi Newton: Mixed solve (0, 1)\n"
     ]
    },
    {
     "name": "stderr",
     "output_type": "stream",
     "text": [
      "INFO     Max Courant transporting velocity, outer iteration 1: 1.12e-01\n"
     ]
    },
    {
     "name": "stderr",
     "output_type": "stream",
     "text": [
      "INFO     Semi-implicit Quasi Newton: Transport 1: u\n"
     ]
    },
    {
     "name": "stderr",
     "output_type": "stream",
     "text": [
      "INFO     Semi-implicit Quasi Newton: Transport 1: D\n"
     ]
    },
    {
     "name": "stderr",
     "output_type": "stream",
     "text": [
      "INFO     Semi-implicit Quasi Newton: Implicit forcing (1, 0)\n"
     ]
    },
    {
     "name": "stderr",
     "output_type": "stream",
     "text": [
      "INFO     Semi-implicit Quasi Newton: Mixed solve (1, 0)\n"
     ]
    },
    {
     "name": "stderr",
     "output_type": "stream",
     "text": [
      "INFO     Semi-implicit Quasi Newton: Implicit forcing (1, 1)\n"
     ]
    },
    {
     "name": "stderr",
     "output_type": "stream",
     "text": [
      "INFO     Semi-implicit Quasi Newton: Mixed solve (1, 1)\n"
     ]
    },
    {
     "name": "stderr",
     "output_type": "stream",
     "text": [
      "INFO     \n"
     ]
    },
    {
     "name": "stderr",
     "output_type": "stream",
     "text": [
      "INFO     ========================================\n"
     ]
    },
    {
     "name": "stderr",
     "output_type": "stream",
     "text": [
      "INFO     at start of timestep 9, t=7200.0, dt=900.0\n"
     ]
    },
    {
     "name": "stderr",
     "output_type": "stream",
     "text": [
      "INFO     Max Courant: 1.12e-01\n"
     ]
    },
    {
     "name": "stderr",
     "output_type": "stream",
     "text": [
      "INFO     Semi-implicit Quasi Newton: Explicit forcing\n"
     ]
    },
    {
     "name": "stderr",
     "output_type": "stream",
     "text": [
      "INFO     Max Courant transporting velocity, outer iteration 0: 1.12e-01\n"
     ]
    },
    {
     "name": "stderr",
     "output_type": "stream",
     "text": [
      "INFO     Semi-implicit Quasi Newton: Transport 0: u\n"
     ]
    },
    {
     "name": "stderr",
     "output_type": "stream",
     "text": [
      "INFO     Semi-implicit Quasi Newton: Transport 0: D\n"
     ]
    },
    {
     "name": "stderr",
     "output_type": "stream",
     "text": [
      "INFO     Semi-implicit Quasi Newton: Implicit forcing (0, 0)\n"
     ]
    },
    {
     "name": "stderr",
     "output_type": "stream",
     "text": [
      "INFO     Semi-implicit Quasi Newton: Mixed solve (0, 0)\n"
     ]
    },
    {
     "name": "stderr",
     "output_type": "stream",
     "text": [
      "INFO     Semi-implicit Quasi Newton: Implicit forcing (0, 1)\n"
     ]
    },
    {
     "name": "stderr",
     "output_type": "stream",
     "text": [
      "INFO     Semi-implicit Quasi Newton: Mixed solve (0, 1)\n"
     ]
    },
    {
     "name": "stderr",
     "output_type": "stream",
     "text": [
      "INFO     Max Courant transporting velocity, outer iteration 1: 1.12e-01\n"
     ]
    },
    {
     "name": "stderr",
     "output_type": "stream",
     "text": [
      "INFO     Semi-implicit Quasi Newton: Transport 1: u\n"
     ]
    },
    {
     "name": "stderr",
     "output_type": "stream",
     "text": [
      "INFO     Semi-implicit Quasi Newton: Transport 1: D\n"
     ]
    },
    {
     "name": "stderr",
     "output_type": "stream",
     "text": [
      "INFO     Semi-implicit Quasi Newton: Implicit forcing (1, 0)\n"
     ]
    },
    {
     "name": "stderr",
     "output_type": "stream",
     "text": [
      "INFO     Semi-implicit Quasi Newton: Mixed solve (1, 0)\n"
     ]
    },
    {
     "name": "stderr",
     "output_type": "stream",
     "text": [
      "INFO     Semi-implicit Quasi Newton: Implicit forcing (1, 1)\n"
     ]
    },
    {
     "name": "stderr",
     "output_type": "stream",
     "text": [
      "INFO     Semi-implicit Quasi Newton: Mixed solve (1, 1)\n"
     ]
    },
    {
     "name": "stderr",
     "output_type": "stream",
     "text": [
      "INFO     \n"
     ]
    },
    {
     "name": "stderr",
     "output_type": "stream",
     "text": [
      "INFO     ========================================\n"
     ]
    },
    {
     "name": "stderr",
     "output_type": "stream",
     "text": [
      "INFO     at start of timestep 10, t=8100.0, dt=900.0\n"
     ]
    },
    {
     "name": "stderr",
     "output_type": "stream",
     "text": [
      "INFO     Max Courant: 1.12e-01\n"
     ]
    },
    {
     "name": "stderr",
     "output_type": "stream",
     "text": [
      "INFO     Semi-implicit Quasi Newton: Explicit forcing\n"
     ]
    },
    {
     "name": "stderr",
     "output_type": "stream",
     "text": [
      "INFO     Max Courant transporting velocity, outer iteration 0: 1.12e-01\n"
     ]
    },
    {
     "name": "stderr",
     "output_type": "stream",
     "text": [
      "INFO     Semi-implicit Quasi Newton: Transport 0: u\n"
     ]
    },
    {
     "name": "stderr",
     "output_type": "stream",
     "text": [
      "INFO     Semi-implicit Quasi Newton: Transport 0: D\n"
     ]
    },
    {
     "name": "stderr",
     "output_type": "stream",
     "text": [
      "INFO     Semi-implicit Quasi Newton: Implicit forcing (0, 0)\n"
     ]
    },
    {
     "name": "stderr",
     "output_type": "stream",
     "text": [
      "INFO     Semi-implicit Quasi Newton: Mixed solve (0, 0)\n"
     ]
    },
    {
     "name": "stderr",
     "output_type": "stream",
     "text": [
      "INFO     Semi-implicit Quasi Newton: Implicit forcing (0, 1)\n"
     ]
    },
    {
     "name": "stderr",
     "output_type": "stream",
     "text": [
      "INFO     Semi-implicit Quasi Newton: Mixed solve (0, 1)\n"
     ]
    },
    {
     "name": "stderr",
     "output_type": "stream",
     "text": [
      "INFO     Max Courant transporting velocity, outer iteration 1: 1.12e-01\n"
     ]
    },
    {
     "name": "stderr",
     "output_type": "stream",
     "text": [
      "INFO     Semi-implicit Quasi Newton: Transport 1: u\n"
     ]
    },
    {
     "name": "stderr",
     "output_type": "stream",
     "text": [
      "INFO     Semi-implicit Quasi Newton: Transport 1: D\n"
     ]
    },
    {
     "name": "stderr",
     "output_type": "stream",
     "text": [
      "INFO     Semi-implicit Quasi Newton: Implicit forcing (1, 0)\n"
     ]
    },
    {
     "name": "stderr",
     "output_type": "stream",
     "text": [
      "INFO     Semi-implicit Quasi Newton: Mixed solve (1, 0)\n"
     ]
    },
    {
     "name": "stderr",
     "output_type": "stream",
     "text": [
      "INFO     Semi-implicit Quasi Newton: Implicit forcing (1, 1)\n"
     ]
    },
    {
     "name": "stderr",
     "output_type": "stream",
     "text": [
      "INFO     Semi-implicit Quasi Newton: Mixed solve (1, 1)\n"
     ]
    },
    {
     "name": "stderr",
     "output_type": "stream",
     "text": [
      "INFO     \n"
     ]
    },
    {
     "name": "stderr",
     "output_type": "stream",
     "text": [
      "INFO     ========================================\n"
     ]
    },
    {
     "name": "stderr",
     "output_type": "stream",
     "text": [
      "INFO     at start of timestep 11, t=9000.0, dt=900.0\n"
     ]
    },
    {
     "name": "stderr",
     "output_type": "stream",
     "text": [
      "INFO     Max Courant: 1.12e-01\n"
     ]
    },
    {
     "name": "stderr",
     "output_type": "stream",
     "text": [
      "INFO     Semi-implicit Quasi Newton: Explicit forcing\n"
     ]
    },
    {
     "name": "stderr",
     "output_type": "stream",
     "text": [
      "INFO     Max Courant transporting velocity, outer iteration 0: 1.12e-01\n"
     ]
    },
    {
     "name": "stderr",
     "output_type": "stream",
     "text": [
      "INFO     Semi-implicit Quasi Newton: Transport 0: u\n"
     ]
    },
    {
     "name": "stderr",
     "output_type": "stream",
     "text": [
      "INFO     Semi-implicit Quasi Newton: Transport 0: D\n"
     ]
    },
    {
     "name": "stderr",
     "output_type": "stream",
     "text": [
      "INFO     Semi-implicit Quasi Newton: Implicit forcing (0, 0)\n"
     ]
    },
    {
     "name": "stderr",
     "output_type": "stream",
     "text": [
      "INFO     Semi-implicit Quasi Newton: Mixed solve (0, 0)\n"
     ]
    },
    {
     "name": "stderr",
     "output_type": "stream",
     "text": [
      "INFO     Semi-implicit Quasi Newton: Implicit forcing (0, 1)\n"
     ]
    },
    {
     "name": "stderr",
     "output_type": "stream",
     "text": [
      "INFO     Semi-implicit Quasi Newton: Mixed solve (0, 1)\n"
     ]
    },
    {
     "name": "stderr",
     "output_type": "stream",
     "text": [
      "INFO     Max Courant transporting velocity, outer iteration 1: 1.12e-01\n"
     ]
    },
    {
     "name": "stderr",
     "output_type": "stream",
     "text": [
      "INFO     Semi-implicit Quasi Newton: Transport 1: u\n"
     ]
    },
    {
     "name": "stderr",
     "output_type": "stream",
     "text": [
      "INFO     Semi-implicit Quasi Newton: Transport 1: D\n"
     ]
    },
    {
     "name": "stderr",
     "output_type": "stream",
     "text": [
      "INFO     Semi-implicit Quasi Newton: Implicit forcing (1, 0)\n"
     ]
    },
    {
     "name": "stderr",
     "output_type": "stream",
     "text": [
      "INFO     Semi-implicit Quasi Newton: Mixed solve (1, 0)\n"
     ]
    },
    {
     "name": "stderr",
     "output_type": "stream",
     "text": [
      "INFO     Semi-implicit Quasi Newton: Implicit forcing (1, 1)\n"
     ]
    },
    {
     "name": "stderr",
     "output_type": "stream",
     "text": [
      "INFO     Semi-implicit Quasi Newton: Mixed solve (1, 1)\n"
     ]
    },
    {
     "name": "stderr",
     "output_type": "stream",
     "text": [
      "INFO     \n"
     ]
    },
    {
     "name": "stderr",
     "output_type": "stream",
     "text": [
      "INFO     ========================================\n"
     ]
    },
    {
     "name": "stderr",
     "output_type": "stream",
     "text": [
      "INFO     at start of timestep 12, t=9900.0, dt=900.0\n"
     ]
    },
    {
     "name": "stderr",
     "output_type": "stream",
     "text": [
      "INFO     Max Courant: 1.12e-01\n"
     ]
    },
    {
     "name": "stderr",
     "output_type": "stream",
     "text": [
      "INFO     Semi-implicit Quasi Newton: Explicit forcing\n"
     ]
    },
    {
     "name": "stderr",
     "output_type": "stream",
     "text": [
      "INFO     Max Courant transporting velocity, outer iteration 0: 1.12e-01\n"
     ]
    },
    {
     "name": "stderr",
     "output_type": "stream",
     "text": [
      "INFO     Semi-implicit Quasi Newton: Transport 0: u\n"
     ]
    },
    {
     "name": "stderr",
     "output_type": "stream",
     "text": [
      "INFO     Semi-implicit Quasi Newton: Transport 0: D\n"
     ]
    },
    {
     "name": "stderr",
     "output_type": "stream",
     "text": [
      "INFO     Semi-implicit Quasi Newton: Implicit forcing (0, 0)\n"
     ]
    },
    {
     "name": "stderr",
     "output_type": "stream",
     "text": [
      "INFO     Semi-implicit Quasi Newton: Mixed solve (0, 0)\n"
     ]
    },
    {
     "name": "stderr",
     "output_type": "stream",
     "text": [
      "INFO     Semi-implicit Quasi Newton: Implicit forcing (0, 1)\n"
     ]
    },
    {
     "name": "stderr",
     "output_type": "stream",
     "text": [
      "INFO     Semi-implicit Quasi Newton: Mixed solve (0, 1)\n"
     ]
    },
    {
     "name": "stderr",
     "output_type": "stream",
     "text": [
      "INFO     Max Courant transporting velocity, outer iteration 1: 1.12e-01\n"
     ]
    },
    {
     "name": "stderr",
     "output_type": "stream",
     "text": [
      "INFO     Semi-implicit Quasi Newton: Transport 1: u\n"
     ]
    },
    {
     "name": "stderr",
     "output_type": "stream",
     "text": [
      "INFO     Semi-implicit Quasi Newton: Transport 1: D\n"
     ]
    },
    {
     "name": "stderr",
     "output_type": "stream",
     "text": [
      "INFO     Semi-implicit Quasi Newton: Implicit forcing (1, 0)\n"
     ]
    },
    {
     "name": "stderr",
     "output_type": "stream",
     "text": [
      "INFO     Semi-implicit Quasi Newton: Mixed solve (1, 0)\n"
     ]
    },
    {
     "name": "stderr",
     "output_type": "stream",
     "text": [
      "INFO     Semi-implicit Quasi Newton: Implicit forcing (1, 1)\n"
     ]
    },
    {
     "name": "stderr",
     "output_type": "stream",
     "text": [
      "INFO     Semi-implicit Quasi Newton: Mixed solve (1, 1)\n"
     ]
    },
    {
     "name": "stderr",
     "output_type": "stream",
     "text": [
      "INFO     \n"
     ]
    },
    {
     "name": "stderr",
     "output_type": "stream",
     "text": [
      "INFO     ========================================\n"
     ]
    },
    {
     "name": "stderr",
     "output_type": "stream",
     "text": [
      "INFO     at start of timestep 13, t=10800.0, dt=900.0\n"
     ]
    },
    {
     "name": "stderr",
     "output_type": "stream",
     "text": [
      "INFO     Max Courant: 1.12e-01\n"
     ]
    },
    {
     "name": "stderr",
     "output_type": "stream",
     "text": [
      "INFO     Semi-implicit Quasi Newton: Explicit forcing\n"
     ]
    },
    {
     "name": "stderr",
     "output_type": "stream",
     "text": [
      "INFO     Max Courant transporting velocity, outer iteration 0: 1.12e-01\n"
     ]
    },
    {
     "name": "stderr",
     "output_type": "stream",
     "text": [
      "INFO     Semi-implicit Quasi Newton: Transport 0: u\n"
     ]
    },
    {
     "name": "stderr",
     "output_type": "stream",
     "text": [
      "INFO     Semi-implicit Quasi Newton: Transport 0: D\n"
     ]
    },
    {
     "name": "stderr",
     "output_type": "stream",
     "text": [
      "INFO     Semi-implicit Quasi Newton: Implicit forcing (0, 0)\n"
     ]
    },
    {
     "name": "stderr",
     "output_type": "stream",
     "text": [
      "INFO     Semi-implicit Quasi Newton: Mixed solve (0, 0)\n"
     ]
    },
    {
     "name": "stderr",
     "output_type": "stream",
     "text": [
      "INFO     Semi-implicit Quasi Newton: Implicit forcing (0, 1)\n"
     ]
    },
    {
     "name": "stderr",
     "output_type": "stream",
     "text": [
      "INFO     Semi-implicit Quasi Newton: Mixed solve (0, 1)\n"
     ]
    },
    {
     "name": "stderr",
     "output_type": "stream",
     "text": [
      "INFO     Max Courant transporting velocity, outer iteration 1: 1.12e-01\n"
     ]
    },
    {
     "name": "stderr",
     "output_type": "stream",
     "text": [
      "INFO     Semi-implicit Quasi Newton: Transport 1: u\n"
     ]
    },
    {
     "name": "stderr",
     "output_type": "stream",
     "text": [
      "INFO     Semi-implicit Quasi Newton: Transport 1: D\n"
     ]
    },
    {
     "name": "stderr",
     "output_type": "stream",
     "text": [
      "INFO     Semi-implicit Quasi Newton: Implicit forcing (1, 0)\n"
     ]
    },
    {
     "name": "stderr",
     "output_type": "stream",
     "text": [
      "INFO     Semi-implicit Quasi Newton: Mixed solve (1, 0)\n"
     ]
    },
    {
     "name": "stderr",
     "output_type": "stream",
     "text": [
      "INFO     Semi-implicit Quasi Newton: Implicit forcing (1, 1)\n"
     ]
    },
    {
     "name": "stderr",
     "output_type": "stream",
     "text": [
      "INFO     Semi-implicit Quasi Newton: Mixed solve (1, 1)\n"
     ]
    },
    {
     "name": "stderr",
     "output_type": "stream",
     "text": [
      "INFO     \n"
     ]
    },
    {
     "name": "stderr",
     "output_type": "stream",
     "text": [
      "INFO     ========================================\n"
     ]
    },
    {
     "name": "stderr",
     "output_type": "stream",
     "text": [
      "INFO     at start of timestep 14, t=11700.0, dt=900.0\n"
     ]
    },
    {
     "name": "stderr",
     "output_type": "stream",
     "text": [
      "INFO     Max Courant: 1.12e-01\n"
     ]
    },
    {
     "name": "stderr",
     "output_type": "stream",
     "text": [
      "INFO     Semi-implicit Quasi Newton: Explicit forcing\n"
     ]
    },
    {
     "name": "stderr",
     "output_type": "stream",
     "text": [
      "INFO     Max Courant transporting velocity, outer iteration 0: 1.12e-01\n"
     ]
    },
    {
     "name": "stderr",
     "output_type": "stream",
     "text": [
      "INFO     Semi-implicit Quasi Newton: Transport 0: u\n"
     ]
    },
    {
     "name": "stderr",
     "output_type": "stream",
     "text": [
      "INFO     Semi-implicit Quasi Newton: Transport 0: D\n"
     ]
    },
    {
     "name": "stderr",
     "output_type": "stream",
     "text": [
      "INFO     Semi-implicit Quasi Newton: Implicit forcing (0, 0)\n"
     ]
    },
    {
     "name": "stderr",
     "output_type": "stream",
     "text": [
      "INFO     Semi-implicit Quasi Newton: Mixed solve (0, 0)\n"
     ]
    },
    {
     "name": "stderr",
     "output_type": "stream",
     "text": [
      "INFO     Semi-implicit Quasi Newton: Implicit forcing (0, 1)\n"
     ]
    },
    {
     "name": "stderr",
     "output_type": "stream",
     "text": [
      "INFO     Semi-implicit Quasi Newton: Mixed solve (0, 1)\n"
     ]
    },
    {
     "name": "stderr",
     "output_type": "stream",
     "text": [
      "INFO     Max Courant transporting velocity, outer iteration 1: 1.12e-01\n"
     ]
    },
    {
     "name": "stderr",
     "output_type": "stream",
     "text": [
      "INFO     Semi-implicit Quasi Newton: Transport 1: u\n"
     ]
    },
    {
     "name": "stderr",
     "output_type": "stream",
     "text": [
      "INFO     Semi-implicit Quasi Newton: Transport 1: D\n"
     ]
    },
    {
     "name": "stderr",
     "output_type": "stream",
     "text": [
      "INFO     Semi-implicit Quasi Newton: Implicit forcing (1, 0)\n"
     ]
    },
    {
     "name": "stderr",
     "output_type": "stream",
     "text": [
      "INFO     Semi-implicit Quasi Newton: Mixed solve (1, 0)\n"
     ]
    },
    {
     "name": "stderr",
     "output_type": "stream",
     "text": [
      "INFO     Semi-implicit Quasi Newton: Implicit forcing (1, 1)\n"
     ]
    },
    {
     "name": "stderr",
     "output_type": "stream",
     "text": [
      "INFO     Semi-implicit Quasi Newton: Mixed solve (1, 1)\n"
     ]
    },
    {
     "name": "stderr",
     "output_type": "stream",
     "text": [
      "INFO     \n"
     ]
    },
    {
     "name": "stderr",
     "output_type": "stream",
     "text": [
      "INFO     ========================================\n"
     ]
    },
    {
     "name": "stderr",
     "output_type": "stream",
     "text": [
      "INFO     at start of timestep 15, t=12600.0, dt=900.0\n"
     ]
    },
    {
     "name": "stderr",
     "output_type": "stream",
     "text": [
      "INFO     Max Courant: 1.12e-01\n"
     ]
    },
    {
     "name": "stderr",
     "output_type": "stream",
     "text": [
      "INFO     Semi-implicit Quasi Newton: Explicit forcing\n"
     ]
    },
    {
     "name": "stderr",
     "output_type": "stream",
     "text": [
      "INFO     Max Courant transporting velocity, outer iteration 0: 1.12e-01\n"
     ]
    },
    {
     "name": "stderr",
     "output_type": "stream",
     "text": [
      "INFO     Semi-implicit Quasi Newton: Transport 0: u\n"
     ]
    },
    {
     "name": "stderr",
     "output_type": "stream",
     "text": [
      "INFO     Semi-implicit Quasi Newton: Transport 0: D\n"
     ]
    },
    {
     "name": "stderr",
     "output_type": "stream",
     "text": [
      "INFO     Semi-implicit Quasi Newton: Implicit forcing (0, 0)\n"
     ]
    },
    {
     "name": "stderr",
     "output_type": "stream",
     "text": [
      "INFO     Semi-implicit Quasi Newton: Mixed solve (0, 0)\n"
     ]
    },
    {
     "name": "stderr",
     "output_type": "stream",
     "text": [
      "INFO     Semi-implicit Quasi Newton: Implicit forcing (0, 1)\n"
     ]
    },
    {
     "name": "stderr",
     "output_type": "stream",
     "text": [
      "INFO     Semi-implicit Quasi Newton: Mixed solve (0, 1)\n"
     ]
    },
    {
     "name": "stderr",
     "output_type": "stream",
     "text": [
      "INFO     Max Courant transporting velocity, outer iteration 1: 1.12e-01\n"
     ]
    },
    {
     "name": "stderr",
     "output_type": "stream",
     "text": [
      "INFO     Semi-implicit Quasi Newton: Transport 1: u\n"
     ]
    },
    {
     "name": "stderr",
     "output_type": "stream",
     "text": [
      "INFO     Semi-implicit Quasi Newton: Transport 1: D\n"
     ]
    },
    {
     "name": "stderr",
     "output_type": "stream",
     "text": [
      "INFO     Semi-implicit Quasi Newton: Implicit forcing (1, 0)\n"
     ]
    },
    {
     "name": "stderr",
     "output_type": "stream",
     "text": [
      "INFO     Semi-implicit Quasi Newton: Mixed solve (1, 0)\n"
     ]
    },
    {
     "name": "stderr",
     "output_type": "stream",
     "text": [
      "INFO     Semi-implicit Quasi Newton: Implicit forcing (1, 1)\n"
     ]
    },
    {
     "name": "stderr",
     "output_type": "stream",
     "text": [
      "INFO     Semi-implicit Quasi Newton: Mixed solve (1, 1)\n"
     ]
    },
    {
     "name": "stderr",
     "output_type": "stream",
     "text": [
      "INFO     \n"
     ]
    },
    {
     "name": "stderr",
     "output_type": "stream",
     "text": [
      "INFO     ========================================\n"
     ]
    },
    {
     "name": "stderr",
     "output_type": "stream",
     "text": [
      "INFO     at start of timestep 16, t=13500.0, dt=900.0\n"
     ]
    },
    {
     "name": "stderr",
     "output_type": "stream",
     "text": [
      "INFO     Max Courant: 1.12e-01\n"
     ]
    },
    {
     "name": "stderr",
     "output_type": "stream",
     "text": [
      "INFO     Semi-implicit Quasi Newton: Explicit forcing\n"
     ]
    },
    {
     "name": "stderr",
     "output_type": "stream",
     "text": [
      "INFO     Max Courant transporting velocity, outer iteration 0: 1.12e-01\n"
     ]
    },
    {
     "name": "stderr",
     "output_type": "stream",
     "text": [
      "INFO     Semi-implicit Quasi Newton: Transport 0: u\n"
     ]
    },
    {
     "name": "stderr",
     "output_type": "stream",
     "text": [
      "INFO     Semi-implicit Quasi Newton: Transport 0: D\n"
     ]
    },
    {
     "name": "stderr",
     "output_type": "stream",
     "text": [
      "INFO     Semi-implicit Quasi Newton: Implicit forcing (0, 0)\n"
     ]
    },
    {
     "name": "stderr",
     "output_type": "stream",
     "text": [
      "INFO     Semi-implicit Quasi Newton: Mixed solve (0, 0)\n"
     ]
    },
    {
     "name": "stderr",
     "output_type": "stream",
     "text": [
      "INFO     Semi-implicit Quasi Newton: Implicit forcing (0, 1)\n"
     ]
    },
    {
     "name": "stderr",
     "output_type": "stream",
     "text": [
      "INFO     Semi-implicit Quasi Newton: Mixed solve (0, 1)\n"
     ]
    },
    {
     "name": "stderr",
     "output_type": "stream",
     "text": [
      "INFO     Max Courant transporting velocity, outer iteration 1: 1.12e-01\n"
     ]
    },
    {
     "name": "stderr",
     "output_type": "stream",
     "text": [
      "INFO     Semi-implicit Quasi Newton: Transport 1: u\n"
     ]
    },
    {
     "name": "stderr",
     "output_type": "stream",
     "text": [
      "INFO     Semi-implicit Quasi Newton: Transport 1: D\n"
     ]
    },
    {
     "name": "stderr",
     "output_type": "stream",
     "text": [
      "INFO     Semi-implicit Quasi Newton: Implicit forcing (1, 0)\n"
     ]
    },
    {
     "name": "stderr",
     "output_type": "stream",
     "text": [
      "INFO     Semi-implicit Quasi Newton: Mixed solve (1, 0)\n"
     ]
    },
    {
     "name": "stderr",
     "output_type": "stream",
     "text": [
      "INFO     Semi-implicit Quasi Newton: Implicit forcing (1, 1)\n"
     ]
    },
    {
     "name": "stderr",
     "output_type": "stream",
     "text": [
      "INFO     Semi-implicit Quasi Newton: Mixed solve (1, 1)\n"
     ]
    },
    {
     "name": "stderr",
     "output_type": "stream",
     "text": [
      "INFO     \n"
     ]
    },
    {
     "name": "stderr",
     "output_type": "stream",
     "text": [
      "INFO     ========================================\n"
     ]
    },
    {
     "name": "stderr",
     "output_type": "stream",
     "text": [
      "INFO     at start of timestep 17, t=14400.0, dt=900.0\n"
     ]
    },
    {
     "name": "stderr",
     "output_type": "stream",
     "text": [
      "INFO     Max Courant: 1.12e-01\n"
     ]
    },
    {
     "name": "stderr",
     "output_type": "stream",
     "text": [
      "INFO     Semi-implicit Quasi Newton: Explicit forcing\n"
     ]
    },
    {
     "name": "stderr",
     "output_type": "stream",
     "text": [
      "INFO     Max Courant transporting velocity, outer iteration 0: 1.12e-01\n"
     ]
    },
    {
     "name": "stderr",
     "output_type": "stream",
     "text": [
      "INFO     Semi-implicit Quasi Newton: Transport 0: u\n"
     ]
    },
    {
     "name": "stderr",
     "output_type": "stream",
     "text": [
      "INFO     Semi-implicit Quasi Newton: Transport 0: D\n"
     ]
    },
    {
     "name": "stderr",
     "output_type": "stream",
     "text": [
      "INFO     Semi-implicit Quasi Newton: Implicit forcing (0, 0)\n"
     ]
    },
    {
     "name": "stderr",
     "output_type": "stream",
     "text": [
      "INFO     Semi-implicit Quasi Newton: Mixed solve (0, 0)\n"
     ]
    },
    {
     "name": "stderr",
     "output_type": "stream",
     "text": [
      "INFO     Semi-implicit Quasi Newton: Implicit forcing (0, 1)\n"
     ]
    },
    {
     "name": "stderr",
     "output_type": "stream",
     "text": [
      "INFO     Semi-implicit Quasi Newton: Mixed solve (0, 1)\n"
     ]
    },
    {
     "name": "stderr",
     "output_type": "stream",
     "text": [
      "INFO     Max Courant transporting velocity, outer iteration 1: 1.12e-01\n"
     ]
    },
    {
     "name": "stderr",
     "output_type": "stream",
     "text": [
      "INFO     Semi-implicit Quasi Newton: Transport 1: u\n"
     ]
    },
    {
     "name": "stderr",
     "output_type": "stream",
     "text": [
      "INFO     Semi-implicit Quasi Newton: Transport 1: D\n"
     ]
    },
    {
     "name": "stderr",
     "output_type": "stream",
     "text": [
      "INFO     Semi-implicit Quasi Newton: Implicit forcing (1, 0)\n"
     ]
    },
    {
     "name": "stderr",
     "output_type": "stream",
     "text": [
      "INFO     Semi-implicit Quasi Newton: Mixed solve (1, 0)\n"
     ]
    },
    {
     "name": "stderr",
     "output_type": "stream",
     "text": [
      "INFO     Semi-implicit Quasi Newton: Implicit forcing (1, 1)\n"
     ]
    },
    {
     "name": "stderr",
     "output_type": "stream",
     "text": [
      "INFO     Semi-implicit Quasi Newton: Mixed solve (1, 1)\n"
     ]
    },
    {
     "name": "stderr",
     "output_type": "stream",
     "text": [
      "INFO     \n"
     ]
    },
    {
     "name": "stderr",
     "output_type": "stream",
     "text": [
      "INFO     ========================================\n"
     ]
    },
    {
     "name": "stderr",
     "output_type": "stream",
     "text": [
      "INFO     at start of timestep 18, t=15300.0, dt=900.0\n"
     ]
    },
    {
     "name": "stderr",
     "output_type": "stream",
     "text": [
      "INFO     Max Courant: 1.12e-01\n"
     ]
    },
    {
     "name": "stderr",
     "output_type": "stream",
     "text": [
      "INFO     Semi-implicit Quasi Newton: Explicit forcing\n"
     ]
    },
    {
     "name": "stderr",
     "output_type": "stream",
     "text": [
      "INFO     Max Courant transporting velocity, outer iteration 0: 1.12e-01\n"
     ]
    },
    {
     "name": "stderr",
     "output_type": "stream",
     "text": [
      "INFO     Semi-implicit Quasi Newton: Transport 0: u\n"
     ]
    },
    {
     "name": "stderr",
     "output_type": "stream",
     "text": [
      "INFO     Semi-implicit Quasi Newton: Transport 0: D\n"
     ]
    },
    {
     "name": "stderr",
     "output_type": "stream",
     "text": [
      "INFO     Semi-implicit Quasi Newton: Implicit forcing (0, 0)\n"
     ]
    },
    {
     "name": "stderr",
     "output_type": "stream",
     "text": [
      "INFO     Semi-implicit Quasi Newton: Mixed solve (0, 0)\n"
     ]
    },
    {
     "name": "stderr",
     "output_type": "stream",
     "text": [
      "INFO     Semi-implicit Quasi Newton: Implicit forcing (0, 1)\n"
     ]
    },
    {
     "name": "stderr",
     "output_type": "stream",
     "text": [
      "INFO     Semi-implicit Quasi Newton: Mixed solve (0, 1)\n"
     ]
    },
    {
     "name": "stderr",
     "output_type": "stream",
     "text": [
      "INFO     Max Courant transporting velocity, outer iteration 1: 1.12e-01\n"
     ]
    },
    {
     "name": "stderr",
     "output_type": "stream",
     "text": [
      "INFO     Semi-implicit Quasi Newton: Transport 1: u\n"
     ]
    },
    {
     "name": "stderr",
     "output_type": "stream",
     "text": [
      "INFO     Semi-implicit Quasi Newton: Transport 1: D\n"
     ]
    },
    {
     "name": "stderr",
     "output_type": "stream",
     "text": [
      "INFO     Semi-implicit Quasi Newton: Implicit forcing (1, 0)\n"
     ]
    },
    {
     "name": "stderr",
     "output_type": "stream",
     "text": [
      "INFO     Semi-implicit Quasi Newton: Mixed solve (1, 0)\n"
     ]
    },
    {
     "name": "stderr",
     "output_type": "stream",
     "text": [
      "INFO     Semi-implicit Quasi Newton: Implicit forcing (1, 1)\n"
     ]
    },
    {
     "name": "stderr",
     "output_type": "stream",
     "text": [
      "INFO     Semi-implicit Quasi Newton: Mixed solve (1, 1)\n"
     ]
    },
    {
     "name": "stderr",
     "output_type": "stream",
     "text": [
      "INFO     \n"
     ]
    },
    {
     "name": "stderr",
     "output_type": "stream",
     "text": [
      "INFO     ========================================\n"
     ]
    },
    {
     "name": "stderr",
     "output_type": "stream",
     "text": [
      "INFO     at start of timestep 19, t=16200.0, dt=900.0\n"
     ]
    },
    {
     "name": "stderr",
     "output_type": "stream",
     "text": [
      "INFO     Max Courant: 1.12e-01\n"
     ]
    },
    {
     "name": "stderr",
     "output_type": "stream",
     "text": [
      "INFO     Semi-implicit Quasi Newton: Explicit forcing\n"
     ]
    },
    {
     "name": "stderr",
     "output_type": "stream",
     "text": [
      "INFO     Max Courant transporting velocity, outer iteration 0: 1.12e-01\n"
     ]
    },
    {
     "name": "stderr",
     "output_type": "stream",
     "text": [
      "INFO     Semi-implicit Quasi Newton: Transport 0: u\n"
     ]
    },
    {
     "name": "stderr",
     "output_type": "stream",
     "text": [
      "INFO     Semi-implicit Quasi Newton: Transport 0: D\n"
     ]
    },
    {
     "name": "stderr",
     "output_type": "stream",
     "text": [
      "INFO     Semi-implicit Quasi Newton: Implicit forcing (0, 0)\n"
     ]
    },
    {
     "name": "stderr",
     "output_type": "stream",
     "text": [
      "INFO     Semi-implicit Quasi Newton: Mixed solve (0, 0)\n"
     ]
    },
    {
     "name": "stderr",
     "output_type": "stream",
     "text": [
      "INFO     Semi-implicit Quasi Newton: Implicit forcing (0, 1)\n"
     ]
    },
    {
     "name": "stderr",
     "output_type": "stream",
     "text": [
      "INFO     Semi-implicit Quasi Newton: Mixed solve (0, 1)\n"
     ]
    },
    {
     "name": "stderr",
     "output_type": "stream",
     "text": [
      "INFO     Max Courant transporting velocity, outer iteration 1: 1.12e-01\n"
     ]
    },
    {
     "name": "stderr",
     "output_type": "stream",
     "text": [
      "INFO     Semi-implicit Quasi Newton: Transport 1: u\n"
     ]
    },
    {
     "name": "stderr",
     "output_type": "stream",
     "text": [
      "INFO     Semi-implicit Quasi Newton: Transport 1: D\n"
     ]
    },
    {
     "name": "stderr",
     "output_type": "stream",
     "text": [
      "INFO     Semi-implicit Quasi Newton: Implicit forcing (1, 0)\n"
     ]
    },
    {
     "name": "stderr",
     "output_type": "stream",
     "text": [
      "INFO     Semi-implicit Quasi Newton: Mixed solve (1, 0)\n"
     ]
    },
    {
     "name": "stderr",
     "output_type": "stream",
     "text": [
      "INFO     Semi-implicit Quasi Newton: Implicit forcing (1, 1)\n"
     ]
    },
    {
     "name": "stderr",
     "output_type": "stream",
     "text": [
      "INFO     Semi-implicit Quasi Newton: Mixed solve (1, 1)\n"
     ]
    },
    {
     "name": "stderr",
     "output_type": "stream",
     "text": [
      "INFO     \n"
     ]
    },
    {
     "name": "stderr",
     "output_type": "stream",
     "text": [
      "INFO     ========================================\n"
     ]
    },
    {
     "name": "stderr",
     "output_type": "stream",
     "text": [
      "INFO     at start of timestep 20, t=17100.0, dt=900.0\n"
     ]
    },
    {
     "name": "stderr",
     "output_type": "stream",
     "text": [
      "INFO     Max Courant: 1.12e-01\n"
     ]
    },
    {
     "name": "stderr",
     "output_type": "stream",
     "text": [
      "INFO     Semi-implicit Quasi Newton: Explicit forcing\n"
     ]
    },
    {
     "name": "stderr",
     "output_type": "stream",
     "text": [
      "INFO     Max Courant transporting velocity, outer iteration 0: 1.12e-01\n"
     ]
    },
    {
     "name": "stderr",
     "output_type": "stream",
     "text": [
      "INFO     Semi-implicit Quasi Newton: Transport 0: u\n"
     ]
    },
    {
     "name": "stderr",
     "output_type": "stream",
     "text": [
      "INFO     Semi-implicit Quasi Newton: Transport 0: D\n"
     ]
    },
    {
     "name": "stderr",
     "output_type": "stream",
     "text": [
      "INFO     Semi-implicit Quasi Newton: Implicit forcing (0, 0)\n"
     ]
    },
    {
     "name": "stderr",
     "output_type": "stream",
     "text": [
      "INFO     Semi-implicit Quasi Newton: Mixed solve (0, 0)\n"
     ]
    },
    {
     "name": "stderr",
     "output_type": "stream",
     "text": [
      "INFO     Semi-implicit Quasi Newton: Implicit forcing (0, 1)\n"
     ]
    },
    {
     "name": "stderr",
     "output_type": "stream",
     "text": [
      "INFO     Semi-implicit Quasi Newton: Mixed solve (0, 1)\n"
     ]
    },
    {
     "name": "stderr",
     "output_type": "stream",
     "text": [
      "INFO     Max Courant transporting velocity, outer iteration 1: 1.12e-01\n"
     ]
    },
    {
     "name": "stderr",
     "output_type": "stream",
     "text": [
      "INFO     Semi-implicit Quasi Newton: Transport 1: u\n"
     ]
    },
    {
     "name": "stderr",
     "output_type": "stream",
     "text": [
      "INFO     Semi-implicit Quasi Newton: Transport 1: D\n"
     ]
    },
    {
     "name": "stderr",
     "output_type": "stream",
     "text": [
      "INFO     Semi-implicit Quasi Newton: Implicit forcing (1, 0)\n"
     ]
    },
    {
     "name": "stderr",
     "output_type": "stream",
     "text": [
      "INFO     Semi-implicit Quasi Newton: Mixed solve (1, 0)\n"
     ]
    },
    {
     "name": "stderr",
     "output_type": "stream",
     "text": [
      "INFO     Semi-implicit Quasi Newton: Implicit forcing (1, 1)\n"
     ]
    },
    {
     "name": "stderr",
     "output_type": "stream",
     "text": [
      "INFO     Semi-implicit Quasi Newton: Mixed solve (1, 1)\n"
     ]
    },
    {
     "name": "stderr",
     "output_type": "stream",
     "text": [
      "INFO     TIMELOOP complete. t=18000.00000, tmax=18000.00000\n"
     ]
    }
   ],
   "source": [
    "# Run the timestepper and generate the output.\n",
    "stepper.run(t=0, tmax=tmax)"
   ]
  },
  {
   "cell_type": "code",
   "execution_count": 13,
   "id": "ead33710",
   "metadata": {},
   "outputs": [],
   "source": [
    "import matplotlib.pyplot as plt\n",
    "from matplotlib import cm\n",
    "from firedrake import trisurf"
   ]
  },
  {
   "cell_type": "markdown",
   "id": "2b518722",
   "metadata": {},
   "source": [
    "After the simulation is completed, you should see that there is now a 'results' directory, with a sub-directory containing the output of this simulation. The output at the specified times is saved in a .vtu format that can be viewed using Paraview. There are five files, corresponding to the specified dump times (field_output_1.vtu, field_output_2.vtu, .., field_output_5.vtu), as well as one for the initial conditions (field_output_0.vtu). Paraview can be downloaded from the following link: https://www.paraview.org/.\n",
    "\n",
    "This test case should generate a steady state solution. Running the cell below will use Matplotlib to plot the error in the depth field (i.e. the difference between the depth field at the end of the simulation and that at the start). Output from a reference simulation is displayed below."
   ]
  },
  {
   "cell_type": "code",
   "execution_count": 14,
   "id": "f1108d38",
   "metadata": {},
   "outputs": [
    {
     "data": {
      "application/vnd.jupyter.widget-view+json": {
       "model_id": "983f35b9ead2467692968df7671acb85",
       "version_major": 2,
       "version_minor": 0
      },
      "image/png": "[encoded data removed]",
      "text/html": [
       "\n",
       "            <div style=\"display: inline-block;\">\n",
       "                <div class=\"jupyter-widgets widget-label\" style=\"text-align: center;\">\n",
       "                    Figure\n",
       "                </div>\n",
       "                <img src='data:image/png;base64,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' width=960.0/>\n",
       "            </div>\n",
       "        "
      ],
      "text/plain": [
       "Canvas(toolbar=Toolbar(toolitems=[('Home', 'Reset original view', 'home', 'home'), ('Back', 'Back to previous …"
      ]
     },
     "metadata": {},
     "output_type": "display_data"
    }
   ],
   "source": [
    "%matplotlib ipympl\n",
    "\n",
    "fig, ax = plt.subplots(subplot_kw={\"projection\": \"3d\"})\n",
    "ts = trisurf(stepper.fields('D_error'), axes=ax, cmap=cm.coolwarm)\n",
    "fig.colorbar(ts, shrink=0.5, aspect=5)\n",
    "plt.show()"
   ]
  },
  {
   "attachments": {},
   "cell_type": "markdown",
   "id": "e34eb456",
   "metadata": {},
   "source": [
    "These plots show relative vorticity and depth error after 5 days, produced from a reference simulation. The setup and plotting scripts used to generate these figures were slightly different from that demonstrated in this notebook, so you should not expect to exactly reproduce these plots, but they give some idea of the final state, in particular the expected magnitude of the depth error.\n",
    "![williamson_2_final](../figures/shallow_water/williamson_2_final.png)"
   ]
  },
  {
   "cell_type": "markdown",
   "id": "810d8199",
   "metadata": {},
   "source": [
    "Congratulations, you have now successfully run a Gusto example!"
   ]
  }
 ],
 "metadata": {
  "language_info": {
   "name": "python"
  }
 },
 "nbformat": 4,
 "nbformat_minor": 5
}
