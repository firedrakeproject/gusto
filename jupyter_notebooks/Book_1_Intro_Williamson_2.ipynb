{
 "cells": [
  {
   "cell_type": "markdown",
   "id": "3ec4b5fe",
   "metadata": {},
   "source": [
    "# Notebook 1: Introduction with Shallow Water - Williamson 2 Test Case"
   ]
  },
  {
   "cell_type": "markdown",
   "id": "5371527b",
   "metadata": {},
   "source": [
    "This notebook provides an introduction to Gusto. We will demonstrate how to set up and run a shallow water model using the geostrophic balance example (test case 2) from the Williamson et al (1992) paper, which can be found at: \n",
    "https://doi.org/10.1016/S0021-9991(05)80016-6."
   ]
  },
  {
   "cell_type": "markdown",
   "id": "664c0cba",
   "metadata": {},
   "source": [
    "The shallow water equations are written in terms of the velocity, $\\textbf{u}$, and fluid depth, $D$:\n",
    "\n",
    "\\begin{align}\n",
    "\\textbf{u}_t + (\\textbf{u} \\cdot \\nabla) \\textbf{u} + f \\textbf{u}^{\\perp} + g \\nabla (D + b)  &= 0, \\\\\n",
    "D_t + \\nabla \\cdot (D \\textbf{u}) &= 0,\n",
    "\\end{align}\n",
    "\n",
    "where $f$ is the Coriolis parameter, $g$ is the gravitational acceleration, and $D = H+h-b$ is the total depth of the fluid where $H$ is the mean fluid depth, $h$ is the free surface height and $b$ is the topography. No boundary conditions are required as in this case we are solving on a spherical domain.\n",
    "\n",
    "The problem we shall set up is a zonal geostrophic flow. This is a steady-state solution of the shallow-water equations, so the true solution does not change with time."
   ]
  },
  {
   "cell_type": "markdown",
   "id": "29df76b1",
   "metadata": {},
   "source": [
    "We begin by importing the required libraries and functions from Firedrake and Gusto. This step is required when starting any Gusto script."
   ]
  },
  {
   "cell_type": "code",
   "execution_count": 1,
   "id": "9e6e1cb1-30d8-4df8-b9ff-4880b2e7d0dd",
   "metadata": {},
   "outputs": [],
   "source": [
    "%matplotlib ipympl\n",
    "\n",
    "import matplotlib.pyplot as plt\n",
    "\n",
    "plt.rcParams['figure.figsize'] = (8,6)\n",
    "plt.rcParams['figure.dpi'] = 120"
   ]
  },
  {
   "cell_type": "code",
   "execution_count": 2,
   "id": "7779c15b",
   "metadata": {},
   "outputs": [
    {
     "name": "stderr",
     "output_type": "stream",
     "text": [
      "INFO     Running /home/jack/Documents/firedrake/firedrake/lib/python3.12/site-packages/ipykernel_launcher.py -f /tmp/tmp49vggpeu.json --HistoryManager.hist_file=:memory:\n"
     ]
    }
   ],
   "source": [
    "from gusto import *\n",
    "from firedrake import IcosahedralSphereMesh, SpatialCoordinate, as_vector, pi"
   ]
  },
  {
   "cell_type": "markdown",
   "id": "33f71f3a",
   "metadata": {},
   "source": [
    "First we define the time-step size, `dt`, and duration of the simulation, `tmax`."
   ]
  },
  {
   "cell_type": "code",
   "execution_count": 3,
   "id": "f5147739",
   "metadata": {},
   "outputs": [],
   "source": [
    "dt = 4000.          # timestep (in seconds)\n",
    "tmax = 20*dt        # duration of the simulation (in seconds)"
   ]
  },
  {
   "cell_type": "markdown",
   "id": "2fb1fb2d",
   "metadata": {},
   "source": [
    "Next, we will construct a mesh of our domain. We will use one of the spherical meshes provided by Firedrake: the `IcosahedralSphereMesh`. As the spherical domain we are solving over is the Earth we specify the radius as 6371220m. The refinement level, `ref_level`, specifies the number of times the base icosahedron is refined, with each refinement dividing each triangular face in to 4 triangles. The argument `degree` specifies the polynomial degree of the function space used to represent the coordinates. We store the coordinates as `xyz` using the Firedrake `SpatialCoordinate` function - we will use these later whenever we set up spatially varying fields."
   ]
  },
  {
   "cell_type": "code",
   "execution_count": 4,
   "id": "2e9c65ea",
   "metadata": {},
   "outputs": [],
   "source": [
    "# Set up the mesh and choose the refinement level\n",
    "ref_level = 3  # number of horizontal cells = 20*(4^refinements)\n",
    "R = 6371220.\n",
    "mesh = IcosahedralSphereMesh(radius=R, refinement_level=ref_level, degree=2)\n",
    "xyz = SpatialCoordinate(mesh)"
   ]
  },
  {
   "cell_type": "markdown",
   "id": "47f38446",
   "metadata": {},
   "source": [
    "Gusto will set up compatible finite element function spaces for the prognostic fields. These are uniquely defined by specifying the family (in this case `BDM`) of the HDiv space (used for the velocity $\\textbf{u}$) and the degree (in this case `1`) of the DG space (used for the fluid depth $D$). We pass these parameters, along with the mesh and the timestep, into the `Domain` object."
   ]
  },
  {
   "cell_type": "code",
   "execution_count": 5,
   "id": "cd2835ea",
   "metadata": {},
   "outputs": [],
   "source": [
    "domain = Domain(mesh, dt, \"BDM\", 1)"
   ]
  },
  {
   "cell_type": "markdown",
   "id": "48ee6e88",
   "metadata": {},
   "source": [
    "The shallow water equations contain three parameters that need to be specified: the Coriolis parameter $f=2\\Omega\\sin\\theta$ where $\\Omega$ is the rotation rate and $\\theta$ the latitude, the gravitational acceleration $g$ and the mean height of the fluid layer $H$. The `ShallowWaterParameters` class has Earth-sized values as default for both $\\Omega$ and $g$ (`Omega=7.292e-5`$rad/s$ and `g=9.80616`$m/s^2$) meaning that for this example we only need to specify $H$."
   ]
  },
  {
   "cell_type": "code",
   "execution_count": 6,
   "id": "844be5eb",
   "metadata": {},
   "outputs": [],
   "source": [
    "# setup shallow water parameters\n",
    "H = 5960.\n",
    "parameters = ShallowWaterParameters(H=H)"
   ]
  },
  {
   "cell_type": "markdown",
   "id": "2c082cfc",
   "metadata": {},
   "source": [
    "We can now set up the finite element form of the shallow water equations by passing `domain`, `parameters` and the expression for the Coriolis parameter into the `ShallowWaterEquations` class."
   ]
  },
  {
   "cell_type": "code",
   "execution_count": 7,
   "id": "8ed9914e",
   "metadata": {},
   "outputs": [],
   "source": [
    "# Create a spatially varying function for the Coriolis force:\n",
    "Omega = parameters.Omega\n",
    "fexpr = 2*Omega*xyz[2]/R\n",
    "eqns = ShallowWaterEquations(domain, parameters, fexpr=fexpr)"
   ]
  },
  {
   "cell_type": "markdown",
   "id": "da3c27bd",
   "metadata": {},
   "source": [
    "We specify output options using the `OutputParameters` class. The directory name, `dirname`, must be specified. To prevent losing hard-earned simulation data, Gusto will not allow existing files to be overwritten. Hence, if one wishes to re-run a simulation with the same output filename, the existing results file needs to be moved or deleted first. This is also the place to specify the output frequency (in timesteps) of vtu files. The default is `dumpfreq=1` which outputs vtu files at every timestep (very useful when first setting up a problem!). Below we set `dumpfreq=5`."
   ]
  },
  {
   "cell_type": "code",
   "execution_count": 8,
   "id": "754708dd",
   "metadata": {},
   "outputs": [],
   "source": [
    "output = OutputParameters(dirname=\"williamson_2\", dumpfreq=5)"
   ]
  },
  {
   "cell_type": "markdown",
   "id": "1e1ae651",
   "metadata": {},
   "source": [
    "We can specify which diagnostics to record over a simulation. The list of avaliable diagnostics can be found in the [Gusto documentation](https://www.firedrakeproject.org/gusto-docs/gusto.diagnostics.html#module-gusto.diagnostics.diagnostics). Since this flow should be in a steady state, it is also instructive to output the steady state error fields for both $\\textbf{u}$ and $D$ as this will tell us how close the simulation is to being correct. They will not be identically zero, due to numerical discretisation error, but the errors should not grow in time and they should reduce as the mesh and timestep are refined. We pass these diagnostics into the `IO` class, which controls the input and output and stores the fields which will be updated at each timestep."
   ]
  },
  {
   "cell_type": "code",
   "execution_count": 9,
   "id": "db9d61a0",
   "metadata": {},
   "outputs": [],
   "source": [
    "diagnostic_fields = [SteadyStateError('u'), SteadyStateError('D'),\n",
    "                     RelativeVorticity(), PotentialVorticity(),\n",
    "                     ShallowWaterKineticEnergy(),\n",
    "                     ShallowWaterPotentialEnergy(parameters),\n",
    "                     ShallowWaterPotentialEnstrophy(),\n",
    "                     CourantNumber()]\n",
    "\n",
    "io = IO(domain, output=output, diagnostic_fields=diagnostic_fields)"
   ]
  },
  {
   "cell_type": "markdown",
   "id": "04687319",
   "metadata": {},
   "source": [
    "Now we will set up a `SemiImplicitQuasiNewton` timestepper. This method splits the equation into terms that are treated explicitly and those that are treated semi-implicitly. Transport and forcing (i.e. the coriolis and pressure gradient) terms are treated separately. This allows for different time-steppers to be used for transporting the velocity and depth fields. We choose to use the trapezium rule for the velocity and an explicit strong stability preserving RK3 (SSPRK3) method for the depth. Since the Courant number for a stable SSPRK3 scheme is lower than that for the trapezium rule, we do 2 subcycles of the SSPRK3 scheme per timestep, allowing us to use a longer timestep overall. We apply the `DGUpwind` method to the transport terms for both fields. A full list of avaliable time stepping methods can be found in the [Gusto documentation](https://www.firedrakeproject.org/gusto-docs/gusto.time_discretisation.html#module-gusto.time_discretisation.time_discretisation)."
   ]
  },
  {
   "cell_type": "code",
   "execution_count": 10,
   "id": "b1642c8b",
   "metadata": {},
   "outputs": [
    {
     "name": "stderr",
     "output_type": "stream",
     "text": [
      "INFO     Physical parameters that take non-default values:\n"
     ]
    },
    {
     "name": "stderr",
     "output_type": "stream",
     "text": [
      "INFO     H: 5960.0\n"
     ]
    }
   ],
   "source": [
    "subcycling_options = SubcyclingOptions(fixed_subcycles=2)\n",
    "transported_fields = [TrapeziumRule(domain, \"u\"),\n",
    "                      SSPRK3(domain, \"D\", subcycling_options=subcycling_options)]\n",
    "transport_methods = [DGUpwind(eqns, \"u\"), DGUpwind(eqns, \"D\")]\n",
    "stepper = SemiImplicitQuasiNewton(eqns, io, transported_fields,\n",
    "                                  transport_methods)"
   ]
  },
  {
   "cell_type": "markdown",
   "id": "9918a45e",
   "metadata": {},
   "source": [
    "We are now ready to specify the initial conditions:\n",
    "\\begin{align}\n",
    "\\textbf{u}_0 &= \\frac{u_{max}}{R} [-y,x,0], \\\\\n",
    "D_0 &= H - \\frac{\\Omega u_{max} z^2}{g R}.\n",
    "\\end{align}\n",
    "For the $D$ field we can simply interpolate the expression above; for the $\\textbf{u}$ field we will need to project because interpolation is not implemented for functions on HDiv spaces."
   ]
  },
  {
   "cell_type": "code",
   "execution_count": 11,
   "id": "e61d066d",
   "metadata": {},
   "outputs": [
    {
     "data": {
      "text/plain": [
       "Coefficient(WithGeometry(IndexedProxyFunctionSpace(<firedrake.mesh.MeshTopology object at 0x7eaaa43c5d90>, FiniteElement('Discontinuous Lagrange', triangle, 1), name='L2', index=1, component=None), Mesh(VectorElement(FiniteElement('Lagrange', triangle, 2), dim=3), 4)), 85)"
      ]
     },
     "execution_count": 11,
     "metadata": {},
     "output_type": "execute_result"
    }
   ],
   "source": [
    "u0 = stepper.fields(\"u\")\n",
    "D0 = stepper.fields(\"D\")\n",
    "day = 24*60*60\n",
    "u_max = 2*pi*R/(12*day)  # Maximum amplitude of the zonal wind (m/s)\n",
    "uexpr = as_vector([-u_max*xyz[1]/R, u_max*xyz[0]/R, 0.0])\n",
    "g = parameters.g\n",
    "Dexpr = H - ((R * Omega * u_max)*(xyz[2]*xyz[2]/(R*R)))/g\n",
    "u0.project(uexpr)\n",
    "D0.interpolate(Dexpr)"
   ]
  },
  {
   "cell_type": "markdown",
   "id": "f926bfb8",
   "metadata": {},
   "source": [
    "When using the `SemiImplicitQuasiNewton` timestepper, we also have to set up any non-zero reference profiles."
   ]
  },
  {
   "cell_type": "code",
   "execution_count": 12,
   "id": "65837e71",
   "metadata": {},
   "outputs": [],
   "source": [
    "Dbar = Function(D0.function_space()).assign(H)\n",
    "stepper.set_reference_profiles([('D', Dbar)])"
   ]
  },
  {
   "cell_type": "markdown",
   "id": "fedcc51c",
   "metadata": {},
   "source": [
    "We are ready to run our simulation! We simply instruct the time-stepper to run for the specified duration."
   ]
  },
  {
   "cell_type": "code",
   "execution_count": 13,
   "id": "46852826",
   "metadata": {},
   "outputs": [
    {
     "name": "stderr",
     "output_type": "stream",
     "text": [
      "INFO     \n"
     ]
    },
    {
     "name": "stderr",
     "output_type": "stream",
     "text": [
      "INFO     ========================================\n"
     ]
    },
    {
     "name": "stderr",
     "output_type": "stream",
     "text": [
      "INFO     at start of timestep 1, t=0.0, dt=4000.0\n"
     ]
    },
    {
     "name": "stderr",
     "output_type": "stream",
     "text": [
      "INFO     Max Courant: 5.00e-01\n"
     ]
    },
    {
     "name": "stderr",
     "output_type": "stream",
     "text": [
      "INFO     Semi-implicit Quasi Newton: Explicit forcing\n"
     ]
    },
    {
     "name": "stderr",
     "output_type": "stream",
     "text": [
      "INFO     Max Courant transporting velocity, outer iteration 0: 5.00e-01\n"
     ]
    },
    {
     "name": "stderr",
     "output_type": "stream",
     "text": [
      "INFO     Semi-implicit Quasi Newton: Transport 0: u\n"
     ]
    },
    {
     "name": "stderr",
     "output_type": "stream",
     "text": [
      "INFO     Semi-implicit Quasi Newton: Transport 0: D\n"
     ]
    },
    {
     "name": "stderr",
     "output_type": "stream",
     "text": [
      "INFO     Semi-implicit Quasi Newton: Implicit forcing (0, 0)\n"
     ]
    },
    {
     "name": "stderr",
     "output_type": "stream",
     "text": [
      "INFO     Semi-implicit Quasi Newton: Mixed solve (0, 0)\n"
     ]
    },
    {
     "name": "stderr",
     "output_type": "stream",
     "text": [
      "INFO     Semi-implicit Quasi Newton: Implicit forcing (0, 1)\n"
     ]
    },
    {
     "name": "stderr",
     "output_type": "stream",
     "text": [
      "INFO     Semi-implicit Quasi Newton: Mixed solve (0, 1)\n"
     ]
    },
    {
     "name": "stderr",
     "output_type": "stream",
     "text": [
      "INFO     Max Courant transporting velocity, outer iteration 1: 5.00e-01\n"
     ]
    },
    {
     "name": "stderr",
     "output_type": "stream",
     "text": [
      "INFO     Semi-implicit Quasi Newton: Transport 1: u\n"
     ]
    },
    {
     "name": "stderr",
     "output_type": "stream",
     "text": [
      "INFO     Semi-implicit Quasi Newton: Transport 1: D\n"
     ]
    },
    {
     "name": "stderr",
     "output_type": "stream",
     "text": [
      "INFO     Semi-implicit Quasi Newton: Implicit forcing (1, 0)\n"
     ]
    },
    {
     "name": "stderr",
     "output_type": "stream",
     "text": [
      "INFO     Semi-implicit Quasi Newton: Mixed solve (1, 0)\n"
     ]
    },
    {
     "name": "stderr",
     "output_type": "stream",
     "text": [
      "INFO     Semi-implicit Quasi Newton: Implicit forcing (1, 1)\n"
     ]
    },
    {
     "name": "stderr",
     "output_type": "stream",
     "text": [
      "INFO     Semi-implicit Quasi Newton: Mixed solve (1, 1)\n"
     ]
    },
    {
     "name": "stderr",
     "output_type": "stream",
     "text": [
      "INFO     \n"
     ]
    },
    {
     "name": "stderr",
     "output_type": "stream",
     "text": [
      "INFO     ========================================\n"
     ]
    },
    {
     "name": "stderr",
     "output_type": "stream",
     "text": [
      "INFO     at start of timestep 2, t=4000.0, dt=4000.0\n"
     ]
    },
    {
     "name": "stderr",
     "output_type": "stream",
     "text": [
      "INFO     Max Courant: 5.00e-01\n"
     ]
    },
    {
     "name": "stderr",
     "output_type": "stream",
     "text": [
      "INFO     Semi-implicit Quasi Newton: Explicit forcing\n"
     ]
    },
    {
     "name": "stderr",
     "output_type": "stream",
     "text": [
      "INFO     Max Courant transporting velocity, outer iteration 0: 5.00e-01\n"
     ]
    },
    {
     "name": "stderr",
     "output_type": "stream",
     "text": [
      "INFO     Semi-implicit Quasi Newton: Transport 0: u\n"
     ]
    },
    {
     "name": "stderr",
     "output_type": "stream",
     "text": [
      "INFO     Semi-implicit Quasi Newton: Transport 0: D\n"
     ]
    },
    {
     "name": "stderr",
     "output_type": "stream",
     "text": [
      "INFO     Semi-implicit Quasi Newton: Implicit forcing (0, 0)\n"
     ]
    },
    {
     "name": "stderr",
     "output_type": "stream",
     "text": [
      "INFO     Semi-implicit Quasi Newton: Mixed solve (0, 0)\n"
     ]
    },
    {
     "name": "stderr",
     "output_type": "stream",
     "text": [
      "INFO     Semi-implicit Quasi Newton: Implicit forcing (0, 1)\n"
     ]
    },
    {
     "name": "stderr",
     "output_type": "stream",
     "text": [
      "INFO     Semi-implicit Quasi Newton: Mixed solve (0, 1)\n"
     ]
    },
    {
     "name": "stderr",
     "output_type": "stream",
     "text": [
      "INFO     Max Courant transporting velocity, outer iteration 1: 5.00e-01\n"
     ]
    },
    {
     "name": "stderr",
     "output_type": "stream",
     "text": [
      "INFO     Semi-implicit Quasi Newton: Transport 1: u\n"
     ]
    },
    {
     "name": "stderr",
     "output_type": "stream",
     "text": [
      "INFO     Semi-implicit Quasi Newton: Transport 1: D\n"
     ]
    },
    {
     "name": "stderr",
     "output_type": "stream",
     "text": [
      "INFO     Semi-implicit Quasi Newton: Implicit forcing (1, 0)\n"
     ]
    },
    {
     "name": "stderr",
     "output_type": "stream",
     "text": [
      "INFO     Semi-implicit Quasi Newton: Mixed solve (1, 0)\n"
     ]
    },
    {
     "name": "stderr",
     "output_type": "stream",
     "text": [
      "INFO     Semi-implicit Quasi Newton: Implicit forcing (1, 1)\n"
     ]
    },
    {
     "name": "stderr",
     "output_type": "stream",
     "text": [
      "INFO     Semi-implicit Quasi Newton: Mixed solve (1, 1)\n"
     ]
    },
    {
     "name": "stderr",
     "output_type": "stream",
     "text": [
      "INFO     \n"
     ]
    },
    {
     "name": "stderr",
     "output_type": "stream",
     "text": [
      "INFO     ========================================\n"
     ]
    },
    {
     "name": "stderr",
     "output_type": "stream",
     "text": [
      "INFO     at start of timestep 3, t=8000.0, dt=4000.0\n"
     ]
    },
    {
     "name": "stderr",
     "output_type": "stream",
     "text": [
      "INFO     Max Courant: 5.00e-01\n"
     ]
    },
    {
     "name": "stderr",
     "output_type": "stream",
     "text": [
      "INFO     Semi-implicit Quasi Newton: Explicit forcing\n"
     ]
    },
    {
     "name": "stderr",
     "output_type": "stream",
     "text": [
      "INFO     Max Courant transporting velocity, outer iteration 0: 5.00e-01\n"
     ]
    },
    {
     "name": "stderr",
     "output_type": "stream",
     "text": [
      "INFO     Semi-implicit Quasi Newton: Transport 0: u\n"
     ]
    },
    {
     "name": "stderr",
     "output_type": "stream",
     "text": [
      "INFO     Semi-implicit Quasi Newton: Transport 0: D\n"
     ]
    },
    {
     "name": "stderr",
     "output_type": "stream",
     "text": [
      "INFO     Semi-implicit Quasi Newton: Implicit forcing (0, 0)\n"
     ]
    },
    {
     "name": "stderr",
     "output_type": "stream",
     "text": [
      "INFO     Semi-implicit Quasi Newton: Mixed solve (0, 0)\n"
     ]
    },
    {
     "name": "stderr",
     "output_type": "stream",
     "text": [
      "INFO     Semi-implicit Quasi Newton: Implicit forcing (0, 1)\n"
     ]
    },
    {
     "name": "stderr",
     "output_type": "stream",
     "text": [
      "INFO     Semi-implicit Quasi Newton: Mixed solve (0, 1)\n"
     ]
    },
    {
     "name": "stderr",
     "output_type": "stream",
     "text": [
      "INFO     Max Courant transporting velocity, outer iteration 1: 5.00e-01\n"
     ]
    },
    {
     "name": "stderr",
     "output_type": "stream",
     "text": [
      "INFO     Semi-implicit Quasi Newton: Transport 1: u\n"
     ]
    },
    {
     "name": "stderr",
     "output_type": "stream",
     "text": [
      "INFO     Semi-implicit Quasi Newton: Transport 1: D\n"
     ]
    },
    {
     "name": "stderr",
     "output_type": "stream",
     "text": [
      "INFO     Semi-implicit Quasi Newton: Implicit forcing (1, 0)\n"
     ]
    },
    {
     "name": "stderr",
     "output_type": "stream",
     "text": [
      "INFO     Semi-implicit Quasi Newton: Mixed solve (1, 0)\n"
     ]
    },
    {
     "name": "stderr",
     "output_type": "stream",
     "text": [
      "INFO     Semi-implicit Quasi Newton: Implicit forcing (1, 1)\n"
     ]
    },
    {
     "name": "stderr",
     "output_type": "stream",
     "text": [
      "INFO     Semi-implicit Quasi Newton: Mixed solve (1, 1)\n"
     ]
    },
    {
     "name": "stderr",
     "output_type": "stream",
     "text": [
      "INFO     \n"
     ]
    },
    {
     "name": "stderr",
     "output_type": "stream",
     "text": [
      "INFO     ========================================\n"
     ]
    },
    {
     "name": "stderr",
     "output_type": "stream",
     "text": [
      "INFO     at start of timestep 4, t=12000.0, dt=4000.0\n"
     ]
    },
    {
     "name": "stderr",
     "output_type": "stream",
     "text": [
      "INFO     Max Courant: 5.01e-01\n"
     ]
    },
    {
     "name": "stderr",
     "output_type": "stream",
     "text": [
      "INFO     Semi-implicit Quasi Newton: Explicit forcing\n"
     ]
    },
    {
     "name": "stderr",
     "output_type": "stream",
     "text": [
      "INFO     Max Courant transporting velocity, outer iteration 0: 5.01e-01\n"
     ]
    },
    {
     "name": "stderr",
     "output_type": "stream",
     "text": [
      "INFO     Semi-implicit Quasi Newton: Transport 0: u\n"
     ]
    },
    {
     "name": "stderr",
     "output_type": "stream",
     "text": [
      "INFO     Semi-implicit Quasi Newton: Transport 0: D\n"
     ]
    },
    {
     "name": "stderr",
     "output_type": "stream",
     "text": [
      "INFO     Semi-implicit Quasi Newton: Implicit forcing (0, 0)\n"
     ]
    },
    {
     "name": "stderr",
     "output_type": "stream",
     "text": [
      "INFO     Semi-implicit Quasi Newton: Mixed solve (0, 0)\n"
     ]
    },
    {
     "name": "stderr",
     "output_type": "stream",
     "text": [
      "INFO     Semi-implicit Quasi Newton: Implicit forcing (0, 1)\n"
     ]
    },
    {
     "name": "stderr",
     "output_type": "stream",
     "text": [
      "INFO     Semi-implicit Quasi Newton: Mixed solve (0, 1)\n"
     ]
    },
    {
     "name": "stderr",
     "output_type": "stream",
     "text": [
      "INFO     Max Courant transporting velocity, outer iteration 1: 5.01e-01\n"
     ]
    },
    {
     "name": "stderr",
     "output_type": "stream",
     "text": [
      "INFO     Semi-implicit Quasi Newton: Transport 1: u\n"
     ]
    },
    {
     "name": "stderr",
     "output_type": "stream",
     "text": [
      "INFO     Semi-implicit Quasi Newton: Transport 1: D\n"
     ]
    },
    {
     "name": "stderr",
     "output_type": "stream",
     "text": [
      "INFO     Semi-implicit Quasi Newton: Implicit forcing (1, 0)\n"
     ]
    },
    {
     "name": "stderr",
     "output_type": "stream",
     "text": [
      "INFO     Semi-implicit Quasi Newton: Mixed solve (1, 0)\n"
     ]
    },
    {
     "name": "stderr",
     "output_type": "stream",
     "text": [
      "INFO     Semi-implicit Quasi Newton: Implicit forcing (1, 1)\n"
     ]
    },
    {
     "name": "stderr",
     "output_type": "stream",
     "text": [
      "INFO     Semi-implicit Quasi Newton: Mixed solve (1, 1)\n"
     ]
    },
    {
     "name": "stderr",
     "output_type": "stream",
     "text": [
      "INFO     \n"
     ]
    },
    {
     "name": "stderr",
     "output_type": "stream",
     "text": [
      "INFO     ========================================\n"
     ]
    },
    {
     "name": "stderr",
     "output_type": "stream",
     "text": [
      "INFO     at start of timestep 5, t=16000.0, dt=4000.0\n"
     ]
    },
    {
     "name": "stderr",
     "output_type": "stream",
     "text": [
      "INFO     Max Courant: 5.01e-01\n"
     ]
    },
    {
     "name": "stderr",
     "output_type": "stream",
     "text": [
      "INFO     Semi-implicit Quasi Newton: Explicit forcing\n"
     ]
    },
    {
     "name": "stderr",
     "output_type": "stream",
     "text": [
      "INFO     Max Courant transporting velocity, outer iteration 0: 5.01e-01\n"
     ]
    },
    {
     "name": "stderr",
     "output_type": "stream",
     "text": [
      "INFO     Semi-implicit Quasi Newton: Transport 0: u\n"
     ]
    },
    {
     "name": "stderr",
     "output_type": "stream",
     "text": [
      "INFO     Semi-implicit Quasi Newton: Transport 0: D\n"
     ]
    },
    {
     "name": "stderr",
     "output_type": "stream",
     "text": [
      "INFO     Semi-implicit Quasi Newton: Implicit forcing (0, 0)\n"
     ]
    },
    {
     "name": "stderr",
     "output_type": "stream",
     "text": [
      "INFO     Semi-implicit Quasi Newton: Mixed solve (0, 0)\n"
     ]
    },
    {
     "name": "stderr",
     "output_type": "stream",
     "text": [
      "INFO     Semi-implicit Quasi Newton: Implicit forcing (0, 1)\n"
     ]
    },
    {
     "name": "stderr",
     "output_type": "stream",
     "text": [
      "INFO     Semi-implicit Quasi Newton: Mixed solve (0, 1)\n"
     ]
    },
    {
     "name": "stderr",
     "output_type": "stream",
     "text": [
      "INFO     Max Courant transporting velocity, outer iteration 1: 5.00e-01\n"
     ]
    },
    {
     "name": "stderr",
     "output_type": "stream",
     "text": [
      "INFO     Semi-implicit Quasi Newton: Transport 1: u\n"
     ]
    },
    {
     "name": "stderr",
     "output_type": "stream",
     "text": [
      "INFO     Semi-implicit Quasi Newton: Transport 1: D\n"
     ]
    },
    {
     "name": "stderr",
     "output_type": "stream",
     "text": [
      "INFO     Semi-implicit Quasi Newton: Implicit forcing (1, 0)\n"
     ]
    },
    {
     "name": "stderr",
     "output_type": "stream",
     "text": [
      "INFO     Semi-implicit Quasi Newton: Mixed solve (1, 0)\n"
     ]
    },
    {
     "name": "stderr",
     "output_type": "stream",
     "text": [
      "INFO     Semi-implicit Quasi Newton: Implicit forcing (1, 1)\n"
     ]
    },
    {
     "name": "stderr",
     "output_type": "stream",
     "text": [
      "INFO     Semi-implicit Quasi Newton: Mixed solve (1, 1)\n"
     ]
    },
    {
     "name": "stderr",
     "output_type": "stream",
     "text": [
      "INFO     \n"
     ]
    },
    {
     "name": "stderr",
     "output_type": "stream",
     "text": [
      "INFO     ========================================\n"
     ]
    },
    {
     "name": "stderr",
     "output_type": "stream",
     "text": [
      "INFO     at start of timestep 6, t=20000.0, dt=4000.0\n"
     ]
    },
    {
     "name": "stderr",
     "output_type": "stream",
     "text": [
      "INFO     Max Courant: 5.00e-01\n"
     ]
    },
    {
     "name": "stderr",
     "output_type": "stream",
     "text": [
      "INFO     Semi-implicit Quasi Newton: Explicit forcing\n"
     ]
    },
    {
     "name": "stderr",
     "output_type": "stream",
     "text": [
      "INFO     Max Courant transporting velocity, outer iteration 0: 5.00e-01\n"
     ]
    },
    {
     "name": "stderr",
     "output_type": "stream",
     "text": [
      "INFO     Semi-implicit Quasi Newton: Transport 0: u\n"
     ]
    },
    {
     "name": "stderr",
     "output_type": "stream",
     "text": [
      "INFO     Semi-implicit Quasi Newton: Transport 0: D\n"
     ]
    },
    {
     "name": "stderr",
     "output_type": "stream",
     "text": [
      "INFO     Semi-implicit Quasi Newton: Implicit forcing (0, 0)\n"
     ]
    },
    {
     "name": "stderr",
     "output_type": "stream",
     "text": [
      "INFO     Semi-implicit Quasi Newton: Mixed solve (0, 0)\n"
     ]
    },
    {
     "name": "stderr",
     "output_type": "stream",
     "text": [
      "INFO     Semi-implicit Quasi Newton: Implicit forcing (0, 1)\n"
     ]
    },
    {
     "name": "stderr",
     "output_type": "stream",
     "text": [
      "INFO     Semi-implicit Quasi Newton: Mixed solve (0, 1)\n"
     ]
    },
    {
     "name": "stderr",
     "output_type": "stream",
     "text": [
      "INFO     Max Courant transporting velocity, outer iteration 1: 5.00e-01\n"
     ]
    },
    {
     "name": "stderr",
     "output_type": "stream",
     "text": [
      "INFO     Semi-implicit Quasi Newton: Transport 1: u\n"
     ]
    },
    {
     "name": "stderr",
     "output_type": "stream",
     "text": [
      "INFO     Semi-implicit Quasi Newton: Transport 1: D\n"
     ]
    },
    {
     "name": "stderr",
     "output_type": "stream",
     "text": [
      "INFO     Semi-implicit Quasi Newton: Implicit forcing (1, 0)\n"
     ]
    },
    {
     "name": "stderr",
     "output_type": "stream",
     "text": [
      "INFO     Semi-implicit Quasi Newton: Mixed solve (1, 0)\n"
     ]
    },
    {
     "name": "stderr",
     "output_type": "stream",
     "text": [
      "INFO     Semi-implicit Quasi Newton: Implicit forcing (1, 1)\n"
     ]
    },
    {
     "name": "stderr",
     "output_type": "stream",
     "text": [
      "INFO     Semi-implicit Quasi Newton: Mixed solve (1, 1)\n"
     ]
    },
    {
     "name": "stderr",
     "output_type": "stream",
     "text": [
      "INFO     \n"
     ]
    },
    {
     "name": "stderr",
     "output_type": "stream",
     "text": [
      "INFO     ========================================\n"
     ]
    },
    {
     "name": "stderr",
     "output_type": "stream",
     "text": [
      "INFO     at start of timestep 7, t=24000.0, dt=4000.0\n"
     ]
    },
    {
     "name": "stderr",
     "output_type": "stream",
     "text": [
      "INFO     Max Courant: 5.00e-01\n"
     ]
    },
    {
     "name": "stderr",
     "output_type": "stream",
     "text": [
      "INFO     Semi-implicit Quasi Newton: Explicit forcing\n"
     ]
    },
    {
     "name": "stderr",
     "output_type": "stream",
     "text": [
      "INFO     Max Courant transporting velocity, outer iteration 0: 5.00e-01\n"
     ]
    },
    {
     "name": "stderr",
     "output_type": "stream",
     "text": [
      "INFO     Semi-implicit Quasi Newton: Transport 0: u\n"
     ]
    },
    {
     "name": "stderr",
     "output_type": "stream",
     "text": [
      "INFO     Semi-implicit Quasi Newton: Transport 0: D\n"
     ]
    },
    {
     "name": "stderr",
     "output_type": "stream",
     "text": [
      "INFO     Semi-implicit Quasi Newton: Implicit forcing (0, 0)\n"
     ]
    },
    {
     "name": "stderr",
     "output_type": "stream",
     "text": [
      "INFO     Semi-implicit Quasi Newton: Mixed solve (0, 0)\n"
     ]
    },
    {
     "name": "stderr",
     "output_type": "stream",
     "text": [
      "INFO     Semi-implicit Quasi Newton: Implicit forcing (0, 1)\n"
     ]
    },
    {
     "name": "stderr",
     "output_type": "stream",
     "text": [
      "INFO     Semi-implicit Quasi Newton: Mixed solve (0, 1)\n"
     ]
    },
    {
     "name": "stderr",
     "output_type": "stream",
     "text": [
      "INFO     Max Courant transporting velocity, outer iteration 1: 5.00e-01\n"
     ]
    },
    {
     "name": "stderr",
     "output_type": "stream",
     "text": [
      "INFO     Semi-implicit Quasi Newton: Transport 1: u\n"
     ]
    },
    {
     "name": "stderr",
     "output_type": "stream",
     "text": [
      "INFO     Semi-implicit Quasi Newton: Transport 1: D\n"
     ]
    },
    {
     "name": "stderr",
     "output_type": "stream",
     "text": [
      "INFO     Semi-implicit Quasi Newton: Implicit forcing (1, 0)\n"
     ]
    },
    {
     "name": "stderr",
     "output_type": "stream",
     "text": [
      "INFO     Semi-implicit Quasi Newton: Mixed solve (1, 0)\n"
     ]
    },
    {
     "name": "stderr",
     "output_type": "stream",
     "text": [
      "INFO     Semi-implicit Quasi Newton: Implicit forcing (1, 1)\n"
     ]
    },
    {
     "name": "stderr",
     "output_type": "stream",
     "text": [
      "INFO     Semi-implicit Quasi Newton: Mixed solve (1, 1)\n"
     ]
    },
    {
     "name": "stderr",
     "output_type": "stream",
     "text": [
      "INFO     \n"
     ]
    },
    {
     "name": "stderr",
     "output_type": "stream",
     "text": [
      "INFO     ========================================\n"
     ]
    },
    {
     "name": "stderr",
     "output_type": "stream",
     "text": [
      "INFO     at start of timestep 8, t=28000.0, dt=4000.0\n"
     ]
    },
    {
     "name": "stderr",
     "output_type": "stream",
     "text": [
      "INFO     Max Courant: 4.99e-01\n"
     ]
    },
    {
     "name": "stderr",
     "output_type": "stream",
     "text": [
      "INFO     Semi-implicit Quasi Newton: Explicit forcing\n"
     ]
    },
    {
     "name": "stderr",
     "output_type": "stream",
     "text": [
      "INFO     Max Courant transporting velocity, outer iteration 0: 4.99e-01\n"
     ]
    },
    {
     "name": "stderr",
     "output_type": "stream",
     "text": [
      "INFO     Semi-implicit Quasi Newton: Transport 0: u\n"
     ]
    },
    {
     "name": "stderr",
     "output_type": "stream",
     "text": [
      "INFO     Semi-implicit Quasi Newton: Transport 0: D\n"
     ]
    },
    {
     "name": "stderr",
     "output_type": "stream",
     "text": [
      "INFO     Semi-implicit Quasi Newton: Implicit forcing (0, 0)\n"
     ]
    },
    {
     "name": "stderr",
     "output_type": "stream",
     "text": [
      "INFO     Semi-implicit Quasi Newton: Mixed solve (0, 0)\n"
     ]
    },
    {
     "name": "stderr",
     "output_type": "stream",
     "text": [
      "INFO     Semi-implicit Quasi Newton: Implicit forcing (0, 1)\n"
     ]
    },
    {
     "name": "stderr",
     "output_type": "stream",
     "text": [
      "INFO     Semi-implicit Quasi Newton: Mixed solve (0, 1)\n"
     ]
    },
    {
     "name": "stderr",
     "output_type": "stream",
     "text": [
      "INFO     Max Courant transporting velocity, outer iteration 1: 4.99e-01\n"
     ]
    },
    {
     "name": "stderr",
     "output_type": "stream",
     "text": [
      "INFO     Semi-implicit Quasi Newton: Transport 1: u\n"
     ]
    },
    {
     "name": "stderr",
     "output_type": "stream",
     "text": [
      "INFO     Semi-implicit Quasi Newton: Transport 1: D\n"
     ]
    },
    {
     "name": "stderr",
     "output_type": "stream",
     "text": [
      "INFO     Semi-implicit Quasi Newton: Implicit forcing (1, 0)\n"
     ]
    },
    {
     "name": "stderr",
     "output_type": "stream",
     "text": [
      "INFO     Semi-implicit Quasi Newton: Mixed solve (1, 0)\n"
     ]
    },
    {
     "name": "stderr",
     "output_type": "stream",
     "text": [
      "INFO     Semi-implicit Quasi Newton: Implicit forcing (1, 1)\n"
     ]
    },
    {
     "name": "stderr",
     "output_type": "stream",
     "text": [
      "INFO     Semi-implicit Quasi Newton: Mixed solve (1, 1)\n"
     ]
    },
    {
     "name": "stderr",
     "output_type": "stream",
     "text": [
      "INFO     \n"
     ]
    },
    {
     "name": "stderr",
     "output_type": "stream",
     "text": [
      "INFO     ========================================\n"
     ]
    },
    {
     "name": "stderr",
     "output_type": "stream",
     "text": [
      "INFO     at start of timestep 9, t=32000.0, dt=4000.0\n"
     ]
    },
    {
     "name": "stderr",
     "output_type": "stream",
     "text": [
      "INFO     Max Courant: 5.01e-01\n"
     ]
    },
    {
     "name": "stderr",
     "output_type": "stream",
     "text": [
      "INFO     Semi-implicit Quasi Newton: Explicit forcing\n"
     ]
    },
    {
     "name": "stderr",
     "output_type": "stream",
     "text": [
      "INFO     Max Courant transporting velocity, outer iteration 0: 5.01e-01\n"
     ]
    },
    {
     "name": "stderr",
     "output_type": "stream",
     "text": [
      "INFO     Semi-implicit Quasi Newton: Transport 0: u\n"
     ]
    },
    {
     "name": "stderr",
     "output_type": "stream",
     "text": [
      "INFO     Semi-implicit Quasi Newton: Transport 0: D\n"
     ]
    },
    {
     "name": "stderr",
     "output_type": "stream",
     "text": [
      "INFO     Semi-implicit Quasi Newton: Implicit forcing (0, 0)\n"
     ]
    },
    {
     "name": "stderr",
     "output_type": "stream",
     "text": [
      "INFO     Semi-implicit Quasi Newton: Mixed solve (0, 0)\n"
     ]
    },
    {
     "name": "stderr",
     "output_type": "stream",
     "text": [
      "INFO     Semi-implicit Quasi Newton: Implicit forcing (0, 1)\n"
     ]
    },
    {
     "name": "stderr",
     "output_type": "stream",
     "text": [
      "INFO     Semi-implicit Quasi Newton: Mixed solve (0, 1)\n"
     ]
    },
    {
     "name": "stderr",
     "output_type": "stream",
     "text": [
      "INFO     Max Courant transporting velocity, outer iteration 1: 5.00e-01\n"
     ]
    },
    {
     "name": "stderr",
     "output_type": "stream",
     "text": [
      "INFO     Semi-implicit Quasi Newton: Transport 1: u\n"
     ]
    },
    {
     "name": "stderr",
     "output_type": "stream",
     "text": [
      "INFO     Semi-implicit Quasi Newton: Transport 1: D\n"
     ]
    },
    {
     "name": "stderr",
     "output_type": "stream",
     "text": [
      "INFO     Semi-implicit Quasi Newton: Implicit forcing (1, 0)\n"
     ]
    },
    {
     "name": "stderr",
     "output_type": "stream",
     "text": [
      "INFO     Semi-implicit Quasi Newton: Mixed solve (1, 0)\n"
     ]
    },
    {
     "name": "stderr",
     "output_type": "stream",
     "text": [
      "INFO     Semi-implicit Quasi Newton: Implicit forcing (1, 1)\n"
     ]
    },
    {
     "name": "stderr",
     "output_type": "stream",
     "text": [
      "INFO     Semi-implicit Quasi Newton: Mixed solve (1, 1)\n"
     ]
    },
    {
     "name": "stderr",
     "output_type": "stream",
     "text": [
      "INFO     \n"
     ]
    },
    {
     "name": "stderr",
     "output_type": "stream",
     "text": [
      "INFO     ========================================\n"
     ]
    },
    {
     "name": "stderr",
     "output_type": "stream",
     "text": [
      "INFO     at start of timestep 10, t=36000.0, dt=4000.0\n"
     ]
    },
    {
     "name": "stderr",
     "output_type": "stream",
     "text": [
      "INFO     Max Courant: 4.98e-01\n"
     ]
    },
    {
     "name": "stderr",
     "output_type": "stream",
     "text": [
      "INFO     Semi-implicit Quasi Newton: Explicit forcing\n"
     ]
    },
    {
     "name": "stderr",
     "output_type": "stream",
     "text": [
      "INFO     Max Courant transporting velocity, outer iteration 0: 4.98e-01\n"
     ]
    },
    {
     "name": "stderr",
     "output_type": "stream",
     "text": [
      "INFO     Semi-implicit Quasi Newton: Transport 0: u\n"
     ]
    },
    {
     "name": "stderr",
     "output_type": "stream",
     "text": [
      "INFO     Semi-implicit Quasi Newton: Transport 0: D\n"
     ]
    },
    {
     "name": "stderr",
     "output_type": "stream",
     "text": [
      "INFO     Semi-implicit Quasi Newton: Implicit forcing (0, 0)\n"
     ]
    },
    {
     "name": "stderr",
     "output_type": "stream",
     "text": [
      "INFO     Semi-implicit Quasi Newton: Mixed solve (0, 0)\n"
     ]
    },
    {
     "name": "stderr",
     "output_type": "stream",
     "text": [
      "INFO     Semi-implicit Quasi Newton: Implicit forcing (0, 1)\n"
     ]
    },
    {
     "name": "stderr",
     "output_type": "stream",
     "text": [
      "INFO     Semi-implicit Quasi Newton: Mixed solve (0, 1)\n"
     ]
    },
    {
     "name": "stderr",
     "output_type": "stream",
     "text": [
      "INFO     Max Courant transporting velocity, outer iteration 1: 4.99e-01\n"
     ]
    },
    {
     "name": "stderr",
     "output_type": "stream",
     "text": [
      "INFO     Semi-implicit Quasi Newton: Transport 1: u\n"
     ]
    },
    {
     "name": "stderr",
     "output_type": "stream",
     "text": [
      "INFO     Semi-implicit Quasi Newton: Transport 1: D\n"
     ]
    },
    {
     "name": "stderr",
     "output_type": "stream",
     "text": [
      "INFO     Semi-implicit Quasi Newton: Implicit forcing (1, 0)\n"
     ]
    },
    {
     "name": "stderr",
     "output_type": "stream",
     "text": [
      "INFO     Semi-implicit Quasi Newton: Mixed solve (1, 0)\n"
     ]
    },
    {
     "name": "stderr",
     "output_type": "stream",
     "text": [
      "INFO     Semi-implicit Quasi Newton: Implicit forcing (1, 1)\n"
     ]
    },
    {
     "name": "stderr",
     "output_type": "stream",
     "text": [
      "INFO     Semi-implicit Quasi Newton: Mixed solve (1, 1)\n"
     ]
    },
    {
     "name": "stderr",
     "output_type": "stream",
     "text": [
      "INFO     \n"
     ]
    },
    {
     "name": "stderr",
     "output_type": "stream",
     "text": [
      "INFO     ========================================\n"
     ]
    },
    {
     "name": "stderr",
     "output_type": "stream",
     "text": [
      "INFO     at start of timestep 11, t=40000.0, dt=4000.0\n"
     ]
    },
    {
     "name": "stderr",
     "output_type": "stream",
     "text": [
      "INFO     Max Courant: 5.01e-01\n"
     ]
    },
    {
     "name": "stderr",
     "output_type": "stream",
     "text": [
      "INFO     Semi-implicit Quasi Newton: Explicit forcing\n"
     ]
    },
    {
     "name": "stderr",
     "output_type": "stream",
     "text": [
      "INFO     Max Courant transporting velocity, outer iteration 0: 5.01e-01\n"
     ]
    },
    {
     "name": "stderr",
     "output_type": "stream",
     "text": [
      "INFO     Semi-implicit Quasi Newton: Transport 0: u\n"
     ]
    },
    {
     "name": "stderr",
     "output_type": "stream",
     "text": [
      "INFO     Semi-implicit Quasi Newton: Transport 0: D\n"
     ]
    },
    {
     "name": "stderr",
     "output_type": "stream",
     "text": [
      "INFO     Semi-implicit Quasi Newton: Implicit forcing (0, 0)\n"
     ]
    },
    {
     "name": "stderr",
     "output_type": "stream",
     "text": [
      "INFO     Semi-implicit Quasi Newton: Mixed solve (0, 0)\n"
     ]
    },
    {
     "name": "stderr",
     "output_type": "stream",
     "text": [
      "INFO     Semi-implicit Quasi Newton: Implicit forcing (0, 1)\n"
     ]
    },
    {
     "name": "stderr",
     "output_type": "stream",
     "text": [
      "INFO     Semi-implicit Quasi Newton: Mixed solve (0, 1)\n"
     ]
    },
    {
     "name": "stderr",
     "output_type": "stream",
     "text": [
      "INFO     Max Courant transporting velocity, outer iteration 1: 4.99e-01\n"
     ]
    },
    {
     "name": "stderr",
     "output_type": "stream",
     "text": [
      "INFO     Semi-implicit Quasi Newton: Transport 1: u\n"
     ]
    },
    {
     "name": "stderr",
     "output_type": "stream",
     "text": [
      "INFO     Semi-implicit Quasi Newton: Transport 1: D\n"
     ]
    },
    {
     "name": "stderr",
     "output_type": "stream",
     "text": [
      "INFO     Semi-implicit Quasi Newton: Implicit forcing (1, 0)\n"
     ]
    },
    {
     "name": "stderr",
     "output_type": "stream",
     "text": [
      "INFO     Semi-implicit Quasi Newton: Mixed solve (1, 0)\n"
     ]
    },
    {
     "name": "stderr",
     "output_type": "stream",
     "text": [
      "INFO     Semi-implicit Quasi Newton: Implicit forcing (1, 1)\n"
     ]
    },
    {
     "name": "stderr",
     "output_type": "stream",
     "text": [
      "INFO     Semi-implicit Quasi Newton: Mixed solve (1, 1)\n"
     ]
    },
    {
     "name": "stderr",
     "output_type": "stream",
     "text": [
      "INFO     \n"
     ]
    },
    {
     "name": "stderr",
     "output_type": "stream",
     "text": [
      "INFO     ========================================\n"
     ]
    },
    {
     "name": "stderr",
     "output_type": "stream",
     "text": [
      "INFO     at start of timestep 12, t=44000.0, dt=4000.0\n"
     ]
    },
    {
     "name": "stderr",
     "output_type": "stream",
     "text": [
      "INFO     Max Courant: 4.98e-01\n"
     ]
    },
    {
     "name": "stderr",
     "output_type": "stream",
     "text": [
      "INFO     Semi-implicit Quasi Newton: Explicit forcing\n"
     ]
    },
    {
     "name": "stderr",
     "output_type": "stream",
     "text": [
      "INFO     Max Courant transporting velocity, outer iteration 0: 4.98e-01\n"
     ]
    },
    {
     "name": "stderr",
     "output_type": "stream",
     "text": [
      "INFO     Semi-implicit Quasi Newton: Transport 0: u\n"
     ]
    },
    {
     "name": "stderr",
     "output_type": "stream",
     "text": [
      "INFO     Semi-implicit Quasi Newton: Transport 0: D\n"
     ]
    },
    {
     "name": "stderr",
     "output_type": "stream",
     "text": [
      "INFO     Semi-implicit Quasi Newton: Implicit forcing (0, 0)\n"
     ]
    },
    {
     "name": "stderr",
     "output_type": "stream",
     "text": [
      "INFO     Semi-implicit Quasi Newton: Mixed solve (0, 0)\n"
     ]
    },
    {
     "name": "stderr",
     "output_type": "stream",
     "text": [
      "INFO     Semi-implicit Quasi Newton: Implicit forcing (0, 1)\n"
     ]
    },
    {
     "name": "stderr",
     "output_type": "stream",
     "text": [
      "INFO     Semi-implicit Quasi Newton: Mixed solve (0, 1)\n"
     ]
    },
    {
     "name": "stderr",
     "output_type": "stream",
     "text": [
      "INFO     Max Courant transporting velocity, outer iteration 1: 5.00e-01\n"
     ]
    },
    {
     "name": "stderr",
     "output_type": "stream",
     "text": [
      "INFO     Semi-implicit Quasi Newton: Transport 1: u\n"
     ]
    },
    {
     "name": "stderr",
     "output_type": "stream",
     "text": [
      "INFO     Semi-implicit Quasi Newton: Transport 1: D\n"
     ]
    },
    {
     "name": "stderr",
     "output_type": "stream",
     "text": [
      "INFO     Semi-implicit Quasi Newton: Implicit forcing (1, 0)\n"
     ]
    },
    {
     "name": "stderr",
     "output_type": "stream",
     "text": [
      "INFO     Semi-implicit Quasi Newton: Mixed solve (1, 0)\n"
     ]
    },
    {
     "name": "stderr",
     "output_type": "stream",
     "text": [
      "INFO     Semi-implicit Quasi Newton: Implicit forcing (1, 1)\n"
     ]
    },
    {
     "name": "stderr",
     "output_type": "stream",
     "text": [
      "INFO     Semi-implicit Quasi Newton: Mixed solve (1, 1)\n"
     ]
    },
    {
     "name": "stderr",
     "output_type": "stream",
     "text": [
      "INFO     \n"
     ]
    },
    {
     "name": "stderr",
     "output_type": "stream",
     "text": [
      "INFO     ========================================\n"
     ]
    },
    {
     "name": "stderr",
     "output_type": "stream",
     "text": [
      "INFO     at start of timestep 13, t=48000.0, dt=4000.0\n"
     ]
    },
    {
     "name": "stderr",
     "output_type": "stream",
     "text": [
      "INFO     Max Courant: 4.99e-01\n"
     ]
    },
    {
     "name": "stderr",
     "output_type": "stream",
     "text": [
      "INFO     Semi-implicit Quasi Newton: Explicit forcing\n"
     ]
    },
    {
     "name": "stderr",
     "output_type": "stream",
     "text": [
      "INFO     Max Courant transporting velocity, outer iteration 0: 4.99e-01\n"
     ]
    },
    {
     "name": "stderr",
     "output_type": "stream",
     "text": [
      "INFO     Semi-implicit Quasi Newton: Transport 0: u\n"
     ]
    },
    {
     "name": "stderr",
     "output_type": "stream",
     "text": [
      "INFO     Semi-implicit Quasi Newton: Transport 0: D\n"
     ]
    },
    {
     "name": "stderr",
     "output_type": "stream",
     "text": [
      "INFO     Semi-implicit Quasi Newton: Implicit forcing (0, 0)\n"
     ]
    },
    {
     "name": "stderr",
     "output_type": "stream",
     "text": [
      "INFO     Semi-implicit Quasi Newton: Mixed solve (0, 0)\n"
     ]
    },
    {
     "name": "stderr",
     "output_type": "stream",
     "text": [
      "INFO     Semi-implicit Quasi Newton: Implicit forcing (0, 1)\n"
     ]
    },
    {
     "name": "stderr",
     "output_type": "stream",
     "text": [
      "INFO     Semi-implicit Quasi Newton: Mixed solve (0, 1)\n"
     ]
    },
    {
     "name": "stderr",
     "output_type": "stream",
     "text": [
      "INFO     Max Courant transporting velocity, outer iteration 1: 4.99e-01\n"
     ]
    },
    {
     "name": "stderr",
     "output_type": "stream",
     "text": [
      "INFO     Semi-implicit Quasi Newton: Transport 1: u\n"
     ]
    },
    {
     "name": "stderr",
     "output_type": "stream",
     "text": [
      "INFO     Semi-implicit Quasi Newton: Transport 1: D\n"
     ]
    },
    {
     "name": "stderr",
     "output_type": "stream",
     "text": [
      "INFO     Semi-implicit Quasi Newton: Implicit forcing (1, 0)\n"
     ]
    },
    {
     "name": "stderr",
     "output_type": "stream",
     "text": [
      "INFO     Semi-implicit Quasi Newton: Mixed solve (1, 0)\n"
     ]
    },
    {
     "name": "stderr",
     "output_type": "stream",
     "text": [
      "INFO     Semi-implicit Quasi Newton: Implicit forcing (1, 1)\n"
     ]
    },
    {
     "name": "stderr",
     "output_type": "stream",
     "text": [
      "INFO     Semi-implicit Quasi Newton: Mixed solve (1, 1)\n"
     ]
    },
    {
     "name": "stderr",
     "output_type": "stream",
     "text": [
      "INFO     \n"
     ]
    },
    {
     "name": "stderr",
     "output_type": "stream",
     "text": [
      "INFO     ========================================\n"
     ]
    },
    {
     "name": "stderr",
     "output_type": "stream",
     "text": [
      "INFO     at start of timestep 14, t=52000.0, dt=4000.0\n"
     ]
    },
    {
     "name": "stderr",
     "output_type": "stream",
     "text": [
      "INFO     Max Courant: 5.01e-01\n"
     ]
    },
    {
     "name": "stderr",
     "output_type": "stream",
     "text": [
      "INFO     Semi-implicit Quasi Newton: Explicit forcing\n"
     ]
    },
    {
     "name": "stderr",
     "output_type": "stream",
     "text": [
      "INFO     Max Courant transporting velocity, outer iteration 0: 5.01e-01\n"
     ]
    },
    {
     "name": "stderr",
     "output_type": "stream",
     "text": [
      "INFO     Semi-implicit Quasi Newton: Transport 0: u\n"
     ]
    },
    {
     "name": "stderr",
     "output_type": "stream",
     "text": [
      "INFO     Semi-implicit Quasi Newton: Transport 0: D\n"
     ]
    },
    {
     "name": "stderr",
     "output_type": "stream",
     "text": [
      "INFO     Semi-implicit Quasi Newton: Implicit forcing (0, 0)\n"
     ]
    },
    {
     "name": "stderr",
     "output_type": "stream",
     "text": [
      "INFO     Semi-implicit Quasi Newton: Mixed solve (0, 0)\n"
     ]
    },
    {
     "name": "stderr",
     "output_type": "stream",
     "text": [
      "INFO     Semi-implicit Quasi Newton: Implicit forcing (0, 1)\n"
     ]
    },
    {
     "name": "stderr",
     "output_type": "stream",
     "text": [
      "INFO     Semi-implicit Quasi Newton: Mixed solve (0, 1)\n"
     ]
    },
    {
     "name": "stderr",
     "output_type": "stream",
     "text": [
      "INFO     Max Courant transporting velocity, outer iteration 1: 5.00e-01\n"
     ]
    },
    {
     "name": "stderr",
     "output_type": "stream",
     "text": [
      "INFO     Semi-implicit Quasi Newton: Transport 1: u\n"
     ]
    },
    {
     "name": "stderr",
     "output_type": "stream",
     "text": [
      "INFO     Semi-implicit Quasi Newton: Transport 1: D\n"
     ]
    },
    {
     "name": "stderr",
     "output_type": "stream",
     "text": [
      "INFO     Semi-implicit Quasi Newton: Implicit forcing (1, 0)\n"
     ]
    },
    {
     "name": "stderr",
     "output_type": "stream",
     "text": [
      "INFO     Semi-implicit Quasi Newton: Mixed solve (1, 0)\n"
     ]
    },
    {
     "name": "stderr",
     "output_type": "stream",
     "text": [
      "INFO     Semi-implicit Quasi Newton: Implicit forcing (1, 1)\n"
     ]
    },
    {
     "name": "stderr",
     "output_type": "stream",
     "text": [
      "INFO     Semi-implicit Quasi Newton: Mixed solve (1, 1)\n"
     ]
    },
    {
     "name": "stderr",
     "output_type": "stream",
     "text": [
      "INFO     \n"
     ]
    },
    {
     "name": "stderr",
     "output_type": "stream",
     "text": [
      "INFO     ========================================\n"
     ]
    },
    {
     "name": "stderr",
     "output_type": "stream",
     "text": [
      "INFO     at start of timestep 15, t=56000.0, dt=4000.0\n"
     ]
    },
    {
     "name": "stderr",
     "output_type": "stream",
     "text": [
      "INFO     Max Courant: 5.01e-01\n"
     ]
    },
    {
     "name": "stderr",
     "output_type": "stream",
     "text": [
      "INFO     Semi-implicit Quasi Newton: Explicit forcing\n"
     ]
    },
    {
     "name": "stderr",
     "output_type": "stream",
     "text": [
      "INFO     Max Courant transporting velocity, outer iteration 0: 5.01e-01\n"
     ]
    },
    {
     "name": "stderr",
     "output_type": "stream",
     "text": [
      "INFO     Semi-implicit Quasi Newton: Transport 0: u\n"
     ]
    },
    {
     "name": "stderr",
     "output_type": "stream",
     "text": [
      "INFO     Semi-implicit Quasi Newton: Transport 0: D\n"
     ]
    },
    {
     "name": "stderr",
     "output_type": "stream",
     "text": [
      "INFO     Semi-implicit Quasi Newton: Implicit forcing (0, 0)\n"
     ]
    },
    {
     "name": "stderr",
     "output_type": "stream",
     "text": [
      "INFO     Semi-implicit Quasi Newton: Mixed solve (0, 0)\n"
     ]
    },
    {
     "name": "stderr",
     "output_type": "stream",
     "text": [
      "INFO     Semi-implicit Quasi Newton: Implicit forcing (0, 1)\n"
     ]
    },
    {
     "name": "stderr",
     "output_type": "stream",
     "text": [
      "INFO     Semi-implicit Quasi Newton: Mixed solve (0, 1)\n"
     ]
    },
    {
     "name": "stderr",
     "output_type": "stream",
     "text": [
      "INFO     Max Courant transporting velocity, outer iteration 1: 5.01e-01\n"
     ]
    },
    {
     "name": "stderr",
     "output_type": "stream",
     "text": [
      "INFO     Semi-implicit Quasi Newton: Transport 1: u\n"
     ]
    },
    {
     "name": "stderr",
     "output_type": "stream",
     "text": [
      "INFO     Semi-implicit Quasi Newton: Transport 1: D\n"
     ]
    },
    {
     "name": "stderr",
     "output_type": "stream",
     "text": [
      "INFO     Semi-implicit Quasi Newton: Implicit forcing (1, 0)\n"
     ]
    },
    {
     "name": "stderr",
     "output_type": "stream",
     "text": [
      "INFO     Semi-implicit Quasi Newton: Mixed solve (1, 0)\n"
     ]
    },
    {
     "name": "stderr",
     "output_type": "stream",
     "text": [
      "INFO     Semi-implicit Quasi Newton: Implicit forcing (1, 1)\n"
     ]
    },
    {
     "name": "stderr",
     "output_type": "stream",
     "text": [
      "INFO     Semi-implicit Quasi Newton: Mixed solve (1, 1)\n"
     ]
    },
    {
     "name": "stderr",
     "output_type": "stream",
     "text": [
      "INFO     \n"
     ]
    },
    {
     "name": "stderr",
     "output_type": "stream",
     "text": [
      "INFO     ========================================\n"
     ]
    },
    {
     "name": "stderr",
     "output_type": "stream",
     "text": [
      "INFO     at start of timestep 16, t=60000.0, dt=4000.0\n"
     ]
    },
    {
     "name": "stderr",
     "output_type": "stream",
     "text": [
      "INFO     Max Courant: 5.03e-01\n"
     ]
    },
    {
     "name": "stderr",
     "output_type": "stream",
     "text": [
      "INFO     Semi-implicit Quasi Newton: Explicit forcing\n"
     ]
    },
    {
     "name": "stderr",
     "output_type": "stream",
     "text": [
      "INFO     Max Courant transporting velocity, outer iteration 0: 5.03e-01\n"
     ]
    },
    {
     "name": "stderr",
     "output_type": "stream",
     "text": [
      "INFO     Semi-implicit Quasi Newton: Transport 0: u\n"
     ]
    },
    {
     "name": "stderr",
     "output_type": "stream",
     "text": [
      "INFO     Semi-implicit Quasi Newton: Transport 0: D\n"
     ]
    },
    {
     "name": "stderr",
     "output_type": "stream",
     "text": [
      "INFO     Semi-implicit Quasi Newton: Implicit forcing (0, 0)\n"
     ]
    },
    {
     "name": "stderr",
     "output_type": "stream",
     "text": [
      "INFO     Semi-implicit Quasi Newton: Mixed solve (0, 0)\n"
     ]
    },
    {
     "name": "stderr",
     "output_type": "stream",
     "text": [
      "INFO     Semi-implicit Quasi Newton: Implicit forcing (0, 1)\n"
     ]
    },
    {
     "name": "stderr",
     "output_type": "stream",
     "text": [
      "INFO     Semi-implicit Quasi Newton: Mixed solve (0, 1)\n"
     ]
    },
    {
     "name": "stderr",
     "output_type": "stream",
     "text": [
      "INFO     Max Courant transporting velocity, outer iteration 1: 5.01e-01\n"
     ]
    },
    {
     "name": "stderr",
     "output_type": "stream",
     "text": [
      "INFO     Semi-implicit Quasi Newton: Transport 1: u\n"
     ]
    },
    {
     "name": "stderr",
     "output_type": "stream",
     "text": [
      "INFO     Semi-implicit Quasi Newton: Transport 1: D\n"
     ]
    },
    {
     "name": "stderr",
     "output_type": "stream",
     "text": [
      "INFO     Semi-implicit Quasi Newton: Implicit forcing (1, 0)\n"
     ]
    },
    {
     "name": "stderr",
     "output_type": "stream",
     "text": [
      "INFO     Semi-implicit Quasi Newton: Mixed solve (1, 0)\n"
     ]
    },
    {
     "name": "stderr",
     "output_type": "stream",
     "text": [
      "INFO     Semi-implicit Quasi Newton: Implicit forcing (1, 1)\n"
     ]
    },
    {
     "name": "stderr",
     "output_type": "stream",
     "text": [
      "INFO     Semi-implicit Quasi Newton: Mixed solve (1, 1)\n"
     ]
    },
    {
     "name": "stderr",
     "output_type": "stream",
     "text": [
      "INFO     \n"
     ]
    },
    {
     "name": "stderr",
     "output_type": "stream",
     "text": [
      "INFO     ========================================\n"
     ]
    },
    {
     "name": "stderr",
     "output_type": "stream",
     "text": [
      "INFO     at start of timestep 17, t=64000.0, dt=4000.0\n"
     ]
    },
    {
     "name": "stderr",
     "output_type": "stream",
     "text": [
      "INFO     Max Courant: 5.01e-01\n"
     ]
    },
    {
     "name": "stderr",
     "output_type": "stream",
     "text": [
      "INFO     Semi-implicit Quasi Newton: Explicit forcing\n"
     ]
    },
    {
     "name": "stderr",
     "output_type": "stream",
     "text": [
      "INFO     Max Courant transporting velocity, outer iteration 0: 5.01e-01\n"
     ]
    },
    {
     "name": "stderr",
     "output_type": "stream",
     "text": [
      "INFO     Semi-implicit Quasi Newton: Transport 0: u\n"
     ]
    },
    {
     "name": "stderr",
     "output_type": "stream",
     "text": [
      "INFO     Semi-implicit Quasi Newton: Transport 0: D\n"
     ]
    },
    {
     "name": "stderr",
     "output_type": "stream",
     "text": [
      "INFO     Semi-implicit Quasi Newton: Implicit forcing (0, 0)\n"
     ]
    },
    {
     "name": "stderr",
     "output_type": "stream",
     "text": [
      "INFO     Semi-implicit Quasi Newton: Mixed solve (0, 0)\n"
     ]
    },
    {
     "name": "stderr",
     "output_type": "stream",
     "text": [
      "INFO     Semi-implicit Quasi Newton: Implicit forcing (0, 1)\n"
     ]
    },
    {
     "name": "stderr",
     "output_type": "stream",
     "text": [
      "INFO     Semi-implicit Quasi Newton: Mixed solve (0, 1)\n"
     ]
    },
    {
     "name": "stderr",
     "output_type": "stream",
     "text": [
      "INFO     Max Courant transporting velocity, outer iteration 1: 5.00e-01\n"
     ]
    },
    {
     "name": "stderr",
     "output_type": "stream",
     "text": [
      "INFO     Semi-implicit Quasi Newton: Transport 1: u\n"
     ]
    },
    {
     "name": "stderr",
     "output_type": "stream",
     "text": [
      "INFO     Semi-implicit Quasi Newton: Transport 1: D\n"
     ]
    },
    {
     "name": "stderr",
     "output_type": "stream",
     "text": [
      "INFO     Semi-implicit Quasi Newton: Implicit forcing (1, 0)\n"
     ]
    },
    {
     "name": "stderr",
     "output_type": "stream",
     "text": [
      "INFO     Semi-implicit Quasi Newton: Mixed solve (1, 0)\n"
     ]
    },
    {
     "name": "stderr",
     "output_type": "stream",
     "text": [
      "INFO     Semi-implicit Quasi Newton: Implicit forcing (1, 1)\n"
     ]
    },
    {
     "name": "stderr",
     "output_type": "stream",
     "text": [
      "INFO     Semi-implicit Quasi Newton: Mixed solve (1, 1)\n"
     ]
    },
    {
     "name": "stderr",
     "output_type": "stream",
     "text": [
      "INFO     \n"
     ]
    },
    {
     "name": "stderr",
     "output_type": "stream",
     "text": [
      "INFO     ========================================\n"
     ]
    },
    {
     "name": "stderr",
     "output_type": "stream",
     "text": [
      "INFO     at start of timestep 18, t=68000.0, dt=4000.0\n"
     ]
    },
    {
     "name": "stderr",
     "output_type": "stream",
     "text": [
      "INFO     Max Courant: 5.01e-01\n"
     ]
    },
    {
     "name": "stderr",
     "output_type": "stream",
     "text": [
      "INFO     Semi-implicit Quasi Newton: Explicit forcing\n"
     ]
    },
    {
     "name": "stderr",
     "output_type": "stream",
     "text": [
      "INFO     Max Courant transporting velocity, outer iteration 0: 5.01e-01\n"
     ]
    },
    {
     "name": "stderr",
     "output_type": "stream",
     "text": [
      "INFO     Semi-implicit Quasi Newton: Transport 0: u\n"
     ]
    },
    {
     "name": "stderr",
     "output_type": "stream",
     "text": [
      "INFO     Semi-implicit Quasi Newton: Transport 0: D\n"
     ]
    },
    {
     "name": "stderr",
     "output_type": "stream",
     "text": [
      "INFO     Semi-implicit Quasi Newton: Implicit forcing (0, 0)\n"
     ]
    },
    {
     "name": "stderr",
     "output_type": "stream",
     "text": [
      "INFO     Semi-implicit Quasi Newton: Mixed solve (0, 0)\n"
     ]
    },
    {
     "name": "stderr",
     "output_type": "stream",
     "text": [
      "INFO     Semi-implicit Quasi Newton: Implicit forcing (0, 1)\n"
     ]
    },
    {
     "name": "stderr",
     "output_type": "stream",
     "text": [
      "INFO     Semi-implicit Quasi Newton: Mixed solve (0, 1)\n"
     ]
    },
    {
     "name": "stderr",
     "output_type": "stream",
     "text": [
      "INFO     Max Courant transporting velocity, outer iteration 1: 5.01e-01\n"
     ]
    },
    {
     "name": "stderr",
     "output_type": "stream",
     "text": [
      "INFO     Semi-implicit Quasi Newton: Transport 1: u\n"
     ]
    },
    {
     "name": "stderr",
     "output_type": "stream",
     "text": [
      "INFO     Semi-implicit Quasi Newton: Transport 1: D\n"
     ]
    },
    {
     "name": "stderr",
     "output_type": "stream",
     "text": [
      "INFO     Semi-implicit Quasi Newton: Implicit forcing (1, 0)\n"
     ]
    },
    {
     "name": "stderr",
     "output_type": "stream",
     "text": [
      "INFO     Semi-implicit Quasi Newton: Mixed solve (1, 0)\n"
     ]
    },
    {
     "name": "stderr",
     "output_type": "stream",
     "text": [
      "INFO     Semi-implicit Quasi Newton: Implicit forcing (1, 1)\n"
     ]
    },
    {
     "name": "stderr",
     "output_type": "stream",
     "text": [
      "INFO     Semi-implicit Quasi Newton: Mixed solve (1, 1)\n"
     ]
    },
    {
     "name": "stderr",
     "output_type": "stream",
     "text": [
      "INFO     \n"
     ]
    },
    {
     "name": "stderr",
     "output_type": "stream",
     "text": [
      "INFO     ========================================\n"
     ]
    },
    {
     "name": "stderr",
     "output_type": "stream",
     "text": [
      "INFO     at start of timestep 19, t=72000.0, dt=4000.0\n"
     ]
    },
    {
     "name": "stderr",
     "output_type": "stream",
     "text": [
      "INFO     Max Courant: 5.00e-01\n"
     ]
    },
    {
     "name": "stderr",
     "output_type": "stream",
     "text": [
      "INFO     Semi-implicit Quasi Newton: Explicit forcing\n"
     ]
    },
    {
     "name": "stderr",
     "output_type": "stream",
     "text": [
      "INFO     Max Courant transporting velocity, outer iteration 0: 5.00e-01\n"
     ]
    },
    {
     "name": "stderr",
     "output_type": "stream",
     "text": [
      "INFO     Semi-implicit Quasi Newton: Transport 0: u\n"
     ]
    },
    {
     "name": "stderr",
     "output_type": "stream",
     "text": [
      "INFO     Semi-implicit Quasi Newton: Transport 0: D\n"
     ]
    },
    {
     "name": "stderr",
     "output_type": "stream",
     "text": [
      "INFO     Semi-implicit Quasi Newton: Implicit forcing (0, 0)\n"
     ]
    },
    {
     "name": "stderr",
     "output_type": "stream",
     "text": [
      "INFO     Semi-implicit Quasi Newton: Mixed solve (0, 0)\n"
     ]
    },
    {
     "name": "stderr",
     "output_type": "stream",
     "text": [
      "INFO     Semi-implicit Quasi Newton: Implicit forcing (0, 1)\n"
     ]
    },
    {
     "name": "stderr",
     "output_type": "stream",
     "text": [
      "INFO     Semi-implicit Quasi Newton: Mixed solve (0, 1)\n"
     ]
    },
    {
     "name": "stderr",
     "output_type": "stream",
     "text": [
      "INFO     Max Courant transporting velocity, outer iteration 1: 5.00e-01\n"
     ]
    },
    {
     "name": "stderr",
     "output_type": "stream",
     "text": [
      "INFO     Semi-implicit Quasi Newton: Transport 1: u\n"
     ]
    },
    {
     "name": "stderr",
     "output_type": "stream",
     "text": [
      "INFO     Semi-implicit Quasi Newton: Transport 1: D\n"
     ]
    },
    {
     "name": "stderr",
     "output_type": "stream",
     "text": [
      "INFO     Semi-implicit Quasi Newton: Implicit forcing (1, 0)\n"
     ]
    },
    {
     "name": "stderr",
     "output_type": "stream",
     "text": [
      "INFO     Semi-implicit Quasi Newton: Mixed solve (1, 0)\n"
     ]
    },
    {
     "name": "stderr",
     "output_type": "stream",
     "text": [
      "INFO     Semi-implicit Quasi Newton: Implicit forcing (1, 1)\n"
     ]
    },
    {
     "name": "stderr",
     "output_type": "stream",
     "text": [
      "INFO     Semi-implicit Quasi Newton: Mixed solve (1, 1)\n"
     ]
    },
    {
     "name": "stderr",
     "output_type": "stream",
     "text": [
      "INFO     \n"
     ]
    },
    {
     "name": "stderr",
     "output_type": "stream",
     "text": [
      "INFO     ========================================\n"
     ]
    },
    {
     "name": "stderr",
     "output_type": "stream",
     "text": [
      "INFO     at start of timestep 20, t=76000.0, dt=4000.0\n"
     ]
    },
    {
     "name": "stderr",
     "output_type": "stream",
     "text": [
      "INFO     Max Courant: 5.02e-01\n"
     ]
    },
    {
     "name": "stderr",
     "output_type": "stream",
     "text": [
      "INFO     Semi-implicit Quasi Newton: Explicit forcing\n"
     ]
    },
    {
     "name": "stderr",
     "output_type": "stream",
     "text": [
      "INFO     Max Courant transporting velocity, outer iteration 0: 5.02e-01\n"
     ]
    },
    {
     "name": "stderr",
     "output_type": "stream",
     "text": [
      "INFO     Semi-implicit Quasi Newton: Transport 0: u\n"
     ]
    },
    {
     "name": "stderr",
     "output_type": "stream",
     "text": [
      "INFO     Semi-implicit Quasi Newton: Transport 0: D\n"
     ]
    },
    {
     "name": "stderr",
     "output_type": "stream",
     "text": [
      "INFO     Semi-implicit Quasi Newton: Implicit forcing (0, 0)\n"
     ]
    },
    {
     "name": "stderr",
     "output_type": "stream",
     "text": [
      "INFO     Semi-implicit Quasi Newton: Mixed solve (0, 0)\n"
     ]
    },
    {
     "name": "stderr",
     "output_type": "stream",
     "text": [
      "INFO     Semi-implicit Quasi Newton: Implicit forcing (0, 1)\n"
     ]
    },
    {
     "name": "stderr",
     "output_type": "stream",
     "text": [
      "INFO     Semi-implicit Quasi Newton: Mixed solve (0, 1)\n"
     ]
    },
    {
     "name": "stderr",
     "output_type": "stream",
     "text": [
      "INFO     Max Courant transporting velocity, outer iteration 1: 4.99e-01\n"
     ]
    },
    {
     "name": "stderr",
     "output_type": "stream",
     "text": [
      "INFO     Semi-implicit Quasi Newton: Transport 1: u\n"
     ]
    },
    {
     "name": "stderr",
     "output_type": "stream",
     "text": [
      "INFO     Semi-implicit Quasi Newton: Transport 1: D\n"
     ]
    },
    {
     "name": "stderr",
     "output_type": "stream",
     "text": [
      "INFO     Semi-implicit Quasi Newton: Implicit forcing (1, 0)\n"
     ]
    },
    {
     "name": "stderr",
     "output_type": "stream",
     "text": [
      "INFO     Semi-implicit Quasi Newton: Mixed solve (1, 0)\n"
     ]
    },
    {
     "name": "stderr",
     "output_type": "stream",
     "text": [
      "INFO     Semi-implicit Quasi Newton: Implicit forcing (1, 1)\n"
     ]
    },
    {
     "name": "stderr",
     "output_type": "stream",
     "text": [
      "INFO     Semi-implicit Quasi Newton: Mixed solve (1, 1)\n"
     ]
    },
    {
     "name": "stderr",
     "output_type": "stream",
     "text": [
      "INFO     TIMELOOP complete. t=80000.00000, tmax=80000.00000\n"
     ]
    }
   ],
   "source": [
    "# Run the timestepper and generate the output.\n",
    "stepper.run(t=0, tmax=tmax)"
   ]
  },
  {
   "cell_type": "code",
   "execution_count": 14,
   "id": "ead33710",
   "metadata": {},
   "outputs": [],
   "source": [
    "import matplotlib.pyplot as plt\n",
    "from matplotlib import cm\n",
    "from firedrake import trisurf"
   ]
  },
  {
   "cell_type": "markdown",
   "id": "2b518722",
   "metadata": {},
   "source": [
    "After the simulation is completed, you should see that there is now a 'results' directory, with a sub-directory containing the output of this simulation. The output at the specified times is saved in a .vtu format that can be viewed using Paraview. There are five files, corresponding to the specified dump times (field_output_1.vtu, field_output_2.vtu, .., field_output_5.vtu), as well as one for the initial conditions (field_output_0.vtu). Paraview can be downloaded from the following link: https://www.paraview.org/.\n",
    "\n",
    "This test case should generate a steady state solution. Running the cell below will use Matplotlib to plot the error in the depth field (i.e. the difference between the depth field at the end of the simulation and that at the start). The velocity and depth fields are visualised below."
   ]
  },
  {
   "cell_type": "code",
   "execution_count": 15,
   "id": "ee353699-6664-4b1e-a313-7ba5a6e23544",
   "metadata": {},
   "outputs": [
    {
     "name": "stdout",
     "output_type": "stream",
     "text": [
      "Available matplotlib backends: ['agg', 'auto', 'cairo', 'gtk3', 'gtk3agg', 'gtk3cairo', 'gtk4', 'gtk4agg', 'gtk4cairo', 'inline', 'ipympl', 'macosx', 'nbagg', 'notebook', 'osx', 'pdf', 'pgf', 'ps', 'qt', 'qt5', 'qt5agg', 'qt5cairo', 'qt6', 'qtagg', 'qtcairo', 'svg', 'template', 'tk', 'tkagg', 'tkcairo', 'webagg', 'widget', 'wx', 'wx', 'wxagg', 'wxcairo']\n"
     ]
    }
   ],
   "source": [
    "%matplotlib --list"
   ]
  },
  {
   "cell_type": "code",
   "execution_count": 16,
   "id": "f1108d38",
   "metadata": {},
   "outputs": [
    {
     "data": {
      "application/vnd.jupyter.widget-view+json": {
       "model_id": "c886ffc7e03a485e9f7c899f28f47f60",
       "version_major": 2,
       "version_minor": 0
      },
      "image/png": "[encoded data removed]",
      "text/html": [
       "\n",
       "            <div style=\"display: inline-block;\">\n",
       "                <div class=\"jupyter-widgets widget-label\" style=\"text-align: center;\">\n",
       "                    Figure\n",
       "                </div>\n",
       "                <img src='data:image/png;base64,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' width=960.0/>\n",
       "            </div>\n",
       "        "
      ],
      "text/plain": [
       "Canvas(toolbar=Toolbar(toolitems=[('Home', 'Reset original view', 'home', 'home'), ('Back', 'Back to previous …"
      ]
     },
     "metadata": {},
     "output_type": "display_data"
    }
   ],
   "source": [
    "%matplotlib ipympl\n",
    "\n",
    "fig, ax = plt.subplots(subplot_kw={\"projection\": \"3d\"})\n",
    "ts = trisurf(stepper.fields('D_error'), axes=ax, cmap=cm.coolwarm)\n",
    "fig.colorbar(ts, shrink=0.5, aspect=5)\n",
    "plt.show()"
   ]
  },
  {
   "attachments": {
    "williamson2_velocity_magnitude.jpg": {
     "image/jpeg": "[encoded data removed]"
    }
   },
   "cell_type": "markdown",
   "id": "e34eb456",
   "metadata": {},
   "source": [
    "Velocity magnitude:\n",
    "\n",
    "![williamson2_velocity_magnitude.jpg](attachment:williamson2_velocity_magnitude.jpg)"
   ]
  },
  {
   "attachments": {
    "williamson2_depth.jpg": {
     "image/jpeg": "[encoded data removed]"
    }
   },
   "cell_type": "markdown",
   "id": "3e523a2a",
   "metadata": {},
   "source": [
    "Depth field:\n",
    "\n",
    "![williamson2_depth.jpg](attachment:williamson2_depth.jpg)"
   ]
  },
  {
   "cell_type": "markdown",
   "id": "810d8199",
   "metadata": {},
   "source": [
    "Congratulations, you have now successfully run a Gusto script!"
   ]
  }
 ],
 "metadata": {
  "language_info": {
   "name": "python"
  }
 },
 "nbformat": 4,
 "nbformat_minor": 5
}
