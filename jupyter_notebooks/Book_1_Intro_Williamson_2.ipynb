{
 "cells": [
  {
   "cell_type": "markdown",
   "id": "3ec4b5fe",
   "metadata": {},
   "source": [
    "# Notebook 1: Introduction with Shallow Water - Williamson 2 Test Case"
   ]
  },
  {
   "cell_type": "markdown",
   "id": "5371527b",
   "metadata": {},
   "source": [
    "This notebook provides an introduction to Gusto. We will demonstrate how to set up and run a shallow water model using the geostrophic balance test case (case 2) from the Williamson et al (1992) paper, which can be found at: \n",
    "https://doi.org/10.1016/S0021-9991(05)80016-6."
   ]
  },
  {
   "cell_type": "markdown",
   "id": "664c0cba",
   "metadata": {},
   "source": [
    "The shallow water equations are written in terms of the velocity, $\\textbf{u}$, and fluid depth, $D$:\n",
    "\n",
    "\\begin{align}\n",
    "\\textbf{u}_t + (\\textbf{u} \\cdot \\nabla) \\textbf{u} + f \\textbf{u}^{\\perp} + g \\nabla (D + b)  &= 0, \\\\\n",
    "D_t + \\nabla \\cdot (D \\textbf{u}) &= 0,\n",
    "\\end{align}\n",
    "\n",
    "where $f$ is the Coriolis parameter, $g$ is the gravitational acceleration, and $D = H+h-b$ is the total depth of the fluid where $H$ is the mean fluid depth, $h$ is the free surface height and $b$ is the topography. No boundary conditions are required as in this case we are solving on a spherical domain.\n",
    "\n",
    "The problem we shall set up is a zonal geostrophic flow. This is a steady-state solution of the shallow-water equations, so the true solution does not change with time."
   ]
  },
  {
   "cell_type": "markdown",
   "id": "29df76b1",
   "metadata": {},
   "source": [
    "We begin by importing the required libraries and functions from Firedrake and Gusto. This step is required when starting any Gusto script."
   ]
  },
  {
   "cell_type": "code",
   "execution_count": 1,
   "id": "7779c15b",
   "metadata": {},
   "outputs": [
    {
     "ename": "ModuleNotFoundError",
     "evalue": "No module named 'gusto'",
     "output_type": "error",
     "traceback": [
      "\u001b[0;31m---------------------------------------------------------------------------\u001b[0m",
      "\u001b[0;31mModuleNotFoundError\u001b[0m                       Traceback (most recent call last)",
      "Input \u001b[0;32mIn [1]\u001b[0m, in \u001b[0;36m<cell line: 1>\u001b[0;34m()\u001b[0m\n\u001b[0;32m----> 1\u001b[0m \u001b[38;5;28;01mfrom\u001b[39;00m \u001b[38;5;21;01mgusto\u001b[39;00m \u001b[38;5;28;01mimport\u001b[39;00m \u001b[38;5;241m*\u001b[39m\n\u001b[1;32m      2\u001b[0m \u001b[38;5;28;01mfrom\u001b[39;00m \u001b[38;5;21;01mfiredrake\u001b[39;00m \u001b[38;5;28;01mimport\u001b[39;00m IcosahedralSphereMesh, SpatialCoordinate, as_vector, pi\n",
      "\u001b[0;31mModuleNotFoundError\u001b[0m: No module named 'gusto'"
     ]
    }
   ],
   "source": [
    "from gusto import *\n",
    "from firedrake import IcosahedralSphereMesh, SpatialCoordinate, as_vector, pi"
   ]
  },
  {
   "cell_type": "markdown",
   "id": "33f71f3a",
   "metadata": {},
   "source": [
    "First we define the time-step size, `dt`, and duration of the simulation, `tmax`."
   ]
  },
  {
   "cell_type": "code",
   "execution_count": 2,
   "id": "f5147739",
   "metadata": {},
   "outputs": [],
   "source": [
    "dt = 4000.          # timestep (in seconds)\n",
    "tmax = 20*dt        # duration of the simulation (in seconds)"
   ]
  },
  {
   "cell_type": "markdown",
   "id": "2fb1fb2d",
   "metadata": {},
   "source": [
    "Next, we will construct a mesh of our domain. We will use one of the spherical meshes provided by Firedrake: the `IcosahedralSphereMesh`. As the spherical domain we are solving over is the Earth we specify the radius as 6371220m. The refinement level, `ref_level`, specifies the number of times the base icosahedron is refined, with each refinement dividing each triangular face in to 4 triangles. The argument `degree` specifies the polynomial degree of the function space used to represent the coordinates. We store the coordinates as `xyz` using the Firedrake `SpatialCoordinate` function - we will use these later whenever we set up spatially varying fields."
   ]
  },
  {
   "cell_type": "code",
   "execution_count": 3,
   "id": "2e9c65ea",
   "metadata": {},
   "outputs": [
    {
     "ename": "NameError",
     "evalue": "name 'IcosahedralSphereMesh' is not defined",
     "output_type": "error",
     "traceback": [
      "\u001b[0;31m---------------------------------------------------------------------------\u001b[0m",
      "\u001b[0;31mNameError\u001b[0m                                 Traceback (most recent call last)",
      "Input \u001b[0;32mIn [3]\u001b[0m, in \u001b[0;36m<cell line: 4>\u001b[0;34m()\u001b[0m\n\u001b[1;32m      2\u001b[0m ref_level \u001b[38;5;241m=\u001b[39m \u001b[38;5;241m3\u001b[39m  \u001b[38;5;66;03m# number of horizontal cells = 20*(4^refinements)\u001b[39;00m\n\u001b[1;32m      3\u001b[0m R \u001b[38;5;241m=\u001b[39m \u001b[38;5;241m6371220.\u001b[39m\n\u001b[0;32m----> 4\u001b[0m mesh \u001b[38;5;241m=\u001b[39m \u001b[43mIcosahedralSphereMesh\u001b[49m(radius\u001b[38;5;241m=\u001b[39mR, refinement_level\u001b[38;5;241m=\u001b[39mref_level, degree\u001b[38;5;241m=\u001b[39m\u001b[38;5;241m2\u001b[39m)\n\u001b[1;32m      5\u001b[0m xyz \u001b[38;5;241m=\u001b[39m SpatialCoordinate(mesh)\n",
      "\u001b[0;31mNameError\u001b[0m: name 'IcosahedralSphereMesh' is not defined"
     ]
    }
   ],
   "source": [
    "# Set up the mesh and choose the refinement level\n",
    "ref_level = 3  # number of horizontal cells = 20*(4^refinements)\n",
    "R = 6371220.\n",
    "mesh = IcosahedralSphereMesh(radius=R, refinement_level=ref_level, degree=2)\n",
    "xyz = SpatialCoordinate(mesh)"
   ]
  },
  {
   "cell_type": "markdown",
   "id": "47f38446",
   "metadata": {},
   "source": [
    "Gusto will set up compatible finite element function spaces for the prognostic fields. These are uniquely defined by specifying the family (in this case `BDM`) of the HDiv space (used for the velocity $\\textbf{u}$) and the degree (in this case `1`) of the DG space (used for the fluid depth $D$). We pass these parameters, along with the mesh and the timestep, into the `Domain` object."
   ]
  },
  {
   "cell_type": "code",
   "execution_count": 4,
   "id": "cd2835ea",
   "metadata": {},
   "outputs": [
    {
     "ename": "NameError",
     "evalue": "name 'Domain' is not defined",
     "output_type": "error",
     "traceback": [
      "\u001b[0;31m---------------------------------------------------------------------------\u001b[0m",
      "\u001b[0;31mNameError\u001b[0m                                 Traceback (most recent call last)",
      "Input \u001b[0;32mIn [4]\u001b[0m, in \u001b[0;36m<cell line: 1>\u001b[0;34m()\u001b[0m\n\u001b[0;32m----> 1\u001b[0m domain \u001b[38;5;241m=\u001b[39m \u001b[43mDomain\u001b[49m(mesh, dt, \u001b[38;5;124m\"\u001b[39m\u001b[38;5;124mBDM\u001b[39m\u001b[38;5;124m\"\u001b[39m, \u001b[38;5;241m1\u001b[39m)\n",
      "\u001b[0;31mNameError\u001b[0m: name 'Domain' is not defined"
     ]
    }
   ],
   "source": [
    "domain = Domain(mesh, dt, \"BDM\", 1)"
   ]
  },
  {
   "cell_type": "markdown",
   "id": "48ee6e88",
   "metadata": {},
   "source": [
    "The shallow water equations contain three parameters that need to be specified: the Coriolis parameter $f=2\\Omega\\sin\\theta$ where $\\Omega$ is the rotation rate and $\\theta$ the latitude, the gravitational acceleration $g$ and the mean height of the fluid layer $H$. The `ShallowWaterParameters` class has Earth-sized values as default for both $\\Omega$ and $g$ (`Omega=7.292e-5`$rad/s$ and `g=9.80616`$m/s^2$) meaning that for this example we only need to specify $H$."
   ]
  },
  {
   "cell_type": "code",
   "execution_count": 5,
   "id": "844be5eb",
   "metadata": {},
   "outputs": [
    {
     "ename": "NameError",
     "evalue": "name 'ShallowWaterParameters' is not defined",
     "output_type": "error",
     "traceback": [
      "\u001b[0;31m---------------------------------------------------------------------------\u001b[0m",
      "\u001b[0;31mNameError\u001b[0m                                 Traceback (most recent call last)",
      "Input \u001b[0;32mIn [5]\u001b[0m, in \u001b[0;36m<cell line: 3>\u001b[0;34m()\u001b[0m\n\u001b[1;32m      1\u001b[0m \u001b[38;5;66;03m# setup shallow water parameters\u001b[39;00m\n\u001b[1;32m      2\u001b[0m H \u001b[38;5;241m=\u001b[39m \u001b[38;5;241m5960.\u001b[39m\n\u001b[0;32m----> 3\u001b[0m parameters \u001b[38;5;241m=\u001b[39m \u001b[43mShallowWaterParameters\u001b[49m(H\u001b[38;5;241m=\u001b[39mH)\n",
      "\u001b[0;31mNameError\u001b[0m: name 'ShallowWaterParameters' is not defined"
     ]
    }
   ],
   "source": [
    "# setup shallow water parameters\n",
    "H = 5960.\n",
    "parameters = ShallowWaterParameters(H=H)"
   ]
  },
  {
   "cell_type": "markdown",
   "id": "2c082cfc",
   "metadata": {},
   "source": [
    "We can now set up the finite element form of the shallow water equations by passing `domain`, `parameters` and the expression for the Coriolis parameter into the `ShallowWaterEquations` class."
   ]
  },
  {
   "cell_type": "code",
   "execution_count": 6,
   "id": "8ed9914e",
   "metadata": {},
   "outputs": [
    {
     "ename": "NameError",
     "evalue": "name 'parameters' is not defined",
     "output_type": "error",
     "traceback": [
      "\u001b[0;31m---------------------------------------------------------------------------\u001b[0m",
      "\u001b[0;31mNameError\u001b[0m                                 Traceback (most recent call last)",
      "Input \u001b[0;32mIn [6]\u001b[0m, in \u001b[0;36m<cell line: 2>\u001b[0;34m()\u001b[0m\n\u001b[1;32m      1\u001b[0m \u001b[38;5;66;03m# Create a spatially varying function for the Coriolis force:\u001b[39;00m\n\u001b[0;32m----> 2\u001b[0m Omega \u001b[38;5;241m=\u001b[39m \u001b[43mparameters\u001b[49m\u001b[38;5;241m.\u001b[39mOmega\n\u001b[1;32m      3\u001b[0m fexpr \u001b[38;5;241m=\u001b[39m \u001b[38;5;241m2\u001b[39m\u001b[38;5;241m*\u001b[39mOmega\u001b[38;5;241m*\u001b[39mxyz[\u001b[38;5;241m2\u001b[39m]\u001b[38;5;241m/\u001b[39mR\n\u001b[1;32m      4\u001b[0m eqns \u001b[38;5;241m=\u001b[39m ShallowWaterEquations(domain, parameters, fexpr\u001b[38;5;241m=\u001b[39mfexpr)\n",
      "\u001b[0;31mNameError\u001b[0m: name 'parameters' is not defined"
     ]
    }
   ],
   "source": [
    "# Create a spatially varying function for the Coriolis force:\n",
    "Omega = parameters.Omega\n",
    "fexpr = 2*Omega*xyz[2]/R\n",
    "eqns = ShallowWaterEquations(domain, parameters, fexpr=fexpr)"
   ]
  },
  {
   "cell_type": "markdown",
   "id": "da3c27bd",
   "metadata": {},
   "source": [
    "We specify output option using the `OutputParameters` class. The directory name, `dirname`, must be specified. To prevent losing hard-earned simulation data, Gusto will not allow existing files to be overwritten. Hence, if one wishes to re-run a simulation with the same output filename, the existing results file needs to be moved or deleted first. This is also the place to specify the output frequency (in timesteps) of vtu files. The default is `dumpfreq=1` which outputs vtu files at every timestep (very useful when first setting up a problem!). Below we set `dumpfreq=5`."
   ]
  },
  {
   "cell_type": "code",
   "execution_count": 7,
   "id": "754708dd",
   "metadata": {},
   "outputs": [
    {
     "ename": "NameError",
     "evalue": "name 'OutputParameters' is not defined",
     "output_type": "error",
     "traceback": [
      "\u001b[0;31m---------------------------------------------------------------------------\u001b[0m",
      "\u001b[0;31mNameError\u001b[0m                                 Traceback (most recent call last)",
      "Input \u001b[0;32mIn [7]\u001b[0m, in \u001b[0;36m<cell line: 1>\u001b[0;34m()\u001b[0m\n\u001b[0;32m----> 1\u001b[0m output \u001b[38;5;241m=\u001b[39m \u001b[43mOutputParameters\u001b[49m(dirname\u001b[38;5;241m=\u001b[39m\u001b[38;5;124m\"\u001b[39m\u001b[38;5;124mwilliamson_2\u001b[39m\u001b[38;5;124m\"\u001b[39m, dumpfreq\u001b[38;5;241m=\u001b[39m\u001b[38;5;241m5\u001b[39m)\n",
      "\u001b[0;31mNameError\u001b[0m: name 'OutputParameters' is not defined"
     ]
    }
   ],
   "source": [
    "output = OutputParameters(dirname=\"williamson_2\", dumpfreq=5)"
   ]
  },
  {
   "cell_type": "markdown",
   "id": "1e1ae651",
   "metadata": {},
   "source": [
    "We can specify which diagnostics to record over a simulation. The list of avaliable diagnostics can be found in the gusto source code: https://github.com/firedrakeproject/gusto/blob/main/gusto/diagnostics.py. Since this flow should be in a steady state, it is also instructive to output the steady state error fields for both $\\textbf{u}$ and $D$ as this will tell us how close the simulation is to being correct. They will not be identically zero, due to numerical discretisation error, but the errors should not grow in time and they should reduce as the mesh and timestep are refined. We pass these diagnostics into the `IO` class, which controls the input and output and stores the fields which will be updated at each timestep."
   ]
  },
  {
   "cell_type": "code",
   "execution_count": 8,
   "id": "db9d61a0",
   "metadata": {},
   "outputs": [
    {
     "ename": "NameError",
     "evalue": "name 'SteadyStateError' is not defined",
     "output_type": "error",
     "traceback": [
      "\u001b[0;31m---------------------------------------------------------------------------\u001b[0m",
      "\u001b[0;31mNameError\u001b[0m                                 Traceback (most recent call last)",
      "Input \u001b[0;32mIn [8]\u001b[0m, in \u001b[0;36m<cell line: 1>\u001b[0;34m()\u001b[0m\n\u001b[0;32m----> 1\u001b[0m diagnostic_fields \u001b[38;5;241m=\u001b[39m [\u001b[43mSteadyStateError\u001b[49m(\u001b[38;5;124m'\u001b[39m\u001b[38;5;124mu\u001b[39m\u001b[38;5;124m'\u001b[39m), SteadyStateError(\u001b[38;5;124m'\u001b[39m\u001b[38;5;124mD\u001b[39m\u001b[38;5;124m'\u001b[39m),\n\u001b[1;32m      2\u001b[0m                      RelativeVorticity(), PotentialVorticity(),\n\u001b[1;32m      3\u001b[0m                      ShallowWaterKineticEnergy(),\n\u001b[1;32m      4\u001b[0m                      ShallowWaterPotentialEnergy(parameters),\n\u001b[1;32m      5\u001b[0m                      ShallowWaterPotentialEnstrophy(),\n\u001b[1;32m      6\u001b[0m                      CourantNumber()]\n\u001b[1;32m      8\u001b[0m io \u001b[38;5;241m=\u001b[39m IO(domain, output\u001b[38;5;241m=\u001b[39moutput, diagnostic_fields\u001b[38;5;241m=\u001b[39mdiagnostic_fields)\n",
      "\u001b[0;31mNameError\u001b[0m: name 'SteadyStateError' is not defined"
     ]
    }
   ],
   "source": [
    "diagnostic_fields = [SteadyStateError('u'), SteadyStateError('D'),\n",
    "                     RelativeVorticity(), PotentialVorticity(),\n",
    "                     ShallowWaterKineticEnergy(),\n",
    "                     ShallowWaterPotentialEnergy(parameters),\n",
    "                     ShallowWaterPotentialEnstrophy(),\n",
    "                     CourantNumber()]\n",
    "\n",
    "io = IO(domain, output=output, diagnostic_fields=diagnostic_fields)"
   ]
  },
  {
   "cell_type": "markdown",
   "id": "04687319",
   "metadata": {},
   "source": [
    "Now we will choose a timestepper. One option is to use the `SemiImplicitQuasiNewton` approach. This approach splits the equation into 'transport' terms and 'forcing' terms (i.e. everything that's not transport) and solves each separately. This allows for different time-steppers to be used for transporting the velocity and depth fields. We choose to use an Implicit Midpoint method for the velocity and an explicit strong stability preserving RK3 (SSPRK3) method for the depth. Since the Courant number for a stable SSPRK3 scheme is lower than that for the Implicit Midpoint method, we do 2 subcycles of the SSPRK3 scheme per timestep, allowing us to use a longer timestep overall. We apply the `DGUpwind` method to the transport terms for both fields. A full list of avaliable time stepping methods can be found at: https://github.com/firedrakeproject/gusto/blob/main/gusto/time_discretisation.py."
   ]
  },
  {
   "cell_type": "code",
   "execution_count": 9,
   "id": "b1642c8b",
   "metadata": {},
   "outputs": [
    {
     "ename": "NameError",
     "evalue": "name 'TrapeziumRule' is not defined",
     "output_type": "error",
     "traceback": [
      "\u001b[0;31m---------------------------------------------------------------------------\u001b[0m",
      "\u001b[0;31mNameError\u001b[0m                                 Traceback (most recent call last)",
      "Input \u001b[0;32mIn [9]\u001b[0m, in \u001b[0;36m<cell line: 1>\u001b[0;34m()\u001b[0m\n\u001b[0;32m----> 1\u001b[0m transported_fields \u001b[38;5;241m=\u001b[39m [\u001b[43mTrapeziumRule\u001b[49m(domain, \u001b[38;5;124m\"\u001b[39m\u001b[38;5;124mu\u001b[39m\u001b[38;5;124m\"\u001b[39m),\n\u001b[1;32m      2\u001b[0m                       SSPRK3(domain, \u001b[38;5;124m\"\u001b[39m\u001b[38;5;124mD\u001b[39m\u001b[38;5;124m\"\u001b[39m, fixed_subcycles\u001b[38;5;241m=\u001b[39m\u001b[38;5;241m2\u001b[39m)]\n\u001b[1;32m      3\u001b[0m transport_methods \u001b[38;5;241m=\u001b[39m [DGUpwind(eqns, \u001b[38;5;124m\"\u001b[39m\u001b[38;5;124mu\u001b[39m\u001b[38;5;124m\"\u001b[39m), DGUpwind(eqns, \u001b[38;5;124m\"\u001b[39m\u001b[38;5;124mD\u001b[39m\u001b[38;5;124m\"\u001b[39m)]\n\u001b[1;32m      4\u001b[0m stepper \u001b[38;5;241m=\u001b[39m SemiImplicitQuasiNewton(eqns, io, transported_fields,\n\u001b[1;32m      5\u001b[0m                                   transport_methods)\n",
      "\u001b[0;31mNameError\u001b[0m: name 'TrapeziumRule' is not defined"
     ]
    }
   ],
   "source": [
    "transported_fields = [TrapeziumRule(domain, \"u\"),\n",
    "                      SSPRK3(domain, \"D\", fixed_subcycles=2)]\n",
    "transport_methods = [DGUpwind(eqns, \"u\"), DGUpwind(eqns, \"D\")]\n",
    "stepper = SemiImplicitQuasiNewton(eqns, io, transported_fields,\n",
    "                                  transport_methods)"
   ]
  },
  {
   "cell_type": "markdown",
   "id": "9918a45e",
   "metadata": {},
   "source": [
    "We are now ready to specify the initial conditions:\n",
    "\\begin{align}\n",
    "\\textbf{u}_0 &= \\frac{u_{max}}{R} [-y,x,0], \\\\\n",
    "D_0 &= H - \\frac{\\Omega u_{max} z^2}{g R}.\n",
    "\\end{align}\n",
    "For the $D$ field we can simply interpolate the expression above; for the $\\textbf{u}$ field we will need to project because interpolation is not implemented for functions on HDiv spaces."
   ]
  },
  {
   "cell_type": "code",
   "execution_count": 10,
   "id": "e61d066d",
   "metadata": {},
   "outputs": [
    {
     "ename": "NameError",
     "evalue": "name 'stepper' is not defined",
     "output_type": "error",
     "traceback": [
      "\u001b[0;31m---------------------------------------------------------------------------\u001b[0m",
      "\u001b[0;31mNameError\u001b[0m                                 Traceback (most recent call last)",
      "Input \u001b[0;32mIn [10]\u001b[0m, in \u001b[0;36m<cell line: 1>\u001b[0;34m()\u001b[0m\n\u001b[0;32m----> 1\u001b[0m u0 \u001b[38;5;241m=\u001b[39m \u001b[43mstepper\u001b[49m\u001b[38;5;241m.\u001b[39mfields(\u001b[38;5;124m\"\u001b[39m\u001b[38;5;124mu\u001b[39m\u001b[38;5;124m\"\u001b[39m)\n\u001b[1;32m      2\u001b[0m D0 \u001b[38;5;241m=\u001b[39m stepper\u001b[38;5;241m.\u001b[39mfields(\u001b[38;5;124m\"\u001b[39m\u001b[38;5;124mD\u001b[39m\u001b[38;5;124m\"\u001b[39m)\n\u001b[1;32m      3\u001b[0m day \u001b[38;5;241m=\u001b[39m \u001b[38;5;241m24\u001b[39m\u001b[38;5;241m*\u001b[39m\u001b[38;5;241m60\u001b[39m\u001b[38;5;241m*\u001b[39m\u001b[38;5;241m60\u001b[39m\n",
      "\u001b[0;31mNameError\u001b[0m: name 'stepper' is not defined"
     ]
    }
   ],
   "source": [
    "u0 = stepper.fields(\"u\")\n",
    "D0 = stepper.fields(\"D\")\n",
    "day = 24*60*60\n",
    "u_max = 2*pi*R/(12*day)  # Maximum amplitude of the zonal wind (m/s)\n",
    "uexpr = as_vector([-u_max*xyz[1]/R, u_max*xyz[0]/R, 0.0])\n",
    "g = parameters.g\n",
    "Dexpr = H - ((R * Omega * u_max)*(xyz[2]*xyz[2]/(R*R)))/g\n",
    "u0.project(uexpr)\n",
    "D0.interpolate(Dexpr)"
   ]
  },
  {
   "cell_type": "markdown",
   "id": "f926bfb8",
   "metadata": {},
   "source": [
    "When using the `SemiImplicitQuasiNewton` timestepper, we also have to set up any non-zero reference profiles."
   ]
  },
  {
   "cell_type": "code",
   "execution_count": 11,
   "id": "65837e71",
   "metadata": {},
   "outputs": [
    {
     "ename": "NameError",
     "evalue": "name 'Function' is not defined",
     "output_type": "error",
     "traceback": [
      "\u001b[0;31m---------------------------------------------------------------------------\u001b[0m",
      "\u001b[0;31mNameError\u001b[0m                                 Traceback (most recent call last)",
      "Input \u001b[0;32mIn [11]\u001b[0m, in \u001b[0;36m<cell line: 1>\u001b[0;34m()\u001b[0m\n\u001b[0;32m----> 1\u001b[0m Dbar \u001b[38;5;241m=\u001b[39m \u001b[43mFunction\u001b[49m(D0\u001b[38;5;241m.\u001b[39mfunction_space())\u001b[38;5;241m.\u001b[39massign(H)\n\u001b[1;32m      2\u001b[0m stepper\u001b[38;5;241m.\u001b[39mset_reference_profiles([(\u001b[38;5;124m'\u001b[39m\u001b[38;5;124mD\u001b[39m\u001b[38;5;124m'\u001b[39m, Dbar)])\n",
      "\u001b[0;31mNameError\u001b[0m: name 'Function' is not defined"
     ]
    }
   ],
   "source": [
    "Dbar = Function(D0.function_space()).assign(H)\n",
    "stepper.set_reference_profiles([('D', Dbar)])"
   ]
  },
  {
   "cell_type": "markdown",
   "id": "fedcc51c",
   "metadata": {},
   "source": [
    "We are ready to run our simulation! We simply instruct the time-stepper to run for the specified duration."
   ]
  },
  {
   "cell_type": "code",
   "execution_count": 12,
   "id": "46852826",
   "metadata": {},
   "outputs": [
    {
     "ename": "NameError",
     "evalue": "name 'stepper' is not defined",
     "output_type": "error",
     "traceback": [
      "\u001b[0;31m---------------------------------------------------------------------------\u001b[0m",
      "\u001b[0;31mNameError\u001b[0m                                 Traceback (most recent call last)",
      "Input \u001b[0;32mIn [12]\u001b[0m, in \u001b[0;36m<cell line: 2>\u001b[0;34m()\u001b[0m\n\u001b[1;32m      1\u001b[0m \u001b[38;5;66;03m# Run the timestepper and generate the output.\u001b[39;00m\n\u001b[0;32m----> 2\u001b[0m \u001b[43mstepper\u001b[49m\u001b[38;5;241m.\u001b[39mrun(t\u001b[38;5;241m=\u001b[39m\u001b[38;5;241m0\u001b[39m, tmax\u001b[38;5;241m=\u001b[39mtmax)\n",
      "\u001b[0;31mNameError\u001b[0m: name 'stepper' is not defined"
     ]
    }
   ],
   "source": [
    "# Run the timestepper and generate the output.\n",
    "stepper.run(t=0, tmax=tmax)"
   ]
  },
  {
   "cell_type": "code",
   "execution_count": 13,
   "id": "ead33710",
   "metadata": {},
   "outputs": [
    {
     "ename": "ModuleNotFoundError",
     "evalue": "No module named 'firedrake'",
     "output_type": "error",
     "traceback": [
      "\u001b[0;31m---------------------------------------------------------------------------\u001b[0m",
      "\u001b[0;31mModuleNotFoundError\u001b[0m                       Traceback (most recent call last)",
      "Input \u001b[0;32mIn [13]\u001b[0m, in \u001b[0;36m<cell line: 3>\u001b[0;34m()\u001b[0m\n\u001b[1;32m      1\u001b[0m \u001b[38;5;28;01mimport\u001b[39;00m \u001b[38;5;21;01mmatplotlib\u001b[39;00m\u001b[38;5;21;01m.\u001b[39;00m\u001b[38;5;21;01mpyplot\u001b[39;00m \u001b[38;5;28;01mas\u001b[39;00m \u001b[38;5;21;01mplt\u001b[39;00m\n\u001b[1;32m      2\u001b[0m \u001b[38;5;28;01mfrom\u001b[39;00m \u001b[38;5;21;01mmatplotlib\u001b[39;00m \u001b[38;5;28;01mimport\u001b[39;00m cm\n\u001b[0;32m----> 3\u001b[0m \u001b[38;5;28;01mfrom\u001b[39;00m \u001b[38;5;21;01mfiredrake\u001b[39;00m \u001b[38;5;28;01mimport\u001b[39;00m trisurf\n",
      "\u001b[0;31mModuleNotFoundError\u001b[0m: No module named 'firedrake'"
     ]
    }
   ],
   "source": [
    "import matplotlib.pyplot as plt\n",
    "from matplotlib import cm\n",
    "from firedrake import trisurf"
   ]
  },
  {
   "cell_type": "markdown",
   "id": "2b518722",
   "metadata": {},
   "source": [
    "After the simulation is completed, you should see that there is now a 'results' directory, with a sub-directory containing the output of this simulation. The output at the specified times is saved in a .vtu format that can be viewed using Paraview. There are five files, corresponding to the specified dump times (field_output_1.vtu, field_output_2.vtu, .., field_output_5.vtu), as well as one for the initial conditions (field_output_0.vtu). Paraview can be downloaded from the following link: https://www.paraview.org/.\n",
    "\n",
    "This test case should generate a steady state solution. Running the cell below will use Matplotlib to plot the error in the depth field (i.e. the difference between the depth field at the end of the simulation and that at the start). The velocity and depth fields are visualised below."
   ]
  },
  {
   "cell_type": "code",
   "execution_count": 14,
   "id": "f1108d38",
   "metadata": {},
   "outputs": [
    {
     "ename": "NameError",
     "evalue": "name 'trisurf' is not defined",
     "output_type": "error",
     "traceback": [
      "\u001b[0;31m---------------------------------------------------------------------------\u001b[0m",
      "\u001b[0;31mNameError\u001b[0m                                 Traceback (most recent call last)",
      "Input \u001b[0;32mIn [14]\u001b[0m, in \u001b[0;36m<cell line: 2>\u001b[0;34m()\u001b[0m\n\u001b[1;32m      1\u001b[0m fig, ax \u001b[38;5;241m=\u001b[39m plt\u001b[38;5;241m.\u001b[39msubplots(subplot_kw\u001b[38;5;241m=\u001b[39m{\u001b[38;5;124m\"\u001b[39m\u001b[38;5;124mprojection\u001b[39m\u001b[38;5;124m\"\u001b[39m: \u001b[38;5;124m\"\u001b[39m\u001b[38;5;124m3d\u001b[39m\u001b[38;5;124m\"\u001b[39m})\n\u001b[0;32m----> 2\u001b[0m ts\u001b[38;5;241m=\u001b[39m\u001b[43mtrisurf\u001b[49m(stepper\u001b[38;5;241m.\u001b[39mfields(\u001b[38;5;124m'\u001b[39m\u001b[38;5;124mD_error\u001b[39m\u001b[38;5;124m'\u001b[39m), axes\u001b[38;5;241m=\u001b[39max, cmap\u001b[38;5;241m=\u001b[39mcm\u001b[38;5;241m.\u001b[39mcoolwarm)\n\u001b[1;32m      3\u001b[0m fig\u001b[38;5;241m.\u001b[39mcolorbar(ts, shrink\u001b[38;5;241m=\u001b[39m\u001b[38;5;241m0.5\u001b[39m, aspect\u001b[38;5;241m=\u001b[39m\u001b[38;5;241m5\u001b[39m)\n\u001b[1;32m      4\u001b[0m plt\u001b[38;5;241m.\u001b[39mshow()\n",
      "\u001b[0;31mNameError\u001b[0m: name 'trisurf' is not defined"
     ]
    },
    {
     "data": {
      "image/png": "[encoded data removed]",
      "text/plain": [
       "<Figure size 432x288 with 1 Axes>"
      ]
     },
     "metadata": {
      "needs_background": "light"
     },
     "output_type": "display_data"
    }
   ],
   "source": [
    "fig, ax = plt.subplots(subplot_kw={\"projection\": \"3d\"})\n",
    "ts=trisurf(stepper.fields('D_error'), axes=ax, cmap=cm.coolwarm)\n",
    "fig.colorbar(ts, shrink=0.5, aspect=5)\n",
    "plt.show()"
   ]
  },
  {
   "attachments": {
    "williamson2_velocity_magnitude.jpg": {
     "image/jpeg": "[encoded data removed]"
    }
   },
   "cell_type": "markdown",
   "id": "e34eb456",
   "metadata": {},
   "source": [
    "Velocity magnitude:\n",
    "![williamson2_velocity_magnitude.jpg](attachment:williamson2_velocity_magnitude.jpg)"
   ]
  },
  {
   "attachments": {
    "williamson2_depth.jpg": {
     "image/jpeg": "[encoded data removed]"
    }
   },
   "cell_type": "markdown",
   "id": "3e523a2a",
   "metadata": {},
   "source": [
    "Depth field:\n",
    "![williamson2_depth.jpg](attachment:williamson2_depth.jpg)"
   ]
  },
  {
   "cell_type": "markdown",
   "id": "810d8199",
   "metadata": {},
   "source": [
    "Congratulations, you have now successfully run a Gusto script!"
   ]
  }
 ],
 "metadata": {
  "language_info": {
   "name": "python"
  }
 },
 "nbformat": 4,
 "nbformat_minor": 5
}
