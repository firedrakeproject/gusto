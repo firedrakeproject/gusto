{
 "cells": [
  {
   "cell_type": "markdown",
   "id": "3ec4b5fe",
   "metadata": {},
   "source": [
    "# Notebook 4: Mountain Wave Test Case"
   ]
  },
  {
   "cell_type": "markdown",
   "id": "eb79138f",
   "metadata": {},
   "source": [
    "This notebook will go through an example of nonhydrostatic flow over a mountain. This test case is outlined in the paper avaliable at this link: https://doi.org/10.1002/qj.603. "
   ]
  },
  {
   "cell_type": "markdown",
   "id": "5371527b",
   "metadata": {},
   "source": [
    "The new features in this example are related to the introduction of the mountain. This requires that we deform the initial extruded mesh so that the bottom of the domain follows the specified mountain profile. We then have the issue that when we calculate the initial balanced conditions, we no longer have a flat bottom on which to specify the bottom boundary condition. We solve this problem by applying the boundary condition at the top and then applying a shift so that the bottom boundary condition is as required. The final new feature is the sponge layer which is required at the top of the domain to damp vertically propagating waves so that they are not reflected back into the domain by the nonphysical impermeable upper boundary."
   ]
  },
  {
   "cell_type": "markdown",
   "id": "29df76b1",
   "metadata": {},
   "source": [
    "We begin by importing the required functions from Firedrake and Gusto:"
   ]
  },
  {
   "cell_type": "code",
   "execution_count": 1,
   "id": "7779c15b",
   "metadata": {},
   "outputs": [],
   "source": [
    "from gusto import *\n",
    "from firedrake import (as_vector, VectorFunctionSpace,\n",
    "                       PeriodicIntervalMesh, ExtrudedMesh, SpatialCoordinate,\n",
    "                       exp, pi, cos, Function, conditional, Mesh, op2)"
   ]
  },
  {
   "cell_type": "markdown",
   "id": "33f71f3a",
   "metadata": {},
   "source": [
    "Define the time-step size and the duration of the simulation. "
   ]
  },
  {
   "cell_type": "code",
   "execution_count": 2,
   "id": "f5147739",
   "metadata": {},
   "outputs": [],
   "source": [
    "dt = 5.0\n",
    "tmax = 9000."
   ]
  },
  {
   "cell_type": "markdown",
   "id": "48ee6e88",
   "metadata": {},
   "source": [
    "Like with the gravity wave example, we will create a periodic interval mesh in the horizontal and extrude this in the vertical dimension to create a two dimensional mesh."
   ]
  },
  {
   "cell_type": "code",
   "execution_count": 3,
   "id": "844be5eb",
   "metadata": {},
   "outputs": [
    {
     "name": "stderr",
     "output_type": "stream",
     "text": [
      "UFL:WARNING Discontinuous Lagrange element requested on interval * interval, creating DQ element.\n"
     ]
    }
   ],
   "source": [
    "nlayers = 70  # horizontal layers\n",
    "columns = 180  # number of columns\n",
    "L = 144000.\n",
    "m = PeriodicIntervalMesh(columns, L)\n",
    "\n",
    "# build volume mesh\n",
    "H = 35000.  # Height position of the model top\n",
    "ext_mesh = ExtrudedMesh(m, layers=nlayers, layer_height=H/nlayers)\n",
    "Vc = VectorFunctionSpace(ext_mesh, \"DG\", 2)\n",
    "coord = SpatialCoordinate(ext_mesh)\n",
    "x = Function(Vc).interpolate(as_vector([coord[0], coord[1]]))\n",
    "a = 1000.\n",
    "xc = L/2.\n",
    "x, z = SpatialCoordinate(ext_mesh)\n",
    "hm = 1.\n",
    "zs = hm*a**2/((x-xc)**2 + a**2)"
   ]
  },
  {
   "cell_type": "markdown",
   "id": "2fb1fb2d",
   "metadata": {},
   "source": [
    "Now we transform the mesh to follow the defined terrain. A smoothing is applied in the vertical direction."
   ]
  },
  {
   "cell_type": "code",
   "execution_count": 4,
   "id": "2e9c65ea",
   "metadata": {},
   "outputs": [],
   "source": [
    "dirname = 'non_hydro_mountain_smootherz'\n",
    "\n",
    "zh = 5000.\n",
    "xexpr = as_vector([x, conditional(z < zh, z + cos(0.5*pi*z/zh)**6*zs, z)])\n",
    "\n",
    "new_coords = Function(Vc).interpolate(xexpr)\n",
    "mesh = Mesh(new_coords)"
   ]
  },
  {
   "cell_type": "markdown",
   "id": "da3c27bd",
   "metadata": {},
   "source": [
    "We will record the full velocity fields, as well as the perturbations to the potential temperature and density."
   ]
  },
  {
   "cell_type": "code",
   "execution_count": 5,
   "id": "754708dd",
   "metadata": {},
   "outputs": [],
   "source": [
    "output = OutputParameters(dirname=dirname,\n",
    "                          dumpfreq=int(tmax / (9*dt)),\n",
    "                          dumplist=['u'],\n",
    "                          perturbation_fields=['theta', 'rho'])"
   ]
  },
  {
   "cell_type": "markdown",
   "id": "1e1ae651",
   "metadata": {},
   "source": [
    "Set up the corresponding state:"
   ]
  },
  {
   "cell_type": "code",
   "execution_count": 6,
   "id": "db9d61a0",
   "metadata": {},
   "outputs": [],
   "source": [
    "parameters = CompressibleParameters(g=9.80665, cp=1004.)\n",
    "diagnostic_fields = [CourantNumber(), VelocityZ()]\n",
    "\n",
    "state = State(mesh,\n",
    "              dt=dt,\n",
    "              output=output,\n",
    "              parameters=parameters,\n",
    "              diagnostic_fields=diagnostic_fields)\n"
   ]
  },
  {
   "cell_type": "markdown",
   "id": "9918a45e",
   "metadata": {},
   "source": [
    "For this model, we require the use of a sponge layer. Gusto can formulate the `sponge` with an inbuilt function."
   ]
  },
  {
   "cell_type": "code",
   "execution_count": 7,
   "id": "cacc96b7",
   "metadata": {},
   "outputs": [],
   "source": [
    "sponge = SpongeLayerParameters(H=H, z_level=H-10000, mubar=0.15/dt)"
   ]
  },
  {
   "cell_type": "markdown",
   "id": "16a3fc8b",
   "metadata": {},
   "source": [
    "We again will use the compressible Euler equations, but this time with the sponge layer applied. We will also give the specific function space for the velocity, density, and potential temperature."
   ]
  },
  {
   "cell_type": "code",
   "execution_count": 8,
   "id": "e61d066d",
   "metadata": {},
   "outputs": [
    {
     "name": "stderr",
     "output_type": "stream",
     "text": [
      "UFL:WARNING Discontinuous Lagrange element requested on interval * interval, creating DQ element.\n"
     ]
    }
   ],
   "source": [
    "eqns = CompressibleEulerEquations(state, \"CG\", 1, sponge=sponge)\n",
    "\n",
    "# Initial conditions\n",
    "u0 = state.fields(\"u\")\n",
    "rho0 = state.fields(\"rho\")\n",
    "theta0 = state.fields(\"theta\")\n",
    "\n",
    "# spaces\n",
    "Vu = state.spaces(\"HDiv\")\n",
    "Vt = state.spaces(\"theta\")\n",
    "Vr = state.spaces(\"DG\")"
   ]
  },
  {
   "cell_type": "markdown",
   "id": "a919ef63",
   "metadata": {},
   "source": [
    "Set up the relevant parameters for the test case. Most of these relate to thermodynamic conditions."
   ]
  },
  {
   "cell_type": "code",
   "execution_count": 9,
   "id": "70d6106e",
   "metadata": {},
   "outputs": [],
   "source": [
    "# Thermodynamic constants required for setting initial conditions\n",
    "# and reference profiles\n",
    "g = parameters.g\n",
    "N = parameters.N\n",
    "p_0 = parameters.p_0\n",
    "c_p = parameters.cp\n",
    "R_d = parameters.R_d\n",
    "kappa = parameters.kappa\n",
    "\n",
    "# N^2 = (g/theta)dtheta/dz => dtheta/dz = theta N^2g => theta=theta_0exp(N^2gz)\n",
    "x, z = SpatialCoordinate(mesh)\n",
    "Tsurf = 300.\n",
    "thetab = Tsurf*exp(N**2*z/g)\n",
    "theta_b = Function(Vt).interpolate(thetab)"
   ]
  },
  {
   "cell_type": "markdown",
   "id": "04687319",
   "metadata": {},
   "source": [
    "Determine the Exner pressure using the hydrostatic balance function. (Is this because we start with a hydrostatic balance, then allow the simulation to move away from this?)"
   ]
  },
  {
   "cell_type": "code",
   "execution_count": 10,
   "id": "b1642c8b",
   "metadata": {},
   "outputs": [
    {
     "name": "stdout",
     "output_type": "stream",
     "text": [
      "    Residual norms for exner_solver_ solve.\n",
      "    0 KSP preconditioned resid norm 2.222764887545e+02 true resid norm 2.069609815553e+06 ||r(i)||/||b|| 1.000000000000e+00\n",
      "    1 KSP preconditioned resid norm 2.439348632851e-10 true resid norm 5.428050688591e-08 ||r(i)||/||b|| 2.622741082787e-14\n"
     ]
    }
   ],
   "source": [
    "# Calculate hydrostatic exner\n",
    "exner = Function(Vr)\n",
    "rho_b = Function(Vr)\n",
    "\n",
    "exner_params = {'ksp_type': 'gmres',\n",
    "                'ksp_monitor_true_residual': None,\n",
    "                'pc_type': 'python',\n",
    "                'mat_type': 'matfree',\n",
    "                'pc_python_type': 'gusto.VerticalHybridizationPC',\n",
    "                # Vertical trace system is only coupled vertically in columns\n",
    "                # block ILU is a direct solver!\n",
    "                'vert_hybridization': {'ksp_type': 'preonly',\n",
    "                                       'pc_type': 'bjacobi',\n",
    "                                       'sub_pc_type': 'ilu'}}\n",
    "\n",
    "compressible_hydrostatic_balance(state, theta_b, rho_b, exner,\n",
    "                                 top=True, exner_boundary=0.5,\n",
    "                                 params=exner_params)"
   ]
  },
  {
   "cell_type": "markdown",
   "id": "d63a49a2",
   "metadata": {},
   "source": [
    "More hydrostatic balance set up for initial conditions"
   ]
  },
  {
   "cell_type": "code",
   "execution_count": 11,
   "id": "46852826",
   "metadata": {},
   "outputs": [
    {
     "name": "stdout",
     "output_type": "stream",
     "text": [
      "    Residual norms for exner_solver_ solve.\n",
      "    0 KSP preconditioned resid norm 3.315484606629e+02 true resid norm 4.100966222339e+06 ||r(i)||/||b|| 1.000000000000e+00\n",
      "    1 KSP preconditioned resid norm 3.627206392679e-10 true resid norm 1.327793588507e-07 ||r(i)||/||b|| 3.237757924643e-14\n",
      "    Residual norms for exner_solver_ solve.\n",
      "    0 KSP preconditioned resid norm 3.310172303592e+02 true resid norm 4.091155332443e+06 ||r(i)||/||b|| 1.000000000000e+00\n",
      "    1 KSP preconditioned resid norm 3.627206384977e-10 true resid norm 9.769587860125e-08 ||r(i)||/||b|| 2.387977738868e-14\n",
      "    Residual norms for rhosolver_ solve.\n",
      "    0 KSP preconditioned resid norm 8.093018628356e-05 true resid norm 7.079661062612e+00 ||r(i)||/||b|| 1.000000000000e+00\n",
      "    1 KSP preconditioned resid norm 2.454895163496e-17 true resid norm 9.134553638225e-15 ||r(i)||/||b|| 1.290252959490e-15\n"
     ]
    }
   ],
   "source": [
    "def minimum(f):\n",
    "    fmin = op2.Global(1, [1000], dtype=float)\n",
    "    op2.par_loop(op2.Kernel(\"\"\"\n",
    "static void minify(double *a, double *b) {\n",
    "    a[0] = a[0] > fabs(b[0]) ? fabs(b[0]) : a[0];\n",
    "}\n",
    "\"\"\", \"minify\"), f.dof_dset.set, fmin(op2.MIN), f.dat(op2.READ))\n",
    "    return fmin.data[0]\n",
    "\n",
    "\n",
    "p0 = minimum(exner)\n",
    "compressible_hydrostatic_balance(state, theta_b, rho_b, exner,\n",
    "                                 top=True, params=exner_params)\n",
    "p1 = minimum(exner)\n",
    "alpha = 2.*(p1-p0)\n",
    "beta = p1-alpha\n",
    "exner_top = (1.-beta)/alpha\n",
    "compressible_hydrostatic_balance(state, theta_b, rho_b, exner,\n",
    "                                 top=True, exner_boundary=exner_top, solve_for_rho=True,\n",
    "                                 params=exner_params)\n"
   ]
  },
  {
   "cell_type": "markdown",
   "id": "2b518722",
   "metadata": {},
   "source": [
    "Project the initial conditions, using the balanced state we just calculated."
   ]
  },
  {
   "cell_type": "code",
   "execution_count": 12,
   "id": "b30935ca",
   "metadata": {},
   "outputs": [],
   "source": [
    "theta0.assign(theta_b)\n",
    "rho0.assign(rho_b)\n",
    "u0.project(as_vector([10.0, 0.0]))\n",
    "remove_initial_w(u0)\n",
    "\n",
    "state.set_reference_profiles([('rho', rho_b),\n",
    "                              ('theta', theta_b)])"
   ]
  },
  {
   "cell_type": "markdown",
   "id": "2afac417",
   "metadata": {},
   "source": [
    "Set up the time-stepper for each transported variable."
   ]
  },
  {
   "cell_type": "code",
   "execution_count": 13,
   "id": "7e16a3dc",
   "metadata": {},
   "outputs": [],
   "source": [
    "transported_fields = [ImplicitMidpoint(state, \"u\"),\n",
    "                      SSPRK3(state, \"rho\"),\n",
    "                      SSPRK3(state, \"theta\", options=SUPGOptions())]"
   ]
  },
  {
   "cell_type": "markdown",
   "id": "810d8199",
   "metadata": {},
   "source": [
    "Set up the linear solver and time-stepper."
   ]
  },
  {
   "cell_type": "code",
   "execution_count": 14,
   "id": "81bfb34c",
   "metadata": {},
   "outputs": [],
   "source": [
    "# Set up linear solver\n",
    "linear_solver = CompressibleSolver(state, eqns)\n",
    "\n",
    "# build time stepper\n",
    "stepper = SemiImplicitQuasiNewton(eqns, state, transported_fields, linear_solver=linear_solver)"
   ]
  },
  {
   "cell_type": "markdown",
   "id": "13ae4538",
   "metadata": {},
   "source": [
    "Now we would run the simulation! Note, that it does take a while ... . "
   ]
  },
  {
   "cell_type": "code",
   "execution_count": null,
   "id": "0a750ee1",
   "metadata": {},
   "outputs": [],
   "source": [
    "# Here's what you would do:\n",
    "# stepper.run(t=0, tmax=tmax)"
   ]
  }
 ],
 "metadata": {
  "kernelspec": {
   "display_name": "Python 3 (ipykernel)",
   "language": "python",
   "name": "python3"
  },
  "language_info": {
   "codemirror_mode": {
    "name": "ipython",
    "version": 3
   },
   "file_extension": ".py",
   "mimetype": "text/x-python",
   "name": "python",
   "nbconvert_exporter": "python",
   "pygments_lexer": "ipython3",
   "version": "3.9.13"
  }
 },
 "nbformat": 4,
 "nbformat_minor": 5
}
