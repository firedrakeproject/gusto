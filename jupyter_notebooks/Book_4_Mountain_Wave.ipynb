{
 "cells": [
  {
   "cell_type": "markdown",
   "id": "3ec4b5fe",
   "metadata": {},
   "source": [
    "# Notebook 4: Mountain Wave Test Case"
   ]
  },
  {
   "cell_type": "markdown",
   "id": "eb79138f",
   "metadata": {},
   "source": [
    "This notebook will go through an example of nonhydrostatic flow over a mountain. The setup is described in the paper avaliable at this link: https://doi.org/10.1002/qj.603. "
   ]
  },
  {
   "cell_type": "markdown",
   "id": "5371527b",
   "metadata": {},
   "source": [
    "The new features in this example are related to the introduction of the mountain. This requires that we deform the mesh so that the bottom of the domain follows the specified mountain profile. We then have the issue that when we calculate the initial balanced conditions, we no longer have a flat bottom on which to specify the required bottom boundary condition. We solve this problem by applying the boundary condition at the top and then applying a shift so that the bottom boundary condition is as required. The final new feature is the sponge layer which is required at the top of the domain to damp vertically propagating waves so that they are not reflected back into the domain by the nonphysical impermeable upper boundary."
   ]
  },
  {
   "cell_type": "markdown",
   "id": "29df76b1",
   "metadata": {},
   "source": [
    "We begin by importing the required functions from Firedrake and Gusto:"
   ]
  },
  {
   "cell_type": "code",
   "execution_count": 1,
   "id": "7779c15b",
   "metadata": {},
   "outputs": [
    {
     "name": "stderr",
     "output_type": "stream",
     "text": [
      "INFO     Running /Users/JS1075/firedrake_dec24/lib/python3.12/site-packages/ipykernel_launcher.py -f /private/var/folders/f0/llvlmlb50qg6mmlxs8m6d6d00000gp/T/tmp53ehmk08.json --HistoryManager.hist_file=:memory:\n"
     ]
    }
   ],
   "source": [
    "from gusto import *\n",
    "from firedrake import (as_vector, VectorFunctionSpace,\n",
    "                       PeriodicIntervalMesh, ExtrudedMesh, SpatialCoordinate,\n",
    "                       exp, pi, cos, Function, conditional, Mesh)"
   ]
  },
  {
   "cell_type": "markdown",
   "id": "33f71f3a",
   "metadata": {},
   "source": [
    "Define the time-step size and the duration of the simulation. "
   ]
  },
  {
   "cell_type": "code",
   "execution_count": 2,
   "id": "f5147739",
   "metadata": {},
   "outputs": [],
   "source": [
    "dt = 5.0\n",
    "tmax = 9000."
   ]
  },
  {
   "cell_type": "markdown",
   "id": "48ee6e88",
   "metadata": {},
   "source": [
    "Create a periodic interval mesh in the horizontal and extrude this in the vertical dimension to create a two dimensional mesh with vertically aligned columns. The extrusion is necessary because we create the compatible finite element function spaces by taking tensor products of the horizontal and vertical function spaces."
   ]
  },
  {
   "cell_type": "code",
   "execution_count": 3,
   "id": "844be5eb",
   "metadata": {},
   "outputs": [],
   "source": [
    "nlayers = 70    # number of horizontal layers\n",
    "ncolumns = 180  # number of columns\n",
    "domain_width = 144000.\n",
    "base_mesh = PeriodicIntervalMesh(ncolumns, domain_width)\n",
    "\n",
    "domain_height = 35000.\n",
    "ext_mesh = ExtrudedMesh(base_mesh, layers=nlayers,\n",
    "                        layer_height=domain_height/nlayers)"
   ]
  },
  {
   "cell_type": "markdown",
   "id": "2fb1fb2d",
   "metadata": {},
   "source": [
    "Now we transform the mesh to follow the defined terrain. First we set the parameters describing the mountain width, height and position. Then we create an expression `xexpr` for the coordinates of the deformed mesh. The first component of the coordinates is unchanged but the second is replaced by a new coordinate that transitions smoothly from following the mountain profile at the bottom of the domain to flat layers at a height specified by the `zh` parameter. We then create a new vector function space, `Vc`, that has quadratic basis functions (required to represent the deformed mesh coordinates). We interpolate our `xexpr` to a new `Function` defined on `Vc` and then create a new mesh with these coordinates which we can use to set up our domain."
   ]
  },
  {
   "cell_type": "code",
   "execution_count": 4,
   "id": "2e9c65ea",
   "metadata": {},
   "outputs": [],
   "source": [
    "a = 1000.    # half-width of mountain\n",
    "hm = 1.      # height of mountain\n",
    "xc = domain_width/2.   # x position of mountain centre\n",
    "xz = SpatialCoordinate(ext_mesh)  # get coordinates of undeformed mesh\n",
    "zs = hm*a**2/((xz[0]-xc)**2 + a**2)  # this defines the mountain as a function of x\n",
    "\n",
    "zh = 5000.   # height at which mesh layers become flat again\n",
    "xexpr = as_vector([xz[0], conditional(xz[1] < zh, xz[1] + cos(0.5*pi*xz[1]/zh)**6*zs, xz[1])])\n",
    "\n",
    "# create new mesh using deformed coordinates\n",
    "Vc = VectorFunctionSpace(ext_mesh, \"DG\", 2)\n",
    "new_coords = Function(Vc).interpolate(xexpr)\n",
    "mesh = Mesh(new_coords)\n",
    "mesh._base_mesh = base_mesh  # Force new mesh to inherit original base mesh\n",
    "domain = Domain(mesh, dt, family=\"CG\", degree=1)"
   ]
  },
  {
   "cell_type": "markdown",
   "id": "fb993704-d298-4984-bac4-18c65e612185",
   "metadata": {},
   "source": [
    "Now we set up the physical parameters, taking the defaults described [here](https://www.firedrakeproject.org/gusto-docs/gusto.core.html#gusto.core.configuration.CompressibleParameters), except for `g` and `cp`. The sponge layer is set by passing in a `SpongeLayerParameters` object when we set up the compressible Euler equations. The parameters required to specify the sponge layer are: the height of the domain, the height at which the sponge layer begins and the strength of the damping.q"
   ]
  },
  {
   "cell_type": "code",
   "execution_count": 5,
   "id": "0570a305",
   "metadata": {},
   "outputs": [
    {
     "ename": "TypeError",
     "evalue": "EquationParameters.__init__() missing 1 required positional argument: 'mesh'",
     "output_type": "error",
     "traceback": [
      "\u001b[0;31m---------------------------------------------------------------------------\u001b[0m",
      "\u001b[0;31mTypeError\u001b[0m                                 Traceback (most recent call last)",
      "Cell \u001b[0;32mIn[5], line 3\u001b[0m\n\u001b[1;32m      1\u001b[0m g \u001b[38;5;241m=\u001b[39m \u001b[38;5;241m9.80665\u001b[39m              \u001b[38;5;66;03m# acceleration due to gravity, in m/s^2\u001b[39;00m\n\u001b[1;32m      2\u001b[0m cp \u001b[38;5;241m=\u001b[39m \u001b[38;5;241m1004.\u001b[39m               \u001b[38;5;66;03m# specific heat capacity at constant pressure\u001b[39;00m\n\u001b[0;32m----> 3\u001b[0m parameters \u001b[38;5;241m=\u001b[39m \u001b[43mCompressibleParameters\u001b[49m\u001b[43m(\u001b[49m\u001b[43mg\u001b[49m\u001b[38;5;241;43m=\u001b[39;49m\u001b[43mg\u001b[49m\u001b[43m,\u001b[49m\u001b[43m \u001b[49m\u001b[43mcp\u001b[49m\u001b[38;5;241;43m=\u001b[39;49m\u001b[43mcp\u001b[49m\u001b[43m)\u001b[49m\n\u001b[1;32m      4\u001b[0m sponge_depth \u001b[38;5;241m=\u001b[39m \u001b[38;5;241m10000.0\u001b[39m   \u001b[38;5;66;03m# depth of sponge layer, in m\u001b[39;00m\n\u001b[1;32m      5\u001b[0m sponge_mu \u001b[38;5;241m=\u001b[39m \u001b[38;5;241m0.15\u001b[39m         \u001b[38;5;66;03m# parameter for strength of sponge layer, in J/kg/K\u001b[39;00m\n",
      "\u001b[0;31mTypeError\u001b[0m: EquationParameters.__init__() missing 1 required positional argument: 'mesh'"
     ]
    }
   ],
   "source": [
    "g = 9.80665              # acceleration due to gravity, in m/s^2\n",
    "cp = 1004.               # specific heat capacity at constant pressure\n",
    "parameters = CompressibleParameters(g=g, cp=cp)\n",
    "sponge_depth = 10000.0   # depth of sponge layer, in m\n",
    "sponge_mu = 0.15         # parameter for strength of sponge layer, in J/kg/K\n",
    "sponge = SpongeLayerParameters(H=domain_height, z_level=domain_height-sponge_depth, mubar=sponge_mu/dt)\n",
    "eqns = CompressibleEulerEquations(domain, parameters, sponge_options=sponge)"
   ]
  },
  {
   "cell_type": "markdown",
   "id": "da3c27bd",
   "metadata": {},
   "source": [
    "We will output the vertical component of the velocity as well as the perturbations to the potential temperature and density."
   ]
  },
  {
   "cell_type": "code",
   "execution_count": 6,
   "id": "754708dd",
   "metadata": {},
   "outputs": [],
   "source": [
    "output = OutputParameters(dirname='nh_mountain', dumpfreq=10)\n",
    "diagnostic_fields = [ZComponent('u'), Perturbation('theta'), Perturbation('rho')]\n",
    "io = IO(domain, output, diagnostic_fields=diagnostic_fields)"
   ]
  },
  {
   "cell_type": "markdown",
   "id": "1e1ae651",
   "metadata": {},
   "source": [
    "We will set up a SemiImplicitQuasiNewton timestepper. This method splits the equation into terms that are treated explicitly and those that are treated semi-implicitly. Transport and forcing terms are treated separately. This allows for different time-steppers to be used for transporting the velocity and depth fields. We choose to use the trapezium rule for the velocity and an explicit strong stability preserving RK3 (SSPRK3) method for the density and potential temperature. We apply the DGUpwind method to the transport terms for all fields, and additionally use streamline upwind Petrov-Galerkin (SUPG) for the potential temperature."
   ]
  },
  {
   "cell_type": "code",
   "execution_count": 7,
   "id": "db9d61a0",
   "metadata": {},
   "outputs": [
    {
     "ename": "NameError",
     "evalue": "name 'eqns' is not defined",
     "output_type": "error",
     "traceback": [
      "\u001b[0;31m---------------------------------------------------------------------------\u001b[0m",
      "\u001b[0;31mNameError\u001b[0m                                 Traceback (most recent call last)",
      "Cell \u001b[0;32mIn[7], line 5\u001b[0m\n\u001b[1;32m      1\u001b[0m theta_opts \u001b[38;5;241m=\u001b[39m SUPGOptions()\n\u001b[1;32m      2\u001b[0m transported_fields \u001b[38;5;241m=\u001b[39m [TrapeziumRule(domain, \u001b[38;5;124m\"\u001b[39m\u001b[38;5;124mu\u001b[39m\u001b[38;5;124m\"\u001b[39m),\n\u001b[1;32m      3\u001b[0m                       SSPRK3(domain, \u001b[38;5;124m\"\u001b[39m\u001b[38;5;124mrho\u001b[39m\u001b[38;5;124m\"\u001b[39m),\n\u001b[1;32m      4\u001b[0m                       SSPRK3(domain, \u001b[38;5;124m\"\u001b[39m\u001b[38;5;124mtheta\u001b[39m\u001b[38;5;124m\"\u001b[39m, options\u001b[38;5;241m=\u001b[39mtheta_opts)]\n\u001b[0;32m----> 5\u001b[0m transport_methods \u001b[38;5;241m=\u001b[39m [DGUpwind(\u001b[43meqns\u001b[49m, \u001b[38;5;124m\"\u001b[39m\u001b[38;5;124mu\u001b[39m\u001b[38;5;124m\"\u001b[39m),\n\u001b[1;32m      6\u001b[0m                      DGUpwind(eqns, \u001b[38;5;124m\"\u001b[39m\u001b[38;5;124mrho\u001b[39m\u001b[38;5;124m\"\u001b[39m),\n\u001b[1;32m      7\u001b[0m                      DGUpwind(eqns, \u001b[38;5;124m\"\u001b[39m\u001b[38;5;124mtheta\u001b[39m\u001b[38;5;124m\"\u001b[39m, ibp\u001b[38;5;241m=\u001b[39mtheta_opts\u001b[38;5;241m.\u001b[39mibp)]\n\u001b[1;32m      9\u001b[0m linear_solver \u001b[38;5;241m=\u001b[39m CompressibleSolver(eqns)\n\u001b[1;32m     10\u001b[0m stepper \u001b[38;5;241m=\u001b[39m SemiImplicitQuasiNewton(eqns, io,\n\u001b[1;32m     11\u001b[0m                                   transported_fields,\n\u001b[1;32m     12\u001b[0m                                   transport_methods,\n\u001b[1;32m     13\u001b[0m                                   linear_solver\u001b[38;5;241m=\u001b[39mlinear_solver)\n",
      "\u001b[0;31mNameError\u001b[0m: name 'eqns' is not defined"
     ]
    }
   ],
   "source": [
    "theta_opts = SUPGOptions()\n",
    "transported_fields = [TrapeziumRule(domain, \"u\"),\n",
    "                      SSPRK3(domain, \"rho\"),\n",
    "                      SSPRK3(domain, \"theta\", options=theta_opts)]\n",
    "transport_methods = [DGUpwind(eqns, \"u\"),\n",
    "                     DGUpwind(eqns, \"rho\"),\n",
    "                     DGUpwind(eqns, \"theta\", ibp=theta_opts.ibp)]\n",
    "\n",
    "linear_solver = CompressibleSolver(eqns)\n",
    "stepper = SemiImplicitQuasiNewton(eqns, io,\n",
    "                                  transported_fields,\n",
    "                                  transport_methods,\n",
    "                                  linear_solver=linear_solver)"
   ]
  },
  {
   "cell_type": "markdown",
   "id": "a919ef63",
   "metadata": {},
   "source": [
    "The initial conditions for the potential temperature and density for this problem are in hydrostatic balance. Below we set the initial potential temperature in terms of the buoyancy frequency `N`."
   ]
  },
  {
   "cell_type": "code",
   "execution_count": 8,
   "id": "70d6106e",
   "metadata": {},
   "outputs": [
    {
     "ename": "AttributeError",
     "evalue": "module 'gusto.solvers.parameters' has no attribute 'g'",
     "output_type": "error",
     "traceback": [
      "\u001b[0;31m---------------------------------------------------------------------------\u001b[0m",
      "\u001b[0;31mAttributeError\u001b[0m                            Traceback (most recent call last)",
      "Cell \u001b[0;32mIn[8], line 2\u001b[0m\n\u001b[1;32m      1\u001b[0m \u001b[38;5;66;03m# ensure we use the same parameter values for the initial conditions as we passed to the model\u001b[39;00m\n\u001b[0;32m----> 2\u001b[0m g \u001b[38;5;241m=\u001b[39m \u001b[43mparameters\u001b[49m\u001b[38;5;241;43m.\u001b[39;49m\u001b[43mg\u001b[49m\n\u001b[1;32m      3\u001b[0m N \u001b[38;5;241m=\u001b[39m parameters\u001b[38;5;241m.\u001b[39mN\n\u001b[1;32m      5\u001b[0m \u001b[38;5;66;03m# get the coordinates so that we can set the vertical profile of the potential temperature\u001b[39;00m\n",
      "\u001b[0;31mAttributeError\u001b[0m: module 'gusto.solvers.parameters' has no attribute 'g'"
     ]
    }
   ],
   "source": [
    "# ensure we use the same parameter values for the initial conditions as we passed to the model\n",
    "g = parameters.g\n",
    "N = parameters.N\n",
    "\n",
    "# get the coordinates so that we can set the vertical profile of the potential temperature\n",
    "xz = SpatialCoordinate(mesh)\n",
    "Tsurf = 300.\n",
    "# N^2 = (g/theta)dtheta/dz => dtheta/dz = theta N^2g => theta=theta_0exp(N^2gz)\n",
    "thetab = Tsurf*exp(N**2*xz[1]/g)\n",
    "Vt = domain.spaces('theta')\n",
    "theta_b = Function(Vt).interpolate(thetab)"
   ]
  },
  {
   "cell_type": "markdown",
   "id": "04687319",
   "metadata": {},
   "source": [
    "We determine the Exner pressure using the `compressible_hydrostatic_balance` function which requires that we impose a boundary condition. As explained in the introduction, we know that the Exner pressure should be 1 on the flat bottom boundary but we cannot set this value as the boundary is now deformed. Instead we would like to set the value on the top boundary, which is still flat. To obtain the value of the Exner pressure at on the top boundary we iterate. First we set the Exner pressure to be 1 on the deformed lower boundary to get an estimate of the required value on the top boundary - this will be the minimum value of the Exner pressure that we have just computed. We now recompute the hydrostatic Exner pressure using this value on the top boundary. We can check the maximum value of the Exner pressure to see if it is close enough to 1 and if not, we can adjust the top boundary condition and recompute. We iterate this procedure until the Exner pressure is close enough to 1 on the bottom boundary. This then enables us to compute the density that is in hydrostatic balance with the prescribed potential temperature and we use those fields as the background reference profiles for the timestepper."
   ]
  },
  {
   "cell_type": "code",
   "execution_count": 9,
   "id": "b1642c8b",
   "metadata": {},
   "outputs": [
    {
     "ename": "NameError",
     "evalue": "name 'eqns' is not defined",
     "output_type": "error",
     "traceback": [
      "\u001b[0;31m---------------------------------------------------------------------------\u001b[0m",
      "\u001b[0;31mNameError\u001b[0m                                 Traceback (most recent call last)",
      "Cell \u001b[0;32mIn[9], line 15\u001b[0m\n\u001b[1;32m     12\u001b[0m exner_surf \u001b[38;5;241m=\u001b[39m \u001b[38;5;241m1\u001b[39m\n\u001b[1;32m     13\u001b[0m bottom_boundary \u001b[38;5;241m=\u001b[39m Constant(exner_surf, domain\u001b[38;5;241m=\u001b[39mmesh)\n\u001b[1;32m     14\u001b[0m compressible_hydrostatic_balance(\n\u001b[0;32m---> 15\u001b[0m     \u001b[43meqns\u001b[49m, theta_b, rho_b, exner, top\u001b[38;5;241m=\u001b[39m\u001b[38;5;28;01mFalse\u001b[39;00m, exner_boundary\u001b[38;5;241m=\u001b[39mbottom_boundary\n\u001b[1;32m     16\u001b[0m )\n\u001b[1;32m     18\u001b[0m \u001b[38;5;66;03m# Solve hydrostatic balance again, but now use minimum value from first\u001b[39;00m\n\u001b[1;32m     19\u001b[0m \u001b[38;5;66;03m# solve as the *top* boundary condition for Exner\u001b[39;00m\n\u001b[1;32m     20\u001b[0m top_value \u001b[38;5;241m=\u001b[39m min_kernel\u001b[38;5;241m.\u001b[39mapply(exner)\n",
      "\u001b[0;31mNameError\u001b[0m: name 'eqns' is not defined"
     ]
    }
   ],
   "source": [
    "# set up functions for the initial hydrostatic profile of Exner pressure and density\n",
    "Vr = domain.spaces('L2')\n",
    "exner = Function(Vr)\n",
    "rho_b = Function(Vr)\n",
    "\n",
    "# Set up kernels to evaluate global minima and maxima of fields\n",
    "min_kernel = MinKernel()\n",
    "max_kernel = MaxKernel()\n",
    "\n",
    "# First solve hydrostatic balance that gives Exner = 1 at bottom boundary\n",
    "# This gives us a guess for the top boundary condition\n",
    "exner_surf = 1\n",
    "bottom_boundary = Constant(exner_surf, domain=mesh)\n",
    "compressible_hydrostatic_balance(\n",
    "    eqns, theta_b, rho_b, exner, top=False, exner_boundary=bottom_boundary\n",
    ")\n",
    "\n",
    "# Solve hydrostatic balance again, but now use minimum value from first\n",
    "# solve as the *top* boundary condition for Exner\n",
    "top_value = min_kernel.apply(exner)\n",
    "top_boundary = Constant(top_value, domain=mesh)\n",
    "logger.info(f'Solving hydrostatic with top Exner of {top_value}')\n",
    "compressible_hydrostatic_balance(\n",
    "    eqns, theta_b, rho_b, exner, top=True, exner_boundary=top_boundary\n",
    ")\n",
    "\n",
    "max_bottom_value = max_kernel.apply(exner)\n",
    "\n",
    "# Now we iterate, adjusting the top boundary condition, until this gives\n",
    "# a maximum value of 1.0 at the surface\n",
    "lower_top_guess = 0.9*top_value\n",
    "upper_top_guess = 1.2*top_value\n",
    "max_iterations = 10\n",
    "tolerance = 1e-7\n",
    "for i in range(max_iterations):\n",
    "    # If max bottom Exner value is equal to desired value, stop iteration\n",
    "    if abs(max_bottom_value - exner_surf) < tolerance:\n",
    "        break\n",
    "\n",
    "    # Make new guess by average of previous guesses\n",
    "    top_guess = 0.5*(lower_top_guess + upper_top_guess)\n",
    "    top_boundary.assign(top_guess)\n",
    "\n",
    "    compressible_hydrostatic_balance(\n",
    "        eqns, theta_b, rho_b, exner, top=True, exner_boundary=top_boundary\n",
    "    )\n",
    "\n",
    "    max_bottom_value = max_kernel.apply(exner)\n",
    "\n",
    "    # Adjust guesses based on new value\n",
    "    if max_bottom_value < exner_surf:\n",
    "        lower_top_guess = top_guess\n",
    "    else:\n",
    "        upper_top_guess = top_guess\n",
    "\n",
    "# Perform a final solve to obtain hydrostatically balanced rho\n",
    "compressible_hydrostatic_balance(\n",
    "    eqns, theta_b, rho_b, exner, top=True, exner_boundary=top_boundary,\n",
    "    solve_for_rho=True\n",
    ")\n",
    "\n",
    "stepper.set_reference_profiles([('rho', rho_b), ('theta', theta_b)])"
   ]
  },
  {
   "cell_type": "markdown",
   "id": "3f07103e-ef3d-4bd6-9ab3-52c4517fd609",
   "metadata": {},
   "source": [
    "The initial conditions for the potential temperature and density are the hydrostatically balanced fields calculated above. The initial condition for the wind is a $10ms^{-1}$ horizontal wind."
   ]
  },
  {
   "cell_type": "code",
   "execution_count": 10,
   "id": "e61d066d",
   "metadata": {},
   "outputs": [
    {
     "ename": "NameError",
     "evalue": "name 'stepper' is not defined",
     "output_type": "error",
     "traceback": [
      "\u001b[0;31m---------------------------------------------------------------------------\u001b[0m",
      "\u001b[0;31mNameError\u001b[0m                                 Traceback (most recent call last)",
      "Cell \u001b[0;32mIn[10], line 2\u001b[0m\n\u001b[1;32m      1\u001b[0m \u001b[38;5;66;03m# Initial conditions\u001b[39;00m\n\u001b[0;32m----> 2\u001b[0m u0 \u001b[38;5;241m=\u001b[39m \u001b[43mstepper\u001b[49m\u001b[38;5;241m.\u001b[39mfields(\u001b[38;5;124m\"\u001b[39m\u001b[38;5;124mu\u001b[39m\u001b[38;5;124m\"\u001b[39m)\n\u001b[1;32m      3\u001b[0m rho0 \u001b[38;5;241m=\u001b[39m stepper\u001b[38;5;241m.\u001b[39mfields(\u001b[38;5;124m\"\u001b[39m\u001b[38;5;124mrho\u001b[39m\u001b[38;5;124m\"\u001b[39m)\n\u001b[1;32m      4\u001b[0m theta0 \u001b[38;5;241m=\u001b[39m stepper\u001b[38;5;241m.\u001b[39mfields(\u001b[38;5;124m\"\u001b[39m\u001b[38;5;124mtheta\u001b[39m\u001b[38;5;124m\"\u001b[39m)\n",
      "\u001b[0;31mNameError\u001b[0m: name 'stepper' is not defined"
     ]
    }
   ],
   "source": [
    "# Initial conditions\n",
    "u0 = stepper.fields(\"u\")\n",
    "rho0 = stepper.fields(\"rho\")\n",
    "theta0 = stepper.fields(\"theta\")\n",
    "\n",
    "initial_wind = 10.0\n",
    "u0.project(as_vector([initial_wind, 0.0]), bcs=eqns.bcs['u'])\n",
    "rho0.assign(rho_b)\n",
    "theta0.assign(theta_b)"
   ]
  },
  {
   "cell_type": "markdown",
   "id": "13ae4538",
   "metadata": {},
   "source": [
    "Now we can run the simulation!"
   ]
  },
  {
   "cell_type": "code",
   "execution_count": 11,
   "id": "0a750ee1",
   "metadata": {},
   "outputs": [
    {
     "ename": "NameError",
     "evalue": "name 'stepper' is not defined",
     "output_type": "error",
     "traceback": [
      "\u001b[0;31m---------------------------------------------------------------------------\u001b[0m",
      "\u001b[0;31mNameError\u001b[0m                                 Traceback (most recent call last)",
      "Cell \u001b[0;32mIn[11], line 1\u001b[0m\n\u001b[0;32m----> 1\u001b[0m \u001b[43mstepper\u001b[49m\u001b[38;5;241m.\u001b[39mrun(t\u001b[38;5;241m=\u001b[39m\u001b[38;5;241m0\u001b[39m, tmax\u001b[38;5;241m=\u001b[39m\u001b[38;5;241m2\u001b[39m\u001b[38;5;241m*\u001b[39mdt)\n",
      "\u001b[0;31mNameError\u001b[0m: name 'stepper' is not defined"
     ]
    }
   ],
   "source": [
    "stepper.run(t=0, tmax=2*dt)"
   ]
  }
 ],
 "metadata": {
  "language_info": {
   "name": "python"
  }
 },
 "nbformat": 4,
 "nbformat_minor": 5
}
