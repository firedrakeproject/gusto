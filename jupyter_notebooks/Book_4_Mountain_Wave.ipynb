{
 "cells": [
  {
   "cell_type": "markdown",
   "id": "3ec4b5fe",
   "metadata": {},
   "source": [
    "# Notebook 4: Mountain Wave Test Case"
   ]
  },
  {
   "cell_type": "markdown",
   "id": "eb79138f",
   "metadata": {},
   "source": [
    "This notebook will go through an example of nonhydrostatic flow over a mountain. The setup is described in the paper avaliable at this link: https://doi.org/10.1002/qj.603. "
   ]
  },
  {
   "cell_type": "markdown",
   "id": "5371527b",
   "metadata": {},
   "source": [
    "The new features in this example are related to the introduction of the mountain. This requires that we deform the mesh so that the bottom of the domain follows the specified mountain profile. We then have the issue that when we calculate the initial balanced conditions, we no longer have a flat bottom on which to specify the required bottom boundary condition. We solve this problem by applying the boundary condition at the top and then applying a shift so that the bottom boundary condition is as required. The final new feature is the sponge layer which is required at the top of the domain to damp vertically propagating waves so that they are not reflected back into the domain by the nonphysical impermeable upper boundary."
   ]
  },
  {
   "cell_type": "markdown",
   "id": "29df76b1",
   "metadata": {},
   "source": [
    "We begin by importing the required functions from Firedrake and Gusto:"
   ]
  },
  {
   "cell_type": "code",
   "execution_count": 1,
   "id": "7779c15b",
   "metadata": {},
   "outputs": [
    {
     "name": "stderr",
     "output_type": "stream",
     "text": [
      "INFO     Running /Users/JS1075/firedrake_dec24/lib/python3.12/site-packages/ipykernel_launcher.py -f /private/var/folders/f0/llvlmlb50qg6mmlxs8m6d6d00000gp/T/tmposdw7vut.json --HistoryManager.hist_file=:memory:\n"
     ]
    }
   ],
   "source": [
    "from gusto import *\n",
    "from firedrake import (as_vector, VectorFunctionSpace,\n",
    "                       PeriodicIntervalMesh, ExtrudedMesh, SpatialCoordinate,\n",
    "                       exp, pi, cos, Function, conditional, Mesh)"
   ]
  },
  {
   "cell_type": "markdown",
   "id": "33f71f3a",
   "metadata": {},
   "source": [
    "Define the time-step size and the duration of the simulation. "
   ]
  },
  {
   "cell_type": "code",
   "execution_count": 2,
   "id": "f5147739",
   "metadata": {},
   "outputs": [],
   "source": [
    "dt = 5.0\n",
    "tmax = 9000."
   ]
  },
  {
   "cell_type": "markdown",
   "id": "48ee6e88",
   "metadata": {},
   "source": [
    "Like with the gravity wave example, we will create a periodic interval mesh in the horizontal and extrude this in the vertical dimension to create a two dimensional mesh."
   ]
  },
  {
   "cell_type": "code",
   "execution_count": 3,
   "id": "844be5eb",
   "metadata": {},
   "outputs": [
    {
     "ename": "NameError",
     "evalue": "name 'L' is not defined",
     "output_type": "error",
     "traceback": [
      "\u001b[0;31m---------------------------------------------------------------------------\u001b[0m",
      "\u001b[0;31mNameError\u001b[0m                                 Traceback (most recent call last)",
      "Cell \u001b[0;32mIn[3], line 14\u001b[0m\n\u001b[1;32m     12\u001b[0m x \u001b[38;5;241m=\u001b[39m Function(Vc)\u001b[38;5;241m.\u001b[39minterpolate(as_vector([coord[\u001b[38;5;241m0\u001b[39m], coord[\u001b[38;5;241m1\u001b[39m]]))\n\u001b[1;32m     13\u001b[0m a \u001b[38;5;241m=\u001b[39m \u001b[38;5;241m1000.\u001b[39m\n\u001b[0;32m---> 14\u001b[0m xc \u001b[38;5;241m=\u001b[39m \u001b[43mL\u001b[49m\u001b[38;5;241m/\u001b[39m\u001b[38;5;241m2.\u001b[39m\n\u001b[1;32m     15\u001b[0m x, z \u001b[38;5;241m=\u001b[39m SpatialCoordinate(ext_mesh)\n\u001b[1;32m     16\u001b[0m hm \u001b[38;5;241m=\u001b[39m \u001b[38;5;241m1.\u001b[39m\n",
      "\u001b[0;31mNameError\u001b[0m: name 'L' is not defined"
     ]
    }
   ],
   "source": [
    "nlayers = 70  # horizontal layers\n",
    "columns = 180  # number of columns\n",
    "domain_width = 144000.\n",
    "base_mesh = PeriodicIntervalMesh(columns, domain_width)\n",
    "\n",
    "domain_height = 35000.  # Height position of the model top\n",
    "ext_mesh = ExtrudedMesh(base_mesh, layers=nlayers,\n",
    "                        layer_height=domain_height/nlayers)\n",
    "\n",
    "Vc = VectorFunctionSpace(ext_mesh, \"DG\", 2)\n",
    "coord = SpatialCoordinate(ext_mesh)\n",
    "x = Function(Vc).interpolate(as_vector([coord[0], coord[1]]))\n",
    "a = 1000.\n",
    "xc = L/2.\n",
    "x, z = SpatialCoordinate(ext_mesh)\n",
    "hm = 1.\n",
    "zs = hm*a**2/((x-xc)**2 + a**2)"
   ]
  },
  {
   "cell_type": "markdown",
   "id": "2fb1fb2d",
   "metadata": {},
   "source": [
    "Now we transform the mesh to follow the defined terrain. A smoothing is applied in the vertical direction."
   ]
  },
  {
   "cell_type": "code",
   "execution_count": 4,
   "id": "2e9c65ea",
   "metadata": {},
   "outputs": [
    {
     "ename": "NameError",
     "evalue": "name 'z' is not defined",
     "output_type": "error",
     "traceback": [
      "\u001b[0;31m---------------------------------------------------------------------------\u001b[0m",
      "\u001b[0;31mNameError\u001b[0m                                 Traceback (most recent call last)",
      "Cell \u001b[0;32mIn[4], line 4\u001b[0m\n\u001b[1;32m      1\u001b[0m dirname \u001b[38;5;241m=\u001b[39m \u001b[38;5;124m'\u001b[39m\u001b[38;5;124mnh_mountain\u001b[39m\u001b[38;5;124m'\u001b[39m\n\u001b[1;32m      3\u001b[0m zh \u001b[38;5;241m=\u001b[39m \u001b[38;5;241m5000.\u001b[39m\n\u001b[0;32m----> 4\u001b[0m xexpr \u001b[38;5;241m=\u001b[39m as_vector([x, conditional(\u001b[43mz\u001b[49m \u001b[38;5;241m<\u001b[39m zh, z \u001b[38;5;241m+\u001b[39m cos(\u001b[38;5;241m0.5\u001b[39m\u001b[38;5;241m*\u001b[39mpi\u001b[38;5;241m*\u001b[39mz\u001b[38;5;241m/\u001b[39mzh)\u001b[38;5;241m*\u001b[39m\u001b[38;5;241m*\u001b[39m\u001b[38;5;241m6\u001b[39m\u001b[38;5;241m*\u001b[39mzs, z)])\n\u001b[1;32m      6\u001b[0m new_coords \u001b[38;5;241m=\u001b[39m Function(Vc)\u001b[38;5;241m.\u001b[39minterpolate(xexpr)\n\u001b[1;32m      7\u001b[0m mesh \u001b[38;5;241m=\u001b[39m Mesh(new_coords)\n",
      "\u001b[0;31mNameError\u001b[0m: name 'z' is not defined"
     ]
    }
   ],
   "source": [
    "dirname = 'nh_mountain'\n",
    "\n",
    "zh = 5000.\n",
    "xexpr = as_vector([x, conditional(z < zh, z + cos(0.5*pi*z/zh)**6*zs, z)])\n",
    "\n",
    "new_coords = Function(Vc).interpolate(xexpr)\n",
    "mesh = Mesh(new_coords)\n",
    "mesh._base_mesh = base_mesh  # Force new mesh to inherit original base mesh\n",
    "domain = Domain(mesh, dt, family=\"CG\", degree=1)"
   ]
  },
  {
   "cell_type": "code",
   "execution_count": 5,
   "id": "0570a305",
   "metadata": {},
   "outputs": [
    {
     "ename": "AttributeError",
     "evalue": "module 'gusto.core.domain' has no attribute 'spaces'",
     "output_type": "error",
     "traceback": [
      "\u001b[0;31m---------------------------------------------------------------------------\u001b[0m",
      "\u001b[0;31mAttributeError\u001b[0m                            Traceback (most recent call last)",
      "Cell \u001b[0;32mIn[5], line 7\u001b[0m\n\u001b[1;32m      5\u001b[0m sponge_mu \u001b[38;5;241m=\u001b[39m \u001b[38;5;241m0.15\u001b[39m         \u001b[38;5;66;03m# parameter for strength of sponge layer, in J/kg/K\u001b[39;00m\n\u001b[1;32m      6\u001b[0m sponge \u001b[38;5;241m=\u001b[39m SpongeLayerParameters(H\u001b[38;5;241m=\u001b[39mdomain_height, z_level\u001b[38;5;241m=\u001b[39mdomain_height\u001b[38;5;241m-\u001b[39msponge_depth, mubar\u001b[38;5;241m=\u001b[39msponge_mu\u001b[38;5;241m/\u001b[39mdt)\n\u001b[0;32m----> 7\u001b[0m eqns \u001b[38;5;241m=\u001b[39m \u001b[43mCompressibleEulerEquations\u001b[49m\u001b[43m(\u001b[49m\u001b[43mdomain\u001b[49m\u001b[43m,\u001b[49m\u001b[43m \u001b[49m\u001b[43mparameters\u001b[49m\u001b[43m,\u001b[49m\u001b[43m \u001b[49m\u001b[43msponge_options\u001b[49m\u001b[38;5;241;43m=\u001b[39;49m\u001b[43msponge\u001b[49m\u001b[43m)\u001b[49m\n",
      "File \u001b[0;32m~/firedrake_dec24/src/gusto/gusto/equations/compressible_euler_equations.py:98\u001b[0m, in \u001b[0;36mCompressibleEulerEquations.__init__\u001b[0;34m(self, domain, parameters, sponge_options, extra_terms, space_names, linearisation_map, u_transport_option, diffusion_options, no_normal_flow_bc_ids, active_tracers)\u001b[0m\n\u001b[1;32m     91\u001b[0m \u001b[38;5;28;01mif\u001b[39;00m linearisation_map \u001b[38;5;241m==\u001b[39m \u001b[38;5;124m'\u001b[39m\u001b[38;5;124mdefault\u001b[39m\u001b[38;5;124m'\u001b[39m:\n\u001b[1;32m     92\u001b[0m     \u001b[38;5;66;03m# Default linearisation is time derivatives and scalar transport terms\u001b[39;00m\n\u001b[1;32m     93\u001b[0m     \u001b[38;5;66;03m# Don't include active tracers\u001b[39;00m\n\u001b[1;32m     94\u001b[0m     linearisation_map \u001b[38;5;241m=\u001b[39m \u001b[38;5;28;01mlambda\u001b[39;00m t: \\\n\u001b[1;32m     95\u001b[0m         t\u001b[38;5;241m.\u001b[39mget(prognostic) \u001b[38;5;129;01min\u001b[39;00m [\u001b[38;5;124m'\u001b[39m\u001b[38;5;124mu\u001b[39m\u001b[38;5;124m'\u001b[39m, \u001b[38;5;124m'\u001b[39m\u001b[38;5;124mrho\u001b[39m\u001b[38;5;124m'\u001b[39m, \u001b[38;5;124m'\u001b[39m\u001b[38;5;124mtheta\u001b[39m\u001b[38;5;124m'\u001b[39m] \\\n\u001b[1;32m     96\u001b[0m         \u001b[38;5;129;01mand\u001b[39;00m (t\u001b[38;5;241m.\u001b[39mhas_label(time_derivative)\n\u001b[1;32m     97\u001b[0m              \u001b[38;5;129;01mor\u001b[39;00m (t\u001b[38;5;241m.\u001b[39mget(prognostic) \u001b[38;5;241m!=\u001b[39m \u001b[38;5;124m'\u001b[39m\u001b[38;5;124mu\u001b[39m\u001b[38;5;124m'\u001b[39m \u001b[38;5;129;01mand\u001b[39;00m t\u001b[38;5;241m.\u001b[39mhas_label(transport)))\n\u001b[0;32m---> 98\u001b[0m \u001b[38;5;28;43msuper\u001b[39;49m\u001b[43m(\u001b[49m\u001b[43m)\u001b[49m\u001b[38;5;241;43m.\u001b[39;49m\u001b[38;5;21;43m__init__\u001b[39;49m\u001b[43m(\u001b[49m\u001b[43mfield_names\u001b[49m\u001b[43m,\u001b[49m\u001b[43m \u001b[49m\u001b[43mdomain\u001b[49m\u001b[43m,\u001b[49m\u001b[43m \u001b[49m\u001b[43mspace_names\u001b[49m\u001b[43m,\u001b[49m\n\u001b[1;32m     99\u001b[0m \u001b[43m                 \u001b[49m\u001b[43mlinearisation_map\u001b[49m\u001b[38;5;241;43m=\u001b[39;49m\u001b[43mlinearisation_map\u001b[49m\u001b[43m,\u001b[49m\n\u001b[1;32m    100\u001b[0m \u001b[43m                 \u001b[49m\u001b[43mno_normal_flow_bc_ids\u001b[49m\u001b[38;5;241;43m=\u001b[39;49m\u001b[43mno_normal_flow_bc_ids\u001b[49m\u001b[43m,\u001b[49m\n\u001b[1;32m    101\u001b[0m \u001b[43m                 \u001b[49m\u001b[43mactive_tracers\u001b[49m\u001b[38;5;241;43m=\u001b[39;49m\u001b[43mactive_tracers\u001b[49m\u001b[43m)\u001b[49m\n\u001b[1;32m    103\u001b[0m \u001b[38;5;28mself\u001b[39m\u001b[38;5;241m.\u001b[39mparameters \u001b[38;5;241m=\u001b[39m parameters\n\u001b[1;32m    104\u001b[0m g \u001b[38;5;241m=\u001b[39m parameters\u001b[38;5;241m.\u001b[39mg\n",
      "File \u001b[0;32m~/firedrake_dec24/src/gusto/gusto/equations/prognostic_equations.py:106\u001b[0m, in \u001b[0;36mPrognosticEquationSet.__init__\u001b[0;34m(self, field_names, domain, space_names, linearisation_map, no_normal_flow_bc_ids, active_tracers)\u001b[0m\n\u001b[1;32m    103\u001b[0m \u001b[38;5;28mself\u001b[39m\u001b[38;5;241m.\u001b[39mlinearisation_map \u001b[38;5;241m=\u001b[39m \u001b[38;5;28;01mlambda\u001b[39;00m t: \u001b[38;5;28;01mFalse\u001b[39;00m \u001b[38;5;28;01mif\u001b[39;00m linearisation_map \u001b[38;5;129;01mis\u001b[39;00m \u001b[38;5;28;01mNone\u001b[39;00m \u001b[38;5;28;01melse\u001b[39;00m linearisation_map(t)\n\u001b[1;32m    105\u001b[0m \u001b[38;5;66;03m# Build finite element spaces\u001b[39;00m\n\u001b[0;32m--> 106\u001b[0m \u001b[38;5;28mself\u001b[39m\u001b[38;5;241m.\u001b[39mspaces \u001b[38;5;241m=\u001b[39m [\u001b[43mdomain\u001b[49m\u001b[38;5;241;43m.\u001b[39;49m\u001b[43mspaces\u001b[49m(space_name) \u001b[38;5;28;01mfor\u001b[39;00m space_name \u001b[38;5;129;01min\u001b[39;00m\n\u001b[1;32m    107\u001b[0m                [\u001b[38;5;28mself\u001b[39m\u001b[38;5;241m.\u001b[39mspace_names[field_name] \u001b[38;5;28;01mfor\u001b[39;00m field_name \u001b[38;5;129;01min\u001b[39;00m \u001b[38;5;28mself\u001b[39m\u001b[38;5;241m.\u001b[39mfield_names]]\n\u001b[1;32m    109\u001b[0m \u001b[38;5;66;03m# Add active tracers to the list of prognostics\u001b[39;00m\n\u001b[1;32m    110\u001b[0m \u001b[38;5;28;01mif\u001b[39;00m active_tracers \u001b[38;5;129;01mis\u001b[39;00m \u001b[38;5;28;01mNone\u001b[39;00m:\n",
      "\u001b[0;31mAttributeError\u001b[0m: module 'gusto.core.domain' has no attribute 'spaces'"
     ]
    }
   ],
   "source": [
    "g = 9.80665              # acceleration due to gravity, in m/s^2\n",
    "cp = 1004.               # specific heat capacity at constant pressure\n",
    "parameters = CompressibleParameters(g=g, cp=cp)\n",
    "sponge_depth = 10000.0   # depth of sponge layer, in m\n",
    "sponge_mu = 0.15         # parameter for strength of sponge layer, in J/kg/K\n",
    "sponge = SpongeLayerParameters(H=domain_height, z_level=domain_height-sponge_depth, mubar=sponge_mu/dt)\n",
    "eqns = CompressibleEulerEquations(domain, parameters, sponge_options=sponge)"
   ]
  },
  {
   "cell_type": "markdown",
   "id": "da3c27bd",
   "metadata": {},
   "source": [
    "We will record the full velocity fields, as well as the perturbations to the potential temperature and density."
   ]
  },
  {
   "cell_type": "code",
   "execution_count": 6,
   "id": "754708dd",
   "metadata": {},
   "outputs": [
    {
     "ename": "AttributeError",
     "evalue": "module 'gusto.core.domain' has no attribute 'mesh'",
     "output_type": "error",
     "traceback": [
      "\u001b[0;31m---------------------------------------------------------------------------\u001b[0m",
      "\u001b[0;31mAttributeError\u001b[0m                            Traceback (most recent call last)",
      "Cell \u001b[0;32mIn[6], line 3\u001b[0m\n\u001b[1;32m      1\u001b[0m output \u001b[38;5;241m=\u001b[39m OutputParameters(dirname\u001b[38;5;241m=\u001b[39mdirname, dumpfreq\u001b[38;5;241m=\u001b[39m\u001b[38;5;241m10\u001b[39m, dump_vtus\u001b[38;5;241m=\u001b[39m\u001b[38;5;28;01mTrue\u001b[39;00m, dump_nc\u001b[38;5;241m=\u001b[39m\u001b[38;5;28;01mTrue\u001b[39;00m)\n\u001b[1;32m      2\u001b[0m diagnostic_fields \u001b[38;5;241m=\u001b[39m [Exner(parameters), ZComponent(\u001b[38;5;124m'\u001b[39m\u001b[38;5;124mu\u001b[39m\u001b[38;5;124m'\u001b[39m), Perturbation(\u001b[38;5;124m'\u001b[39m\u001b[38;5;124mtheta\u001b[39m\u001b[38;5;124m'\u001b[39m), Perturbation(\u001b[38;5;124m'\u001b[39m\u001b[38;5;124mrho\u001b[39m\u001b[38;5;124m'\u001b[39m)]\n\u001b[0;32m----> 3\u001b[0m io \u001b[38;5;241m=\u001b[39m \u001b[43mIO\u001b[49m\u001b[43m(\u001b[49m\u001b[43mdomain\u001b[49m\u001b[43m,\u001b[49m\u001b[43m \u001b[49m\u001b[43moutput\u001b[49m\u001b[43m,\u001b[49m\u001b[43m \u001b[49m\u001b[43mdiagnostic_fields\u001b[49m\u001b[38;5;241;43m=\u001b[39;49m\u001b[43mdiagnostic_fields\u001b[49m\u001b[43m)\u001b[49m\n",
      "File \u001b[0;32m~/firedrake_dec24/src/gusto/gusto/core/io.py:228\u001b[0m, in \u001b[0;36mIO.__init__\u001b[0;34m(self, domain, output, diagnostics, diagnostic_fields)\u001b[0m\n\u001b[1;32m    212\u001b[0m \u001b[38;5;250m\u001b[39m\u001b[38;5;124;03m\"\"\"\u001b[39;00m\n\u001b[1;32m    213\u001b[0m \u001b[38;5;124;03mArgs:\u001b[39;00m\n\u001b[1;32m    214\u001b[0m \u001b[38;5;124;03m    domain (:class:`Domain`): the model's domain object, containing the\u001b[39;00m\n\u001b[0;32m   (...)\u001b[0m\n\u001b[1;32m    225\u001b[0m \u001b[38;5;124;03m    TypeError: if `dt` cannot be cast to a :class:`Constant`.\u001b[39;00m\n\u001b[1;32m    226\u001b[0m \u001b[38;5;124;03m\"\"\"\u001b[39;00m\n\u001b[1;32m    227\u001b[0m \u001b[38;5;28mself\u001b[39m\u001b[38;5;241m.\u001b[39mdomain \u001b[38;5;241m=\u001b[39m domain\n\u001b[0;32m--> 228\u001b[0m \u001b[38;5;28mself\u001b[39m\u001b[38;5;241m.\u001b[39mmesh \u001b[38;5;241m=\u001b[39m \u001b[43mdomain\u001b[49m\u001b[38;5;241;43m.\u001b[39;49m\u001b[43mmesh\u001b[49m\n\u001b[1;32m    229\u001b[0m \u001b[38;5;28mself\u001b[39m\u001b[38;5;241m.\u001b[39moutput \u001b[38;5;241m=\u001b[39m output\n\u001b[1;32m    231\u001b[0m \u001b[38;5;28;01mif\u001b[39;00m diagnostics \u001b[38;5;129;01mis\u001b[39;00m \u001b[38;5;129;01mnot\u001b[39;00m \u001b[38;5;28;01mNone\u001b[39;00m:\n",
      "\u001b[0;31mAttributeError\u001b[0m: module 'gusto.core.domain' has no attribute 'mesh'"
     ]
    }
   ],
   "source": [
    "output = OutputParameters(dirname=dirname, dumpfreq=10, dump_vtus=True, dump_nc=True)\n",
    "diagnostic_fields = [Exner(parameters), ZComponent('u'), Perturbation('theta'), Perturbation('rho')]\n",
    "io = IO(domain, output, diagnostic_fields=diagnostic_fields)"
   ]
  },
  {
   "cell_type": "markdown",
   "id": "1e1ae651",
   "metadata": {},
   "source": [
    "Set up the corresponding state:"
   ]
  },
  {
   "cell_type": "code",
   "execution_count": 7,
   "id": "db9d61a0",
   "metadata": {},
   "outputs": [
    {
     "ename": "AttributeError",
     "evalue": "module 'gusto.core.domain' has no attribute 'dt'",
     "output_type": "error",
     "traceback": [
      "\u001b[0;31m---------------------------------------------------------------------------\u001b[0m",
      "\u001b[0;31mAttributeError\u001b[0m                            Traceback (most recent call last)",
      "Cell \u001b[0;32mIn[7], line 2\u001b[0m\n\u001b[1;32m      1\u001b[0m theta_opts \u001b[38;5;241m=\u001b[39m SUPGOptions()\n\u001b[0;32m----> 2\u001b[0m transported_fields \u001b[38;5;241m=\u001b[39m [\u001b[43mTrapeziumRule\u001b[49m\u001b[43m(\u001b[49m\u001b[43mdomain\u001b[49m\u001b[43m,\u001b[49m\u001b[43m \u001b[49m\u001b[38;5;124;43m\"\u001b[39;49m\u001b[38;5;124;43mu\u001b[39;49m\u001b[38;5;124;43m\"\u001b[39;49m\u001b[43m)\u001b[49m, SSPRK3(domain, \u001b[38;5;124m\"\u001b[39m\u001b[38;5;124mrho\u001b[39m\u001b[38;5;124m\"\u001b[39m), SSPRK3(domain, \u001b[38;5;124m\"\u001b[39m\u001b[38;5;124mtheta\u001b[39m\u001b[38;5;124m\"\u001b[39m, options\u001b[38;5;241m=\u001b[39mtheta_opts)]\n\u001b[1;32m      3\u001b[0m transport_methods \u001b[38;5;241m=\u001b[39m [DGUpwind(eqns, \u001b[38;5;124m\"\u001b[39m\u001b[38;5;124mu\u001b[39m\u001b[38;5;124m\"\u001b[39m), DGUpwind(eqns, \u001b[38;5;124m\"\u001b[39m\u001b[38;5;124mrho\u001b[39m\u001b[38;5;124m\"\u001b[39m), DGUpwind(eqns, \u001b[38;5;124m\"\u001b[39m\u001b[38;5;124mtheta\u001b[39m\u001b[38;5;124m\"\u001b[39m, ibp\u001b[38;5;241m=\u001b[39mtheta_opts\u001b[38;5;241m.\u001b[39mibp)]\n\u001b[1;32m      5\u001b[0m linear_solver \u001b[38;5;241m=\u001b[39m CompressibleSolver(eqns)\n",
      "File \u001b[0;32m~/firedrake_dec24/src/gusto/gusto/time_discretisation/time_discretisation.py:808\u001b[0m, in \u001b[0;36mTrapeziumRule.__init__\u001b[0;34m(self, domain, field_name, subcycling_options, solver_parameters, options)\u001b[0m\n\u001b[1;32m    793\u001b[0m \u001b[38;5;28;01mdef\u001b[39;00m \u001b[38;5;21m__init__\u001b[39m(\u001b[38;5;28mself\u001b[39m, domain, field_name\u001b[38;5;241m=\u001b[39m\u001b[38;5;28;01mNone\u001b[39;00m, subcycling_options\u001b[38;5;241m=\u001b[39m\u001b[38;5;28;01mNone\u001b[39;00m,\n\u001b[1;32m    794\u001b[0m              solver_parameters\u001b[38;5;241m=\u001b[39m\u001b[38;5;28;01mNone\u001b[39;00m, options\u001b[38;5;241m=\u001b[39m\u001b[38;5;28;01mNone\u001b[39;00m):\n\u001b[1;32m    795\u001b[0m \u001b[38;5;250m    \u001b[39m\u001b[38;5;124;03m\"\"\"\u001b[39;00m\n\u001b[1;32m    796\u001b[0m \u001b[38;5;124;03m    Args:\u001b[39;00m\n\u001b[1;32m    797\u001b[0m \u001b[38;5;124;03m        domain (:class:`Domain`): the model's domain object, containing the\u001b[39;00m\n\u001b[0;32m   (...)\u001b[0m\n\u001b[1;32m    806\u001b[0m \u001b[38;5;124;03m            recovery method. Defaults to None.\u001b[39;00m\n\u001b[1;32m    807\u001b[0m \u001b[38;5;124;03m    \"\"\"\u001b[39;00m\n\u001b[0;32m--> 808\u001b[0m     \u001b[38;5;28;43msuper\u001b[39;49m\u001b[43m(\u001b[49m\u001b[43m)\u001b[49m\u001b[38;5;241;43m.\u001b[39;49m\u001b[38;5;21;43m__init__\u001b[39;49m\u001b[43m(\u001b[49m\u001b[43mdomain\u001b[49m\u001b[43m,\u001b[49m\u001b[43m \u001b[49m\u001b[38;5;241;43m0.5\u001b[39;49m\u001b[43m,\u001b[49m\u001b[43m \u001b[49m\u001b[43mfield_name\u001b[49m\u001b[43m,\u001b[49m\n\u001b[1;32m    809\u001b[0m \u001b[43m                     \u001b[49m\u001b[43msubcycling_options\u001b[49m\u001b[38;5;241;43m=\u001b[39;49m\u001b[43msubcycling_options\u001b[49m\u001b[43m,\u001b[49m\n\u001b[1;32m    810\u001b[0m \u001b[43m                     \u001b[49m\u001b[43msolver_parameters\u001b[49m\u001b[38;5;241;43m=\u001b[39;49m\u001b[43msolver_parameters\u001b[49m\u001b[43m,\u001b[49m\n\u001b[1;32m    811\u001b[0m \u001b[43m                     \u001b[49m\u001b[43moptions\u001b[49m\u001b[38;5;241;43m=\u001b[39;49m\u001b[43moptions\u001b[49m\u001b[43m)\u001b[49m\n",
      "File \u001b[0;32m~/firedrake_dec24/src/gusto/gusto/time_discretisation/time_discretisation.py:694\u001b[0m, in \u001b[0;36mThetaMethod.__init__\u001b[0;34m(self, domain, theta, field_name, subcycling_options, solver_parameters, options)\u001b[0m\n\u001b[1;32m    687\u001b[0m \u001b[38;5;28;01mif\u001b[39;00m \u001b[38;5;129;01mnot\u001b[39;00m solver_parameters:\n\u001b[1;32m    688\u001b[0m     \u001b[38;5;66;03m# theta method leads to asymmetric matrix, per lhs function below,\u001b[39;00m\n\u001b[1;32m    689\u001b[0m     \u001b[38;5;66;03m# so don't use CG\u001b[39;00m\n\u001b[1;32m    690\u001b[0m     solver_parameters \u001b[38;5;241m=\u001b[39m {\u001b[38;5;124m'\u001b[39m\u001b[38;5;124mksp_type\u001b[39m\u001b[38;5;124m'\u001b[39m: \u001b[38;5;124m'\u001b[39m\u001b[38;5;124mgmres\u001b[39m\u001b[38;5;124m'\u001b[39m,\n\u001b[1;32m    691\u001b[0m                          \u001b[38;5;124m'\u001b[39m\u001b[38;5;124mpc_type\u001b[39m\u001b[38;5;124m'\u001b[39m: \u001b[38;5;124m'\u001b[39m\u001b[38;5;124mbjacobi\u001b[39m\u001b[38;5;124m'\u001b[39m,\n\u001b[1;32m    692\u001b[0m                          \u001b[38;5;124m'\u001b[39m\u001b[38;5;124msub_pc_type\u001b[39m\u001b[38;5;124m'\u001b[39m: \u001b[38;5;124m'\u001b[39m\u001b[38;5;124milu\u001b[39m\u001b[38;5;124m'\u001b[39m}\n\u001b[0;32m--> 694\u001b[0m \u001b[38;5;28;43msuper\u001b[39;49m\u001b[43m(\u001b[49m\u001b[43m)\u001b[49m\u001b[38;5;241;43m.\u001b[39;49m\u001b[38;5;21;43m__init__\u001b[39;49m\u001b[43m(\u001b[49m\u001b[43mdomain\u001b[49m\u001b[43m,\u001b[49m\u001b[43m \u001b[49m\u001b[43mfield_name\u001b[49m\u001b[43m,\u001b[49m\n\u001b[1;32m    695\u001b[0m \u001b[43m                 \u001b[49m\u001b[43msubcycling_options\u001b[49m\u001b[38;5;241;43m=\u001b[39;49m\u001b[43msubcycling_options\u001b[49m\u001b[43m,\u001b[49m\n\u001b[1;32m    696\u001b[0m \u001b[43m                 \u001b[49m\u001b[43msolver_parameters\u001b[49m\u001b[38;5;241;43m=\u001b[39;49m\u001b[43msolver_parameters\u001b[49m\u001b[43m,\u001b[49m\n\u001b[1;32m    697\u001b[0m \u001b[43m                 \u001b[49m\u001b[43moptions\u001b[49m\u001b[38;5;241;43m=\u001b[39;49m\u001b[43moptions\u001b[49m\u001b[43m)\u001b[49m\n\u001b[1;32m    699\u001b[0m \u001b[38;5;28mself\u001b[39m\u001b[38;5;241m.\u001b[39mtheta \u001b[38;5;241m=\u001b[39m theta\n",
      "File \u001b[0;32m~/firedrake_dec24/src/gusto/gusto/time_discretisation/time_discretisation.py:75\u001b[0m, in \u001b[0;36mTimeDiscretisation.__init__\u001b[0;34m(self, domain, field_name, subcycling_options, solver_parameters, limiter, options)\u001b[0m\n\u001b[1;32m     72\u001b[0m \u001b[38;5;28mself\u001b[39m\u001b[38;5;241m.\u001b[39mequation \u001b[38;5;241m=\u001b[39m \u001b[38;5;28;01mNone\u001b[39;00m\n\u001b[1;32m     74\u001b[0m \u001b[38;5;28mself\u001b[39m\u001b[38;5;241m.\u001b[39mdt \u001b[38;5;241m=\u001b[39m Constant(\u001b[38;5;241m0.0\u001b[39m)\n\u001b[0;32m---> 75\u001b[0m \u001b[38;5;28mself\u001b[39m\u001b[38;5;241m.\u001b[39mdt\u001b[38;5;241m.\u001b[39massign(\u001b[43mdomain\u001b[49m\u001b[38;5;241;43m.\u001b[39;49m\u001b[43mdt\u001b[49m)\n\u001b[1;32m     76\u001b[0m \u001b[38;5;28mself\u001b[39m\u001b[38;5;241m.\u001b[39moriginal_dt \u001b[38;5;241m=\u001b[39m Constant(\u001b[38;5;241m0.0\u001b[39m)\n\u001b[1;32m     77\u001b[0m \u001b[38;5;28mself\u001b[39m\u001b[38;5;241m.\u001b[39moriginal_dt\u001b[38;5;241m.\u001b[39massign(\u001b[38;5;28mself\u001b[39m\u001b[38;5;241m.\u001b[39mdt)\n",
      "\u001b[0;31mAttributeError\u001b[0m: module 'gusto.core.domain' has no attribute 'dt'"
     ]
    }
   ],
   "source": [
    "theta_opts = SUPGOptions()\n",
    "transported_fields = [TrapeziumRule(domain, \"u\"), SSPRK3(domain, \"rho\"), SSPRK3(domain, \"theta\", options=theta_opts)]\n",
    "transport_methods = [DGUpwind(eqns, \"u\"), DGUpwind(eqns, \"rho\"), DGUpwind(eqns, \"theta\", ibp=theta_opts.ibp)]\n",
    "\n",
    "linear_solver = CompressibleSolver(eqns)\n",
    "stepper = SemiImplicitQuasiNewton(eqns, io,\n",
    "                                  transported_fields,\n",
    "                                  transport_methods,\n",
    "                                  linear_solver=linear_solver)"
   ]
  },
  {
   "cell_type": "code",
   "execution_count": 8,
   "id": "e61d066d",
   "metadata": {},
   "outputs": [
    {
     "ename": "NameError",
     "evalue": "name 'state' is not defined",
     "output_type": "error",
     "traceback": [
      "\u001b[0;31m---------------------------------------------------------------------------\u001b[0m",
      "\u001b[0;31mNameError\u001b[0m                                 Traceback (most recent call last)",
      "Cell \u001b[0;32mIn[8], line 2\u001b[0m\n\u001b[1;32m      1\u001b[0m \u001b[38;5;66;03m# Initial conditions\u001b[39;00m\n\u001b[0;32m----> 2\u001b[0m u0 \u001b[38;5;241m=\u001b[39m \u001b[43mstate\u001b[49m\u001b[38;5;241m.\u001b[39mfields(\u001b[38;5;124m\"\u001b[39m\u001b[38;5;124mu\u001b[39m\u001b[38;5;124m\"\u001b[39m)\n\u001b[1;32m      3\u001b[0m rho0 \u001b[38;5;241m=\u001b[39m state\u001b[38;5;241m.\u001b[39mfields(\u001b[38;5;124m\"\u001b[39m\u001b[38;5;124mrho\u001b[39m\u001b[38;5;124m\"\u001b[39m)\n\u001b[1;32m      4\u001b[0m theta0 \u001b[38;5;241m=\u001b[39m state\u001b[38;5;241m.\u001b[39mfields(\u001b[38;5;124m\"\u001b[39m\u001b[38;5;124mtheta\u001b[39m\u001b[38;5;124m\"\u001b[39m)\n",
      "\u001b[0;31mNameError\u001b[0m: name 'state' is not defined"
     ]
    }
   ],
   "source": [
    "# Initial conditions\n",
    "u0 = state.fields(\"u\")\n",
    "rho0 = state.fields(\"rho\")\n",
    "theta0 = state.fields(\"theta\")\n",
    "\n",
    "# spaces\n",
    "Vu = state.spaces(\"HDiv\")\n",
    "Vt = state.spaces(\"theta\")\n",
    "Vr = state.spaces(\"DG\")"
   ]
  },
  {
   "cell_type": "markdown",
   "id": "a919ef63",
   "metadata": {},
   "source": [
    "Set up the relevant parameters for the test case. Most of these relate to thermodynamic conditions."
   ]
  },
  {
   "cell_type": "code",
   "execution_count": 9,
   "id": "70d6106e",
   "metadata": {},
   "outputs": [
    {
     "ename": "NameError",
     "evalue": "name 'mesh' is not defined",
     "output_type": "error",
     "traceback": [
      "\u001b[0;31m---------------------------------------------------------------------------\u001b[0m",
      "\u001b[0;31mNameError\u001b[0m                                 Traceback (most recent call last)",
      "Cell \u001b[0;32mIn[9], line 11\u001b[0m\n\u001b[1;32m      8\u001b[0m kappa \u001b[38;5;241m=\u001b[39m parameters\u001b[38;5;241m.\u001b[39mkappa\n\u001b[1;32m     10\u001b[0m \u001b[38;5;66;03m# N^2 = (g/theta)dtheta/dz => dtheta/dz = theta N^2g => theta=theta_0exp(N^2gz)\u001b[39;00m\n\u001b[0;32m---> 11\u001b[0m xz \u001b[38;5;241m=\u001b[39m SpatialCoordinate(\u001b[43mmesh\u001b[49m)\n\u001b[1;32m     12\u001b[0m Tsurf \u001b[38;5;241m=\u001b[39m \u001b[38;5;241m300.\u001b[39m\n\u001b[1;32m     13\u001b[0m thetab \u001b[38;5;241m=\u001b[39m Tsurf\u001b[38;5;241m*\u001b[39mexp(N\u001b[38;5;241m*\u001b[39m\u001b[38;5;241m*\u001b[39m\u001b[38;5;241m2\u001b[39m\u001b[38;5;241m*\u001b[39mxz[\u001b[38;5;241m1\u001b[39m]\u001b[38;5;241m/\u001b[39mg)\n",
      "\u001b[0;31mNameError\u001b[0m: name 'mesh' is not defined"
     ]
    }
   ],
   "source": [
    "# Thermodynamic constants required for setting initial conditions\n",
    "# and reference profiles\n",
    "g = parameters.g\n",
    "N = parameters.N\n",
    "p_0 = parameters.p_0\n",
    "c_p = parameters.cp\n",
    "R_d = parameters.R_d\n",
    "kappa = parameters.kappa\n",
    "\n",
    "# N^2 = (g/theta)dtheta/dz => dtheta/dz = theta N^2g => theta=theta_0exp(N^2gz)\n",
    "xz = SpatialCoordinate(mesh)\n",
    "Tsurf = 300.\n",
    "thetab = Tsurf*exp(N**2*xz[1]/g)\n",
    "theta_b = Function(Vt).interpolate(thetab)"
   ]
  },
  {
   "cell_type": "markdown",
   "id": "04687319",
   "metadata": {},
   "source": [
    "Determine the Exner pressure using the hydrostatic balance function. (Is this because we start with a hydrostatic balance, then allow the simulation to move away from this?)"
   ]
  },
  {
   "cell_type": "code",
   "execution_count": 10,
   "id": "b1642c8b",
   "metadata": {},
   "outputs": [
    {
     "ename": "NameError",
     "evalue": "name 'mesh' is not defined",
     "output_type": "error",
     "traceback": [
      "\u001b[0;31m---------------------------------------------------------------------------\u001b[0m",
      "\u001b[0;31mNameError\u001b[0m                                 Traceback (most recent call last)",
      "Cell \u001b[0;32mIn[10], line 6\u001b[0m\n\u001b[1;32m      3\u001b[0m N \u001b[38;5;241m=\u001b[39m parameters\u001b[38;5;241m.\u001b[39mN\n\u001b[1;32m      5\u001b[0m \u001b[38;5;66;03m# N^2 = (g/theta)dtheta/dz => dtheta/dz = theta N^2g => theta=theta_0exp(N^2gz)\u001b[39;00m\n\u001b[0;32m----> 6\u001b[0m xz \u001b[38;5;241m=\u001b[39m SpatialCoordinate(\u001b[43mmesh\u001b[49m)\n\u001b[1;32m      7\u001b[0m thetab \u001b[38;5;241m=\u001b[39m Tsurf\u001b[38;5;241m*\u001b[39mexp(N\u001b[38;5;241m*\u001b[39m\u001b[38;5;241m*\u001b[39m\u001b[38;5;241m2\u001b[39m\u001b[38;5;241m*\u001b[39mz\u001b[38;5;241m/\u001b[39mg)\n\u001b[1;32m      8\u001b[0m theta_b \u001b[38;5;241m=\u001b[39m Function(Vt)\u001b[38;5;241m.\u001b[39minterpolate(thetab)\n",
      "\u001b[0;31mNameError\u001b[0m: name 'mesh' is not defined"
     ]
    }
   ],
   "source": [
    "# Thermodynamic constants required for setting initial conditions\n",
    "# and reference profiles\n",
    "N = parameters.N\n",
    "\n",
    "# N^2 = (g/theta)dtheta/dz => dtheta/dz = theta N^2g => theta=theta_0exp(N^2gz)\n",
    "xz = SpatialCoordinate(mesh)\n",
    "thetab = Tsurf*exp(N**2*z/g)\n",
    "theta_b = Function(Vt).interpolate(thetab)\n",
    "\n",
    "# Calculate hydrostatic exner\n",
    "exner = Function(Vr)\n",
    "rho_b = Function(Vr)\n",
    "\n",
    "# Set up kernels to evaluate global minima and maxima of fields\n",
    "min_kernel = MinKernel()\n",
    "max_kernel = MaxKernel()\n",
    "\n",
    "# First solve hydrostatic balance that gives Exner = 1 at bottom boundary\n",
    "# This gives us a guess for the top boundary condition\n",
    "bottom_boundary = Constant(exner_surf, domain=mesh)\n",
    "logger.info(f'Solving hydrostatic with bottom Exner of {exner_surf}')\n",
    "compressible_hydrostatic_balance(\n",
    "    eqns, theta_b, rho_b, exner, top=False, exner_boundary=bottom_boundary\n",
    ")\n",
    "\n",
    "# Solve hydrostatic balance again, but now use minimum value from first\n",
    "# solve as the *top* boundary condition for Exner\n",
    "top_value = min_kernel.apply(exner)\n",
    "top_boundary = Constant(top_value, domain=mesh)\n",
    "logger.info(f'Solving hydrostatic with top Exner of {top_value}')\n",
    "compressible_hydrostatic_balance(\n",
    "    eqns, theta_b, rho_b, exner, top=True, exner_boundary=top_boundary\n",
    ")\n",
    "\n",
    "max_bottom_value = max_kernel.apply(exner)\n",
    "\n",
    "# Now we iterate, adjusting the top boundary condition, until this gives\n",
    "# a maximum value of 1.0 at the surface\n",
    "lower_top_guess = 0.9*top_value\n",
    "upper_top_guess = 1.2*top_value\n",
    "for i in range(max_iterations):\n",
    "    # If max bottom Exner value is equal to desired value, stop iteration\n",
    "    if abs(max_bottom_value - exner_surf) < tolerance:\n",
    "        break\n",
    "\n",
    "    # Make new guess by average of previous guesses\n",
    "    top_guess = 0.5*(lower_top_guess + upper_top_guess)\n",
    "    top_boundary.assign(top_guess)\n",
    "\n",
    "    compressible_hydrostatic_balance(\n",
    "        eqns, theta_b, rho_b, exner, top=True, exner_boundary=top_boundary\n",
    "    )\n",
    "\n",
    "    max_bottom_value = max_kernel.apply(exner)\n",
    "\n",
    "    # Adjust guesses based on new value\n",
    "    if max_bottom_value < exner_surf:\n",
    "        lower_top_guess = top_guess\n",
    "    else:\n",
    "        upper_top_guess = top_guess\n",
    "\n",
    "# Perform a final solve to obtain hydrostatically balanced rho\n",
    "compressible_hydrostatic_balance(\n",
    "    eqns, theta_b, rho_b, exner, top=True, exner_boundary=top_boundary,\n",
    "    solve_for_rho=True\n",
    ")\n",
    "\n",
    "theta0.assign(theta_b)\n",
    "rho0.assign(rho_b)\n",
    "u0.project(as_vector([initial_wind, 0.0]), bcs=eqns.bcs['u'])\n",
    "\n",
    "stepper.set_reference_profiles([('rho', rho_b), ('theta', theta_b)])\n",
    "\n",
    "stepper.run(t=0, tmax=tmax)"
   ]
  },
  {
   "cell_type": "markdown",
   "id": "13ae4538",
   "metadata": {},
   "source": [
    "Now we would run the simulation! Note, that it does take a while ... . "
   ]
  },
  {
   "cell_type": "code",
   "execution_count": 11,
   "id": "0a750ee1",
   "metadata": {},
   "outputs": [],
   "source": [
    "# Here's what you would do:\n",
    "# stepper.run(t=0, tmax=tmax)"
   ]
  }
 ],
 "metadata": {
  "language_info": {
   "name": "python"
  }
 },
 "nbformat": 4,
 "nbformat_minor": 5
}
