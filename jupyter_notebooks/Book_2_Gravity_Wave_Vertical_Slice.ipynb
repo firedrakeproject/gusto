{
 "cells": [
  {
   "cell_type": "markdown",
   "id": "3ec4b5fe",
   "metadata": {},
   "source": [
    "# Notebook 2: Vertical Slice Gravity wave"
   ]
  },
  {
   "cell_type": "markdown",
   "id": "97f52073",
   "metadata": {},
   "source": [
    "In the first notebook, we looked at the shallow water equations. Gusto can also solve the incompressible Boussinesq equations and the compressible Euler equations. This notebook we will demonstrate running the compressible Euler equations in a 2D (x-z) domain, often called a 'vertical slice'. The variables in this system are the velocity $\\textbf{u}$, the dry density $\\rho$, and the (virtual dry) potential temperature $\\theta$. The fluid is stratified and the background state is in hydrostatic balance. The initial conditions consist of a perturbation to $\\theta$ in the centre of the domain. This setup is given in the 1994 paper by Skamarock and Klemp: https://journals.ametsoc.org/view/journals/mwre/122/11/1520-0493_1994_122_2623_eaaotk_2_0_co_2.xml."
   ]
  },
  {
   "cell_type": "markdown",
   "id": "29df76b1",
   "metadata": {},
   "source": [
    "As our standard first step, we begin by importing the required libraries and functions from Firedrake and Gusto:"
   ]
  },
  {
   "cell_type": "code",
   "execution_count": 1,
   "id": "7779c15b",
   "metadata": {},
   "outputs": [],
   "source": [
    "from gusto import *\n",
    "from firedrake import (as_vector, SpatialCoordinate, PeriodicIntervalMesh,\n",
    "                       ExtrudedMesh, exp, sin, pi, Function)"
   ]
  },
  {
   "cell_type": "markdown",
   "id": "33f71f3a",
   "metadata": {},
   "source": [
    "Specify the time-step size, simulation duration, and frequency of output results."
   ]
  },
  {
   "cell_type": "code",
   "execution_count": 2,
   "id": "f5147739",
   "metadata": {},
   "outputs": [],
   "source": [
    "dt = 6.\n",
    "tmax = 3600.\n",
    "dumpfreq = int(tmax / (2*dt))"
   ]
  },
  {
   "cell_type": "markdown",
   "id": "48ee6e88",
   "metadata": {},
   "source": [
    "For this vertical slice model, we first define a horizontal periodic interval mesh of length `L` with the number of cells equal to the number of columns we require in our final mesh. The periodic mesh is the extruded in the vertical direction by specifying the number of layers and their required height. We now have a two dimensional mesh with an aligned column structure."
   ]
  },
  {
   "cell_type": "code",
   "execution_count": 3,
   "id": "844be5eb",
   "metadata": {},
   "outputs": [],
   "source": [
    "nlayers = 10  # horizontal layers\n",
    "columns = 150  # number of columns\n",
    "L = 3.0e5\n",
    "m = PeriodicIntervalMesh(columns, L)\n",
    "\n",
    "H = 1.0e4  # Height position of the model top\n",
    "mesh = ExtrudedMesh(m, layers=nlayers, layer_height=H/nlayers)"
   ]
  },
  {
   "cell_type": "markdown",
   "id": "da3c27bd",
   "metadata": {},
   "source": [
    "We now set up the `OutputParameters` class, specifying the path to the output directory `dirname`, passing in `dumpfreq` and specifying some additional output fields. The default behaviour is for the vtu output files to contain all of the prognostic fields but in this case we would like to visualise the evolution of the perturbation, so we specify `perturbation_fields=['theta', 'rho']`."
   ]
  },
  {
   "cell_type": "code",
   "execution_count": 4,
   "id": "754708dd",
   "metadata": {},
   "outputs": [],
   "source": [
    "dirname = 'gravity_wave'\n",
    "output = OutputParameters(dirname=dirname,\n",
    "                          dumpfreq=dumpfreq,\n",
    "                          perturbation_fields=['theta', 'rho'])"
   ]
  },
  {
   "cell_type": "markdown",
   "id": "1e1ae651",
   "metadata": {},
   "source": [
    "Now, define the parameters and diagnostics we want to record. We are interested in the temperature gradients, which is automatically computed using the `Gradient()` function. "
   ]
  },
  {
   "cell_type": "code",
   "execution_count": 5,
   "id": "db9d61a0",
   "metadata": {},
   "outputs": [],
   "source": [
    "parameters = CompressibleParameters()\n",
    "g = parameters.g\n",
    "Tsurf = 300.\n",
    "\n",
    "diagnostic_fields = [CourantNumber(), Gradient(\"u\"),\n",
    "                     Gradient(\"theta_perturbation\"),\n",
    "                     RichardsonNumber(\"theta\", g/Tsurf), Gradient(\"theta\")]"
   ]
  },
  {
   "cell_type": "markdown",
   "id": "80f8c00a",
   "metadata": {},
   "source": [
    "As always, we initialise our `state` that evolves with each time-step. The finite element family specified in the `CompressibleEulerEquations` class corresponds to the velocity space of the horizontal mesh. As this is a 1D mesh, Continuous Galerkin (CG) elements are used. As Gusto solves directly on the vertical slice domain, none of the fields are in the 2D CG space."
   ]
  },
  {
   "cell_type": "code",
   "execution_count": 6,
   "id": "8ed9914e",
   "metadata": {},
   "outputs": [],
   "source": [
    "state = State(mesh,\n",
    "              dt=dt,\n",
    "              output=output,\n",
    "              parameters=parameters,\n",
    "              diagnostic_fields=diagnostic_fields)\n",
    "\n",
    "eqns = CompressibleEulerEquations(state, \"CG\", 1)"
   ]
  },
  {
   "cell_type": "markdown",
   "id": "9918a45e",
   "metadata": {},
   "source": [
    "Set up the initial conditions and define the thermodynamic constants."
   ]
  },
  {
   "cell_type": "code",
   "execution_count": 7,
   "id": "e61d066d",
   "metadata": {},
   "outputs": [],
   "source": [
    "# Initial conditions\n",
    "u0 = state.fields(\"u\")\n",
    "rho0 = state.fields(\"rho\")\n",
    "theta0 = state.fields(\"theta\")\n",
    "\n",
    "# spaces\n",
    "Vu = state.spaces(\"HDiv\")\n",
    "Vt = state.spaces(\"theta\")\n",
    "Vr = state.spaces(\"DG\")\n",
    "\n",
    "# Thermodynamic constants required for setting initial conditions\n",
    "# and reference profiles\n",
    "g = parameters.g\n",
    "N = parameters.N\n",
    "p_0 = parameters.p_0\n",
    "c_p = parameters.cp\n",
    "R_d = parameters.R_d\n",
    "kappa = parameters.kappa\n",
    "\n",
    "x, z = SpatialCoordinate(mesh)\n",
    "\n",
    "# N^2 = (g/theta)dtheta/dz => dtheta/dz = theta N^2g => theta=theta_0exp(N^2gz)\n",
    "Tsurf = 300.\n",
    "thetab = Tsurf*exp(N**2*z/g)\n",
    "\n",
    "theta_b = Function(Vt).interpolate(thetab)\n",
    "rho_b = Function(Vr)"
   ]
  },
  {
   "cell_type": "markdown",
   "id": "04687319",
   "metadata": {},
   "source": [
    "This next step takes the temperature profile and computes the corresponding density that will enforce a hydrostatic balance."
   ]
  },
  {
   "cell_type": "code",
   "execution_count": 8,
   "id": "b1642c8b",
   "metadata": {},
   "outputs": [],
   "source": [
    "compressible_hydrostatic_balance(state, theta_b, rho_b)"
   ]
  },
  {
   "cell_type": "markdown",
   "id": "04be4d86",
   "metadata": {},
   "source": [
    "We now set up the initial potential temperature profile. We apply a perturbation $\\theta'$ to the background balanced $\\theta_b$ defined above, where $\\theta'$ is given by:\n",
    "$$\\theta' = \\Delta \\theta \\frac{\\sin\\big(\\frac{\\pi z}{H}\\big)}{1 + \\frac{1}{a^2}(x-x_c)^2}$$"
   ]
  },
  {
   "cell_type": "code",
   "execution_count": 9,
   "id": "46852826",
   "metadata": {},
   "outputs": [],
   "source": [
    "a = 5.0e3\n",
    "deltaTheta = 1.0e-2\n",
    "theta_pert = deltaTheta*sin(pi*z/H)/(1 + (x - L/2)**2/a**2)\n",
    "theta0.interpolate(theta_b + theta_pert)\n",
    "rho0.assign(rho_b)\n",
    "u0.project(as_vector([20.0, 0.0]))\n",
    "\n",
    "state.set_reference_profiles([('rho', rho_b),\n",
    "                              ('theta', theta_b)])"
   ]
  },
  {
   "cell_type": "markdown",
   "id": "05829ae3",
   "metadata": {},
   "source": [
    "A streamline upwind Petrov-Galerkin (SUPG) transport scheme will be applied to the potential temperature."
   ]
  },
  {
   "cell_type": "markdown",
   "id": "2b518722",
   "metadata": {},
   "source": [
    "Set up the linear solver and the time-stepper. As per the first notebook, we use an Implicit Midpoint method for the velocity field, and an explicit SSPRK3 scheme for the other variables (density and potential temperature). This time, we need to specify the use of a compressible solver."
   ]
  },
  {
   "cell_type": "code",
   "execution_count": 11,
   "id": "7e16a3dc",
   "metadata": {},
   "outputs": [],
   "source": [
    "transported_fields = [ImplicitMidpoint(state, \"u\"),\n",
    "                      SSPRK3(state, \"rho\"),\n",
    "                      SSPRK3(state, \"theta\", options=SUPGOptions())]\n",
    "\n",
    "# Set up linear solver\n",
    "linear_solver = CompressibleSolver(state, eqns)\n",
    "\n",
    "# build time stepper\n",
    "stepper = SemiImplicitQuasiNewton(eqns, state, transported_fields, linear_solver=linear_solver)"
   ]
  },
  {
   "cell_type": "markdown",
   "id": "a33d7329",
   "metadata": {},
   "source": [
    "Next, you would solve the equations! However, they take ages to run - do we run for a few time steps? The only problem is that it will create output which will overwrite the current results."
   ]
  },
  {
   "cell_type": "code",
   "execution_count": null,
   "id": "892d41ae",
   "metadata": {},
   "outputs": [],
   "source": [
    "# Here's what you would do...\n",
    "# stepper.run(t=0, tmax=tmax)"
   ]
  },
  {
   "cell_type": "markdown",
   "id": "1ce2d33f",
   "metadata": {},
   "source": [
    "To save you having to run this full simulation, results have already been generated and stored in the 'results/gravity_wave' subdirectory. We will show a visualisation of the potential temperature at the points we specified earlier. \n",
    "\n",
    "We set-up the visualisations that can be used in Jupyter notebook:"
   ]
  },
  {
   "cell_type": "code",
   "execution_count": null,
   "id": "f0bff13c",
   "metadata": {},
   "outputs": [],
   "source": []
  },
  {
   "cell_type": "code",
   "execution_count": null,
   "id": "4337019c",
   "metadata": {},
   "outputs": [],
   "source": []
  }
 ],
 "metadata": {
  "kernelspec": {
   "display_name": "Python 3 (ipykernel)",
   "language": "python",
   "name": "python3"
  },
  "language_info": {
   "codemirror_mode": {
    "name": "ipython",
    "version": 3
   },
   "file_extension": ".py",
   "mimetype": "text/x-python",
   "name": "python",
   "nbconvert_exporter": "python",
   "pygments_lexer": "ipython3",
   "version": "3.9.13"
  }
 },
 "nbformat": 4,
 "nbformat_minor": 5
}
