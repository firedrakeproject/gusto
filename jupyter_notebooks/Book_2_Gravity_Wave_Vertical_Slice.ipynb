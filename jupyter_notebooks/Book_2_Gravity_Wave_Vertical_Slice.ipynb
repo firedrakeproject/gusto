{
 "cells": [
  {
   "cell_type": "markdown",
   "id": "3ec4b5fe",
   "metadata": {},
   "source": [
    "# Notebook 2: Vertical Slice Gravity wave"
   ]
  },
  {
   "cell_type": "markdown",
   "id": "97f52073",
   "metadata": {},
   "source": [
    "This notebook will demonstrate using Gusto to solve the compressible Euler equations in a 2D (x-z) domain, often called a 'vertical slice'. The variables in this system are the velocity $\\textbf{u}$, the dry density $\\rho$, and the (virtual dry) potential temperature $\\theta$. The fluid is stratified and the background state is in hydrostatic balance. The initial conditions consist of a perturbation to $\\theta$ in the centre of the domain. This setup is given in the 1994 paper by Skamarock and Klemp: https://journals.ametsoc.org/view/journals/mwre/122/11/1520-0493_1994_122_2623_eaaotk_2_0_co_2.xml."
   ]
  },
  {
   "cell_type": "markdown",
   "id": "29df76b1",
   "metadata": {},
   "source": [
    "As our standard first step, we begin by importing the required libraries and functions from Firedrake and Gusto:"
   ]
  },
  {
   "cell_type": "code",
   "execution_count": 1,
   "id": "7779c15b",
   "metadata": {},
   "outputs": [
    {
     "name": "stderr",
     "output_type": "stream",
     "text": [
      "INFO     Running /Users/JS1075/firedrake_dec24/lib/python3.12/site-packages/ipykernel_launcher.py -f /private/var/folders/f0/llvlmlb50qg6mmlxs8m6d6d00000gp/T/tmph0v1dz4z.json --HistoryManager.hist_file=:memory:\n"
     ]
    }
   ],
   "source": [
    "from gusto import *\n",
    "from firedrake import (as_vector, SpatialCoordinate, PeriodicIntervalMesh,\n",
    "                       ExtrudedMesh, exp, sin, pi, Function)"
   ]
  },
  {
   "cell_type": "markdown",
   "id": "33f71f3a",
   "metadata": {},
   "source": [
    "We now specify the time-step size, simulation duration, and frequency of output results."
   ]
  },
  {
   "cell_type": "code",
   "execution_count": 2,
   "id": "f5147739",
   "metadata": {},
   "outputs": [],
   "source": [
    "dt = 6.\n",
    "tmax = 3600.\n",
    "dumpfreq = 300    # this will output every 300 timesteps"
   ]
  },
  {
   "cell_type": "markdown",
   "id": "48ee6e88",
   "metadata": {},
   "source": [
    "For a vertical slice model, we first define a periodic interval mesh  with width equal to that of the required domain and the number of cells equal to the number of columns we require in our final mesh. The periodic mesh is then extruded in the vertical direction by specifying the number of layers and the layer height. We now have a two dimensional mesh with vertically aligned columns."
   ]
  },
  {
   "cell_type": "code",
   "execution_count": 3,
   "id": "844be5eb",
   "metadata": {},
   "outputs": [],
   "source": [
    "nlayers = 10  # number of horizontal layers\n",
    "columns = 150  # number of columns\n",
    "domain_width = 3.0e5\n",
    "m = PeriodicIntervalMesh(columns, domain_width)\n",
    "\n",
    "domain_height = 1.0e4  # Height position of the model top\n",
    "mesh = ExtrudedMesh(m, layers=nlayers, layer_height=domain_height/nlayers)"
   ]
  },
  {
   "cell_type": "markdown",
   "id": "80f8c00a",
   "metadata": {},
   "source": [
    "We can now set up the domain, physical parameters and equations. We will use the default values for any physical parameters (which can be found [here](https://www.firedrakeproject.org/gusto-docs/gusto.core.html#gusto.core.configuration.CompressibleParameters)). The compatible finite element function spaces are constructed by taking the tensor product of 1D horizontal and vertical spaces. These are specified by the family and degree parameters passed to `Domain`."
   ]
  },
  {
   "cell_type": "code",
   "execution_count": 4,
   "id": "8ed9914e",
   "metadata": {},
   "outputs": [],
   "source": [
    "domain = Domain(mesh, dt, family=\"CG\", degree=1)\n",
    "parameters = CompressibleParameters()\n",
    "eqns = CompressibleEulerEquations(domain, parameters)"
   ]
  },
  {
   "cell_type": "markdown",
   "id": "da3c27bd",
   "metadata": {},
   "source": [
    "We now set up the `OutputParameters` class, specifying the path to the output directory `dirname` and passing in `dumpfreq`. The default behaviour is for the vtu output files to contain all of the prognostic fields. In this case we would like to visualise the evolution of the perturbation, so we specify those as diagnostic fields, along with the potential temperature gradient and the Richardson number."
   ]
  },
  {
   "cell_type": "code",
   "execution_count": 5,
   "id": "754708dd",
   "metadata": {},
   "outputs": [],
   "source": [
    "dirname = 'gravity_wave'\n",
    "output = OutputParameters(dirname=dirname,\n",
    "                          dumpfreq=dumpfreq)\n",
    "Tsurf = 300.\n",
    "diagnostic_fields = [\n",
    "    CourantNumber(), Gradient('u'), Perturbation('theta'),\n",
    "    Gradient('theta_perturbation'), Perturbation('rho'),\n",
    "    RichardsonNumber('theta', parameters.g/Tsurf), Gradient('theta')\n",
    "]\n",
    "io = IO(domain, output, diagnostic_fields=diagnostic_fields)"
   ]
  },
  {
   "cell_type": "markdown",
   "id": "2b518722",
   "metadata": {},
   "source": [
    "We will set up a `SemiImplicitQuasiNewton` timestepper. This method splits the equation into terms that are treated explicitly and those that are treated semi-implicitly. Transport and forcing terms are treated separately. This allows for different time-steppers to be used for transporting the velocity and depth fields. We choose to use the trapezium rule for the velocity and an explicit strong stability preserving RK3 (SSPRK3) method for the density and potential temperature. Since the Courant number for a stable SSPRK3 scheme is lower than that for the trapezium rule, we subcycle the SSPRK3 scheme  to keep the Courant number under 0.25, allowing us to use a longer timestep overall. We apply the `DGUpwind` method to the transport terms for all fields, and additionally use streamline upwind Petrov-Galerkin (SUPG) for the potential temperature."
   ]
  },
  {
   "cell_type": "code",
   "execution_count": 6,
   "id": "7e16a3dc",
   "metadata": {},
   "outputs": [
    {
     "name": "stderr",
     "output_type": "stream",
     "text": [
      "INFO     Physical parameters that take non-default values:\n"
     ]
    },
    {
     "name": "stderr",
     "output_type": "stream",
     "text": [
      "INFO     \n"
     ]
    }
   ],
   "source": [
    "theta_opts = SUPGOptions()\n",
    "subcycling_options = SubcyclingOptions(subcycle_by_courant=0.25)\n",
    "\n",
    "transported_fields = [\n",
    "    SSPRK3(domain, \"u\", subcycling_options=subcycling_options),\n",
    "    SSPRK3(\n",
    "        domain, \"rho\", subcycling_options=subcycling_options,\n",
    "        rk_formulation=RungeKuttaFormulation.linear\n",
    "    ),\n",
    "    SSPRK3(\n",
    "        domain, \"theta\", subcycling_options=subcycling_options,\n",
    "        options=theta_opts\n",
    "    )\n",
    "]\n",
    "transport_methods = [\n",
    "    DGUpwind(eqns, \"u\"),\n",
    "    DGUpwind(eqns, \"rho\", advective_then_flux=True),\n",
    "    DGUpwind(eqns, \"theta\", ibp=theta_opts.ibp)\n",
    "]\n",
    "\n",
    "linear_solver = CompressibleSolver(eqns)\n",
    "\n",
    "stepper = SemiImplicitQuasiNewton(\n",
    "    eqns, io, transported_fields, transport_methods,\n",
    "    linear_solver=linear_solver\n",
    ")"
   ]
  },
  {
   "cell_type": "markdown",
   "id": "9918a45e",
   "metadata": {},
   "source": [
    "Now we can initialise the model and set up the background profiles in hydrostatic balance."
   ]
  },
  {
   "cell_type": "code",
   "execution_count": 7,
   "id": "e61d066d",
   "metadata": {},
   "outputs": [],
   "source": [
    "# Initial conditions\n",
    "u0 = stepper.fields(\"u\")\n",
    "rho0 = stepper.fields(\"rho\")\n",
    "theta0 = stepper.fields(\"theta\")\n",
    "\n",
    "# spaces\n",
    "Vt = domain.spaces(\"theta\")\n",
    "Vr = domain.spaces(\"DG\")\n",
    "\n",
    "# Thermodynamic constants required for setting initial conditions\n",
    "# and reference profiles\n",
    "g = parameters.g\n",
    "N = parameters.N\n",
    "p_0 = parameters.p_0\n",
    "c_p = parameters.cp\n",
    "R_d = parameters.R_d\n",
    "kappa = parameters.kappa\n",
    "\n",
    "xz = SpatialCoordinate(mesh)\n",
    "\n",
    "# N^2 = (g/theta)dtheta/dz => dtheta/dz = theta N^2g => theta=theta_0exp(N^2gz)\n",
    "thetab = Tsurf*exp(N**2*xz[1]/g)\n",
    "\n",
    "theta_b = Function(Vt).interpolate(thetab)\n",
    "rho_b = Function(Vr)"
   ]
  },
  {
   "cell_type": "markdown",
   "id": "04687319",
   "metadata": {},
   "source": [
    "This next step takes the temperature profile and computes the corresponding density that will enforce a hydrostatic balance."
   ]
  },
  {
   "cell_type": "code",
   "execution_count": 8,
   "id": "b1642c8b",
   "metadata": {},
   "outputs": [],
   "source": [
    "compressible_hydrostatic_balance(eqns, theta_b, rho_b)"
   ]
  },
  {
   "cell_type": "markdown",
   "id": "04be4d86",
   "metadata": {},
   "source": [
    "We now set up the initial potential temperature profile. We apply a perturbation $\\theta'$ to the background balanced $\\theta_b$ defined above, where $\\theta'$ is given by:\n",
    "$$\\theta' = \\Delta \\theta \\frac{\\sin\\big(\\frac{\\pi z}{H}\\big)}{1 + \\frac{1}{a^2}(x-x_c)^2}$$"
   ]
  },
  {
   "cell_type": "code",
   "execution_count": 9,
   "id": "46852826",
   "metadata": {},
   "outputs": [],
   "source": [
    "a = 5.0e3\n",
    "deltaTheta = 1.0e-2\n",
    "theta_pert = deltaTheta*sin(pi*xz[1]/domain_height)/(1 + (xz[0] - domain_width/2)**2/a**2)\n",
    "theta0.interpolate(theta_b + theta_pert)\n",
    "rho0.assign(rho_b)\n",
    "u0.project(as_vector([20.0, 0.0]))\n",
    "\n",
    "stepper.set_reference_profiles([('rho', rho_b), ('theta', theta_b)])"
   ]
  },
  {
   "cell_type": "markdown",
   "id": "a33d7329",
   "metadata": {},
   "source": [
    "Next, you would solve the equations! However, they take ages to run - do we run for a few time steps? The only problem is that it will create output which will overwrite the current results."
   ]
  },
  {
   "cell_type": "code",
   "execution_count": 10,
   "id": "892d41ae",
   "metadata": {},
   "outputs": [],
   "source": [
    "# Here's what you would do...\n",
    "# stepper.run(t=0, tmax=tmax)"
   ]
  },
  {
   "cell_type": "markdown",
   "id": "1ce2d33f",
   "metadata": {},
   "source": [
    "To save you having to run this full simulation, results have already been generated and stored in the 'results/gravity_wave' subdirectory. We will show a visualisation of the potential temperature at the points we specified earlier. \n",
    "\n",
    "We set-up the visualisations that can be used in Jupyter notebook:"
   ]
  },
  {
   "cell_type": "code",
   "execution_count": null,
   "id": "f0bff13c",
   "metadata": {},
   "outputs": [],
   "source": []
  },
  {
   "cell_type": "code",
   "execution_count": null,
   "id": "4337019c",
   "metadata": {},
   "outputs": [],
   "source": []
  }
 ],
 "metadata": {
  "language_info": {
   "name": "python"
  }
 },
 "nbformat": 4,
 "nbformat_minor": 5
}
