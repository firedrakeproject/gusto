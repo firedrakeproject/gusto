{
 "cells": [
  {
   "cell_type": "markdown",
   "id": "3ec4b5fe",
   "metadata": {},
   "source": [
    "# Notebook 2: Vertical Slice Gravity wave"
   ]
  },
  {
   "cell_type": "markdown",
   "id": "97f52073",
   "metadata": {},
   "source": [
    "This notebook will demonstrate using Gusto to solve the compressible Euler equations in a 2D (x-z) domain, often called a 'vertical slice'. The variables in this system are the velocity $\\textbf{u}$, the dry density $\\rho$, and the (virtual dry) potential temperature $\\theta$. The fluid is stratified and the background state is in hydrostatic balance. The initial conditions consist of a perturbation to $\\theta$ in the centre of the domain. This setup is given in the 1994 paper by Skamarock and Klemp: https://journals.ametsoc.org/view/journals/mwre/122/11/1520-0493_1994_122_2623_eaaotk_2_0_co_2.xml."
   ]
  },
  {
   "cell_type": "markdown",
   "id": "29df76b1",
   "metadata": {},
   "source": [
    "As our standard first step, we begin by importing the required libraries and functions from Firedrake and Gusto:"
   ]
  },
  {
   "cell_type": "code",
   "execution_count": 1,
   "id": "7779c15b",
   "metadata": {},
   "outputs": [
    {
     "ename": "ModuleNotFoundError",
     "evalue": "No module named 'gusto'",
     "output_type": "error",
     "traceback": [
      "\u001b[0;31m---------------------------------------------------------------------------\u001b[0m",
      "\u001b[0;31mModuleNotFoundError\u001b[0m                       Traceback (most recent call last)",
      "Input \u001b[0;32mIn [1]\u001b[0m, in \u001b[0;36m<cell line: 1>\u001b[0;34m()\u001b[0m\n\u001b[0;32m----> 1\u001b[0m \u001b[38;5;28;01mfrom\u001b[39;00m \u001b[38;5;21;01mgusto\u001b[39;00m \u001b[38;5;28;01mimport\u001b[39;00m \u001b[38;5;241m*\u001b[39m\n\u001b[1;32m      2\u001b[0m \u001b[38;5;28;01mfrom\u001b[39;00m \u001b[38;5;21;01mfiredrake\u001b[39;00m \u001b[38;5;28;01mimport\u001b[39;00m (as_vector, SpatialCoordinate, PeriodicIntervalMesh,\n\u001b[1;32m      3\u001b[0m                        ExtrudedMesh, exp, sin, pi, Function)\n",
      "\u001b[0;31mModuleNotFoundError\u001b[0m: No module named 'gusto'"
     ]
    }
   ],
   "source": [
    "from gusto import *\n",
    "from firedrake import (as_vector, SpatialCoordinate, PeriodicIntervalMesh,\n",
    "                       ExtrudedMesh, exp, sin, pi, Function)"
   ]
  },
  {
   "cell_type": "markdown",
   "id": "33f71f3a",
   "metadata": {},
   "source": [
    "Specify the time-step size, simulation duration, and frequency of output results."
   ]
  },
  {
   "cell_type": "code",
   "execution_count": 2,
   "id": "f5147739",
   "metadata": {},
   "outputs": [],
   "source": [
    "dt = 6.\n",
    "tmax = 3600.\n",
    "dumpfreq = 300    # this will output every 300 timesteps"
   ]
  },
  {
   "cell_type": "markdown",
   "id": "48ee6e88",
   "metadata": {},
   "source": [
    "For this vertical slice model, we first define a periodic interval mesh  with width equal to that of the required domain and the number of cells equal to the number of columns we require in our final mesh. The periodic mesh is then extruded in the vertical direction by specifying the number of layers and the layer height. We now have a two dimensional mesh with vertically aligned columns."
   ]
  },
  {
   "cell_type": "code",
   "execution_count": 3,
   "id": "844be5eb",
   "metadata": {},
   "outputs": [
    {
     "ename": "NameError",
     "evalue": "name 'PeriodicIntervalMesh' is not defined",
     "output_type": "error",
     "traceback": [
      "\u001b[0;31m---------------------------------------------------------------------------\u001b[0m",
      "\u001b[0;31mNameError\u001b[0m                                 Traceback (most recent call last)",
      "Input \u001b[0;32mIn [3]\u001b[0m, in \u001b[0;36m<cell line: 4>\u001b[0;34m()\u001b[0m\n\u001b[1;32m      2\u001b[0m columns \u001b[38;5;241m=\u001b[39m \u001b[38;5;241m150\u001b[39m  \u001b[38;5;66;03m# number of columns\u001b[39;00m\n\u001b[1;32m      3\u001b[0m domain_width \u001b[38;5;241m=\u001b[39m \u001b[38;5;241m3.0e5\u001b[39m\n\u001b[0;32m----> 4\u001b[0m m \u001b[38;5;241m=\u001b[39m \u001b[43mPeriodicIntervalMesh\u001b[49m(columns, domain_width)\n\u001b[1;32m      6\u001b[0m domain_height \u001b[38;5;241m=\u001b[39m \u001b[38;5;241m1.0e4\u001b[39m  \u001b[38;5;66;03m# Height position of the model top\u001b[39;00m\n\u001b[1;32m      7\u001b[0m mesh \u001b[38;5;241m=\u001b[39m ExtrudedMesh(m, layers\u001b[38;5;241m=\u001b[39mnlayers, layer_height\u001b[38;5;241m=\u001b[39mdomain_height\u001b[38;5;241m/\u001b[39mnlayers)\n",
      "\u001b[0;31mNameError\u001b[0m: name 'PeriodicIntervalMesh' is not defined"
     ]
    }
   ],
   "source": [
    "nlayers = 10  # number of horizontal layers\n",
    "columns = 150  # number of columns\n",
    "domain_width = 3.0e5\n",
    "m = PeriodicIntervalMesh(columns, domain_width)\n",
    "\n",
    "domain_height = 1.0e4  # Height position of the model top\n",
    "mesh = ExtrudedMesh(m, layers=nlayers, layer_height=domain_height/nlayers)"
   ]
  },
  {
   "cell_type": "markdown",
   "id": "80f8c00a",
   "metadata": {},
   "source": [
    "As always, we initialise our `state` that evolves with each time-step. The finite element family specified in the `CompressibleEulerEquations` class corresponds to the velocity space of the horizontal mesh. As this is a 1D mesh, Continuous Galerkin (CG) elements are used. As Gusto solves directly on the vertical slice domain, none of the fields are in the 2D CG space."
   ]
  },
  {
   "cell_type": "code",
   "execution_count": 4,
   "id": "8ed9914e",
   "metadata": {},
   "outputs": [
    {
     "ename": "NameError",
     "evalue": "name 'Domain' is not defined",
     "output_type": "error",
     "traceback": [
      "\u001b[0;31m---------------------------------------------------------------------------\u001b[0m",
      "\u001b[0;31mNameError\u001b[0m                                 Traceback (most recent call last)",
      "Input \u001b[0;32mIn [4]\u001b[0m, in \u001b[0;36m<cell line: 1>\u001b[0;34m()\u001b[0m\n\u001b[0;32m----> 1\u001b[0m domain \u001b[38;5;241m=\u001b[39m \u001b[43mDomain\u001b[49m(mesh, dt, \u001b[38;5;124m\"\u001b[39m\u001b[38;5;124mCG\u001b[39m\u001b[38;5;124m\"\u001b[39m, \u001b[38;5;241m1\u001b[39m)\n\u001b[1;32m      2\u001b[0m parameters \u001b[38;5;241m=\u001b[39m CompressibleParameters()\n\u001b[1;32m      3\u001b[0m eqns \u001b[38;5;241m=\u001b[39m CompressibleEulerEquations(domain, parameters)\n",
      "\u001b[0;31mNameError\u001b[0m: name 'Domain' is not defined"
     ]
    }
   ],
   "source": [
    "domain = Domain(mesh, dt, \"CG\", 1)\n",
    "parameters = CompressibleParameters()\n",
    "eqns = CompressibleEulerEquations(domain, parameters)"
   ]
  },
  {
   "cell_type": "markdown",
   "id": "da3c27bd",
   "metadata": {},
   "source": [
    "We now set up the `OutputParameters` class, specifying the path to the output directory `dirname` and passing in `dumpfreq`. The default behaviour is for the vtu output files to contain all of the prognostic fields. In this case we would like to visualise the evolution of the perturbation, so we specify those as diagnostic fields, along with the potential temperature gradient and the Richardson number."
   ]
  },
  {
   "cell_type": "code",
   "execution_count": 5,
   "id": "754708dd",
   "metadata": {},
   "outputs": [
    {
     "ename": "NameError",
     "evalue": "name 'OutputParameters' is not defined",
     "output_type": "error",
     "traceback": [
      "\u001b[0;31m---------------------------------------------------------------------------\u001b[0m",
      "\u001b[0;31mNameError\u001b[0m                                 Traceback (most recent call last)",
      "Input \u001b[0;32mIn [5]\u001b[0m, in \u001b[0;36m<cell line: 2>\u001b[0;34m()\u001b[0m\n\u001b[1;32m      1\u001b[0m dirname \u001b[38;5;241m=\u001b[39m \u001b[38;5;124m'\u001b[39m\u001b[38;5;124mgravity_wave\u001b[39m\u001b[38;5;124m'\u001b[39m\n\u001b[0;32m----> 2\u001b[0m output \u001b[38;5;241m=\u001b[39m \u001b[43mOutputParameters\u001b[49m(dirname\u001b[38;5;241m=\u001b[39mdirname,\n\u001b[1;32m      3\u001b[0m                           dumpfreq\u001b[38;5;241m=\u001b[39mdumpfreq)\n\u001b[1;32m      4\u001b[0m Tsurf \u001b[38;5;241m=\u001b[39m \u001b[38;5;241m300.\u001b[39m\n\u001b[1;32m      5\u001b[0m diagnostic_fields \u001b[38;5;241m=\u001b[39m [\n\u001b[1;32m      6\u001b[0m         CourantNumber(), Gradient(\u001b[38;5;124m'\u001b[39m\u001b[38;5;124mu\u001b[39m\u001b[38;5;124m'\u001b[39m), Perturbation(\u001b[38;5;124m'\u001b[39m\u001b[38;5;124mtheta\u001b[39m\u001b[38;5;124m'\u001b[39m),\n\u001b[1;32m      7\u001b[0m         Gradient(\u001b[38;5;124m'\u001b[39m\u001b[38;5;124mtheta_perturbation\u001b[39m\u001b[38;5;124m'\u001b[39m), Perturbation(\u001b[38;5;124m'\u001b[39m\u001b[38;5;124mrho\u001b[39m\u001b[38;5;124m'\u001b[39m),\n\u001b[1;32m      8\u001b[0m         RichardsonNumber(\u001b[38;5;124m'\u001b[39m\u001b[38;5;124mtheta\u001b[39m\u001b[38;5;124m'\u001b[39m, parameters\u001b[38;5;241m.\u001b[39mg\u001b[38;5;241m/\u001b[39mTsurf), Gradient(\u001b[38;5;124m'\u001b[39m\u001b[38;5;124mtheta\u001b[39m\u001b[38;5;124m'\u001b[39m)\n\u001b[1;32m      9\u001b[0m     ]\n",
      "\u001b[0;31mNameError\u001b[0m: name 'OutputParameters' is not defined"
     ]
    }
   ],
   "source": [
    "dirname = 'gravity_wave'\n",
    "output = OutputParameters(dirname=dirname,\n",
    "                          dumpfreq=dumpfreq)\n",
    "Tsurf = 300.\n",
    "diagnostic_fields = [\n",
    "        CourantNumber(), Gradient('u'), Perturbation('theta'),\n",
    "        Gradient('theta_perturbation'), Perturbation('rho'),\n",
    "        RichardsonNumber('theta', parameters.g/Tsurf), Gradient('theta')\n",
    "    ]\n",
    "io = IO(domain, output, diagnostic_fields=diagnostic_fields)"
   ]
  },
  {
   "cell_type": "code",
   "execution_count": 6,
   "id": "7e16a3dc",
   "metadata": {},
   "outputs": [
    {
     "ename": "NameError",
     "evalue": "name 'SUPGOptions' is not defined",
     "output_type": "error",
     "traceback": [
      "\u001b[0;31m---------------------------------------------------------------------------\u001b[0m",
      "\u001b[0;31mNameError\u001b[0m                                 Traceback (most recent call last)",
      "Input \u001b[0;32mIn [6]\u001b[0m, in \u001b[0;36m<cell line: 1>\u001b[0;34m()\u001b[0m\n\u001b[0;32m----> 1\u001b[0m theta_opts \u001b[38;5;241m=\u001b[39m \u001b[43mSUPGOptions\u001b[49m()\n\u001b[1;32m      2\u001b[0m subcycling_options \u001b[38;5;241m=\u001b[39m SubcyclingOptions(subcycle_by_courant\u001b[38;5;241m=\u001b[39m\u001b[38;5;241m0.25\u001b[39m)\n\u001b[1;32m      3\u001b[0m transported_fields \u001b[38;5;241m=\u001b[39m [\n\u001b[1;32m      4\u001b[0m     SSPRK3(domain, \u001b[38;5;124m\"\u001b[39m\u001b[38;5;124mu\u001b[39m\u001b[38;5;124m\"\u001b[39m, subcycling_options\u001b[38;5;241m=\u001b[39msubcycling_options),\n\u001b[1;32m      5\u001b[0m     SSPRK3(\n\u001b[0;32m   (...)\u001b[0m\n\u001b[1;32m     12\u001b[0m     )\n\u001b[1;32m     13\u001b[0m ]\n",
      "\u001b[0;31mNameError\u001b[0m: name 'SUPGOptions' is not defined"
     ]
    }
   ],
   "source": [
    "theta_opts = SUPGOptions()\n",
    "subcycling_options = SubcyclingOptions(subcycle_by_courant=0.25)\n",
    "transported_fields = [\n",
    "    SSPRK3(domain, \"u\", subcycling_options=subcycling_options),\n",
    "    SSPRK3(\n",
    "        domain, \"rho\", subcycling_options=subcycling_options,\n",
    "        rk_formulation=RungeKuttaFormulation.linear\n",
    "    ),\n",
    "    SSPRK3(\n",
    "        domain, \"theta\", subcycling_options=subcycling_options,\n",
    "        options=theta_opts\n",
    "    )\n",
    "]\n",
    "transport_methods = [\n",
    "    DGUpwind(eqns, \"u\"),\n",
    "    DGUpwind(eqns, \"rho\", advective_then_flux=True),\n",
    "    DGUpwind(eqns, \"theta\", ibp=theta_opts.ibp)\n",
    "]"
   ]
  },
  {
   "cell_type": "markdown",
   "id": "9918a45e",
   "metadata": {},
   "source": [
    "Set up the initial conditions and define the thermodynamic constants."
   ]
  },
  {
   "cell_type": "code",
   "execution_count": 7,
   "id": "e61d066d",
   "metadata": {},
   "outputs": [
    {
     "ename": "NameError",
     "evalue": "name 'stepper' is not defined",
     "output_type": "error",
     "traceback": [
      "\u001b[0;31m---------------------------------------------------------------------------\u001b[0m",
      "\u001b[0;31mNameError\u001b[0m                                 Traceback (most recent call last)",
      "Input \u001b[0;32mIn [7]\u001b[0m, in \u001b[0;36m<cell line: 2>\u001b[0;34m()\u001b[0m\n\u001b[1;32m      1\u001b[0m \u001b[38;5;66;03m# Initial conditions\u001b[39;00m\n\u001b[0;32m----> 2\u001b[0m u0 \u001b[38;5;241m=\u001b[39m \u001b[43mstepper\u001b[49m\u001b[38;5;241m.\u001b[39mfields(\u001b[38;5;124m\"\u001b[39m\u001b[38;5;124mu\u001b[39m\u001b[38;5;124m\"\u001b[39m)\n\u001b[1;32m      3\u001b[0m rho0 \u001b[38;5;241m=\u001b[39m stepper\u001b[38;5;241m.\u001b[39mfields(\u001b[38;5;124m\"\u001b[39m\u001b[38;5;124mrho\u001b[39m\u001b[38;5;124m\"\u001b[39m)\n\u001b[1;32m      4\u001b[0m theta0 \u001b[38;5;241m=\u001b[39m stepper\u001b[38;5;241m.\u001b[39mfields(\u001b[38;5;124m\"\u001b[39m\u001b[38;5;124mtheta\u001b[39m\u001b[38;5;124m\"\u001b[39m)\n",
      "\u001b[0;31mNameError\u001b[0m: name 'stepper' is not defined"
     ]
    }
   ],
   "source": [
    "# Initial conditions\n",
    "u0 = stepper.fields(\"u\")\n",
    "rho0 = stepper.fields(\"rho\")\n",
    "theta0 = stepper.fields(\"theta\")\n",
    "\n",
    "# spaces\n",
    "Vt = state.spaces(\"theta\")\n",
    "Vr = state.spaces(\"DG\")\n",
    "\n",
    "# Thermodynamic constants required for setting initial conditions\n",
    "# and reference profiles\n",
    "g = parameters.g\n",
    "N = parameters.N\n",
    "p_0 = parameters.p_0\n",
    "c_p = parameters.cp\n",
    "R_d = parameters.R_d\n",
    "kappa = parameters.kappa\n",
    "\n",
    "xz = SpatialCoordinate(mesh)\n",
    "\n",
    "# N^2 = (g/theta)dtheta/dz => dtheta/dz = theta N^2g => theta=theta_0exp(N^2gz)\n",
    "thetab = Tsurf*exp(N**2*z/g)\n",
    "\n",
    "theta_b = Function(Vt).interpolate(thetab)\n",
    "rho_b = Function(Vr)"
   ]
  },
  {
   "cell_type": "markdown",
   "id": "04687319",
   "metadata": {},
   "source": [
    "This next step takes the temperature profile and computes the corresponding density that will enforce a hydrostatic balance."
   ]
  },
  {
   "cell_type": "code",
   "execution_count": 8,
   "id": "b1642c8b",
   "metadata": {},
   "outputs": [
    {
     "ename": "NameError",
     "evalue": "name 'compressible_hydrostatic_balance' is not defined",
     "output_type": "error",
     "traceback": [
      "\u001b[0;31m---------------------------------------------------------------------------\u001b[0m",
      "\u001b[0;31mNameError\u001b[0m                                 Traceback (most recent call last)",
      "Input \u001b[0;32mIn [8]\u001b[0m, in \u001b[0;36m<cell line: 1>\u001b[0;34m()\u001b[0m\n\u001b[0;32m----> 1\u001b[0m \u001b[43mcompressible_hydrostatic_balance\u001b[49m(state, theta_b, rho_b)\n",
      "\u001b[0;31mNameError\u001b[0m: name 'compressible_hydrostatic_balance' is not defined"
     ]
    }
   ],
   "source": [
    "compressible_hydrostatic_balance(state, theta_b, rho_b)"
   ]
  },
  {
   "cell_type": "markdown",
   "id": "04be4d86",
   "metadata": {},
   "source": [
    "We now set up the initial potential temperature profile. We apply a perturbation $\\theta'$ to the background balanced $\\theta_b$ defined above, where $\\theta'$ is given by:\n",
    "$$\\theta' = \\Delta \\theta \\frac{\\sin\\big(\\frac{\\pi z}{H}\\big)}{1 + \\frac{1}{a^2}(x-x_c)^2}$$"
   ]
  },
  {
   "cell_type": "code",
   "execution_count": 9,
   "id": "46852826",
   "metadata": {},
   "outputs": [
    {
     "ename": "NameError",
     "evalue": "name 'sin' is not defined",
     "output_type": "error",
     "traceback": [
      "\u001b[0;31m---------------------------------------------------------------------------\u001b[0m",
      "\u001b[0;31mNameError\u001b[0m                                 Traceback (most recent call last)",
      "Input \u001b[0;32mIn [9]\u001b[0m, in \u001b[0;36m<cell line: 3>\u001b[0;34m()\u001b[0m\n\u001b[1;32m      1\u001b[0m a \u001b[38;5;241m=\u001b[39m \u001b[38;5;241m5.0e3\u001b[39m\n\u001b[1;32m      2\u001b[0m deltaTheta \u001b[38;5;241m=\u001b[39m \u001b[38;5;241m1.0e-2\u001b[39m\n\u001b[0;32m----> 3\u001b[0m theta_pert \u001b[38;5;241m=\u001b[39m deltaTheta\u001b[38;5;241m*\u001b[39m\u001b[43msin\u001b[49m(pi\u001b[38;5;241m*\u001b[39mxz[\u001b[38;5;241m1\u001b[39m]\u001b[38;5;241m/\u001b[39mH)\u001b[38;5;241m/\u001b[39m(\u001b[38;5;241m1\u001b[39m \u001b[38;5;241m+\u001b[39m (xz[\u001b[38;5;241m0\u001b[39m] \u001b[38;5;241m-\u001b[39m L\u001b[38;5;241m/\u001b[39m\u001b[38;5;241m2\u001b[39m)\u001b[38;5;241m*\u001b[39m\u001b[38;5;241m*\u001b[39m\u001b[38;5;241m2\u001b[39m\u001b[38;5;241m/\u001b[39ma\u001b[38;5;241m*\u001b[39m\u001b[38;5;241m*\u001b[39m\u001b[38;5;241m2\u001b[39m)\n\u001b[1;32m      4\u001b[0m theta0\u001b[38;5;241m.\u001b[39minterpolate(theta_b \u001b[38;5;241m+\u001b[39m theta_pert)\n\u001b[1;32m      5\u001b[0m rho0\u001b[38;5;241m.\u001b[39massign(rho_b)\n",
      "\u001b[0;31mNameError\u001b[0m: name 'sin' is not defined"
     ]
    }
   ],
   "source": [
    "a = 5.0e3\n",
    "deltaTheta = 1.0e-2\n",
    "theta_pert = deltaTheta*sin(pi*xz[1]/H)/(1 + (xz[0] - L/2)**2/a**2)\n",
    "theta0.interpolate(theta_b + theta_pert)\n",
    "rho0.assign(rho_b)\n",
    "u0.project(as_vector([20.0, 0.0]))\n",
    "\n",
    "stepper.set_reference_profiles([('rho', rho_b),\n",
    "                              ('theta', theta_b)])"
   ]
  },
  {
   "cell_type": "markdown",
   "id": "05829ae3",
   "metadata": {},
   "source": [
    "A streamline upwind Petrov-Galerkin (SUPG) transport scheme will be applied to the potential temperature."
   ]
  },
  {
   "cell_type": "markdown",
   "id": "2b518722",
   "metadata": {},
   "source": [
    "Set up the linear solver and the time-stepper. As per the first notebook, we use an Implicit Midpoint method for the velocity field, and an explicit SSPRK3 scheme for the other variables (density and potential temperature). This time, we need to specify the use of a compressible solver."
   ]
  },
  {
   "cell_type": "markdown",
   "id": "a33d7329",
   "metadata": {},
   "source": [
    "Next, you would solve the equations! However, they take ages to run - do we run for a few time steps? The only problem is that it will create output which will overwrite the current results."
   ]
  },
  {
   "cell_type": "code",
   "execution_count": 10,
   "id": "892d41ae",
   "metadata": {},
   "outputs": [],
   "source": [
    "# Here's what you would do...\n",
    "# stepper.run(t=0, tmax=tmax)"
   ]
  },
  {
   "cell_type": "markdown",
   "id": "1ce2d33f",
   "metadata": {},
   "source": [
    "To save you having to run this full simulation, results have already been generated and stored in the 'results/gravity_wave' subdirectory. We will show a visualisation of the potential temperature at the points we specified earlier. \n",
    "\n",
    "We set-up the visualisations that can be used in Jupyter notebook:"
   ]
  },
  {
   "cell_type": "code",
   "execution_count": null,
   "id": "f0bff13c",
   "metadata": {},
   "outputs": [],
   "source": []
  },
  {
   "cell_type": "code",
   "execution_count": null,
   "id": "4337019c",
   "metadata": {},
   "outputs": [],
   "source": []
  }
 ],
 "metadata": {
  "language_info": {
   "name": "python"
  }
 },
 "nbformat": 4,
 "nbformat_minor": 5
}
