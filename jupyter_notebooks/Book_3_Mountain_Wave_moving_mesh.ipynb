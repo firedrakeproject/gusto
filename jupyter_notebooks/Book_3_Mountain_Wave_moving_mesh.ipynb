{
 "cells": [
  {
   "cell_type": "markdown",
   "id": "3ec4b5fe",
   "metadata": {},
   "source": [
    "# Notebook 3: Mountain Wave Test Case"
   ]
  },
  {
   "cell_type": "markdown",
   "id": "eb79138f",
   "metadata": {},
   "source": [
    "This notebook will go through an example of a hydrostatic flow over a mountain. This test case is outlined in the paper: Melvin, T., Dubal, M., Wood, N., Staniforth, A., & Zerroukat, M. (2010). An inherently mass‐conserving iterative semi‐implicit semi‐Lagrangian discretization of the non‐hydrostatic vertical‐slice equations. Quarterly Journal of the Royal Meteorological Society: A journal of the atmospheric sciences, applied meteorology and physical oceanography, 136(648), 799-814."
   ]
  },
  {
   "cell_type": "markdown",
   "id": "5371527b",
   "metadata": {},
   "source": [
    "A mountain wave. This follows the example script 'mountain_nonhydrostatic.py'. This will differ from the sk_nonlinear case we saw in Notebook 2, as hydrostatic balance is no longer enforced."
   ]
  },
  {
   "cell_type": "markdown",
   "id": "29df76b1",
   "metadata": {},
   "source": [
    "We begin by importing the required libraries and functions from Firedrake and Gusto:"
   ]
  },
  {
   "cell_type": "code",
   "execution_count": 1,
   "id": "7779c15b",
   "metadata": {},
   "outputs": [
    {
     "name": "stderr",
     "output_type": "stream",
     "text": [
      "firedrake:WARNING OMP_NUM_THREADS is not set or is set to a value greater than 1, we suggest setting OMP_NUM_THREADS=1 to improve performance\n"
     ]
    }
   ],
   "source": [
    "from gusto import *\n",
    "from firedrake import (as_vector, VectorFunctionSpace,\n",
    "                       PeriodicIntervalMesh, ExtrudedMesh, SpatialCoordinate,\n",
    "                       exp, pi, cos, Function, conditional, Mesh, op2)\n",
    "import sys"
   ]
  },
  {
   "cell_type": "markdown",
   "id": "33f71f3a",
   "metadata": {},
   "source": [
    "We now define the time-step size and the duration of the simulation. "
   ]
  },
  {
   "cell_type": "code",
   "execution_count": 2,
   "id": "f5147739",
   "metadata": {},
   "outputs": [],
   "source": [
    "dt = 5.0\n",
    "\n",
    "tmax = 9000.\n",
    "dumpfreq = int(tmax / (9*dt))\n"
   ]
  },
  {
   "cell_type": "markdown",
   "id": "48ee6e88",
   "metadata": {},
   "source": [
    "Build a volume mesh. We again start by defining a periodic interval mesh in the horizontal and extrude this into the vertical dimension to create a three-dimensional mesh."
   ]
  },
  {
   "cell_type": "code",
   "execution_count": 3,
   "id": "844be5eb",
   "metadata": {},
   "outputs": [
    {
     "name": "stderr",
     "output_type": "stream",
     "text": [
      "UFL:WARNING Discontinuous Lagrange element requested on interval * interval, creating DQ element.\n"
     ]
    }
   ],
   "source": [
    "nlayers = 70  # horizontal layers\n",
    "columns = 180  # number of columns\n",
    "L = 144000.\n",
    "m = PeriodicIntervalMesh(columns, L)\n",
    "\n",
    "# build volume mesh\n",
    "H = 35000.  # Height position of the model top\n",
    "ext_mesh = ExtrudedMesh(m, layers=nlayers, layer_height=H/nlayers)\n",
    "Vc = VectorFunctionSpace(ext_mesh, \"DG\", 2)\n",
    "coord = SpatialCoordinate(ext_mesh)\n",
    "x = Function(Vc).interpolate(as_vector([coord[0], coord[1]]))\n",
    "a = 1000.\n",
    "xc = L/2.\n",
    "x, z = SpatialCoordinate(ext_mesh)\n",
    "hm = 1.\n",
    "zs = hm*a**2/((x-xc)**2 + a**2)"
   ]
  },
  {
   "cell_type": "markdown",
   "id": "2fb1fb2d",
   "metadata": {},
   "source": [
    "We now invoke the smooth_z variable, I assume to smooth out the vertical profile somehow? We then apply this smoothing to the defined mesh."
   ]
  },
  {
   "cell_type": "code",
   "execution_count": 5,
   "id": "2e9c65ea",
   "metadata": {},
   "outputs": [],
   "source": [
    "dirname = 'non_hydro_mountain'\n",
    "\n",
    "smooth_z = True\n",
    "if smooth_z:\n",
    "    dirname += '_smootherz'\n",
    "    zh = 5000.\n",
    "    xexpr = as_vector([x, conditional(z < zh, z + cos(0.5*pi*z/zh)**6*zs, z)])\n",
    "else:\n",
    "    xexpr = as_vector([x, z + ((H-z)/H)*zs])\n",
    "\n",
    "new_coords = Function(Vc).interpolate(xexpr)\n",
    "mesh = Mesh(new_coords)"
   ]
  },
  {
   "cell_type": "markdown",
   "id": "da3c27bd",
   "metadata": {},
   "source": [
    "Define the output. We will record the full velocity fields, as well as the perturbations to the potential temperature and density."
   ]
  },
  {
   "cell_type": "code",
   "execution_count": 6,
   "id": "754708dd",
   "metadata": {},
   "outputs": [],
   "source": [
    "output = OutputParameters(dirname=dirname,\n",
    "                          dumpfreq=dumpfreq,\n",
    "                          dumplist=['u'],\n",
    "                          perturbation_fields=['theta', 'rho'],\n",
    "                          log_level='INFO')\n"
   ]
  },
  {
   "cell_type": "markdown",
   "id": "1e1ae651",
   "metadata": {},
   "source": [
    "Set up the corresponding state:"
   ]
  },
  {
   "cell_type": "code",
   "execution_count": 7,
   "id": "db9d61a0",
   "metadata": {},
   "outputs": [
    {
     "name": "stderr",
     "output_type": "stream",
     "text": [
      "gusto:INFO Physical parameters that take non-default values:\n",
      "gusto:INFO g: 9.80665, cp: 1004.0\n"
     ]
    }
   ],
   "source": [
    "parameters = CompressibleParameters(g=9.80665, cp=1004.)\n",
    "diagnostic_fields = [CourantNumber(), VelocityZ()]\n",
    "\n",
    "state = State(mesh,\n",
    "              dt=dt,\n",
    "              output=output,\n",
    "              parameters=parameters,\n",
    "              diagnostic_fields=diagnostic_fields)\n"
   ]
  },
  {
   "cell_type": "markdown",
   "id": "9918a45e",
   "metadata": {},
   "source": [
    "Sponge layer stuff"
   ]
  },
  {
   "cell_type": "code",
   "execution_count": 8,
   "id": "cacc96b7",
   "metadata": {},
   "outputs": [],
   "source": [
    "# sponge function\n",
    "sponge = SpongeLayerParameters(H=H, z_level=H-10000, mubar=0.15/dt)"
   ]
  },
  {
   "cell_type": "markdown",
   "id": "16a3fc8b",
   "metadata": {},
   "source": [
    "Define the equations to solve, which are the compressible Euler equations. Set up the initial conditions for the velocity, density, and potential temperature. Also, define the function spaces we want for these variables."
   ]
  },
  {
   "cell_type": "code",
   "execution_count": 9,
   "id": "e61d066d",
   "metadata": {},
   "outputs": [
    {
     "name": "stderr",
     "output_type": "stream",
     "text": [
      "UFL:WARNING Discontinuous Lagrange element requested on interval * interval, creating DQ element.\n"
     ]
    }
   ],
   "source": [
    "eqns = CompressibleEulerEquations(state, \"CG\", 1, sponge=sponge)\n",
    "\n",
    "# Initial conditions\n",
    "u0 = state.fields(\"u\")\n",
    "rho0 = state.fields(\"rho\")\n",
    "theta0 = state.fields(\"theta\")\n",
    "\n",
    "# spaces\n",
    "Vu = state.spaces(\"HDiv\")\n",
    "Vt = state.spaces(\"theta\")\n",
    "Vr = state.spaces(\"DG\")"
   ]
  },
  {
   "cell_type": "markdown",
   "id": "a919ef63",
   "metadata": {},
   "source": [
    "Set up the relevant parameters for the test case."
   ]
  },
  {
   "cell_type": "code",
   "execution_count": 10,
   "id": "70d6106e",
   "metadata": {},
   "outputs": [],
   "source": [
    "# Thermodynamic constants required for setting initial conditions\n",
    "# and reference profiles\n",
    "g = parameters.g\n",
    "N = parameters.N\n",
    "p_0 = parameters.p_0\n",
    "c_p = parameters.cp\n",
    "R_d = parameters.R_d\n",
    "kappa = parameters.kappa\n",
    "\n",
    "# N^2 = (g/theta)dtheta/dz => dtheta/dz = theta N^2g => theta=theta_0exp(N^2gz)\n",
    "x, z = SpatialCoordinate(mesh)\n",
    "Tsurf = 300.\n",
    "thetab = Tsurf*exp(N**2*z/g)\n",
    "theta_b = Function(Vt).interpolate(thetab)"
   ]
  },
  {
   "cell_type": "markdown",
   "id": "04687319",
   "metadata": {},
   "source": [
    "Determine the Exner pressure using the hydrostatic balance function."
   ]
  },
  {
   "cell_type": "code",
   "execution_count": 11,
   "id": "b1642c8b",
   "metadata": {},
   "outputs": [
    {
     "name": "stdout",
     "output_type": "stream",
     "text": [
      "    Residual norms for pisolver_ solve.\n",
      "    0 KSP preconditioned resid norm 2.222800680832e+02 true resid norm 2.069609815553e+06 ||r(i)||/||b|| 1.000000000000e+00\n",
      "    1 KSP preconditioned resid norm 4.948737286376e-10 true resid norm 5.773621453311e-08 ||r(i)||/||b|| 2.789714954926e-14\n"
     ]
    }
   ],
   "source": [
    "# Calculate hydrostatic Pi\n",
    "Pi = Function(Vr)\n",
    "rho_b = Function(Vr)\n",
    "\n",
    "piparams = {'ksp_type': 'gmres',\n",
    "            'ksp_monitor_true_residual': None,\n",
    "            'pc_type': 'python',\n",
    "            'mat_type': 'matfree',\n",
    "            'pc_python_type': 'gusto.VerticalHybridizationPC',\n",
    "            # Vertical trace system is only coupled vertically in columns\n",
    "            # block ILU is a direct solver!\n",
    "            'vert_hybridization': {'ksp_type': 'preonly',\n",
    "                                   'pc_type': 'bjacobi',\n",
    "                                   'sub_pc_type': 'ilu'}}\n",
    "\n",
    "compressible_hydrostatic_balance(state, theta_b, rho_b, Pi,\n",
    "                                 top=True, pi_boundary=0.5,\n",
    "                                 params=piparams)\n"
   ]
  },
  {
   "cell_type": "markdown",
   "id": "d63a49a2",
   "metadata": {},
   "source": [
    "More hydrostatic balance set up for initial conditions"
   ]
  },
  {
   "cell_type": "code",
   "execution_count": 12,
   "id": "46852826",
   "metadata": {},
   "outputs": [
    {
     "name": "stdout",
     "output_type": "stream",
     "text": [
      "    Residual norms for pisolver_ solve.\n",
      "    0 KSP preconditioned resid norm 3.315508603246e+02 true resid norm 4.100966222339e+06 ||r(i)||/||b|| 1.000000000000e+00\n",
      "    1 KSP preconditioned resid norm 7.272609795767e-10 true resid norm 6.886044476117e-08 ||r(i)||/||b|| 1.679127333117e-14\n",
      "    Residual norms for pisolver_ solve.\n",
      "    0 KSP preconditioned resid norm 3.315519283875e+02 true resid norm 4.100985947269e+06 ||r(i)||/||b|| 1.000000000000e+00\n",
      "    1 KSP preconditioned resid norm 7.262285720407e-10 true resid norm 5.373655419915e-08 ||r(i)||/||b|| 1.310332561245e-14\n",
      "    Residual norms for rhosolver_ solve.\n",
      "    0 KSP preconditioned resid norm 3.249820714969e-02 true resid norm 1.098372412418e+02 ||r(i)||/||b|| 1.000000000000e+00\n",
      "    1 KSP preconditioned resid norm 1.470419708849e-14 true resid norm 1.012143512285e-12 ||r(i)||/||b|| 9.214939312404e-15\n",
      "    Residual norms for rhosolver_ solve.\n",
      "    0 KSP preconditioned resid norm 4.552413859466e-07 true resid norm 2.216763267285e-03 ||r(i)||/||b|| 1.000000000000e+00\n",
      "    1 KSP preconditioned resid norm 2.194427204309e-19 true resid norm 1.769410427914e-17 ||r(i)||/||b|| 7.981954834906e-15\n"
     ]
    }
   ],
   "source": [
    "def minimum(f):\n",
    "    fmin = op2.Global(1, [1000], dtype=float)\n",
    "    op2.par_loop(op2.Kernel(\"\"\"\n",
    "static void minify(double *a, double *b) {\n",
    "    a[0] = a[0] > fabs(b[0]) ? fabs(b[0]) : a[0];\n",
    "}\n",
    "\"\"\", \"minify\"), f.dof_dset.set, fmin(op2.MIN), f.dat(op2.READ))\n",
    "    return fmin.data[0]\n",
    "\n",
    "\n",
    "p0 = minimum(Pi)\n",
    "compressible_hydrostatic_balance(state, theta_b, rho_b, Pi,\n",
    "                                 top=True, params=piparams)\n",
    "p1 = minimum(Pi)\n",
    "alpha = 2.*(p1-p0)\n",
    "beta = p1-alpha\n",
    "pi_top = (1.-beta)/alpha\n",
    "compressible_hydrostatic_balance(state, theta_b, rho_b, Pi,\n",
    "                                 top=True, pi_boundary=pi_top, solve_for_rho=True,\n",
    "                                 params=piparams)\n"
   ]
  },
  {
   "cell_type": "markdown",
   "id": "2b518722",
   "metadata": {},
   "source": [
    "Project the initial conditions"
   ]
  },
  {
   "cell_type": "code",
   "execution_count": 13,
   "id": "b30935ca",
   "metadata": {},
   "outputs": [],
   "source": [
    "theta0.assign(theta_b)\n",
    "rho0.assign(rho_b)\n",
    "u0.project(as_vector([10.0, 0.0]))\n",
    "remove_initial_w(u0)\n",
    "\n",
    "state.set_reference_profiles([('rho', rho_b),\n",
    "                              ('theta', theta_b)])"
   ]
  },
  {
   "cell_type": "markdown",
   "id": "2afac417",
   "metadata": {},
   "source": [
    "Set up the transport schemes"
   ]
  },
  {
   "cell_type": "code",
   "execution_count": 14,
   "id": "7e16a3dc",
   "metadata": {},
   "outputs": [],
   "source": [
    "supg = True\n",
    "if supg:\n",
    "    theta_opts = SUPGOptions()\n",
    "else:\n",
    "    theta_opts = EmbeddedDGOptions()\n",
    "transported_fields = [ImplicitMidpoint(state, \"u\"),\n",
    "                      SSPRK3(state, \"rho\"),\n",
    "                      SSPRK3(state, \"theta\", options=theta_opts)]"
   ]
  },
  {
   "cell_type": "markdown",
   "id": "810d8199",
   "metadata": {},
   "source": [
    "Set up the linear solver and time-stepper"
   ]
  },
  {
   "cell_type": "code",
   "execution_count": 15,
   "id": "81bfb34c",
   "metadata": {},
   "outputs": [],
   "source": [
    "# Set up linear solver\n",
    "linear_solver = CompressibleSolver(state, eqns)\n",
    "\n",
    "# build time stepper\n",
    "stepper = CrankNicolson(state, eqns, transported_fields,\n",
    "                        linear_solver=linear_solver)"
   ]
  },
  {
   "cell_type": "markdown",
   "id": "13ae4538",
   "metadata": {},
   "source": [
    "Run!"
   ]
  },
  {
   "cell_type": "code",
   "execution_count": null,
   "id": "0a750ee1",
   "metadata": {},
   "outputs": [
    {
     "name": "stderr",
     "output_type": "stream",
     "text": [
      "/home/timandrews/firedrake/src/firedrake/firedrake/checkpointing.py:89: DeprecationWarning: DumbCheckpoint class will be deprecated after 01/01/2023; use CheckpointFile class instead.\n",
      "  warnings.warn(\"DumbCheckpoint class will be deprecated after 01/01/2023; use CheckpointFile class instead.\",\n",
      "gusto:INFO at start of timestep, t=0, dt=5.0\n",
      "gusto:INFO at start of timestep, t=5.0, dt=5.0\n",
      "gusto:INFO at start of timestep, t=10.0, dt=5.0\n",
      "gusto:INFO at start of timestep, t=15.0, dt=5.0\n",
      "gusto:INFO at start of timestep, t=20.0, dt=5.0\n",
      "gusto:INFO at start of timestep, t=25.0, dt=5.0\n",
      "gusto:INFO at start of timestep, t=30.0, dt=5.0\n",
      "gusto:INFO at start of timestep, t=35.0, dt=5.0\n",
      "gusto:INFO at start of timestep, t=40.0, dt=5.0\n",
      "gusto:INFO at start of timestep, t=45.0, dt=5.0\n",
      "gusto:INFO at start of timestep, t=50.0, dt=5.0\n",
      "gusto:INFO at start of timestep, t=55.0, dt=5.0\n",
      "gusto:INFO at start of timestep, t=60.0, dt=5.0\n",
      "gusto:INFO at start of timestep, t=65.0, dt=5.0\n",
      "gusto:INFO at start of timestep, t=70.0, dt=5.0\n",
      "gusto:INFO at start of timestep, t=75.0, dt=5.0\n",
      "gusto:INFO at start of timestep, t=80.0, dt=5.0\n",
      "gusto:INFO at start of timestep, t=85.0, dt=5.0\n",
      "gusto:INFO at start of timestep, t=90.0, dt=5.0\n",
      "gusto:INFO at start of timestep, t=95.0, dt=5.0\n",
      "gusto:INFO at start of timestep, t=100.0, dt=5.0\n",
      "gusto:INFO at start of timestep, t=105.0, dt=5.0\n",
      "gusto:INFO at start of timestep, t=110.0, dt=5.0\n",
      "gusto:INFO at start of timestep, t=115.0, dt=5.0\n",
      "gusto:INFO at start of timestep, t=120.0, dt=5.0\n",
      "gusto:INFO at start of timestep, t=125.0, dt=5.0\n",
      "gusto:INFO at start of timestep, t=130.0, dt=5.0\n",
      "gusto:INFO at start of timestep, t=135.0, dt=5.0\n",
      "gusto:INFO at start of timestep, t=140.0, dt=5.0\n",
      "gusto:INFO at start of timestep, t=145.0, dt=5.0\n",
      "gusto:INFO at start of timestep, t=150.0, dt=5.0\n",
      "gusto:INFO at start of timestep, t=155.0, dt=5.0\n",
      "gusto:INFO at start of timestep, t=160.0, dt=5.0\n",
      "gusto:INFO at start of timestep, t=165.0, dt=5.0\n",
      "gusto:INFO at start of timestep, t=170.0, dt=5.0\n",
      "gusto:INFO at start of timestep, t=175.0, dt=5.0\n",
      "gusto:INFO at start of timestep, t=180.0, dt=5.0\n",
      "gusto:INFO at start of timestep, t=185.0, dt=5.0\n",
      "gusto:INFO at start of timestep, t=190.0, dt=5.0\n",
      "gusto:INFO at start of timestep, t=195.0, dt=5.0\n",
      "gusto:INFO at start of timestep, t=200.0, dt=5.0\n",
      "gusto:INFO at start of timestep, t=205.0, dt=5.0\n",
      "gusto:INFO at start of timestep, t=210.0, dt=5.0\n",
      "gusto:INFO at start of timestep, t=215.0, dt=5.0\n",
      "gusto:INFO at start of timestep, t=220.0, dt=5.0\n",
      "gusto:INFO at start of timestep, t=225.0, dt=5.0\n",
      "gusto:INFO at start of timestep, t=230.0, dt=5.0\n",
      "gusto:INFO at start of timestep, t=235.0, dt=5.0\n",
      "gusto:INFO at start of timestep, t=240.0, dt=5.0\n",
      "gusto:INFO at start of timestep, t=245.0, dt=5.0\n",
      "gusto:INFO at start of timestep, t=250.0, dt=5.0\n",
      "gusto:INFO at start of timestep, t=255.0, dt=5.0\n",
      "gusto:INFO at start of timestep, t=260.0, dt=5.0\n",
      "gusto:INFO at start of timestep, t=265.0, dt=5.0\n",
      "gusto:INFO at start of timestep, t=270.0, dt=5.0\n",
      "gusto:INFO at start of timestep, t=275.0, dt=5.0\n",
      "gusto:INFO at start of timestep, t=280.0, dt=5.0\n",
      "gusto:INFO at start of timestep, t=285.0, dt=5.0\n",
      "gusto:INFO at start of timestep, t=290.0, dt=5.0\n",
      "gusto:INFO at start of timestep, t=295.0, dt=5.0\n",
      "gusto:INFO at start of timestep, t=300.0, dt=5.0\n",
      "gusto:INFO at start of timestep, t=305.0, dt=5.0\n",
      "gusto:INFO at start of timestep, t=310.0, dt=5.0\n",
      "gusto:INFO at start of timestep, t=315.0, dt=5.0\n",
      "gusto:INFO at start of timestep, t=320.0, dt=5.0\n",
      "gusto:INFO at start of timestep, t=325.0, dt=5.0\n",
      "gusto:INFO at start of timestep, t=330.0, dt=5.0\n",
      "gusto:INFO at start of timestep, t=335.0, dt=5.0\n",
      "gusto:INFO at start of timestep, t=340.0, dt=5.0\n",
      "gusto:INFO at start of timestep, t=345.0, dt=5.0\n",
      "gusto:INFO at start of timestep, t=350.0, dt=5.0\n",
      "gusto:INFO at start of timestep, t=355.0, dt=5.0\n",
      "gusto:INFO at start of timestep, t=360.0, dt=5.0\n",
      "gusto:INFO at start of timestep, t=365.0, dt=5.0\n",
      "gusto:INFO at start of timestep, t=370.0, dt=5.0\n",
      "gusto:INFO at start of timestep, t=375.0, dt=5.0\n",
      "gusto:INFO at start of timestep, t=380.0, dt=5.0\n",
      "gusto:INFO at start of timestep, t=385.0, dt=5.0\n",
      "gusto:INFO at start of timestep, t=390.0, dt=5.0\n",
      "gusto:INFO at start of timestep, t=395.0, dt=5.0\n",
      "gusto:INFO at start of timestep, t=400.0, dt=5.0\n"
     ]
    }
   ],
   "source": [
    "stepper.run(t=0, tmax=tmax)"
   ]
  }
 ],
 "metadata": {
  "kernelspec": {
   "display_name": "Python 3 (ipykernel)",
   "language": "python",
   "name": "python3"
  },
  "language_info": {
   "codemirror_mode": {
    "name": "ipython",
    "version": 3
   },
   "file_extension": ".py",
   "mimetype": "text/x-python",
   "name": "python",
   "nbconvert_exporter": "python",
   "pygments_lexer": "ipython3",
   "version": "3.8.5"
  }
 },
 "nbformat": 4,
 "nbformat_minor": 5
}
