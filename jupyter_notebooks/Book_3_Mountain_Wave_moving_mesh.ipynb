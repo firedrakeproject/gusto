{
 "cells": [
  {
   "cell_type": "markdown",
   "id": "3ec4b5fe",
   "metadata": {},
   "source": [
    "# Notebook 3: Mountain Wave Test Case"
   ]
  },
  {
   "cell_type": "markdown",
   "id": "5371527b",
   "metadata": {},
   "source": [
    "A mountain wave. This follows the example script 'mountain_hydrostatic.py'"
   ]
  },
  {
   "cell_type": "markdown",
   "id": "29df76b1",
   "metadata": {},
   "source": [
    "We begin by importing the required libraries and functions from Firedrake and Gusto:"
   ]
  },
  {
   "cell_type": "code",
   "execution_count": 1,
   "id": "7779c15b",
   "metadata": {},
   "outputs": [
    {
     "name": "stderr",
     "output_type": "stream",
     "text": [
      "firedrake:WARNING OMP_NUM_THREADS is not set or is set to a value greater than 1, we suggest setting OMP_NUM_THREADS=1 to improve performance\n"
     ]
    }
   ],
   "source": [
    "from gusto import *\n",
    "from firedrake import (as_vector, VectorFunctionSpace,\n",
    "                       PeriodicIntervalMesh, ExtrudedMesh, SpatialCoordinate,\n",
    "                       exp, pi, cos, Function, conditional, Mesh, op2, sqrt)\n",
    "import sys"
   ]
  },
  {
   "cell_type": "markdown",
   "id": "33f71f3a",
   "metadata": {},
   "source": [
    "We now define the time-step size and the duration of the simulation. We wish to analyse the solution five times over one day."
   ]
  },
  {
   "cell_type": "code",
   "execution_count": 2,
   "id": "f5147739",
   "metadata": {},
   "outputs": [],
   "source": [
    "dt = 5.0\n",
    "\n",
    "tmax = 15000.\n",
    "res = 10\n",
    "dumpfreq = int(tmax / (5*dt))\n"
   ]
  },
  {
   "cell_type": "markdown",
   "id": "48ee6e88",
   "metadata": {},
   "source": [
    "Build a volume mesh"
   ]
  },
  {
   "cell_type": "code",
   "execution_count": 3,
   "id": "844be5eb",
   "metadata": {},
   "outputs": [
    {
     "name": "stderr",
     "output_type": "stream",
     "text": [
      "UFL:WARNING Discontinuous Lagrange element requested on interval * interval, creating DQ element.\n"
     ]
    }
   ],
   "source": [
    "nlayers = res*20  # horizontal layers\n",
    "columns = res*12  # number of columns\n",
    "L = 240000.\n",
    "m = PeriodicIntervalMesh(columns, L)\n",
    "\n",
    "# build volume mesh\n",
    "H = 50000.  # Height position of the model top\n",
    "ext_mesh = ExtrudedMesh(m, layers=nlayers, layer_height=H/nlayers)\n",
    "Vc = VectorFunctionSpace(ext_mesh, \"DG\", 2)\n",
    "coord = SpatialCoordinate(ext_mesh)\n",
    "x = Function(Vc).interpolate(as_vector([coord[0], coord[1]]))\n",
    "a = 10000.\n",
    "xc = L/2.\n",
    "x, z = SpatialCoordinate(ext_mesh)\n",
    "hm = 1.\n",
    "zs = hm*a**2/((x-xc)**2 + a**2)"
   ]
  },
  {
   "cell_type": "markdown",
   "id": "2fb1fb2d",
   "metadata": {},
   "source": [
    "Next, we define the mesh. "
   ]
  },
  {
   "cell_type": "code",
   "execution_count": 4,
   "id": "2e9c65ea",
   "metadata": {},
   "outputs": [],
   "source": [
    "smooth_z = True\n",
    "dirname = 'h_mountain'\n",
    "if smooth_z:\n",
    "    dirname += '_smootherz'\n",
    "    zh = 5000.\n",
    "    xexpr = as_vector([x, conditional(z < zh, z + cos(0.5*pi*z/zh)**6*zs, z)])\n",
    "else:\n",
    "    xexpr = as_vector([x, z + ((H-z)/H)*zs])\n",
    "\n",
    "new_coords = Function(Vc).interpolate(xexpr)\n",
    "mesh = Mesh(new_coords)"
   ]
  },
  {
   "cell_type": "markdown",
   "id": "da3c27bd",
   "metadata": {},
   "source": [
    "Output"
   ]
  },
  {
   "cell_type": "code",
   "execution_count": 5,
   "id": "754708dd",
   "metadata": {},
   "outputs": [],
   "source": [
    "output = OutputParameters(dirname=dirname,\n",
    "                          dumpfreq=dumpfreq,\n",
    "                          dumplist=['u'],\n",
    "                          perturbation_fields=['theta', 'rho'],\n",
    "                          log_level='INFO')\n"
   ]
  },
  {
   "cell_type": "markdown",
   "id": "1e1ae651",
   "metadata": {},
   "source": [
    "State"
   ]
  },
  {
   "cell_type": "code",
   "execution_count": 6,
   "id": "db9d61a0",
   "metadata": {},
   "outputs": [
    {
     "name": "stderr",
     "output_type": "stream",
     "text": [
      "gusto:INFO Physical parameters that take non-default values:\n",
      "gusto:INFO g: 9.80665, cp: 1004.0\n"
     ]
    }
   ],
   "source": [
    "parameters = CompressibleParameters(g=9.80665, cp=1004.)\n",
    "diagnostic_fields = [CourantNumber(), VelocityZ(), HydrostaticImbalance()]\n",
    "\n",
    "state = State(mesh,\n",
    "              dt=dt,\n",
    "              hydrostatic=True,\n",
    "              output=output,\n",
    "              parameters=parameters,\n",
    "              diagnostic_fields=diagnostic_fields)"
   ]
  },
  {
   "cell_type": "markdown",
   "id": "9918a45e",
   "metadata": {},
   "source": [
    "Stuff."
   ]
  },
  {
   "cell_type": "code",
   "execution_count": 7,
   "id": "e61d066d",
   "metadata": {},
   "outputs": [
    {
     "name": "stderr",
     "output_type": "stream",
     "text": [
      "UFL:WARNING Discontinuous Lagrange element requested on interval * interval, creating DQ element.\n"
     ]
    }
   ],
   "source": [
    "# sponge function\n",
    "sponge = SpongeLayerParameters(H=H, z_level=H-20000, mubar=0.3/dt)\n",
    "\n",
    "eqns = CompressibleEulerEquations(state, \"CG\", 1, sponge=sponge)\n",
    "\n",
    "# Initial conditions\n",
    "u0 = state.fields(\"u\")\n",
    "rho0 = state.fields(\"rho\")\n",
    "theta0 = state.fields(\"theta\")\n",
    "\n",
    "# spaces\n",
    "Vu = state.spaces(\"HDiv\")\n",
    "Vt = state.spaces(\"theta\")\n",
    "Vr = state.spaces(\"DG\")\n",
    "\n",
    "# Thermodynamic constants required for setting initial conditions\n",
    "# and reference profiles\n",
    "g = parameters.g\n",
    "p_0 = parameters.p_0\n",
    "c_p = parameters.cp\n",
    "R_d = parameters.R_d\n",
    "kappa = parameters.kappa\n",
    "\n",
    "# Hydrostatic case: Isothermal with T = 250\n",
    "x, z = SpatialCoordinate(mesh)\n",
    "Tsurf = 250.\n",
    "N = g/sqrt(c_p*Tsurf)\n",
    "\n",
    "# N^2 = (g/theta)dtheta/dz => dtheta/dz = theta N^2g => theta=theta_0exp(N^2gz)\n",
    "thetab = Tsurf*exp(N**2*z/g)\n",
    "theta_b = Function(Vt).interpolate(thetab)"
   ]
  },
  {
   "cell_type": "markdown",
   "id": "04687319",
   "metadata": {},
   "source": [
    "Determine the Exner pressure using the hydrostatic balance function."
   ]
  },
  {
   "cell_type": "code",
   "execution_count": 8,
   "id": "b1642c8b",
   "metadata": {},
   "outputs": [
    {
     "name": "stdout",
     "output_type": "stream",
     "text": [
      "    Residual norms for pisolver_ solve.\n",
      "    0 KSP preconditioned resid norm 2.580951693786e+02 true resid norm 6.862867339163e+06 ||r(i)||/||b|| 1.000000000000e+00\n",
      "    1 KSP preconditioned resid norm 5.443841927136e-09 true resid norm 1.151021055181e-06 ||r(i)||/||b|| 1.677172234720e-13\n"
     ]
    }
   ],
   "source": [
    "# Calculate hydrostatic Pi\n",
    "Pi = Function(Vr)\n",
    "rho_b = Function(Vr)\n",
    "\n",
    "piparams = {'ksp_type': 'gmres',\n",
    "            'ksp_monitor_true_residual': None,\n",
    "            'pc_type': 'python',\n",
    "            'mat_type': 'matfree',\n",
    "            'pc_python_type': 'gusto.VerticalHybridizationPC',\n",
    "            # Vertical trace system is only coupled vertically in columns\n",
    "            # block ILU is a direct solver!\n",
    "            'vert_hybridization': {'ksp_type': 'preonly',\n",
    "                                   'pc_type': 'bjacobi',\n",
    "                                   'sub_pc_type': 'ilu'}}\n",
    "\n",
    "compressible_hydrostatic_balance(state, theta_b, rho_b, Pi,\n",
    "                                 top=True, pi_boundary=0.5,\n",
    "                                 params=piparams)\n"
   ]
  },
  {
   "cell_type": "markdown",
   "id": "d63a49a2",
   "metadata": {},
   "source": [
    "stuff"
   ]
  },
  {
   "cell_type": "code",
   "execution_count": 9,
   "id": "46852826",
   "metadata": {},
   "outputs": [
    {
     "name": "stdout",
     "output_type": "stream",
     "text": [
      "    Residual norms for pisolver_ solve.\n",
      "    0 KSP preconditioned resid norm 4.088737899165e+02 true resid norm 1.371819452654e+07 ||r(i)||/||b|| 1.000000000000e+00\n",
      "    1 KSP preconditioned resid norm 9.432439502282e-09 true resid norm 2.165986662280e-06 ||r(i)||/||b|| 1.578915256005e-13\n",
      "    Residual norms for pisolver_ solve.\n",
      "    0 KSP preconditioned resid norm 4.088741336499e+02 true resid norm 1.371820999761e+07 ||r(i)||/||b|| 1.000000000000e+00\n",
      "    1 KSP preconditioned resid norm 9.450444117388e-09 true resid norm 2.166619866288e-06 ||r(i)||/||b|| 1.579375054519e-13\n",
      "    Residual norms for rhosolver_ solve.\n",
      "    0 KSP preconditioned resid norm 2.367084263547e-02 true resid norm 7.834281101824e+01 ||r(i)||/||b|| 1.000000000000e+00\n",
      "    1 KSP preconditioned resid norm 8.232173632621e-14 true resid norm 1.378499376364e-11 ||r(i)||/||b|| 1.759573544078e-13\n",
      "    Residual norms for rhosolver_ solve.\n",
      "    0 KSP preconditioned resid norm 2.475555739765e-07 true resid norm 3.496579721826e-04 ||r(i)||/||b|| 1.000000000000e+00\n",
      "    1 KSP preconditioned resid norm 6.503469593635e-19 true resid norm 7.393497003270e-17 ||r(i)||/||b|| 2.114494046030e-13\n"
     ]
    }
   ],
   "source": [
    "def minimum(f):\n",
    "    fmin = op2.Global(1, [1000], dtype=float)\n",
    "    op2.par_loop(op2.Kernel(\"\"\"\n",
    "static void minify(double *a, double *b) {\n",
    "    a[0] = a[0] > fabs(b[0]) ? fabs(b[0]) : a[0];\n",
    "}\n",
    "        \"\"\", \"minify\"), f.dof_dset.set, fmin(op2.MIN), f.dat(op2.READ))\n",
    "    return fmin.data[0]\n",
    "\n",
    "\n",
    "p0 = minimum(Pi)\n",
    "compressible_hydrostatic_balance(state, theta_b, rho_b, Pi,\n",
    "                                 top=True, params=piparams)\n",
    "p1 = minimum(Pi)\n",
    "alpha = 2.*(p1-p0)\n",
    "beta = p1-alpha\n",
    "pi_top = (1.-beta)/alpha\n",
    "compressible_hydrostatic_balance(state, theta_b, rho_b, Pi,\n",
    "                                 top=True, pi_boundary=pi_top, solve_for_rho=True,\n",
    "                                 params=piparams)\n"
   ]
  },
  {
   "cell_type": "markdown",
   "id": "2b518722",
   "metadata": {},
   "source": [
    "stuff"
   ]
  },
  {
   "cell_type": "code",
   "execution_count": 10,
   "id": "7e16a3dc",
   "metadata": {},
   "outputs": [],
   "source": [
    "theta0.assign(theta_b)\n",
    "rho0.assign(rho_b)\n",
    "u0.project(as_vector([20.0, 0.0]))\n",
    "remove_initial_w(u0)\n",
    "\n",
    "state.set_reference_profiles([('rho', rho_b),\n",
    "                              ('theta', theta_b)])\n",
    "\n",
    "# Set up transport schemes\n",
    "supg = True\n",
    "if supg:\n",
    "    theta_opts = SUPGOptions()\n",
    "else:\n",
    "    theta_opts = EmbeddedDGOptions()\n",
    "transported_fields = [ImplicitMidpoint(state, \"u\"),\n",
    "                      SSPRK3(state, \"rho\"),\n",
    "                      SSPRK3(state, \"theta\", options=theta_opts)]\n",
    "\n",
    "# Set up linear solver\n",
    "params = {'mat_type': 'matfree',\n",
    "          'ksp_type': 'preonly',\n",
    "          'pc_type': 'python',\n",
    "          'pc_python_type': 'firedrake.SCPC',\n",
    "          # Velocity mass operator is singular in the hydrostatic case.\n",
    "          # So for reconstruction, we eliminate rho into u\n",
    "          'pc_sc_eliminate_fields': '1, 0',\n",
    "          'condensed_field': {'ksp_type': 'fgmres',\n",
    "                              'ksp_rtol': 1.0e-8,\n",
    "                              'ksp_atol': 1.0e-8,\n",
    "                              'ksp_max_it': 100,\n",
    "                              'pc_type': 'gamg',\n",
    "                              'pc_gamg_sym_graph': True,\n",
    "                              'mg_levels': {'ksp_type': 'gmres',\n",
    "                                            'ksp_max_it': 5,\n",
    "                                            'pc_type': 'bjacobi',\n",
    "                                            'sub_pc_type': 'ilu'}}}"
   ]
  },
  {
   "cell_type": "markdown",
   "id": "810d8199",
   "metadata": {},
   "source": [
    "stuff\n"
   ]
  },
  {
   "cell_type": "code",
   "execution_count": 11,
   "id": "81bfb34c",
   "metadata": {},
   "outputs": [],
   "source": [
    "alpha = 0.51  # off-centering parameter\n",
    "linear_solver = CompressibleSolver(state, eqns, alpha, solver_parameters=params,\n",
    "                                   overwrite_solver_parameters=True)\n",
    "\n",
    "# build time stepper\n",
    "stepper = CrankNicolson(state, eqns, transported_fields,\n",
    "                        linear_solver=linear_solver,\n",
    "                        alpha=alpha)\n"
   ]
  },
  {
   "cell_type": "markdown",
   "id": "13ae4538",
   "metadata": {},
   "source": [
    "Run!"
   ]
  },
  {
   "cell_type": "code",
   "execution_count": 12,
   "id": "0a750ee1",
   "metadata": {},
   "outputs": [
    {
     "name": "stderr",
     "output_type": "stream",
     "text": [
      "/home/timandrews/firedrake/src/firedrake/firedrake/checkpointing.py:89: DeprecationWarning: DumbCheckpoint class will be deprecated after 01/01/2023; use CheckpointFile class instead.\n",
      "  warnings.warn(\"DumbCheckpoint class will be deprecated after 01/01/2023; use CheckpointFile class instead.\",\n",
      "gusto:INFO at start of timestep, t=0, dt=5.0\n",
      "gusto:INFO at start of timestep, t=5.0, dt=5.0\n"
     ]
    },
    {
     "ename": "ConvergenceError",
     "evalue": "Nonlinear solve failed to converge after 0 nonlinear iterations.\nReason:\n   DIVERGED_FNORM_NAN",
     "output_type": "error",
     "traceback": [
      "\u001b[0;31m---------------------------------------------------------------------------\u001b[0m",
      "\u001b[0;31mConvergenceError\u001b[0m                          Traceback (most recent call last)",
      "Input \u001b[0;32mIn [12]\u001b[0m, in \u001b[0;36m<cell line: 1>\u001b[0;34m()\u001b[0m\n\u001b[0;32m----> 1\u001b[0m \u001b[43mstepper\u001b[49m\u001b[38;5;241;43m.\u001b[39;49m\u001b[43mrun\u001b[49m\u001b[43m(\u001b[49m\u001b[43mt\u001b[49m\u001b[38;5;241;43m=\u001b[39;49m\u001b[38;5;241;43m0\u001b[39;49m\u001b[43m,\u001b[49m\u001b[43m \u001b[49m\u001b[43mtmax\u001b[49m\u001b[38;5;241;43m=\u001b[39;49m\u001b[43mtmax\u001b[49m\u001b[43m)\u001b[49m\n",
      "File \u001b[0;32m~/firedrake/src/gusto/gusto/timeloop.py:133\u001b[0m, in \u001b[0;36mTimestepper.run\u001b[0;34m(self, t, tmax, pickup)\u001b[0m\n\u001b[1;32m    129\u001b[0m state\u001b[38;5;241m.\u001b[39mt\u001b[38;5;241m.\u001b[39massign(t)\n\u001b[1;32m    131\u001b[0m \u001b[38;5;28mself\u001b[39m\u001b[38;5;241m.\u001b[39mx\u001b[38;5;241m.\u001b[39mupdate()\n\u001b[0;32m--> 133\u001b[0m \u001b[38;5;28;43mself\u001b[39;49m\u001b[38;5;241;43m.\u001b[39;49m\u001b[43mtimestep\u001b[49m\u001b[43m(\u001b[49m\u001b[43m)\u001b[49m\n\u001b[1;32m    135\u001b[0m \u001b[38;5;28;01mfor\u001b[39;00m field \u001b[38;5;129;01min\u001b[39;00m \u001b[38;5;28mself\u001b[39m\u001b[38;5;241m.\u001b[39mx\u001b[38;5;241m.\u001b[39mnp1:\n\u001b[1;32m    136\u001b[0m     state\u001b[38;5;241m.\u001b[39mfields(field\u001b[38;5;241m.\u001b[39mname())\u001b[38;5;241m.\u001b[39massign(field)\n",
      "File \u001b[0;32m~/firedrake/src/gusto/gusto/timeloop.py:275\u001b[0m, in \u001b[0;36mCrankNicolson.timestep\u001b[0;34m(self)\u001b[0m\n\u001b[1;32m    272\u001b[0m \u001b[38;5;28;01mwith\u001b[39;00m timed_stage(\u001b[38;5;124m\"\u001b[39m\u001b[38;5;124mTransport\u001b[39m\u001b[38;5;124m\"\u001b[39m):\n\u001b[1;32m    273\u001b[0m     \u001b[38;5;28;01mfor\u001b[39;00m name, scheme \u001b[38;5;129;01min\u001b[39;00m \u001b[38;5;28mself\u001b[39m\u001b[38;5;241m.\u001b[39mactive_transport:\n\u001b[1;32m    274\u001b[0m         \u001b[38;5;66;03m# transports a field from xstar and puts result in xp\u001b[39;00m\n\u001b[0;32m--> 275\u001b[0m         \u001b[43mscheme\u001b[49m\u001b[38;5;241;43m.\u001b[39;49m\u001b[43mapply\u001b[49m\u001b[43m(\u001b[49m\u001b[43mxstar\u001b[49m\u001b[43m(\u001b[49m\u001b[43mname\u001b[49m\u001b[43m)\u001b[49m\u001b[43m,\u001b[49m\u001b[43m \u001b[49m\u001b[43mxp\u001b[49m\u001b[43m(\u001b[49m\u001b[43mname\u001b[49m\u001b[43m)\u001b[49m\u001b[43m)\u001b[49m\n\u001b[1;32m    277\u001b[0m xrhs\u001b[38;5;241m.\u001b[39massign(\u001b[38;5;241m0.\u001b[39m)  \u001b[38;5;66;03m# xrhs is the residual which goes in the linear solve\u001b[39;00m\n\u001b[1;32m    279\u001b[0m \u001b[38;5;66;03m# Update xnp1 values for active tracers not included in the linear solve\u001b[39;00m\n\u001b[1;32m    280\u001b[0m \u001b[38;5;66;03m# TODO: should this actually be after forcing is applied?\u001b[39;00m\n",
      "File \u001b[0;32m~/firedrake/src/gusto/gusto/time_discretisation.py:582\u001b[0m, in \u001b[0;36mThetaMethod.apply\u001b[0;34m(self, x_in, x_out)\u001b[0m\n\u001b[1;32m    580\u001b[0m \u001b[38;5;28;01mdef\u001b[39;00m \u001b[38;5;21mapply\u001b[39m(\u001b[38;5;28mself\u001b[39m, x_in, x_out):\n\u001b[1;32m    581\u001b[0m     \u001b[38;5;28mself\u001b[39m\u001b[38;5;241m.\u001b[39mq1\u001b[38;5;241m.\u001b[39massign(x_in)\n\u001b[0;32m--> 582\u001b[0m     \u001b[38;5;28;43mself\u001b[39;49m\u001b[38;5;241;43m.\u001b[39;49m\u001b[43msolver\u001b[49m\u001b[38;5;241;43m.\u001b[39;49m\u001b[43msolve\u001b[49m\u001b[43m(\u001b[49m\u001b[43m)\u001b[49m\n\u001b[1;32m    583\u001b[0m     x_out\u001b[38;5;241m.\u001b[39massign(\u001b[38;5;28mself\u001b[39m\u001b[38;5;241m.\u001b[39mdq)\n",
      "File \u001b[0;32mPETSc/Log.pyx:115\u001b[0m, in \u001b[0;36mpetsc4py.PETSc.Log.EventDecorator.decorator.wrapped_func\u001b[0;34m()\u001b[0m\n",
      "File \u001b[0;32mPETSc/Log.pyx:116\u001b[0m, in \u001b[0;36mpetsc4py.PETSc.Log.EventDecorator.decorator.wrapped_func\u001b[0;34m()\u001b[0m\n",
      "File \u001b[0;32m~/firedrake/src/firedrake/firedrake/adjoint/variational_solver.py:90\u001b[0m, in \u001b[0;36mNonlinearVariationalSolverMixin._ad_annotate_solve.<locals>.wrapper\u001b[0;34m(self, **kwargs)\u001b[0m\n\u001b[1;32m     87\u001b[0m     tape\u001b[38;5;241m.\u001b[39madd_block(block)\n\u001b[1;32m     89\u001b[0m \u001b[38;5;28;01mwith\u001b[39;00m stop_annotating():\n\u001b[0;32m---> 90\u001b[0m     out \u001b[38;5;241m=\u001b[39m \u001b[43msolve\u001b[49m\u001b[43m(\u001b[49m\u001b[38;5;28;43mself\u001b[39;49m\u001b[43m,\u001b[49m\u001b[43m \u001b[49m\u001b[38;5;241;43m*\u001b[39;49m\u001b[38;5;241;43m*\u001b[39;49m\u001b[43mkwargs\u001b[49m\u001b[43m)\u001b[49m\n\u001b[1;32m     92\u001b[0m \u001b[38;5;28;01mif\u001b[39;00m annotate:\n\u001b[1;32m     93\u001b[0m     block\u001b[38;5;241m.\u001b[39madd_output(\u001b[38;5;28mself\u001b[39m\u001b[38;5;241m.\u001b[39m_ad_problem\u001b[38;5;241m.\u001b[39m_ad_u\u001b[38;5;241m.\u001b[39mcreate_block_variable())\n",
      "File \u001b[0;32m~/firedrake/src/firedrake/firedrake/variational_solver.py:281\u001b[0m, in \u001b[0;36mNonlinearVariationalSolver.solve\u001b[0;34m(self, bounds)\u001b[0m\n\u001b[1;32m    279\u001b[0m     work\u001b[38;5;241m.\u001b[39mcopy(u)\n\u001b[1;32m    280\u001b[0m \u001b[38;5;28mself\u001b[39m\u001b[38;5;241m.\u001b[39m_setup \u001b[38;5;241m=\u001b[39m \u001b[38;5;28;01mTrue\u001b[39;00m\n\u001b[0;32m--> 281\u001b[0m \u001b[43msolving_utils\u001b[49m\u001b[38;5;241;43m.\u001b[39;49m\u001b[43mcheck_snes_convergence\u001b[49m\u001b[43m(\u001b[49m\u001b[38;5;28;43mself\u001b[39;49m\u001b[38;5;241;43m.\u001b[39;49m\u001b[43msnes\u001b[49m\u001b[43m)\u001b[49m\n",
      "File \u001b[0;32m~/firedrake/src/firedrake/firedrake/solving_utils.py:138\u001b[0m, in \u001b[0;36mcheck_snes_convergence\u001b[0;34m(snes)\u001b[0m\n\u001b[1;32m    136\u001b[0m         \u001b[38;5;28;01melse\u001b[39;00m:\n\u001b[1;32m    137\u001b[0m             msg \u001b[38;5;241m=\u001b[39m reason\n\u001b[0;32m--> 138\u001b[0m         \u001b[38;5;28;01mraise\u001b[39;00m ConvergenceError(\u001b[38;5;124mr\u001b[39m\u001b[38;5;124m\"\"\"\u001b[39m\u001b[38;5;124mNonlinear solve failed to converge after \u001b[39m\u001b[38;5;132;01m%d\u001b[39;00m\u001b[38;5;124m nonlinear iterations.\u001b[39m\n\u001b[1;32m    139\u001b[0m \u001b[38;5;124mReason:\u001b[39m\n\u001b[1;32m    140\u001b[0m \u001b[38;5;124m   \u001b[39m\u001b[38;5;132;01m%s\u001b[39;00m\u001b[38;5;124m\"\"\"\u001b[39m \u001b[38;5;241m%\u001b[39m (snes\u001b[38;5;241m.\u001b[39mgetIterationNumber(), msg))\n",
      "\u001b[0;31mConvergenceError\u001b[0m: Nonlinear solve failed to converge after 0 nonlinear iterations.\nReason:\n   DIVERGED_FNORM_NAN"
     ]
    }
   ],
   "source": [
    "stepper.run(t=0, tmax=tmax)"
   ]
  }
 ],
 "metadata": {
  "kernelspec": {
   "display_name": "Python 3 (ipykernel)",
   "language": "python",
   "name": "python3"
  },
  "language_info": {
   "codemirror_mode": {
    "name": "ipython",
    "version": 3
   },
   "file_extension": ".py",
   "mimetype": "text/x-python",
   "name": "python",
   "nbconvert_exporter": "python",
   "pygments_lexer": "ipython3",
   "version": "3.8.5"
  }
 },
 "nbformat": 4,
 "nbformat_minor": 5
}
