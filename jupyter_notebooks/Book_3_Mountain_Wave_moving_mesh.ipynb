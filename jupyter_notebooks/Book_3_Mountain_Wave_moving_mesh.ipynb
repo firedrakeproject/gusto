{
 "cells": [
  {
   "cell_type": "markdown",
   "id": "3ec4b5fe",
   "metadata": {},
   "source": [
    "# Notebook 1: Introduction with Shallow Water - Williamson 2 Test Case"
   ]
  },
  {
   "cell_type": "markdown",
   "id": "5371527b",
   "metadata": {},
   "source": [
    "This document will provide an introduction to Gusto by going through an example script of the Williamson 2 test case. We will demonstrate setting up the problem, solving it, and examining the results and diagnostics."
   ]
  },
  {
   "cell_type": "markdown",
   "id": "664c0cba",
   "metadata": {},
   "source": [
    "We are solving the shallow water equations in this example. We will use the following set of momentum and continuity equations, for a velocity $\\textbf{u}$ and free surface, $\\eta$:\n",
    "$$\\textbf{u}_t + f \\textbf{u}^{\\perp} + g \\nabla \\eta + (\\textbf{u} \\cdot \\nabla) \\textbf{u} = 0$$\n",
    "$$\\eta_t + H(\\nabla \\cdot \\textbf{u}) + \\nabla [\\textbf{u} (\\eta - b)] = 0$$\n",
    "\n",
    "The parameters we need to specify will be the Coriolis force, $f$, gravitational constant, $g$, and mean depth, $H$.\n",
    "$\\newline$\n",
    "We don't have to worry about boundary conditions, due to solving on a spherical domain. "
   ]
  },
  {
   "cell_type": "markdown",
   "id": "29df76b1",
   "metadata": {},
   "source": [
    "We begin by importing the required libraries and functions from Firedrake and Gusto:"
   ]
  },
  {
   "cell_type": "code",
   "execution_count": 1,
   "id": "7779c15b",
   "metadata": {},
   "outputs": [
    {
     "name": "stderr",
     "output_type": "stream",
     "text": [
      "firedrake:WARNING OMP_NUM_THREADS is not set or is set to a value greater than 1, we suggest setting OMP_NUM_THREADS=1 to improve performance\n"
     ]
    }
   ],
   "source": [
    "from gusto import *\n",
    "from firedrake import IcosahedralSphereMesh, SpatialCoordinate, as_vector\n",
    "from math import pi\n",
    "import sys"
   ]
  },
  {
   "cell_type": "markdown",
   "id": "33f71f3a",
   "metadata": {},
   "source": [
    "We now define the time-step size and the duration of the simulation. We wish to analyse the solution five times over one day."
   ]
  },
  {
   "cell_type": "code",
   "execution_count": 4,
   "id": "f5147739",
   "metadata": {},
   "outputs": [],
   "source": [
    "dt = 4000.\n",
    "day = 24.*60.*60.\n",
    "tmax = 1*day\n",
    "\n",
    "ndumps = 5\n",
    "dumpfreq = int(tmax / (ndumps*dt))"
   ]
  },
  {
   "cell_type": "markdown",
   "id": "48ee6e88",
   "metadata": {},
   "source": [
    "We next specify the parameters for our shallow water model. We are solving on the Earth, so we give the relevant radius and height."
   ]
  },
  {
   "cell_type": "code",
   "execution_count": 5,
   "id": "844be5eb",
   "metadata": {},
   "outputs": [],
   "source": [
    "# setup shallow water parameters\n",
    "R = 6371220.\n",
    "H = 5960.\n",
    "\n",
    "# setup input that doesn't change with ref level or dt\n",
    "parameters = ShallowWaterParameters(H=H)"
   ]
  },
  {
   "cell_type": "markdown",
   "id": "2fb1fb2d",
   "metadata": {},
   "source": [
    "Next, we define the mesh. We will choose an Icosahedral Sphere Mesh. This is formed using the desired refinement level."
   ]
  },
  {
   "cell_type": "code",
   "execution_count": 6,
   "id": "2e9c65ea",
   "metadata": {},
   "outputs": [],
   "source": [
    "#Set up the mesh and choose the refinement level\n",
    "ref_level = 3  # number of horizontal cells = 20*(4^refinements)\n",
    "\n",
    "mesh = IcosahedralSphereMesh(radius=R,\n",
    "                             refinement_level=ref_level, degree=3)\n",
    "x = SpatialCoordinate(mesh)\n",
    "mesh.init_cell_orientations(x)"
   ]
  },
  {
   "cell_type": "markdown",
   "id": "da3c27bd",
   "metadata": {},
   "source": [
    "We need to specify an output directory name before running the code. We will record the test case, refinement level and time-step size in the name. To prevent overwriting data, Gusto will not enable overwriting an existing file. Hence, if one wishes to re-run a simulation, the existing results file needs to be removed first. "
   ]
  },
  {
   "cell_type": "code",
   "execution_count": 7,
   "id": "754708dd",
   "metadata": {},
   "outputs": [],
   "source": [
    "output = OutputParameters(dirname=\"sw_W2_ref%s_dt%s\" % (ref_level, dt),\n",
    "                          dumpfreq=dumpfreq,\n",
    "                          steady_state_error_fields=['u', 'D'],\n",
    "                          log_level='INFO')"
   ]
  },
  {
   "cell_type": "markdown",
   "id": "1e1ae651",
   "metadata": {},
   "source": [
    "We can specify which diagnostics we wish to record over the simulation. We then pass these into the State function. This will initialise the problem with the relevant mesh, parameters, and time-step. This state is updated after each iteration of the chosen time-stepper."
   ]
  },
  {
   "cell_type": "code",
   "execution_count": 8,
   "id": "db9d61a0",
   "metadata": {},
   "outputs": [
    {
     "name": "stderr",
     "output_type": "stream",
     "text": [
      "gusto:INFO Physical parameters that take non-default values:\n",
      "gusto:INFO H: 5960.0\n"
     ]
    }
   ],
   "source": [
    "diagnostic_fields = [RelativeVorticity(), PotentialVorticity(),\n",
    "                         ShallowWaterKineticEnergy(),\n",
    "                         ShallowWaterPotentialEnergy(),\n",
    "                         ShallowWaterPotentialEnstrophy(),\n",
    "                        CourantNumber()]\n",
    "\n",
    "state = State(mesh,\n",
    "              dt=dt,\n",
    "              output=output,\n",
    "              parameters=parameters,\n",
    "              diagnostic_fields=diagnostic_fields)"
   ]
  },
  {
   "cell_type": "markdown",
   "id": "80f8c00a",
   "metadata": {},
   "source": [
    "A spatially varying Coriolis force is defined over the sphere. Due to using a co-ordinate system based on ..., we can apply $f = 2 \\Omega $. We then pass this function into the set-up for the Shallow Water Equations."
   ]
  },
  {
   "cell_type": "code",
   "execution_count": 9,
   "id": "8ed9914e",
   "metadata": {},
   "outputs": [],
   "source": [
    "#Create a spatially varying function for the Coriolis force:\n",
    "Omega = parameters.Omega\n",
    "x = SpatialCoordinate(mesh)\n",
    "fexpr = 2*Omega*x[2]/R\n",
    "eqns = ShallowWaterEquations(state, \"BDM\", 1, fexpr=fexpr)"
   ]
  },
  {
   "cell_type": "markdown",
   "id": "9918a45e",
   "metadata": {},
   "source": [
    "Set up the initial conditions:\n",
    "Due to the choice of function spaces for the velocity and depth, the intialisations are performed using projection \n",
    "and interpolation procedures respectively. Williamson 2 specifies initial conditions for a 'Global Steady State Non-linear Zonal Geostrophic Zone' ... . We only require a two-dimensional velocity, so will specify the third component to be zero. "
   ]
  },
  {
   "cell_type": "code",
   "execution_count": 10,
   "id": "e61d066d",
   "metadata": {},
   "outputs": [
    {
     "data": {
      "text/plain": [
       "Coefficient(WithGeometry(IndexedProxyFunctionSpace(<firedrake.mesh.MeshTopology object at 0x7f25506068b0>, FiniteElement('Discontinuous Lagrange', triangle, 1, variant='equispaced'), name='DG1', index=1, component=None), Mesh(VectorElement(FiniteElement('Lagrange', Cell('triangle', 3), 3), dim=3), 4)), 26)"
      ]
     },
     "execution_count": 10,
     "metadata": {},
     "output_type": "execute_result"
    }
   ],
   "source": [
    "u0 = state.fields(\"u\")\n",
    "D0 = state.fields(\"D\")\n",
    "u_max = 2*pi*R/(12*day)  # Maximum amplitude of the zonal wind (m/s)\n",
    "uexpr = as_vector([-u_max*x[1]/R, u_max*x[0]/R, 0.0])\n",
    "g = parameters.g\n",
    "Dexpr = H - ((R * Omega * u_max)*(x[2]*x[2]/(R*R)))/g\n",
    "u0.project(uexpr)\n",
    "D0.interpolate(Dexpr)"
   ]
  },
  {
   "cell_type": "markdown",
   "id": "04687319",
   "metadata": {},
   "source": [
    "We next define the choice of time steppers. We will use the Crank-Nicolson approach, which means we can specify different approaches for solving the velocity and depth fields. We choose to use an Implicit Midpoint method for the velocity and an explicit strong stability preserving RK3 method for the depth. "
   ]
  },
  {
   "cell_type": "code",
   "execution_count": 11,
   "id": "b1642c8b",
   "metadata": {},
   "outputs": [],
   "source": [
    "#Now, construct the time-stepper. We will firstly use a semi-implicit (?) approach.\n",
    "#We will neglect any transport schemes for now.\n",
    "transport_schemes = [ImplicitMidpoint(state, \"u\"),\n",
    "                          SSPRK3(state, \"D\", subcycles=2)]\n",
    "stepper = CrankNicolson(state, eqns, transport_schemes)"
   ]
  },
  {
   "cell_type": "code",
   "execution_count": 12,
   "id": "46852826",
   "metadata": {},
   "outputs": [
    {
     "name": "stderr",
     "output_type": "stream",
     "text": [
      "/home/timandrews/firedrake/src/firedrake/firedrake/checkpointing.py:89: DeprecationWarning: DumbCheckpoint class will be deprecated after 01/01/2023; use CheckpointFile class instead.\n",
      "  warnings.warn(\"DumbCheckpoint class will be deprecated after 01/01/2023; use CheckpointFile class instead.\",\n",
      "gusto:INFO at start of timestep, t=0, dt=4000.0\n",
      "gusto:INFO at start of timestep, t=4000.0, dt=4000.0\n",
      "gusto:INFO at start of timestep, t=8000.0, dt=4000.0\n",
      "gusto:INFO at start of timestep, t=12000.0, dt=4000.0\n",
      "gusto:INFO at start of timestep, t=16000.0, dt=4000.0\n",
      "gusto:INFO at start of timestep, t=20000.0, dt=4000.0\n",
      "gusto:INFO at start of timestep, t=24000.0, dt=4000.0\n",
      "gusto:INFO at start of timestep, t=28000.0, dt=4000.0\n",
      "gusto:INFO at start of timestep, t=32000.0, dt=4000.0\n",
      "gusto:INFO at start of timestep, t=36000.0, dt=4000.0\n",
      "gusto:INFO at start of timestep, t=40000.0, dt=4000.0\n",
      "gusto:INFO at start of timestep, t=44000.0, dt=4000.0\n",
      "gusto:INFO at start of timestep, t=48000.0, dt=4000.0\n",
      "gusto:INFO at start of timestep, t=52000.0, dt=4000.0\n",
      "gusto:INFO at start of timestep, t=56000.0, dt=4000.0\n",
      "gusto:INFO at start of timestep, t=60000.0, dt=4000.0\n",
      "gusto:INFO at start of timestep, t=64000.0, dt=4000.0\n",
      "gusto:INFO at start of timestep, t=68000.0, dt=4000.0\n",
      "gusto:INFO at start of timestep, t=72000.0, dt=4000.0\n",
      "gusto:INFO at start of timestep, t=76000.0, dt=4000.0\n",
      "gusto:INFO at start of timestep, t=80000.0, dt=4000.0\n",
      "gusto:INFO at start of timestep, t=84000.0, dt=4000.0\n",
      "gusto:INFO TIMELOOP complete. t=88000.0, tmax=86400.0\n"
     ]
    }
   ],
   "source": [
    "#Run the time-stepper and generate the output\n",
    "stepper.run(t=0, tmax=tmax)"
   ]
  },
  {
   "cell_type": "markdown",
   "id": "2b518722",
   "metadata": {},
   "source": [
    "Now, you should be able to find the relevant file in the results folder created in this directory. The output at the specified times is saved in a format that can be viewed using Paraview. This can be seen as five .vtu files (field_output1.vtu, field_output2.vtu, etc.), as well as the original one for the initial conditions (field_output0.vtu). Documentation on how to use this is given here:  . Here is what you would get if you ran the simulation for five days:"
   ]
  },
  {
   "cell_type": "code",
   "execution_count": null,
   "id": "7e16a3dc",
   "metadata": {},
   "outputs": [],
   "source": []
  },
  {
   "cell_type": "markdown",
   "id": "810d8199",
   "metadata": {},
   "source": [
    "Congratulations, you have now successfully run a Gusto script!"
   ]
  }
 ],
 "metadata": {
  "kernelspec": {
   "display_name": "Python 3 (ipykernel)",
   "language": "python",
   "name": "python3"
  },
  "language_info": {
   "codemirror_mode": {
    "name": "ipython",
    "version": 3
   },
   "file_extension": ".py",
   "mimetype": "text/x-python",
   "name": "python",
   "nbconvert_exporter": "python",
   "pygments_lexer": "ipython3",
   "version": "3.8.5"
  }
 },
 "nbformat": 4,
 "nbformat_minor": 5
}
