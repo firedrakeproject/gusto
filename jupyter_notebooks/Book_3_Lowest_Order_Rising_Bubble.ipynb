{
 "cells": [
  {
   "cell_type": "markdown",
   "id": "3ec4b5fe",
   "metadata": {},
   "source": [
    "# Notebook 3: Lowest Order Rising Bubble"
   ]
  },
  {
   "cell_type": "markdown",
   "id": "5371527b",
   "metadata": {},
   "source": [
    "This notebook will demonstrate the use of the lowest-order finite element spaces. To increase the order of accuracy of the transport schemes we use a recovered finite element method where the transported fields are recovered into a higher-order function space before the transport is performed.\n",
    "\n",
    "We will demonstrate how to set this up to simulate a rising bubble, using the dry test of [Bryan and Fritsch (2002)](https://journals.ametsoc.org/view/journals/mwre/130/12/1520-0493_2002_130_2917_absfmn_2.0.co_2.xml)."
   ]
  },
  {
   "cell_type": "markdown",
   "id": "29df76b1",
   "metadata": {},
   "source": [
    "As usual, we begin by importing the required functions from Firedrake and Gusto:"
   ]
  },
  {
   "cell_type": "code",
   "execution_count": 1,
   "id": "7779c15b",
   "metadata": {},
   "outputs": [
    {
     "name": "stderr",
     "output_type": "stream",
     "text": [
      "INFO     Running /Users/JS1075/firedrake_dec24/lib/python3.12/site-packages/ipykernel_launcher.py -f /private/var/folders/f0/llvlmlb50qg6mmlxs8m6d6d00000gp/T/tmpziop690p.json --HistoryManager.hist_file=:memory:\n"
     ]
    }
   ],
   "source": [
    "from gusto import *\n",
    "from firedrake import (IntervalMesh, ExtrudedMesh,\n",
    "                       SpatialCoordinate, conditional, cos, pi, sqrt,\n",
    "                       TestFunction, dx, TrialFunction, Constant, Function,\n",
    "                       LinearVariationalProblem, LinearVariationalSolver)"
   ]
  },
  {
   "cell_type": "markdown",
   "id": "33f71f3a",
   "metadata": {},
   "source": [
    "We now define the time-step size and simulation time."
   ]
  },
  {
   "cell_type": "code",
   "execution_count": 2,
   "id": "f5147739",
   "metadata": {},
   "outputs": [],
   "source": [
    "dt = 1.0\n",
    "tmax = 1000."
   ]
  },
  {
   "cell_type": "markdown",
   "id": "48ee6e88",
   "metadata": {},
   "source": [
    "We will contruct our two dimensional mesh by extruding a 1D `IntervalMesh`. Here we specify the width and height of the mesh and the grid size `deltax` which is the same in both the x and z directions. We set up the lowest order function spaces by specifying `degree=0` when setting up the domain. "
   ]
  },
  {
   "cell_type": "code",
   "execution_count": 3,
   "id": "844be5eb",
   "metadata": {},
   "outputs": [],
   "source": [
    "domain_width = 10000.\n",
    "domain_height = 10000.\n",
    "deltax = 100.\n",
    "nlayers = int(domain_height/deltax)\n",
    "ncolumns = int(domain_width/deltax)\n",
    "m = IntervalMesh(ncolumns, domain_width)\n",
    "mesh = ExtrudedMesh(m, layers=nlayers, layer_height=domain_height/nlayers)\n",
    "domain = Domain(mesh, dt, family='CG', degree=0)"
   ]
  },
  {
   "cell_type": "markdown",
   "id": "e873798f-2fc5-4ae2-a602-f57b1db76167",
   "metadata": {},
   "source": [
    "This setup uses the default values for the relevant physical parameters (which can be found [here](https://www.firedrakeproject.org/gusto-docs/gusto.core.html#gusto.core.configuration.CompressibleParameters)). We will solve the compressible Euler equations with the vector advection form of the velocity transport term and, in addition to having no flow through the top and bottom boundaries, we also specify no flow through the side boundaries."
   ]
  },
  {
   "cell_type": "code",
   "execution_count": 4,
   "id": "f3734f62-13b7-42ab-b354-b7291eda9a49",
   "metadata": {},
   "outputs": [
    {
     "ename": "TypeError",
     "evalue": "EquationParameters.__init__() missing 1 required positional argument: 'mesh'",
     "output_type": "error",
     "traceback": [
      "\u001b[0;31m---------------------------------------------------------------------------\u001b[0m",
      "\u001b[0;31mTypeError\u001b[0m                                 Traceback (most recent call last)",
      "Cell \u001b[0;32mIn[4], line 1\u001b[0m\n\u001b[0;32m----> 1\u001b[0m params \u001b[38;5;241m=\u001b[39m \u001b[43mCompressibleParameters\u001b[49m\u001b[43m(\u001b[49m\u001b[43m)\u001b[49m\n\u001b[1;32m      2\u001b[0m eqns \u001b[38;5;241m=\u001b[39m CompressibleEulerEquations(domain, params, u_transport_option\u001b[38;5;241m=\u001b[39m\u001b[38;5;124m'\u001b[39m\u001b[38;5;124mvector_advection_form\u001b[39m\u001b[38;5;124m'\u001b[39m,\n\u001b[1;32m      3\u001b[0m                                   no_normal_flow_bc_ids\u001b[38;5;241m=\u001b[39m[\u001b[38;5;241m1\u001b[39m, \u001b[38;5;241m2\u001b[39m])\n",
      "\u001b[0;31mTypeError\u001b[0m: EquationParameters.__init__() missing 1 required positional argument: 'mesh'"
     ]
    }
   ],
   "source": [
    "params = CompressibleParameters()\n",
    "eqns = CompressibleEulerEquations(domain, params, u_transport_option='vector_advection_form',\n",
    "                                  no_normal_flow_bc_ids=[1, 2])"
   ]
  },
  {
   "cell_type": "markdown",
   "id": "18c60d44-d13c-49c4-8531-56717dadcba8",
   "metadata": {},
   "source": [
    "The following cell sets up the output, including a diagnostic field to allow us to visualise the rising thermal."
   ]
  },
  {
   "cell_type": "code",
   "execution_count": 5,
   "id": "754708dd",
   "metadata": {},
   "outputs": [],
   "source": [
    "dirname = 'lowest_order_bubble'\n",
    "output = OutputParameters(dirname=dirname, dumplist=['u'])\n",
    "diagnostic_fields = [Perturbation('theta')]\n",
    "io = IO(domain, output, diagnostic_fields=diagnostic_fields)"
   ]
  },
  {
   "cell_type": "markdown",
   "id": "2afac417",
   "metadata": {},
   "source": [
    "We now setup the transport schemes, including the options required for the recovery scheme. These are passed in to the `SemiImplicitQuasiNewton` timestepper, along with the linear solver."
   ]
  },
  {
   "cell_type": "code",
   "execution_count": 6,
   "id": "7e16a3dc",
   "metadata": {},
   "outputs": [
    {
     "ename": "NameError",
     "evalue": "name 'eqns' is not defined",
     "output_type": "error",
     "traceback": [
      "\u001b[0;31m---------------------------------------------------------------------------\u001b[0m",
      "\u001b[0;31mNameError\u001b[0m                                 Traceback (most recent call last)",
      "Cell \u001b[0;32mIn[6], line 16\u001b[0m\n\u001b[1;32m      8\u001b[0m theta_opts \u001b[38;5;241m=\u001b[39m recovery_spaces\u001b[38;5;241m.\u001b[39mtheta_options\n\u001b[1;32m     10\u001b[0m transported_fields \u001b[38;5;241m=\u001b[39m [\n\u001b[1;32m     11\u001b[0m     SSPRK3(domain, \u001b[38;5;124m\"\u001b[39m\u001b[38;5;124mrho\u001b[39m\u001b[38;5;124m\"\u001b[39m, options\u001b[38;5;241m=\u001b[39mrho_opts),\n\u001b[1;32m     12\u001b[0m     SSPRK3(domain, \u001b[38;5;124m\"\u001b[39m\u001b[38;5;124mtheta\u001b[39m\u001b[38;5;124m\"\u001b[39m, options\u001b[38;5;241m=\u001b[39mtheta_opts),\n\u001b[1;32m     13\u001b[0m     SSPRK3(domain, \u001b[38;5;124m\"\u001b[39m\u001b[38;5;124mu\u001b[39m\u001b[38;5;124m\"\u001b[39m, options\u001b[38;5;241m=\u001b[39mu_opts)\n\u001b[1;32m     14\u001b[0m ]\n\u001b[0;32m---> 16\u001b[0m transport_methods \u001b[38;5;241m=\u001b[39m [DGUpwind(\u001b[43meqns\u001b[49m, field) \u001b[38;5;28;01mfor\u001b[39;00m field \u001b[38;5;129;01min\u001b[39;00m [\u001b[38;5;124m\"\u001b[39m\u001b[38;5;124mu\u001b[39m\u001b[38;5;124m\"\u001b[39m, \u001b[38;5;124m\"\u001b[39m\u001b[38;5;124mrho\u001b[39m\u001b[38;5;124m\"\u001b[39m, \u001b[38;5;124m\"\u001b[39m\u001b[38;5;124mtheta\u001b[39m\u001b[38;5;124m\"\u001b[39m]]\n\u001b[1;32m     18\u001b[0m linear_solver \u001b[38;5;241m=\u001b[39m CompressibleSolver(eqns)\n\u001b[1;32m     20\u001b[0m stepper \u001b[38;5;241m=\u001b[39m SemiImplicitQuasiNewton(eqns, io, transported_fields, transport_methods,\n\u001b[1;32m     21\u001b[0m                                   linear_solver\u001b[38;5;241m=\u001b[39mlinear_solver)\n",
      "\u001b[0;31mNameError\u001b[0m: name 'eqns' is not defined"
     ]
    }
   ],
   "source": [
    "boundary_methods = {'DG': BoundaryMethod.taylor,\n",
    "                    'HDiv': BoundaryMethod.taylor}\n",
    "\n",
    "recovery_spaces = RecoverySpaces(domain, boundary_methods, use_vector_spaces=True)\n",
    "\n",
    "u_opts = recovery_spaces.HDiv_options\n",
    "rho_opts = recovery_spaces.DG_options\n",
    "theta_opts = recovery_spaces.theta_options\n",
    "\n",
    "transported_fields = [\n",
    "    SSPRK3(domain, \"rho\", options=rho_opts),\n",
    "    SSPRK3(domain, \"theta\", options=theta_opts),\n",
    "    SSPRK3(domain, \"u\", options=u_opts)\n",
    "]\n",
    "\n",
    "transport_methods = [DGUpwind(eqns, field) for field in [\"u\", \"rho\", \"theta\"]]\n",
    "\n",
    "linear_solver = CompressibleSolver(eqns)\n",
    "\n",
    "stepper = SemiImplicitQuasiNewton(eqns, io, transported_fields, transport_methods,\n",
    "                                  linear_solver=linear_solver)"
   ]
  },
  {
   "cell_type": "markdown",
   "id": "d63a49a2",
   "metadata": {},
   "source": [
    "We can now specify the background potential temperature and density fields, which are in hydrostatic balance."
   ]
  },
  {
   "cell_type": "code",
   "execution_count": 7,
   "id": "70d6106e",
   "metadata": {},
   "outputs": [
    {
     "ename": "NameError",
     "evalue": "name 'stepper' is not defined",
     "output_type": "error",
     "traceback": [
      "\u001b[0;31m---------------------------------------------------------------------------\u001b[0m",
      "\u001b[0;31mNameError\u001b[0m                                 Traceback (most recent call last)",
      "Cell \u001b[0;32mIn[7], line 1\u001b[0m\n\u001b[0;32m----> 1\u001b[0m rho0 \u001b[38;5;241m=\u001b[39m \u001b[43mstepper\u001b[49m\u001b[38;5;241m.\u001b[39mfields(\u001b[38;5;124m\"\u001b[39m\u001b[38;5;124mrho\u001b[39m\u001b[38;5;124m\"\u001b[39m)\n\u001b[1;32m      2\u001b[0m theta0 \u001b[38;5;241m=\u001b[39m stepper\u001b[38;5;241m.\u001b[39mfields(\u001b[38;5;124m\"\u001b[39m\u001b[38;5;124mtheta\u001b[39m\u001b[38;5;124m\"\u001b[39m)\n\u001b[1;32m      4\u001b[0m Vt \u001b[38;5;241m=\u001b[39m domain\u001b[38;5;241m.\u001b[39mspaces(\u001b[38;5;124m\"\u001b[39m\u001b[38;5;124mtheta\u001b[39m\u001b[38;5;124m\"\u001b[39m)\n",
      "\u001b[0;31mNameError\u001b[0m: name 'stepper' is not defined"
     ]
    }
   ],
   "source": [
    "rho0 = stepper.fields(\"rho\")\n",
    "theta0 = stepper.fields(\"theta\")\n",
    "\n",
    "Vt = domain.spaces(\"theta\")\n",
    "Vr = domain.spaces(\"DG\")\n",
    "\n",
    "xz = SpatialCoordinate(mesh)\n",
    "Tsurf = 300.0\n",
    "theta_b = Function(Vt).interpolate(Constant(Tsurf))\n",
    "\n",
    "# Calculate hydrostatic fields\n",
    "compressible_hydrostatic_balance(eqns, theta_b, rho0, solve_for_rho=True)\n",
    "\n",
    "# make mean fields\n",
    "rho_b = Function(Vr).assign(rho0)\n",
    "\n",
    "stepper.set_reference_profiles([('rho', rho_b), ('theta', theta_b)])"
   ]
  },
  {
   "cell_type": "markdown",
   "id": "a93c582c-33a6-4d6f-9dfb-9f066ef4cc64",
   "metadata": {},
   "source": [
    "Now we define the bubble perturbation in terms of the potential temperature and find the corresponding density perturbation."
   ]
  },
  {
   "cell_type": "code",
   "execution_count": 8,
   "id": "0718640b-48e0-4b44-ae02-a536e970d44d",
   "metadata": {},
   "outputs": [
    {
     "ename": "NameError",
     "evalue": "name 'xz' is not defined",
     "output_type": "error",
     "traceback": [
      "\u001b[0;31m---------------------------------------------------------------------------\u001b[0m",
      "\u001b[0;31mNameError\u001b[0m                                 Traceback (most recent call last)",
      "Cell \u001b[0;32mIn[8], line 7\u001b[0m\n\u001b[1;32m      4\u001b[0m Tdash \u001b[38;5;241m=\u001b[39m \u001b[38;5;241m2.0\u001b[39m               \u001b[38;5;66;03m# magnitude of bubble perturbation\u001b[39;00m\n\u001b[1;32m      6\u001b[0m \u001b[38;5;66;03m# define bubble perturbation\u001b[39;00m\n\u001b[0;32m----> 7\u001b[0m r \u001b[38;5;241m=\u001b[39m sqrt((\u001b[43mxz\u001b[49m[\u001b[38;5;241m0\u001b[39m] \u001b[38;5;241m-\u001b[39m xc) \u001b[38;5;241m*\u001b[39m\u001b[38;5;241m*\u001b[39m \u001b[38;5;241m2\u001b[39m \u001b[38;5;241m+\u001b[39m (xz[\u001b[38;5;241m1\u001b[39m] \u001b[38;5;241m-\u001b[39m zc) \u001b[38;5;241m*\u001b[39m\u001b[38;5;241m*\u001b[39m \u001b[38;5;241m2\u001b[39m)\n\u001b[1;32m      8\u001b[0m theta_pert \u001b[38;5;241m=\u001b[39m Function(Vt)\u001b[38;5;241m.\u001b[39minterpolate(\n\u001b[1;32m      9\u001b[0m     conditional(r \u001b[38;5;241m>\u001b[39m rc, \u001b[38;5;241m0.0\u001b[39m, Tdash \u001b[38;5;241m*\u001b[39m (cos(pi \u001b[38;5;241m*\u001b[39m r \u001b[38;5;241m/\u001b[39m (\u001b[38;5;241m2.0\u001b[39m \u001b[38;5;241m*\u001b[39m rc))) \u001b[38;5;241m*\u001b[39m\u001b[38;5;241m*\u001b[39m \u001b[38;5;241m2\u001b[39m)\n\u001b[1;32m     10\u001b[0m )\n\u001b[1;32m     12\u001b[0m \u001b[38;5;66;03m# define initial theta\u001b[39;00m\n",
      "\u001b[0;31mNameError\u001b[0m: name 'xz' is not defined"
     ]
    }
   ],
   "source": [
    "xc = domain_width / 2     # x position of bubble centre\n",
    "zc = 2000.                # z position of bubble centre\n",
    "rc = 2000.                # radius of bubble\n",
    "Tdash = 2.0               # magnitude of bubble perturbation\n",
    "\n",
    "# define bubble perturbation\n",
    "r = sqrt((xz[0] - xc) ** 2 + (xz[1] - zc) ** 2)\n",
    "theta_pert = Function(Vt).interpolate(\n",
    "    conditional(r > rc, 0.0, Tdash * (cos(pi * r / (2.0 * rc))) ** 2)\n",
    ")\n",
    "\n",
    "# define initial theta\n",
    "theta0.interpolate(theta_b * (theta_pert / 300.0 + 1.0))\n",
    "\n",
    "# find perturbed rho\n",
    "gamma = TestFunction(Vr)\n",
    "rho_trial = TrialFunction(Vr)\n",
    "lhs = gamma * rho_trial * dx\n",
    "rhs = gamma * (rho_b * theta_b / theta0) * dx\n",
    "rho_problem = LinearVariationalProblem(lhs, rhs, rho0)\n",
    "rho_solver = LinearVariationalSolver(rho_problem)\n",
    "rho_solver.solve()"
   ]
  },
  {
   "cell_type": "markdown",
   "id": "eb5258b4",
   "metadata": {},
   "source": [
    "Now, we can run the simulation. The cell below runs for just two timesteps because the full simulation takes a while, but if you replace the `2*dt` below with `tmax`, which was defined above to be 1000s, you should be able to reproduce something like the plots below."
   ]
  },
  {
   "cell_type": "code",
   "execution_count": 9,
   "id": "c929ec1f",
   "metadata": {},
   "outputs": [
    {
     "ename": "NameError",
     "evalue": "name 'stepper' is not defined",
     "output_type": "error",
     "traceback": [
      "\u001b[0;31m---------------------------------------------------------------------------\u001b[0m",
      "\u001b[0;31mNameError\u001b[0m                                 Traceback (most recent call last)",
      "Cell \u001b[0;32mIn[9], line 1\u001b[0m\n\u001b[0;32m----> 1\u001b[0m \u001b[43mstepper\u001b[49m\u001b[38;5;241m.\u001b[39mrun(t\u001b[38;5;241m=\u001b[39m\u001b[38;5;241m0\u001b[39m, tmax\u001b[38;5;241m=\u001b[39m\u001b[38;5;241m2\u001b[39m\u001b[38;5;241m*\u001b[39mdt)\n",
      "\u001b[0;31mNameError\u001b[0m: name 'stepper' is not defined"
     ]
    }
   ],
   "source": [
    "stepper.run(t=0, tmax=2*dt)"
   ]
  },
  {
   "cell_type": "markdown",
   "id": "df6d755a",
   "metadata": {},
   "source": [
    "The plot below shows the initial and final potential temperature perturbation.\n",
    "\n",
    "![bubble](../figures/compressible_euler/dry_bryan_fritsch.png)"
   ]
  }
 ],
 "metadata": {
  "language_info": {
   "name": "python"
  }
 },
 "nbformat": 4,
 "nbformat_minor": 5
}
