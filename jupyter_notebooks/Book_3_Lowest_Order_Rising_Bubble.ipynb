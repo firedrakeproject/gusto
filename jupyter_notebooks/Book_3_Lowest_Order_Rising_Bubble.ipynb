{
 "cells": [
  {
   "cell_type": "markdown",
   "id": "3ec4b5fe",
   "metadata": {},
   "source": [
    "# Notebook 3: Lowest Order Rising Bubble"
   ]
  },
  {
   "cell_type": "markdown",
   "id": "5371527b",
   "metadata": {},
   "source": [
    "This notebook will demonstrate the use of the lowest-order finite element spaces. To increase the order of accuracy of the transport schemes we use a recovered finite element method where the transported fields are recovered into a higher-order function space before the transport is performed.\n",
    "\n",
    "We will demonstrate how to set this up to simulate a rising bubble, using the dry test of [Bryan and Fritsch (2002)](https://journals.ametsoc.org/view/journals/mwre/130/12/1520-0493_2002_130_2917_absfmn_2.0.co_2.xml)."
   ]
  },
  {
   "cell_type": "markdown",
   "id": "29df76b1",
   "metadata": {},
   "source": [
    "As usual, we begin by importing the required functions from Firedrake and Gusto:"
   ]
  },
  {
   "cell_type": "code",
   "execution_count": 1,
   "id": "7779c15b",
   "metadata": {},
   "outputs": [
    {
     "name": "stderr",
     "output_type": "stream",
     "text": [
      "INFO     Running /Users/JS1075/firedrake_dec24/lib/python3.12/site-packages/ipykernel_launcher.py -f /private/var/folders/f0/llvlmlb50qg6mmlxs8m6d6d00000gp/T/tmpxujxs0bq.json --HistoryManager.hist_file=:memory:\n"
     ]
    }
   ],
   "source": [
    "from gusto import *\n",
    "from firedrake import (IntervalMesh, ExtrudedMesh,\n",
    "                       SpatialCoordinate, conditional, cos, pi, sqrt,\n",
    "                       TestFunction, dx, TrialFunction, Constant, Function,\n",
    "                       LinearVariationalProblem, LinearVariationalSolver)"
   ]
  },
  {
   "cell_type": "markdown",
   "id": "33f71f3a",
   "metadata": {},
   "source": [
    "We now define the time-step size and simulation time."
   ]
  },
  {
   "cell_type": "code",
   "execution_count": 2,
   "id": "f5147739",
   "metadata": {},
   "outputs": [],
   "source": [
    "dt = 1.0\n",
    "tmax = 1000."
   ]
  },
  {
   "cell_type": "markdown",
   "id": "48ee6e88",
   "metadata": {},
   "source": [
    "We will contruct our two dimensional mesh by extruding a 1D `IntervalMesh`. Here we specify the width and height of the mesh and the grid size `deltax` which is the same in both the x and z directions. We set up the lowest order function spaces by specifying `degree=0` when setting up the domain. "
   ]
  },
  {
   "cell_type": "code",
   "execution_count": 3,
   "id": "844be5eb",
   "metadata": {},
   "outputs": [],
   "source": [
    "domain_width = 10000.\n",
    "domain_height = 10000.\n",
    "deltax = 100.\n",
    "nlayers = int(domain_height/deltax)\n",
    "ncolumns = int(domain_width/deltax)\n",
    "m = IntervalMesh(ncolumns, domain_width)\n",
    "mesh = ExtrudedMesh(m, layers=nlayers, layer_height=domain_height/nlayers)\n",
    "domain = Domain(mesh, dt, family='CG', degree=0)"
   ]
  },
  {
   "cell_type": "markdown",
   "id": "e873798f-2fc5-4ae2-a602-f57b1db76167",
   "metadata": {},
   "source": [
    "This setup uses the default values for the relevant physical parameters (which can be found [here](https://www.firedrakeproject.org/gusto-docs/gusto.core.html#gusto.core.configuration.CompressibleParameters)). We will solve the compressible Euler equations with the vector advection form of the velocity transport term and, in addition to having no flow through the top and bottom boundaries, we also specify no flow through the side boundaries."
   ]
  },
  {
   "cell_type": "code",
   "execution_count": 4,
   "id": "f3734f62-13b7-42ab-b354-b7291eda9a49",
   "metadata": {},
   "outputs": [],
   "source": [
    "params = CompressibleParameters()\n",
    "eqns = CompressibleEulerEquations(domain, params, u_transport_option='vector_advection_form',\n",
    "                                  no_normal_flow_bc_ids=[1, 2])"
   ]
  },
  {
   "cell_type": "markdown",
   "id": "18c60d44-d13c-49c4-8531-56717dadcba8",
   "metadata": {},
   "source": [
    "The following cell sets up the output, including a diagnostic field to allow us to visualise the rising thermal."
   ]
  },
  {
   "cell_type": "code",
   "execution_count": 5,
   "id": "754708dd",
   "metadata": {},
   "outputs": [],
   "source": [
    "dirname = 'lowest_order_bubble'\n",
    "output = OutputParameters(dirname=dirname, dumplist=['u'])\n",
    "diagnostic_fields = [Perturbation('theta')]\n",
    "io = IO(domain, output, diagnostic_fields=diagnostic_fields)"
   ]
  },
  {
   "cell_type": "markdown",
   "id": "2afac417",
   "metadata": {},
   "source": [
    "We now setup the transport schemes, including the options required for the recovery scheme. These are passed in to the `SemiImplicitQuasiNewton` timestepper, along with the linear solver."
   ]
  },
  {
   "cell_type": "code",
   "execution_count": 6,
   "id": "7e16a3dc",
   "metadata": {},
   "outputs": [
    {
     "name": "stderr",
     "output_type": "stream",
     "text": [
      "INFO     Physical parameters that take non-default values:\n"
     ]
    },
    {
     "name": "stderr",
     "output_type": "stream",
     "text": [
      "INFO     \n"
     ]
    }
   ],
   "source": [
    "boundary_methods = {'DG': BoundaryMethod.taylor,\n",
    "                    'HDiv': BoundaryMethod.taylor}\n",
    "\n",
    "recovery_spaces = RecoverySpaces(domain, boundary_methods, use_vector_spaces=True)\n",
    "\n",
    "u_opts = recovery_spaces.HDiv_options\n",
    "rho_opts = recovery_spaces.DG_options\n",
    "theta_opts = recovery_spaces.theta_options\n",
    "\n",
    "transported_fields = [\n",
    "    SSPRK3(domain, \"rho\", options=rho_opts),\n",
    "    SSPRK3(domain, \"theta\", options=theta_opts),\n",
    "    SSPRK3(domain, \"u\", options=u_opts)\n",
    "]\n",
    "\n",
    "transport_methods = [DGUpwind(eqns, field) for field in [\"u\", \"rho\", \"theta\"]]\n",
    "\n",
    "linear_solver = CompressibleSolver(eqns)\n",
    "\n",
    "stepper = SemiImplicitQuasiNewton(eqns, io, transported_fields, transport_methods,\n",
    "                                  linear_solver=linear_solver)"
   ]
  },
  {
   "cell_type": "markdown",
   "id": "d63a49a2",
   "metadata": {},
   "source": [
    "We can now specify the background potential temperature and density fields, which are in hydrostatic balance."
   ]
  },
  {
   "cell_type": "code",
   "execution_count": 7,
   "id": "70d6106e",
   "metadata": {},
   "outputs": [],
   "source": [
    "rho0 = stepper.fields(\"rho\")\n",
    "theta0 = stepper.fields(\"theta\")\n",
    "\n",
    "Vt = domain.spaces(\"theta\")\n",
    "Vr = domain.spaces(\"DG\")\n",
    "\n",
    "xz = SpatialCoordinate(mesh)\n",
    "Tsurf = 300.0\n",
    "theta_b = Function(Vt).interpolate(Constant(Tsurf))\n",
    "\n",
    "# Calculate hydrostatic fields\n",
    "compressible_hydrostatic_balance(eqns, theta_b, rho0, solve_for_rho=True)\n",
    "\n",
    "# make mean fields\n",
    "rho_b = Function(Vr).assign(rho0)\n",
    "\n",
    "stepper.set_reference_profiles([('rho', rho_b), ('theta', theta_b)])"
   ]
  },
  {
   "cell_type": "markdown",
   "id": "a93c582c-33a6-4d6f-9dfb-9f066ef4cc64",
   "metadata": {},
   "source": [
    "Now we define the bubble perturbation in terms of the potential temperature and find the corresponding density perturbation."
   ]
  },
  {
   "cell_type": "code",
   "execution_count": 8,
   "id": "0718640b-48e0-4b44-ae02-a536e970d44d",
   "metadata": {},
   "outputs": [],
   "source": [
    "xc = domain_width / 2     # x position of bubble centre\n",
    "zc = 2000.                # z position of bubble centre\n",
    "rc = 2000.                # radius of bubble\n",
    "Tdash = 2.0               # magnitude of bubble perturbation\n",
    "\n",
    "# define bubble perturbation\n",
    "r = sqrt((xz[0] - xc) ** 2 + (xz[1] - zc) ** 2)\n",
    "theta_pert = Function(Vt).interpolate(\n",
    "    conditional(r > rc, 0.0, Tdash * (cos(pi * r / (2.0 * rc))) ** 2)\n",
    ")\n",
    "\n",
    "# define initial theta\n",
    "theta0.interpolate(theta_b * (theta_pert / 300.0 + 1.0))\n",
    "\n",
    "# find perturbed rho\n",
    "gamma = TestFunction(Vr)\n",
    "rho_trial = TrialFunction(Vr)\n",
    "lhs = gamma * rho_trial * dx\n",
    "rhs = gamma * (rho_b * theta_b / theta0) * dx\n",
    "rho_problem = LinearVariationalProblem(lhs, rhs, rho0)\n",
    "rho_solver = LinearVariationalSolver(rho_problem)\n",
    "rho_solver.solve()"
   ]
  },
  {
   "cell_type": "markdown",
   "id": "eb5258b4",
   "metadata": {},
   "source": [
    "Now, we can run the simulation. The cell below runs for just two timesteps because the full simulation takes a while, but if you replace the `2*dt` below with `tmax`, which was defined above to be 1000s, you should be able to reproduce something like the plots below."
   ]
  },
  {
   "cell_type": "code",
   "execution_count": 9,
   "id": "c929ec1f",
   "metadata": {},
   "outputs": [
    {
     "name": "stderr",
     "output_type": "stream",
     "text": [
      "INFO     \n"
     ]
    },
    {
     "name": "stderr",
     "output_type": "stream",
     "text": [
      "INFO     ========================================\n"
     ]
    },
    {
     "name": "stderr",
     "output_type": "stream",
     "text": [
      "INFO     at start of timestep 1, t=0.0, dt=1.0\n"
     ]
    },
    {
     "name": "stderr",
     "output_type": "stream",
     "text": [
      "INFO     Max Courant: 0.00e+00\n"
     ]
    },
    {
     "name": "stderr",
     "output_type": "stream",
     "text": [
      "INFO     Max Courant horizontal: 0.00e+00\n"
     ]
    },
    {
     "name": "stderr",
     "output_type": "stream",
     "text": [
      "INFO     Max Courant vertical: 0.00e+00\n"
     ]
    },
    {
     "name": "stderr",
     "output_type": "stream",
     "text": [
      "INFO     Compressible linear solver: rho average solve\n"
     ]
    },
    {
     "name": "stderr",
     "output_type": "stream",
     "text": [
      "INFO     Compressible linear solver: Exner average solve\n"
     ]
    },
    {
     "name": "stderr",
     "output_type": "stream",
     "text": [
      "INFO     Semi-implicit Quasi Newton: Explicit forcing\n"
     ]
    },
    {
     "name": "stderr",
     "output_type": "stream",
     "text": [
      "INFO     Max Courant transporting velocity, outer iteration 0: 0.00e+00\n"
     ]
    },
    {
     "name": "stderr",
     "output_type": "stream",
     "text": [
      "INFO     Semi-implicit Quasi Newton: Transport 0: rho\n"
     ]
    },
    {
     "name": "stderr",
     "output_type": "stream",
     "text": [
      "INFO     Semi-implicit Quasi Newton: Transport 0: theta\n"
     ]
    },
    {
     "name": "stderr",
     "output_type": "stream",
     "text": [
      "INFO     Semi-implicit Quasi Newton: Transport 0: u\n"
     ]
    },
    {
     "name": "stderr",
     "output_type": "stream",
     "text": [
      "INFO     Semi-implicit Quasi Newton: Implicit forcing (0, 0)\n"
     ]
    },
    {
     "name": "stderr",
     "output_type": "stream",
     "text": [
      "INFO     Semi-implicit Quasi Newton: Mixed solve (0, 0)\n"
     ]
    },
    {
     "name": "stderr",
     "output_type": "stream",
     "text": [
      "INFO     Compressible linear solver: hybridized solve\n"
     ]
    },
    {
     "name": "stdout",
     "output_type": "stream",
     "text": [
      "    Residual norms for ImplicitSolver_ solve.\n",
      "    0 KSP none resid norm 6.809637789076e+01 true resid norm 6.809637789076e+01 ||r(i)||/||b|| 1.000000000000e+00\n"
     ]
    },
    {
     "name": "stderr",
     "output_type": "stream",
     "text": [
      "INFO     Compressible linear solver: restore continuity\n"
     ]
    },
    {
     "name": "stderr",
     "output_type": "stream",
     "text": [
      "INFO     Compressible linear solver: theta solve\n"
     ]
    },
    {
     "name": "stderr",
     "output_type": "stream",
     "text": [
      "INFO     Semi-implicit Quasi Newton: Implicit forcing (0, 1)\n"
     ]
    },
    {
     "name": "stderr",
     "output_type": "stream",
     "text": [
      "INFO     Semi-implicit Quasi Newton: Mixed solve (0, 1)\n"
     ]
    },
    {
     "name": "stderr",
     "output_type": "stream",
     "text": [
      "INFO     Compressible linear solver: hybridized solve\n"
     ]
    },
    {
     "name": "stdout",
     "output_type": "stream",
     "text": [
      "    1 KSP none resid norm 9.820261182631e-10 true resid norm 9.820261182631e-10 ||r(i)||/||b|| 1.442112119147e-11\n",
      "    Residual norms for ImplicitSolver_ solve.\n",
      "    0 KSP none resid norm 6.823436852918e+01 true resid norm 1.362682484787e+02 ||r(i)||/||b|| 1.997061765442e+00\n"
     ]
    },
    {
     "name": "stderr",
     "output_type": "stream",
     "text": [
      "INFO     Compressible linear solver: restore continuity\n"
     ]
    },
    {
     "name": "stderr",
     "output_type": "stream",
     "text": [
      "INFO     Compressible linear solver: theta solve\n"
     ]
    },
    {
     "name": "stderr",
     "output_type": "stream",
     "text": [
      "INFO     Max Courant transporting velocity, outer iteration 1: 3.26e-04\n"
     ]
    },
    {
     "name": "stderr",
     "output_type": "stream",
     "text": [
      "INFO     Semi-implicit Quasi Newton: Transport 1: rho\n"
     ]
    },
    {
     "name": "stderr",
     "output_type": "stream",
     "text": [
      "INFO     Semi-implicit Quasi Newton: Transport 1: theta\n"
     ]
    },
    {
     "name": "stderr",
     "output_type": "stream",
     "text": [
      "INFO     Semi-implicit Quasi Newton: Transport 1: u\n"
     ]
    },
    {
     "name": "stderr",
     "output_type": "stream",
     "text": [
      "INFO     Semi-implicit Quasi Newton: Implicit forcing (1, 0)\n"
     ]
    },
    {
     "name": "stderr",
     "output_type": "stream",
     "text": [
      "INFO     Semi-implicit Quasi Newton: Mixed solve (1, 0)\n"
     ]
    },
    {
     "name": "stderr",
     "output_type": "stream",
     "text": [
      "INFO     Compressible linear solver: hybridized solve\n"
     ]
    },
    {
     "name": "stdout",
     "output_type": "stream",
     "text": [
      "    1 KSP none resid norm 1.582837639181e-09 true resid norm 1.582837639181e-09 ||r(i)||/||b|| 2.319707316562e-11\n"
     ]
    },
    {
     "name": "stderr",
     "output_type": "stream",
     "text": [
      "INFO     Compressible linear solver: restore continuity\n"
     ]
    },
    {
     "name": "stderr",
     "output_type": "stream",
     "text": [
      "INFO     Compressible linear solver: theta solve\n"
     ]
    },
    {
     "name": "stderr",
     "output_type": "stream",
     "text": [
      "INFO     Semi-implicit Quasi Newton: Implicit forcing (1, 1)\n"
     ]
    },
    {
     "name": "stderr",
     "output_type": "stream",
     "text": [
      "INFO     Semi-implicit Quasi Newton: Mixed solve (1, 1)\n"
     ]
    },
    {
     "name": "stderr",
     "output_type": "stream",
     "text": [
      "INFO     Compressible linear solver: hybridized solve\n"
     ]
    },
    {
     "name": "stdout",
     "output_type": "stream",
     "text": [
      "    Residual norms for ImplicitSolver_ solve.\n",
      "    0 KSP none resid norm 8.237199169064e+00 true resid norm 6.924560063953e+01 ||r(i)||/||b|| 8.406449718928e+00\n",
      "    1 KSP none resid norm 1.517330404197e-09 true resid norm 1.517330404197e-09 ||r(i)||/||b|| 1.842046517335e-10\n",
      "    Residual norms for ImplicitSolver_ solve.\n",
      "    0 KSP none resid norm 3.810282818122e+00 true resid norm 1.204144656109e+01 ||r(i)||/||b|| 3.160250074828e+00\n"
     ]
    },
    {
     "name": "stderr",
     "output_type": "stream",
     "text": [
      "INFO     Compressible linear solver: restore continuity\n"
     ]
    },
    {
     "name": "stderr",
     "output_type": "stream",
     "text": [
      "INFO     Compressible linear solver: theta solve\n"
     ]
    },
    {
     "name": "stderr",
     "output_type": "stream",
     "text": [
      "INFO     \n"
     ]
    },
    {
     "name": "stderr",
     "output_type": "stream",
     "text": [
      "INFO     ========================================\n"
     ]
    },
    {
     "name": "stderr",
     "output_type": "stream",
     "text": [
      "INFO     at start of timestep 2, t=1.0, dt=1.0\n"
     ]
    },
    {
     "name": "stderr",
     "output_type": "stream",
     "text": [
      "INFO     Max Courant: 6.32e-04\n"
     ]
    },
    {
     "name": "stderr",
     "output_type": "stream",
     "text": [
      "INFO     Max Courant horizontal: 1.17e-05\n"
     ]
    },
    {
     "name": "stderr",
     "output_type": "stream",
     "text": [
      "INFO     Max Courant vertical: 6.32e-04\n"
     ]
    },
    {
     "name": "stderr",
     "output_type": "stream",
     "text": [
      "INFO     Semi-implicit Quasi Newton: Explicit forcing\n"
     ]
    },
    {
     "name": "stderr",
     "output_type": "stream",
     "text": [
      "INFO     Max Courant transporting velocity, outer iteration 0: 6.32e-04\n"
     ]
    },
    {
     "name": "stderr",
     "output_type": "stream",
     "text": [
      "INFO     Semi-implicit Quasi Newton: Transport 0: rho\n"
     ]
    },
    {
     "name": "stderr",
     "output_type": "stream",
     "text": [
      "INFO     Semi-implicit Quasi Newton: Transport 0: theta\n"
     ]
    },
    {
     "name": "stdout",
     "output_type": "stream",
     "text": [
      "    1 KSP none resid norm 1.017316845691e-09 true resid norm 1.017316845691e-09 ||r(i)||/||b|| 2.669924764776e-10\n"
     ]
    },
    {
     "name": "stderr",
     "output_type": "stream",
     "text": [
      "INFO     Semi-implicit Quasi Newton: Transport 0: u\n"
     ]
    },
    {
     "name": "stderr",
     "output_type": "stream",
     "text": [
      "INFO     Semi-implicit Quasi Newton: Implicit forcing (0, 0)\n"
     ]
    },
    {
     "name": "stderr",
     "output_type": "stream",
     "text": [
      "INFO     Semi-implicit Quasi Newton: Mixed solve (0, 0)\n"
     ]
    },
    {
     "name": "stderr",
     "output_type": "stream",
     "text": [
      "INFO     Compressible linear solver: hybridized solve\n"
     ]
    },
    {
     "name": "stderr",
     "output_type": "stream",
     "text": [
      "INFO     Compressible linear solver: restore continuity\n"
     ]
    },
    {
     "name": "stderr",
     "output_type": "stream",
     "text": [
      "INFO     Compressible linear solver: theta solve\n"
     ]
    },
    {
     "name": "stderr",
     "output_type": "stream",
     "text": [
      "INFO     Semi-implicit Quasi Newton: Implicit forcing (0, 1)\n"
     ]
    },
    {
     "name": "stderr",
     "output_type": "stream",
     "text": [
      "INFO     Semi-implicit Quasi Newton: Mixed solve (0, 1)\n"
     ]
    },
    {
     "name": "stderr",
     "output_type": "stream",
     "text": [
      "INFO     Compressible linear solver: hybridized solve\n"
     ]
    },
    {
     "name": "stdout",
     "output_type": "stream",
     "text": [
      "    Residual norms for ImplicitSolver_ solve.\n",
      "    0 KSP none resid norm 6.542103537746e+01 true resid norm 6.600648429635e+01 ||r(i)||/||b|| 1.008948939978e+00\n",
      "    1 KSP none resid norm 2.709138366522e-09 true resid norm 2.709138366522e-09 ||r(i)||/||b|| 4.141081459336e-11\n",
      "    Residual norms for ImplicitSolver_ solve.\n",
      "    0 KSP none resid norm 6.590129649686e+01 true resid norm 1.312831140842e+02 ||r(i)||/||b|| 1.992117318822e+00\n"
     ]
    },
    {
     "name": "stderr",
     "output_type": "stream",
     "text": [
      "INFO     Compressible linear solver: restore continuity\n"
     ]
    },
    {
     "name": "stderr",
     "output_type": "stream",
     "text": [
      "INFO     Compressible linear solver: theta solve\n"
     ]
    },
    {
     "name": "stderr",
     "output_type": "stream",
     "text": [
      "INFO     Max Courant transporting velocity, outer iteration 1: 9.15e-04\n"
     ]
    },
    {
     "name": "stderr",
     "output_type": "stream",
     "text": [
      "INFO     Semi-implicit Quasi Newton: Transport 1: rho\n"
     ]
    },
    {
     "name": "stderr",
     "output_type": "stream",
     "text": [
      "INFO     Semi-implicit Quasi Newton: Transport 1: theta\n"
     ]
    },
    {
     "name": "stderr",
     "output_type": "stream",
     "text": [
      "INFO     Semi-implicit Quasi Newton: Transport 1: u\n"
     ]
    },
    {
     "name": "stderr",
     "output_type": "stream",
     "text": [
      "INFO     Semi-implicit Quasi Newton: Implicit forcing (1, 0)\n"
     ]
    },
    {
     "name": "stderr",
     "output_type": "stream",
     "text": [
      "INFO     Semi-implicit Quasi Newton: Mixed solve (1, 0)\n"
     ]
    },
    {
     "name": "stderr",
     "output_type": "stream",
     "text": [
      "INFO     Compressible linear solver: hybridized solve\n"
     ]
    },
    {
     "name": "stdout",
     "output_type": "stream",
     "text": [
      "    1 KSP none resid norm 4.051030963703e-09 true resid norm 4.051030963703e-09 ||r(i)||/||b|| 6.147118765556e-11\n"
     ]
    },
    {
     "name": "stderr",
     "output_type": "stream",
     "text": [
      "INFO     Compressible linear solver: restore continuity\n"
     ]
    },
    {
     "name": "stderr",
     "output_type": "stream",
     "text": [
      "INFO     Compressible linear solver: theta solve\n"
     ]
    },
    {
     "name": "stderr",
     "output_type": "stream",
     "text": [
      "INFO     Semi-implicit Quasi Newton: Implicit forcing (1, 1)\n"
     ]
    },
    {
     "name": "stderr",
     "output_type": "stream",
     "text": [
      "INFO     Semi-implicit Quasi Newton: Mixed solve (1, 1)\n"
     ]
    },
    {
     "name": "stderr",
     "output_type": "stream",
     "text": [
      "INFO     Compressible linear solver: hybridized solve\n"
     ]
    },
    {
     "name": "stdout",
     "output_type": "stream",
     "text": [
      "    Residual norms for ImplicitSolver_ solve.\n",
      "    0 KSP none resid norm 6.024767660740e+00 true resid norm 6.718100409989e+01 ||r(i)||/||b|| 1.115080412771e+01\n",
      "    1 KSP none resid norm 4.705955033877e-09 true resid norm 4.705955033877e-09 ||r(i)||/||b|| 7.811014961694e-10\n",
      "    Residual norms for ImplicitSolver_ solve.\n",
      "    0 KSP none resid norm 2.862947255235e+00 true resid norm 8.884465457274e+00 ||r(i)||/||b|| 3.103258518308e+00\n"
     ]
    },
    {
     "name": "stderr",
     "output_type": "stream",
     "text": [
      "INFO     Compressible linear solver: restore continuity\n"
     ]
    },
    {
     "name": "stderr",
     "output_type": "stream",
     "text": [
      "INFO     Compressible linear solver: theta solve\n"
     ]
    },
    {
     "name": "stderr",
     "output_type": "stream",
     "text": [
      "INFO     TIMELOOP complete. t=2.00000, tmax=2.00000\n"
     ]
    },
    {
     "name": "stdout",
     "output_type": "stream",
     "text": [
      "    1 KSP none resid norm 1.771152682219e-09 true resid norm 1.771152682219e-09 ||r(i)||/||b|| 6.186466338074e-10\n"
     ]
    }
   ],
   "source": [
    "stepper.run(t=0, tmax=2*dt)"
   ]
  },
  {
   "cell_type": "markdown",
   "id": "df6d755a",
   "metadata": {},
   "source": [
    "The plot below shows the initial and final potential temperature perturbation.\n",
    "\n",
    "![bubble](../figures/compressible_euler/dry_bryan_fritsch.png)"
   ]
  }
 ],
 "metadata": {
  "language_info": {
   "name": "python"
  }
 },
 "nbformat": 4,
 "nbformat_minor": 5
}
