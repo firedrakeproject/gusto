{
 "cells": [
  {
   "cell_type": "markdown",
   "id": "6f56f6e2",
   "metadata": {},
   "source": [
    "# This file is to run the full shallow water equations for the Williamson 2 test case"
   ]
  },
  {
   "cell_type": "code",
   "execution_count": 1,
   "id": "cb1a6d62",
   "metadata": {},
   "outputs": [
    {
     "name": "stderr",
     "output_type": "stream",
     "text": [
      "firedrake:WARNING OMP_NUM_THREADS is not set or is set to a value greater than 1, we suggest setting OMP_NUM_THREADS=1 to improve performance\n"
     ]
    }
   ],
   "source": [
    "from gusto import *\n",
    "from firedrake import IcosahedralSphereMesh, SpatialCoordinate, as_vector\n",
    "from math import pi\n",
    "import sys"
   ]
  },
  {
   "cell_type": "code",
   "execution_count": null,
   "id": "4e03f0e3",
   "metadata": {},
   "outputs": [],
   "source": [
    "day = 24.*60.*60.\n",
    "ref_dt = 3: 4000.\n",
    "tmax = 5*day\n",
    "ndumps = 5"
   ]
  },
  {
   "cell_type": "code",
   "execution_count": null,
   "id": "45106ca0",
   "metadata": {},
   "outputs": [],
   "source": []
  },
  {
   "cell_type": "code",
   "execution_count": null,
   "id": "f9beb7c3",
   "metadata": {},
   "outputs": [],
   "source": []
  },
  {
   "cell_type": "code",
   "execution_count": null,
   "id": "703d0802",
   "metadata": {},
   "outputs": [],
   "source": []
  }
 ],
 "metadata": {
  "kernelspec": {
   "display_name": "Python 3 (ipykernel)",
   "language": "python",
   "name": "python3"
  },
  "language_info": {
   "codemirror_mode": {
    "name": "ipython",
    "version": 3
   },
   "file_extension": ".py",
   "mimetype": "text/x-python",
   "name": "python",
   "nbconvert_exporter": "python",
   "pygments_lexer": "ipython3",
   "version": "3.8.5"
  }
 },
 "nbformat": 4,
 "nbformat_minor": 5
}
