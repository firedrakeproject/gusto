{
 "cells": [
  {
   "cell_type": "markdown",
   "metadata": {},
   "source": [
    "# Sensitivities computation via automated adjoint for a 2D shallow water model\n",
    "\n",
    "This notebooks seeks to demonstrate how to compute sensitivities of a cost function with respect to control parameters using automated adjoints, which is a tool provided by the Firedrake library. The model used in this notebook is a 2D shallow water model on a sphere. \n",
    "\n",
    "## Cost function and model\n",
    "The cost function measures the summation of the kinetic and the potential energy of the fluid, which is modelled by the following expression:\n",
    "\\begin{equation}\n",
    "J = \\int_{\\Omega} \\left( \\frac{1}{2} \\textbf{u} \\cdot \\textbf{u} + \\frac{1}{2} g D^2 \\right) \\, dx,\n",
    "\\end{equation}\n",
    "where $\\textbf{u}$ is the velocity of the fluid, $D$ is the fluid depth, and $g$ is the gravitational acceleration. The model is governed by the following set of equations:\n",
    "\n",
    "\\begin{align}\n",
    "    \\textbf{u}_t + (\\textbf{u} \\cdot \\nabla) \\textbf{u} + f \\textbf{u}^{\\perp} + g \\nabla (D + b)  &= 0, \\tag{2}\\\\\n",
    "    D_t + \\nabla \\cdot (D \\textbf{u}) &= 0, \\tag{3}\n",
    "\\end{align}\n",
    "where $f$ is the Coriolis parameter, the fluid depth is given by $D = H+h-b$, where $H$ is the mean fluid depth, $h$ is the free surface height and $b$ is the topography. No boundary conditions are required as in this case we are solving on a spherical domain."
   ]
  },
  {
   "cell_type": "markdown",
   "metadata": {},
   "source": [
    "## Solve the model with Gusto\n",
    "We first import the libraries required for the computations using Gusto, which is a library built on top of Firedrake."
   ]
  },
  {
   "cell_type": "code",
   "execution_count": 1,
   "metadata": {},
   "outputs": [
    {
     "name": "stderr",
     "output_type": "stream",
     "text": [
      "INFO     Running /Users/ddolci/work/firedrake/lib/python3.13/site-packages/ipykernel_launcher.py --f=/Users/ddolci/Library/Jupyter/runtime/kernel-v38f09c6c2de87f5b866ca966324397dff906401c5.json\n"
     ]
    }
   ],
   "source": [
    "from firedrake import *\n",
    "from gusto import *"
   ]
  },
  {
   "cell_type": "markdown",
   "metadata": {},
   "source": [
    "We then define the shallow water parameter $H$ (The fluid depth)."
   ]
  },
  {
   "cell_type": "code",
   "execution_count": 2,
   "metadata": {},
   "outputs": [],
   "source": [
    "H = 5960.0\n",
    "parameters = ShallowWaterParameters(H=H)"
   ]
  },
  {
   "cell_type": "markdown",
   "metadata": {},
   "source": [
    "We will use one of the spherical meshes provided by Firedrake: the ``IcosahedralSphereMesh``. As the spherical domain we are solving over is the Earth we specify the radius as 6371220m. The refinement level, ``ref_level``, specifies the number of times the base icosahedron is refined. The argument ``degree`` specifies the polynomial degree of the function space used to represent the coordinates."
   ]
  },
  {
   "cell_type": "code",
   "execution_count": 3,
   "metadata": {},
   "outputs": [],
   "source": [
    "R = 6371220. # Earth radius in meters\n",
    "mesh = IcosahedralSphereMesh(radius=R, refinement_level=3, degree=2)"
   ]
  },
  {
   "cell_type": "markdown",
   "metadata": {},
   "source": [
    "A domain is created with Gusto ``Domain`` object, which holds the mesh and the function spaces defined on it.\n",
    "The Domain object that is provided in this module contains the model’s mesh and the set of compatible function spaces defined upon it. It also holds the model’s time interval. "
   ]
  },
  {
   "cell_type": "code",
   "execution_count": 4,
   "metadata": {},
   "outputs": [],
   "source": [
    "dt = 900.\n",
    "domain = Domain(mesh, dt, 'BDM', 1)"
   ]
  },
  {
   "cell_type": "markdown",
   "metadata": {},
   "source": [
    "We can now set up the finite element form of the shallow water equations by passing ``ShallowWaterEquations`` Gusto class the following arguments: ``domain``, ``parameters``,  the expressions ``fexpr`` for the Coriolis parameter and `bexpr` for the bottom surface of the fluid."
   ]
  },
  {
   "cell_type": "code",
   "execution_count": 5,
   "metadata": {},
   "outputs": [],
   "source": [
    "x = SpatialCoordinate(mesh)\n",
    "Omega = parameters.Omega  # Spatial domain\n",
    "fexpr = 2*Omega*x[2]/R  # Expression for the Coriolis parameter\n",
    "# ``lonlatr_from_xyz`` is returning the required spherical longitude ``lamda``, latitude ``theta``.\n",
    "lamda, theta, _ = lonlatr_from_xyz(x[0], x[1], x[2])\n",
    "R0 = pi/9. # radius of mountain (rad)\n",
    "R0sq = R0**2  \n",
    "lamda_c = -pi/2. # longitudinal centre of mountain (rad)\n",
    "lsq = (lamda - lamda_c)**2 \n",
    "theta_c = pi/6.  # latitudinal centre of mountain (rad)\n",
    "thsq = (theta - theta_c)**2\n",
    "rsq = min_value(R0sq, lsq+thsq)\n",
    "r = sqrt(rsq)\n",
    "bexpr = 2000 * (1 - r/R0)  # An expression for the bottom surface of the fluid.\n",
    "eqn = ShallowWaterEquations(domain, parameters, fexpr=fexpr, bexpr=bexpr)"
   ]
  },
  {
   "cell_type": "markdown",
   "metadata": {},
   "source": [
    "We specify instructions regarding the output using the `OutputParameters` class. The directory name, `dirname`, must be specified. To prevent losing hard-earned simulation data, Gusto will not allow existing files to be overwritten. Hence, if one wishes to re-run a simulation with the same output filename, the existing results file needs to be moved or deleted first. This is also the place to specify the output frequency (in timesteps) of vtu files. The default is `dumpfreq=1` which outputs vtu files at every timestep (very useful when first setting up a problem!). Below we set `dumpfreq=5`.\n",
    "\n",
    "We can specify which diagnostics to record over a simulation. The list of avaliable diagnostics can be found in the gusto source code: [diagnostics](https://github.com/firedrakeproject/gusto/blob/main/gusto/diagnostics/diagnostics.py). Since this flow should be in a steady state, it is also instructive to output the steady state error fields for both $\\textbf{u}$ and $D$ as this will tell us how close the simulation is to being correct. They will not be identically zero, due to numerical discretisation error, but the errors should not grow in time and they should reduce as the mesh and timestep are refined. We pass these diagnostics into the `IO` class, which controls the input and output and stores the fields which will be updated at each timestep."
   ]
  },
  {
   "cell_type": "code",
   "execution_count": 6,
   "metadata": {},
   "outputs": [],
   "source": [
    "tmpdir = 'outflow'\n",
    "output = OutputParameters(dirname=str(tmpdir), log_courant=False)\n",
    "io = IO(domain, output)"
   ]
  },
  {
   "cell_type": "markdown",
   "metadata": {},
   "source": [
    "We now start to build a setup for time discretization. We use here the ``SemiImplicitQuasiNewton`` approach, which splits the equation into\n",
    "`transport` terms and 'forcing' terms (i.e. everything that's not transport) and solves each separately. This allows for different\n",
    "time-steppers to be used for transporting the velocity and depth fields. We choose to use an Implicit Midpoint method for the velocity\n",
    "and an explicit strong stability preserving RK3 (SSPRK3) method for the depth. Since the Courant number for a stable SSPRK3 scheme\n",
    "is lower than that for the Implicit Midpoint method, we do 2 subcycles of the SSPRK3 scheme per timestep, allowing us to use a longer timestep\n",
    "overall. A full list of avaliable time stepping methods can be found at: [time discretisation](https://github.com/firedrakeproject/gusto/blob/main/gusto/time_discretisation.py)."
   ]
  },
  {
   "cell_type": "code",
   "execution_count": 7,
   "metadata": {},
   "outputs": [
    {
     "name": "stderr",
     "output_type": "stream",
     "text": [
      "INFO     Physical parameters that take non-default values:\n",
      "INFO     H: 5960.0\n"
     ]
    }
   ],
   "source": [
    "# Transport schemes\n",
    "transported_fields = [TrapeziumRule(domain, \"u\"), SSPRK3(domain, \"D\")]\n",
    "transport_methods = [DGUpwind(eqn, \"u\"), DGUpwind(eqn, \"D\")]\n",
    "\n",
    "# Time stepper\n",
    "stepper = SemiImplicitQuasiNewton(eqn, io, transported_fields, transport_methods)"
   ]
  },
  {
   "cell_type": "markdown",
   "metadata": {},
   "source": [
    "We are now ready to specify the initial conditions:\n",
    "\\begin{align}\n",
    "    \\textbf{u}_0 &= \\frac{u_{max}}{R} [-y,x,0], \\tag{4}\\\\\n",
    "    D_0 &= H - \\frac{\\Omega u_{max} z^2}{g R} \\tag{5}\n",
    "\\end{align}\n",
    "Due to our choice of function spaces for the velocity and depth, the initialisations of each variable use projection and interpolation operations respectively."
   ]
  },
  {
   "cell_type": "code",
   "execution_count": 8,
   "metadata": {},
   "outputs": [
    {
     "data": {
      "text/plain": [
       "Coefficient(WithGeometry(IndexedProxyFunctionSpace(<firedrake.mesh.MeshTopology object at 0x16ab42ba0>, FiniteElement('Discontinuous Lagrange', triangle, 1), name='L2', index=1, component=None), Mesh(VectorElement(FiniteElement('Lagrange', triangle, 2), dim=3), 4)), 90)"
      ]
     },
     "execution_count": 8,
     "metadata": {},
     "output_type": "execute_result"
    }
   ],
   "source": [
    "u0 = stepper.fields('u')\n",
    "D0 = stepper.fields('D')\n",
    "u_max = 20.   # Maximum amplitude of the zonal wind (m/s)\n",
    "uexpr = as_vector([-u_max*x[1]/R, u_max*x[0]/R, 0.0])\n",
    "g = parameters.g  # acceleration due to gravity (m/s^2)\n",
    "Rsq = R**2\n",
    "Dexpr = H - ((R * Omega * u_max + 0.5*u_max**2)*x[2]**2/Rsq)/g - bexpr\n",
    "\n",
    "u0.project(uexpr)\n",
    "D0.interpolate(Dexpr)"
   ]
  },
  {
   "cell_type": "markdown",
   "metadata": {},
   "source": [
    "When using the `SemiImplicitQuasiNewton` timestepper, we also have to set up any non-zero reference profiles."
   ]
  },
  {
   "cell_type": "code",
   "execution_count": 9,
   "metadata": {},
   "outputs": [],
   "source": [
    "Dbar = Function(D0.function_space()).assign(H)\n",
    "stepper.set_reference_profiles([('D', Dbar)])"
   ]
  },
  {
   "cell_type": "markdown",
   "metadata": {},
   "source": [
    "We are almost read to run the model. Before we do so, we have to tape the model in ordem to compute the sensititivities via automated adjoint. Henve, at this point we import ``firedrake.adjoint`` and enable the tape of the forward solver (Shallow Water model) with ``continue_annotation()``."
   ]
  },
  {
   "cell_type": "code",
   "execution_count": 10,
   "metadata": {},
   "outputs": [
    {
     "data": {
      "text/plain": [
       "True"
      ]
     },
     "execution_count": 10,
     "metadata": {},
     "output_type": "execute_result"
    }
   ],
   "source": [
    "from firedrake.adjoint import *\n",
    "continue_annotation()"
   ]
  },
  {
   "cell_type": "markdown",
   "metadata": {},
   "source": [
    "We are finally ready to run the model!"
   ]
  },
  {
   "cell_type": "code",
   "execution_count": 11,
   "metadata": {},
   "outputs": [
    {
     "name": "stderr",
     "output_type": "stream",
     "text": [
      "INFO     \n",
      "INFO     ========================================\n",
      "INFO     at start of timestep 1, t=0.0, dt=900.0\n",
      "INFO     Semi-implicit Quasi Newton: Explicit forcing\n",
      "INFO     Semi-implicit Quasi Newton: Transport 0: u\n",
      "INFO     Semi-implicit Quasi Newton: Transport 0: D\n",
      "INFO     Semi-implicit Quasi Newton: Implicit forcing (0, 0)\n",
      "INFO     Semi-implicit Quasi Newton: Mixed solve (0, 0)\n",
      "INFO     Semi-implicit Quasi Newton: Implicit forcing (0, 1)\n",
      "INFO     Semi-implicit Quasi Newton: Mixed solve (0, 1)\n",
      "INFO     Semi-implicit Quasi Newton: Transport 1: u\n",
      "INFO     Semi-implicit Quasi Newton: Transport 1: D\n",
      "INFO     Semi-implicit Quasi Newton: Implicit forcing (1, 0)\n",
      "INFO     Semi-implicit Quasi Newton: Mixed solve (1, 0)\n",
      "INFO     Semi-implicit Quasi Newton: Implicit forcing (1, 1)\n",
      "INFO     Semi-implicit Quasi Newton: Mixed solve (1, 1)\n",
      "INFO     \n",
      "INFO     ========================================\n",
      "INFO     at start of timestep 2, t=900.0, dt=900.0\n",
      "INFO     Semi-implicit Quasi Newton: Explicit forcing\n",
      "INFO     Semi-implicit Quasi Newton: Transport 0: u\n",
      "INFO     Semi-implicit Quasi Newton: Transport 0: D\n",
      "INFO     Semi-implicit Quasi Newton: Implicit forcing (0, 0)\n",
      "INFO     Semi-implicit Quasi Newton: Mixed solve (0, 0)\n",
      "INFO     Semi-implicit Quasi Newton: Implicit forcing (0, 1)\n",
      "INFO     Semi-implicit Quasi Newton: Mixed solve (0, 1)\n",
      "INFO     Semi-implicit Quasi Newton: Transport 1: u\n",
      "INFO     Semi-implicit Quasi Newton: Transport 1: D\n",
      "INFO     Semi-implicit Quasi Newton: Implicit forcing (1, 0)\n",
      "INFO     Semi-implicit Quasi Newton: Mixed solve (1, 0)\n",
      "INFO     Semi-implicit Quasi Newton: Implicit forcing (1, 1)\n",
      "INFO     Semi-implicit Quasi Newton: Mixed solve (1, 1)\n",
      "INFO     \n",
      "INFO     ========================================\n",
      "INFO     at start of timestep 3, t=1800.0, dt=900.0\n",
      "INFO     Semi-implicit Quasi Newton: Explicit forcing\n",
      "INFO     Semi-implicit Quasi Newton: Transport 0: u\n",
      "INFO     Semi-implicit Quasi Newton: Transport 0: D\n",
      "INFO     Semi-implicit Quasi Newton: Implicit forcing (0, 0)\n",
      "INFO     Semi-implicit Quasi Newton: Mixed solve (0, 0)\n",
      "INFO     Semi-implicit Quasi Newton: Implicit forcing (0, 1)\n",
      "INFO     Semi-implicit Quasi Newton: Mixed solve (0, 1)\n",
      "INFO     Semi-implicit Quasi Newton: Transport 1: u\n",
      "INFO     Semi-implicit Quasi Newton: Transport 1: D\n",
      "INFO     Semi-implicit Quasi Newton: Implicit forcing (1, 0)\n",
      "INFO     Semi-implicit Quasi Newton: Mixed solve (1, 0)\n",
      "INFO     Semi-implicit Quasi Newton: Implicit forcing (1, 1)\n",
      "INFO     Semi-implicit Quasi Newton: Mixed solve (1, 1)\n",
      "INFO     \n",
      "INFO     ========================================\n",
      "INFO     at start of timestep 4, t=2700.0, dt=900.0\n",
      "INFO     Semi-implicit Quasi Newton: Explicit forcing\n",
      "INFO     Semi-implicit Quasi Newton: Transport 0: u\n",
      "INFO     Semi-implicit Quasi Newton: Transport 0: D\n",
      "INFO     Semi-implicit Quasi Newton: Implicit forcing (0, 0)\n",
      "INFO     Semi-implicit Quasi Newton: Mixed solve (0, 0)\n",
      "INFO     Semi-implicit Quasi Newton: Implicit forcing (0, 1)\n",
      "INFO     Semi-implicit Quasi Newton: Mixed solve (0, 1)\n",
      "INFO     Semi-implicit Quasi Newton: Transport 1: u\n",
      "INFO     Semi-implicit Quasi Newton: Transport 1: D\n",
      "INFO     Semi-implicit Quasi Newton: Implicit forcing (1, 0)\n",
      "INFO     Semi-implicit Quasi Newton: Mixed solve (1, 0)\n",
      "INFO     Semi-implicit Quasi Newton: Implicit forcing (1, 1)\n",
      "INFO     Semi-implicit Quasi Newton: Mixed solve (1, 1)\n",
      "INFO     \n",
      "INFO     ========================================\n",
      "INFO     at start of timestep 5, t=3600.0, dt=900.0\n",
      "INFO     Semi-implicit Quasi Newton: Explicit forcing\n",
      "INFO     Semi-implicit Quasi Newton: Transport 0: u\n",
      "INFO     Semi-implicit Quasi Newton: Transport 0: D\n",
      "INFO     Semi-implicit Quasi Newton: Implicit forcing (0, 0)\n",
      "INFO     Semi-implicit Quasi Newton: Mixed solve (0, 0)\n",
      "INFO     Semi-implicit Quasi Newton: Implicit forcing (0, 1)\n",
      "INFO     Semi-implicit Quasi Newton: Mixed solve (0, 1)\n",
      "INFO     Semi-implicit Quasi Newton: Transport 1: u\n",
      "INFO     Semi-implicit Quasi Newton: Transport 1: D\n",
      "INFO     Semi-implicit Quasi Newton: Implicit forcing (1, 0)\n",
      "INFO     Semi-implicit Quasi Newton: Mixed solve (1, 0)\n",
      "INFO     Semi-implicit Quasi Newton: Implicit forcing (1, 1)\n",
      "INFO     Semi-implicit Quasi Newton: Mixed solve (1, 1)\n",
      "INFO     TIMELOOP complete. t=4500.00000, tmax=4500.00000\n"
     ]
    }
   ],
   "source": [
    "timesteps = 5 \n",
    "stepper.run(0., timesteps*dt)"
   ]
  },
  {
   "cell_type": "markdown",
   "metadata": {},
   "source": [
    "We then compute the final solution of the shallow water solver that is used to compute the cost functional (1) as shown below."
   ]
  },
  {
   "cell_type": "code",
   "execution_count": 12,
   "metadata": {},
   "outputs": [],
   "source": [
    "u = stepper.fields('u')  # Final velocity field\n",
    "D = stepper.fields('D')  # Final depth field\n",
    "\n",
    "J = assemble(0.5*inner(u, u)*dx + 0.5*g*D**2*dx)"
   ]
  },
  {
   "cell_type": "markdown",
   "metadata": {},
   "source": [
    "We can finally run our sensitivity computation: gradient of the cost function with respect initial fluid depth. The computation of the gradient can be done using the `compute_gradient` function from the `firedrake.adjoint` module. Before, we have to define the control variable."
   ]
  },
  {
   "cell_type": "code",
   "execution_count": 13,
   "metadata": {},
   "outputs": [],
   "source": [
    "control = [Control(D0), Control(u0)]\n",
    "grad = compute_gradient(J, control)"
   ]
  },
  {
   "cell_type": "markdown",
   "metadata": {},
   "source": [
    "We can also verify the gradient computation with second order [Taylor's test](https://www.dolfin-adjoint.org/en/latest/documentation/verification.html). To do so, we define the reduced functional as follows:"
   ]
  },
  {
   "cell_type": "code",
   "execution_count": 14,
   "metadata": {},
   "outputs": [],
   "source": [
    "J_hat = ReducedFunctional(J, control)"
   ]
  },
  {
   "cell_type": "markdown",
   "metadata": {},
   "source": [
    "We then verify the gradient computation using the `taylor_test` function from the `firedrake.adjoint` module."
   ]
  },
  {
   "cell_type": "code",
   "execution_count": null,
   "metadata": {},
   "outputs": [
    {
     "ename": "ValueError",
     "evalue": "1 perturbations are given but only 2 expansion points are provided",
     "output_type": "error",
     "traceback": [
      "\u001b[0;31m---------------------------------------------------------------------------\u001b[0m",
      "\u001b[0;31mValueError\u001b[0m                                Traceback (most recent call last)",
      "Cell \u001b[0;32mIn[15], line 3\u001b[0m\n\u001b[1;32m      1\u001b[0m h0 \u001b[38;5;241m=\u001b[39m Function(D0\u001b[38;5;241m.\u001b[39mfunction_space())\u001b[38;5;241m.\u001b[39minterpolate(\u001b[38;5;241m1.\u001b[39m)\n\u001b[1;32m      2\u001b[0m h1 \u001b[38;5;241m=\u001b[39m Function(u0\u001b[38;5;241m.\u001b[39mfunction_space())\u001b[38;5;241m.\u001b[39massign(\u001b[38;5;241m1.\u001b[39m)\n\u001b[0;32m----> 3\u001b[0m \u001b[43mtaylor_test\u001b[49m\u001b[43m(\u001b[49m\u001b[43mJ_hat\u001b[49m\u001b[43m,\u001b[49m\u001b[43m \u001b[49m\u001b[43m[\u001b[49m\u001b[43mD0\u001b[49m\u001b[43m,\u001b[49m\u001b[43m \u001b[49m\u001b[43mu0\u001b[49m\u001b[43m]\u001b[49m\u001b[43m,\u001b[49m\u001b[43m \u001b[49m\u001b[43mFunction\u001b[49m\u001b[43m(\u001b[49m\u001b[43mD0\u001b[49m\u001b[38;5;241;43m.\u001b[39;49m\u001b[43mfunction_space\u001b[49m\u001b[43m(\u001b[49m\u001b[43m)\u001b[49m\u001b[43m)\u001b[49m\u001b[38;5;241;43m.\u001b[39;49m\u001b[43minterpolate\u001b[49m\u001b[43m(\u001b[49m\u001b[38;5;241;43m1.\u001b[39;49m\u001b[43m)\u001b[49m\u001b[43m)\u001b[49m\n",
      "File \u001b[0;32m~/work/firedrake/src/pyadjoint/pyadjoint/verification.py:32\u001b[0m, in \u001b[0;36mtaylor_test\u001b[0;34m(J, m, h, dJdm, Hm)\u001b[0m\n\u001b[1;32m     29\u001b[0m ms \u001b[38;5;241m=\u001b[39m Enlist(m)\n\u001b[1;32m     31\u001b[0m \u001b[38;5;28;01mif\u001b[39;00m \u001b[38;5;28mlen\u001b[39m(hs) \u001b[38;5;241m!=\u001b[39m \u001b[38;5;28mlen\u001b[39m(ms):\n\u001b[0;32m---> 32\u001b[0m     \u001b[38;5;28;01mraise\u001b[39;00m \u001b[38;5;167;01mValueError\u001b[39;00m(\n\u001b[1;32m     33\u001b[0m         \u001b[38;5;124m\"\u001b[39m\u001b[38;5;132;01m%d\u001b[39;00m\u001b[38;5;124m perturbations are given but only \u001b[39m\u001b[38;5;132;01m%d\u001b[39;00m\u001b[38;5;124m expansion points are provided\u001b[39m\u001b[38;5;124m\"\u001b[39m \u001b[38;5;241m%\u001b[39m (\u001b[38;5;28mlen\u001b[39m(hs), \u001b[38;5;28mlen\u001b[39m(ms)))\n\u001b[1;32m     35\u001b[0m Jm \u001b[38;5;241m=\u001b[39m J(m)\n\u001b[1;32m     36\u001b[0m \u001b[38;5;28;01mif\u001b[39;00m dJdm \u001b[38;5;129;01mis\u001b[39;00m \u001b[38;5;28;01mNone\u001b[39;00m:\n",
      "\u001b[0;31mValueError\u001b[0m: 1 perturbations are given but only 2 expansion points are provided"
     ]
    }
   ],
   "source": [
    "h0 = Function(D0.function_space()).interpolate(1.)\n",
    "h1 = Function(u0.function_space()).assign(1.)\n",
    "taylor_test(J_hat, [D0, u0], [h0, h1])"
   ]
  },
  {
   "cell_type": "markdown",
   "metadata": {},
   "source": [
    "That is great! He have a senitivity computation via automated adjoint with Gusto! In addition, we have verified the gradient computation with a second order Taylor's test, which is a good practice to ensure the correctness of the gradient computation. See the results above are close to the expected values, 2.0."
   ]
  },
  {
   "cell_type": "markdown",
   "metadata": {},
   "source": [
    "For a notebook demosntration of adjoints, it is a good practice clear the tape, and stop annotating the forward solver."
   ]
  },
  {
   "cell_type": "code",
   "execution_count": null,
   "metadata": {},
   "outputs": [],
   "source": [
    "# tape = get_working_tape()\n",
    "# tape.clear_tape()"
   ]
  }
 ],
 "metadata": {
  "kernelspec": {
   "display_name": "firedrake",
   "language": "python",
   "name": "python3"
  },
  "language_info": {
   "codemirror_mode": {
    "name": "ipython",
    "version": 3
   },
   "file_extension": ".py",
   "mimetype": "text/x-python",
   "name": "python",
   "nbconvert_exporter": "python",
   "pygments_lexer": "ipython3",
   "version": "3.13.1"
  }
 },
 "nbformat": 4,
 "nbformat_minor": 2
}
